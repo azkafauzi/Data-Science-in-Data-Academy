{
  "cells": [
    {
      "cell_type": "markdown",
      "metadata": {
        "id": "r241TKdj_cC9"
      },
      "source": [
        "# Data Understanding"
      ]
    },
    {
      "cell_type": "code",
      "execution_count": 166,
      "metadata": {
        "id": "VRF_fFaP_gGC"
      },
      "outputs": [],
      "source": [
        "import pandas as pd\n",
        "import numpy as np\n",
        "import seaborn as sns\n",
        "import matplotlib.pyplot as plt"
      ]
    },
    {
      "cell_type": "code",
      "execution_count": 167,
      "metadata": {
        "id": "MT-H5edZ_i2E",
        "colab": {
          "base_uri": "https://localhost:8080/",
          "height": 0
        },
        "outputId": "27cacbf2-ba02-4a53-8843-d2908be3b443"
      },
      "outputs": [
        {
          "output_type": "stream",
          "name": "stdout",
          "text": [
            "Drive already mounted at /content/drive; to attempt to forcibly remount, call drive.mount(\"/content/drive\", force_remount=True).\n"
          ]
        }
      ],
      "source": [
        "from google.colab import drive\n",
        "drive.mount('/content/drive')"
      ]
    },
    {
      "cell_type": "code",
      "execution_count": 168,
      "metadata": {
        "id": "reziBlDa_uQD",
        "colab": {
          "base_uri": "https://localhost:8080/",
          "height": 302
        },
        "outputId": "914d5974-b8be-4cea-89cb-c5d4e1a00a1b"
      },
      "outputs": [
        {
          "output_type": "execute_result",
          "data": {
            "text/plain": [
              "  provinsi  kode_provinsi  tahun  luas panen (ha)  produktivitas (ku/ha)  \\\n",
              "0     ACEH             11   2018        329515.78                  56.49   \n",
              "1     ACEH             11   2019        310012.46                  55.30   \n",
              "2     ACEH             11   2020        317869.41                  55.28   \n",
              "3     ACEH             11   2021        297058.38                  55.03   \n",
              "4     ACEH             11   2022        271750.20                  55.55   \n",
              "\n",
              "   produksi (ton)  jumlah penduduk   luas provinsi (ha)  produksi beras (ton)  \\\n",
              "0      1861567.10           5243400             5795600             1066890.0   \n",
              "1      1714437.60           5316300             5795600              982570.0   \n",
              "2      1757313.07           5274900             5795600             1007143.0   \n",
              "3      1634639.60           5333700             5795600              941688.0   \n",
              "4      1509456.00           5407900             5683909              873975.0   \n",
              "\n",
              "   proyeksi konsumsi rumah tangga(ton)  surplus/ defisit(ton)  \\\n",
              "0                        557210.000000          509680.000000   \n",
              "1                        443379.000000          539191.000000   \n",
              "2                        455749.000000          551394.000000   \n",
              "3                        472355.000000          469333.000000   \n",
              "4                        516389.279133          357585.720867   \n",
              "\n",
              "   surplus/ defisit(%)*  harga beras(Rp)   suhu  curah hujan (mm)  \\\n",
              "0             91.470002            10182  27.08            254.76   \n",
              "1            121.609503            11134  26.90            135.34   \n",
              "2            120.986332            11093  26.50               NaN   \n",
              "3             99.360227             9428  26.80               NaN   \n",
              "4             69.247317            10883  26.60               NaN   \n",
              "\n",
              "   penyinaran matahari (%)  \n",
              "0                    60.18  \n",
              "1                    65.74  \n",
              "2                    62.50  \n",
              "3                    65.00  \n",
              "4                    63.75  "
            ],
            "text/html": [
              "\n",
              "  <div id=\"df-b8512423-1123-43a9-9593-2a403ad8688d\">\n",
              "    <div class=\"colab-df-container\">\n",
              "      <div>\n",
              "<style scoped>\n",
              "    .dataframe tbody tr th:only-of-type {\n",
              "        vertical-align: middle;\n",
              "    }\n",
              "\n",
              "    .dataframe tbody tr th {\n",
              "        vertical-align: top;\n",
              "    }\n",
              "\n",
              "    .dataframe thead th {\n",
              "        text-align: right;\n",
              "    }\n",
              "</style>\n",
              "<table border=\"1\" class=\"dataframe\">\n",
              "  <thead>\n",
              "    <tr style=\"text-align: right;\">\n",
              "      <th></th>\n",
              "      <th>provinsi</th>\n",
              "      <th>kode_provinsi</th>\n",
              "      <th>tahun</th>\n",
              "      <th>luas panen (ha)</th>\n",
              "      <th>produktivitas (ku/ha)</th>\n",
              "      <th>produksi (ton)</th>\n",
              "      <th>jumlah penduduk</th>\n",
              "      <th>luas provinsi (ha)</th>\n",
              "      <th>produksi beras (ton)</th>\n",
              "      <th>proyeksi konsumsi rumah tangga(ton)</th>\n",
              "      <th>surplus/ defisit(ton)</th>\n",
              "      <th>surplus/ defisit(%)*</th>\n",
              "      <th>harga beras(Rp)</th>\n",
              "      <th>suhu</th>\n",
              "      <th>curah hujan (mm)</th>\n",
              "      <th>penyinaran matahari (%)</th>\n",
              "    </tr>\n",
              "  </thead>\n",
              "  <tbody>\n",
              "    <tr>\n",
              "      <th>0</th>\n",
              "      <td>ACEH</td>\n",
              "      <td>11</td>\n",
              "      <td>2018</td>\n",
              "      <td>329515.78</td>\n",
              "      <td>56.49</td>\n",
              "      <td>1861567.10</td>\n",
              "      <td>5243400</td>\n",
              "      <td>5795600</td>\n",
              "      <td>1066890.0</td>\n",
              "      <td>557210.000000</td>\n",
              "      <td>509680.000000</td>\n",
              "      <td>91.470002</td>\n",
              "      <td>10182</td>\n",
              "      <td>27.08</td>\n",
              "      <td>254.76</td>\n",
              "      <td>60.18</td>\n",
              "    </tr>\n",
              "    <tr>\n",
              "      <th>1</th>\n",
              "      <td>ACEH</td>\n",
              "      <td>11</td>\n",
              "      <td>2019</td>\n",
              "      <td>310012.46</td>\n",
              "      <td>55.30</td>\n",
              "      <td>1714437.60</td>\n",
              "      <td>5316300</td>\n",
              "      <td>5795600</td>\n",
              "      <td>982570.0</td>\n",
              "      <td>443379.000000</td>\n",
              "      <td>539191.000000</td>\n",
              "      <td>121.609503</td>\n",
              "      <td>11134</td>\n",
              "      <td>26.90</td>\n",
              "      <td>135.34</td>\n",
              "      <td>65.74</td>\n",
              "    </tr>\n",
              "    <tr>\n",
              "      <th>2</th>\n",
              "      <td>ACEH</td>\n",
              "      <td>11</td>\n",
              "      <td>2020</td>\n",
              "      <td>317869.41</td>\n",
              "      <td>55.28</td>\n",
              "      <td>1757313.07</td>\n",
              "      <td>5274900</td>\n",
              "      <td>5795600</td>\n",
              "      <td>1007143.0</td>\n",
              "      <td>455749.000000</td>\n",
              "      <td>551394.000000</td>\n",
              "      <td>120.986332</td>\n",
              "      <td>11093</td>\n",
              "      <td>26.50</td>\n",
              "      <td>NaN</td>\n",
              "      <td>62.50</td>\n",
              "    </tr>\n",
              "    <tr>\n",
              "      <th>3</th>\n",
              "      <td>ACEH</td>\n",
              "      <td>11</td>\n",
              "      <td>2021</td>\n",
              "      <td>297058.38</td>\n",
              "      <td>55.03</td>\n",
              "      <td>1634639.60</td>\n",
              "      <td>5333700</td>\n",
              "      <td>5795600</td>\n",
              "      <td>941688.0</td>\n",
              "      <td>472355.000000</td>\n",
              "      <td>469333.000000</td>\n",
              "      <td>99.360227</td>\n",
              "      <td>9428</td>\n",
              "      <td>26.80</td>\n",
              "      <td>NaN</td>\n",
              "      <td>65.00</td>\n",
              "    </tr>\n",
              "    <tr>\n",
              "      <th>4</th>\n",
              "      <td>ACEH</td>\n",
              "      <td>11</td>\n",
              "      <td>2022</td>\n",
              "      <td>271750.20</td>\n",
              "      <td>55.55</td>\n",
              "      <td>1509456.00</td>\n",
              "      <td>5407900</td>\n",
              "      <td>5683909</td>\n",
              "      <td>873975.0</td>\n",
              "      <td>516389.279133</td>\n",
              "      <td>357585.720867</td>\n",
              "      <td>69.247317</td>\n",
              "      <td>10883</td>\n",
              "      <td>26.60</td>\n",
              "      <td>NaN</td>\n",
              "      <td>63.75</td>\n",
              "    </tr>\n",
              "  </tbody>\n",
              "</table>\n",
              "</div>\n",
              "      <button class=\"colab-df-convert\" onclick=\"convertToInteractive('df-b8512423-1123-43a9-9593-2a403ad8688d')\"\n",
              "              title=\"Convert this dataframe to an interactive table.\"\n",
              "              style=\"display:none;\">\n",
              "        \n",
              "  <svg xmlns=\"http://www.w3.org/2000/svg\" height=\"24px\"viewBox=\"0 0 24 24\"\n",
              "       width=\"24px\">\n",
              "    <path d=\"M0 0h24v24H0V0z\" fill=\"none\"/>\n",
              "    <path d=\"M18.56 5.44l.94 2.06.94-2.06 2.06-.94-2.06-.94-.94-2.06-.94 2.06-2.06.94zm-11 1L8.5 8.5l.94-2.06 2.06-.94-2.06-.94L8.5 2.5l-.94 2.06-2.06.94zm10 10l.94 2.06.94-2.06 2.06-.94-2.06-.94-.94-2.06-.94 2.06-2.06.94z\"/><path d=\"M17.41 7.96l-1.37-1.37c-.4-.4-.92-.59-1.43-.59-.52 0-1.04.2-1.43.59L10.3 9.45l-7.72 7.72c-.78.78-.78 2.05 0 2.83L4 21.41c.39.39.9.59 1.41.59.51 0 1.02-.2 1.41-.59l7.78-7.78 2.81-2.81c.8-.78.8-2.07 0-2.86zM5.41 20L4 18.59l7.72-7.72 1.47 1.35L5.41 20z\"/>\n",
              "  </svg>\n",
              "      </button>\n",
              "      \n",
              "  <style>\n",
              "    .colab-df-container {\n",
              "      display:flex;\n",
              "      flex-wrap:wrap;\n",
              "      gap: 12px;\n",
              "    }\n",
              "\n",
              "    .colab-df-convert {\n",
              "      background-color: #E8F0FE;\n",
              "      border: none;\n",
              "      border-radius: 50%;\n",
              "      cursor: pointer;\n",
              "      display: none;\n",
              "      fill: #1967D2;\n",
              "      height: 32px;\n",
              "      padding: 0 0 0 0;\n",
              "      width: 32px;\n",
              "    }\n",
              "\n",
              "    .colab-df-convert:hover {\n",
              "      background-color: #E2EBFA;\n",
              "      box-shadow: 0px 1px 2px rgba(60, 64, 67, 0.3), 0px 1px 3px 1px rgba(60, 64, 67, 0.15);\n",
              "      fill: #174EA6;\n",
              "    }\n",
              "\n",
              "    [theme=dark] .colab-df-convert {\n",
              "      background-color: #3B4455;\n",
              "      fill: #D2E3FC;\n",
              "    }\n",
              "\n",
              "    [theme=dark] .colab-df-convert:hover {\n",
              "      background-color: #434B5C;\n",
              "      box-shadow: 0px 1px 3px 1px rgba(0, 0, 0, 0.15);\n",
              "      filter: drop-shadow(0px 1px 2px rgba(0, 0, 0, 0.3));\n",
              "      fill: #FFFFFF;\n",
              "    }\n",
              "  </style>\n",
              "\n",
              "      <script>\n",
              "        const buttonEl =\n",
              "          document.querySelector('#df-b8512423-1123-43a9-9593-2a403ad8688d button.colab-df-convert');\n",
              "        buttonEl.style.display =\n",
              "          google.colab.kernel.accessAllowed ? 'block' : 'none';\n",
              "\n",
              "        async function convertToInteractive(key) {\n",
              "          const element = document.querySelector('#df-b8512423-1123-43a9-9593-2a403ad8688d');\n",
              "          const dataTable =\n",
              "            await google.colab.kernel.invokeFunction('convertToInteractive',\n",
              "                                                     [key], {});\n",
              "          if (!dataTable) return;\n",
              "\n",
              "          const docLinkHtml = 'Like what you see? Visit the ' +\n",
              "            '<a target=\"_blank\" href=https://colab.research.google.com/notebooks/data_table.ipynb>data table notebook</a>'\n",
              "            + ' to learn more about interactive tables.';\n",
              "          element.innerHTML = '';\n",
              "          dataTable['output_type'] = 'display_data';\n",
              "          await google.colab.output.renderOutput(dataTable, element);\n",
              "          const docLink = document.createElement('div');\n",
              "          docLink.innerHTML = docLinkHtml;\n",
              "          element.appendChild(docLink);\n",
              "        }\n",
              "      </script>\n",
              "    </div>\n",
              "  </div>\n",
              "  "
            ]
          },
          "metadata": {},
          "execution_count": 168
        }
      ],
      "source": [
        "url = '/content/drive/MyDrive/Kelompok 1 Grup 4/Datasets/dataset Padi baru.xlsx'\n",
        "df = pd.read_excel(url)\n",
        "df = pd.DataFrame(df)\n",
        "df.head()"
      ]
    },
    {
      "cell_type": "code",
      "execution_count": 169,
      "metadata": {
        "id": "BmlPCXNX3Y6C",
        "outputId": "66f44868-b943-40e7-8807-49e04326e27f",
        "colab": {
          "base_uri": "https://localhost:8080/",
          "height": 0
        }
      },
      "outputs": [
        {
          "output_type": "stream",
          "name": "stdout",
          "text": [
            "<class 'pandas.core.frame.DataFrame'>\n",
            "RangeIndex: 170 entries, 0 to 169\n",
            "Data columns (total 16 columns):\n",
            " #   Column                               Non-Null Count  Dtype  \n",
            "---  ------                               --------------  -----  \n",
            " 0   provinsi                             170 non-null    object \n",
            " 1   kode_provinsi                        170 non-null    int64  \n",
            " 2   tahun                                170 non-null    int64  \n",
            " 3   luas panen (ha)                      170 non-null    float64\n",
            " 4   produktivitas (ku/ha)                170 non-null    float64\n",
            " 5   produksi (ton)                       170 non-null    float64\n",
            " 6   jumlah penduduk                      170 non-null    int64  \n",
            " 7   luas provinsi (ha)                   170 non-null    int64  \n",
            " 8   produksi beras (ton)                 170 non-null    float64\n",
            " 9   proyeksi konsumsi rumah tangga(ton)  170 non-null    float64\n",
            " 10  surplus/ defisit(ton)                170 non-null    float64\n",
            " 11  surplus/ defisit(%)*                 170 non-null    float64\n",
            " 12  harga beras(Rp)                      170 non-null    int64  \n",
            " 13  suhu                                 170 non-null    float64\n",
            " 14  curah hujan (mm)                     44 non-null     float64\n",
            " 15  penyinaran matahari (%)              170 non-null    float64\n",
            "dtypes: float64(10), int64(5), object(1)\n",
            "memory usage: 21.4+ KB\n"
          ]
        }
      ],
      "source": [
        "df.info()"
      ]
    },
    {
      "cell_type": "code",
      "execution_count": 170,
      "metadata": {
        "id": "ktRf1bMh71yA",
        "outputId": "bf99db45-2f7e-4de1-8cf0-dad5f472d80e",
        "colab": {
          "base_uri": "https://localhost:8080/",
          "height": 0
        }
      },
      "outputs": [
        {
          "output_type": "execute_result",
          "data": {
            "text/plain": [
              "(170, 16)"
            ]
          },
          "metadata": {},
          "execution_count": 170
        }
      ],
      "source": [
        "df.shape"
      ]
    },
    {
      "cell_type": "code",
      "execution_count": 171,
      "metadata": {
        "id": "NT5j-8DgDceb"
      },
      "outputs": [],
      "source": [
        "new_columns = {'luas panen (ha)': 'luas_panen', \n",
        "               'produktivitas (ku/ha)': 'produktivitas',\n",
        "               'produksi (ton)': 'produksi',\n",
        "               'jumlah penduduk ': 'jumlah_penduduk',\n",
        "               'luas provinsi (ha)': 'luas_provinsi',\n",
        "               'produksi beras (ton)': 'produksi_beras',\n",
        "               'proyeksi konsumsi rumah tangga(ton)': 'konsumsi_rumah_tangga',\n",
        "               'surplus/ defisit(ton)': 'surplus_defisit',\n",
        "               'surplus/ defisit(%)*': 'presentase_surplus_defisit',\n",
        "               'harga beras(Rp)': 'harga_beras',\n",
        "               'curah hujan (mm)': 'curah_hujan',\n",
        "               'penyinaran matahari (%)': 'penyinaran_matahari'}\n",
        "df = df.rename(columns=new_columns)"
      ]
    },
    {
      "cell_type": "code",
      "execution_count": 172,
      "metadata": {
        "id": "HiJ4u01YFlXr",
        "outputId": "64c9248a-2a86-41ba-8696-b47186b9fa82",
        "colab": {
          "base_uri": "https://localhost:8080/",
          "height": 0
        }
      },
      "outputs": [
        {
          "output_type": "execute_result",
          "data": {
            "text/plain": [
              "provinsi                        0\n",
              "kode_provinsi                   0\n",
              "tahun                           0\n",
              "luas_panen                      0\n",
              "produktivitas                   0\n",
              "produksi                        0\n",
              "jumlah_penduduk                 0\n",
              "luas_provinsi                   0\n",
              "produksi_beras                  0\n",
              "konsumsi_rumah_tangga           0\n",
              "surplus_defisit                 0\n",
              "presentase_surplus_defisit      0\n",
              "harga_beras                     0\n",
              "suhu                            0\n",
              "curah_hujan                   126\n",
              "penyinaran_matahari             0\n",
              "dtype: int64"
            ]
          },
          "metadata": {},
          "execution_count": 172
        }
      ],
      "source": [
        "df.isnull().sum()"
      ]
    },
    {
      "cell_type": "code",
      "execution_count": 173,
      "metadata": {
        "id": "eZiKHJUeDtQN",
        "outputId": "97aca54d-7c1b-4ac6-9b8a-6d7631bccb01",
        "colab": {
          "base_uri": "https://localhost:8080/",
          "height": 0
        }
      },
      "outputs": [
        {
          "output_type": "execute_result",
          "data": {
            "text/plain": [
              "provinsi                        0\n",
              "kode_provinsi                   0\n",
              "tahun                           0\n",
              "luas_panen                      0\n",
              "produktivitas                   0\n",
              "produksi                        0\n",
              "jumlah_penduduk                 0\n",
              "luas_provinsi                   0\n",
              "produksi_beras                  0\n",
              "konsumsi_rumah_tangga           0\n",
              "surplus_defisit                 0\n",
              "presentase_surplus_defisit      0\n",
              "harga_beras                     0\n",
              "suhu                            0\n",
              "curah_hujan                   126\n",
              "penyinaran_matahari             0\n",
              "dtype: int64"
            ]
          },
          "metadata": {},
          "execution_count": 173
        }
      ],
      "source": [
        "df.isna().sum()"
      ]
    },
    {
      "cell_type": "code",
      "execution_count": 174,
      "metadata": {
        "id": "urHAHxqJAY4O",
        "outputId": "65898923-f268-4b6a-a5f7-ccf3442ca575",
        "colab": {
          "base_uri": "https://localhost:8080/",
          "height": 250
        }
      },
      "outputs": [
        {
          "output_type": "execute_result",
          "data": {
            "text/plain": [
              "   luas_panen  produktivitas    produksi  jumlah_penduduk  produksi_beras  \\\n",
              "0   329515.78          56.49  1861567.10          5243400       1066890.0   \n",
              "1   310012.46          55.30  1714437.60          5316300        982570.0   \n",
              "2   317869.41          55.28  1757313.07          5274900       1007143.0   \n",
              "3   297058.38          55.03  1634639.60          5333700        941688.0   \n",
              "4   271750.20          55.55  1509456.00          5407900        873975.0   \n",
              "\n",
              "   konsumsi_rumah_tangga  surplus_defisit  presentase_surplus_defisit  \\\n",
              "0          557210.000000    509680.000000                   91.470002   \n",
              "1          443379.000000    539191.000000                  121.609503   \n",
              "2          455749.000000    551394.000000                  120.986332   \n",
              "3          472355.000000    469333.000000                   99.360227   \n",
              "4          516389.279133    357585.720867                   69.247317   \n",
              "\n",
              "   harga_beras   suhu  penyinaran_matahari  \n",
              "0        10182  27.08                60.18  \n",
              "1        11134  26.90                65.74  \n",
              "2        11093  26.50                62.50  \n",
              "3         9428  26.80                65.00  \n",
              "4        10883  26.60                63.75  "
            ],
            "text/html": [
              "\n",
              "  <div id=\"df-67d3389a-cd2c-4ef2-9a8f-27b39d8cc895\">\n",
              "    <div class=\"colab-df-container\">\n",
              "      <div>\n",
              "<style scoped>\n",
              "    .dataframe tbody tr th:only-of-type {\n",
              "        vertical-align: middle;\n",
              "    }\n",
              "\n",
              "    .dataframe tbody tr th {\n",
              "        vertical-align: top;\n",
              "    }\n",
              "\n",
              "    .dataframe thead th {\n",
              "        text-align: right;\n",
              "    }\n",
              "</style>\n",
              "<table border=\"1\" class=\"dataframe\">\n",
              "  <thead>\n",
              "    <tr style=\"text-align: right;\">\n",
              "      <th></th>\n",
              "      <th>luas_panen</th>\n",
              "      <th>produktivitas</th>\n",
              "      <th>produksi</th>\n",
              "      <th>jumlah_penduduk</th>\n",
              "      <th>produksi_beras</th>\n",
              "      <th>konsumsi_rumah_tangga</th>\n",
              "      <th>surplus_defisit</th>\n",
              "      <th>presentase_surplus_defisit</th>\n",
              "      <th>harga_beras</th>\n",
              "      <th>suhu</th>\n",
              "      <th>penyinaran_matahari</th>\n",
              "    </tr>\n",
              "  </thead>\n",
              "  <tbody>\n",
              "    <tr>\n",
              "      <th>0</th>\n",
              "      <td>329515.78</td>\n",
              "      <td>56.49</td>\n",
              "      <td>1861567.10</td>\n",
              "      <td>5243400</td>\n",
              "      <td>1066890.0</td>\n",
              "      <td>557210.000000</td>\n",
              "      <td>509680.000000</td>\n",
              "      <td>91.470002</td>\n",
              "      <td>10182</td>\n",
              "      <td>27.08</td>\n",
              "      <td>60.18</td>\n",
              "    </tr>\n",
              "    <tr>\n",
              "      <th>1</th>\n",
              "      <td>310012.46</td>\n",
              "      <td>55.30</td>\n",
              "      <td>1714437.60</td>\n",
              "      <td>5316300</td>\n",
              "      <td>982570.0</td>\n",
              "      <td>443379.000000</td>\n",
              "      <td>539191.000000</td>\n",
              "      <td>121.609503</td>\n",
              "      <td>11134</td>\n",
              "      <td>26.90</td>\n",
              "      <td>65.74</td>\n",
              "    </tr>\n",
              "    <tr>\n",
              "      <th>2</th>\n",
              "      <td>317869.41</td>\n",
              "      <td>55.28</td>\n",
              "      <td>1757313.07</td>\n",
              "      <td>5274900</td>\n",
              "      <td>1007143.0</td>\n",
              "      <td>455749.000000</td>\n",
              "      <td>551394.000000</td>\n",
              "      <td>120.986332</td>\n",
              "      <td>11093</td>\n",
              "      <td>26.50</td>\n",
              "      <td>62.50</td>\n",
              "    </tr>\n",
              "    <tr>\n",
              "      <th>3</th>\n",
              "      <td>297058.38</td>\n",
              "      <td>55.03</td>\n",
              "      <td>1634639.60</td>\n",
              "      <td>5333700</td>\n",
              "      <td>941688.0</td>\n",
              "      <td>472355.000000</td>\n",
              "      <td>469333.000000</td>\n",
              "      <td>99.360227</td>\n",
              "      <td>9428</td>\n",
              "      <td>26.80</td>\n",
              "      <td>65.00</td>\n",
              "    </tr>\n",
              "    <tr>\n",
              "      <th>4</th>\n",
              "      <td>271750.20</td>\n",
              "      <td>55.55</td>\n",
              "      <td>1509456.00</td>\n",
              "      <td>5407900</td>\n",
              "      <td>873975.0</td>\n",
              "      <td>516389.279133</td>\n",
              "      <td>357585.720867</td>\n",
              "      <td>69.247317</td>\n",
              "      <td>10883</td>\n",
              "      <td>26.60</td>\n",
              "      <td>63.75</td>\n",
              "    </tr>\n",
              "  </tbody>\n",
              "</table>\n",
              "</div>\n",
              "      <button class=\"colab-df-convert\" onclick=\"convertToInteractive('df-67d3389a-cd2c-4ef2-9a8f-27b39d8cc895')\"\n",
              "              title=\"Convert this dataframe to an interactive table.\"\n",
              "              style=\"display:none;\">\n",
              "        \n",
              "  <svg xmlns=\"http://www.w3.org/2000/svg\" height=\"24px\"viewBox=\"0 0 24 24\"\n",
              "       width=\"24px\">\n",
              "    <path d=\"M0 0h24v24H0V0z\" fill=\"none\"/>\n",
              "    <path d=\"M18.56 5.44l.94 2.06.94-2.06 2.06-.94-2.06-.94-.94-2.06-.94 2.06-2.06.94zm-11 1L8.5 8.5l.94-2.06 2.06-.94-2.06-.94L8.5 2.5l-.94 2.06-2.06.94zm10 10l.94 2.06.94-2.06 2.06-.94-2.06-.94-.94-2.06-.94 2.06-2.06.94z\"/><path d=\"M17.41 7.96l-1.37-1.37c-.4-.4-.92-.59-1.43-.59-.52 0-1.04.2-1.43.59L10.3 9.45l-7.72 7.72c-.78.78-.78 2.05 0 2.83L4 21.41c.39.39.9.59 1.41.59.51 0 1.02-.2 1.41-.59l7.78-7.78 2.81-2.81c.8-.78.8-2.07 0-2.86zM5.41 20L4 18.59l7.72-7.72 1.47 1.35L5.41 20z\"/>\n",
              "  </svg>\n",
              "      </button>\n",
              "      \n",
              "  <style>\n",
              "    .colab-df-container {\n",
              "      display:flex;\n",
              "      flex-wrap:wrap;\n",
              "      gap: 12px;\n",
              "    }\n",
              "\n",
              "    .colab-df-convert {\n",
              "      background-color: #E8F0FE;\n",
              "      border: none;\n",
              "      border-radius: 50%;\n",
              "      cursor: pointer;\n",
              "      display: none;\n",
              "      fill: #1967D2;\n",
              "      height: 32px;\n",
              "      padding: 0 0 0 0;\n",
              "      width: 32px;\n",
              "    }\n",
              "\n",
              "    .colab-df-convert:hover {\n",
              "      background-color: #E2EBFA;\n",
              "      box-shadow: 0px 1px 2px rgba(60, 64, 67, 0.3), 0px 1px 3px 1px rgba(60, 64, 67, 0.15);\n",
              "      fill: #174EA6;\n",
              "    }\n",
              "\n",
              "    [theme=dark] .colab-df-convert {\n",
              "      background-color: #3B4455;\n",
              "      fill: #D2E3FC;\n",
              "    }\n",
              "\n",
              "    [theme=dark] .colab-df-convert:hover {\n",
              "      background-color: #434B5C;\n",
              "      box-shadow: 0px 1px 3px 1px rgba(0, 0, 0, 0.15);\n",
              "      filter: drop-shadow(0px 1px 2px rgba(0, 0, 0, 0.3));\n",
              "      fill: #FFFFFF;\n",
              "    }\n",
              "  </style>\n",
              "\n",
              "      <script>\n",
              "        const buttonEl =\n",
              "          document.querySelector('#df-67d3389a-cd2c-4ef2-9a8f-27b39d8cc895 button.colab-df-convert');\n",
              "        buttonEl.style.display =\n",
              "          google.colab.kernel.accessAllowed ? 'block' : 'none';\n",
              "\n",
              "        async function convertToInteractive(key) {\n",
              "          const element = document.querySelector('#df-67d3389a-cd2c-4ef2-9a8f-27b39d8cc895');\n",
              "          const dataTable =\n",
              "            await google.colab.kernel.invokeFunction('convertToInteractive',\n",
              "                                                     [key], {});\n",
              "          if (!dataTable) return;\n",
              "\n",
              "          const docLinkHtml = 'Like what you see? Visit the ' +\n",
              "            '<a target=\"_blank\" href=https://colab.research.google.com/notebooks/data_table.ipynb>data table notebook</a>'\n",
              "            + ' to learn more about interactive tables.';\n",
              "          element.innerHTML = '';\n",
              "          dataTable['output_type'] = 'display_data';\n",
              "          await google.colab.output.renderOutput(dataTable, element);\n",
              "          const docLink = document.createElement('div');\n",
              "          docLink.innerHTML = docLinkHtml;\n",
              "          element.appendChild(docLink);\n",
              "        }\n",
              "      </script>\n",
              "    </div>\n",
              "  </div>\n",
              "  "
            ]
          },
          "metadata": {},
          "execution_count": 174
        }
      ],
      "source": [
        "df1 = df.drop(['provinsi', 'kode_provinsi', 'tahun', 'luas_provinsi', 'curah_hujan'], axis=1)\n",
        "df1.head()"
      ]
    },
    {
      "cell_type": "code",
      "execution_count": 175,
      "metadata": {
        "id": "ugijyfg2AEaQ",
        "outputId": "f54ed86b-afbe-4ebe-865b-695bb6807e16",
        "colab": {
          "base_uri": "https://localhost:8080/",
          "height": 792
        }
      },
      "outputs": [
        {
          "output_type": "display_data",
          "data": {
            "text/plain": [
              "<Figure size 800x800 with 2 Axes>"
            ],
            "image/png": "[encoded data removed]"
          },
          "metadata": {}
        }
      ],
      "source": [
        "f, ax=plt.subplots(figsize=(8,8))\n",
        "plt.title('Pearson Correlation')\n",
        "sns.heatmap(df1.astype('float').corr(), linewidths=0.25, vmax=1.0, \n",
        "            square=True, cmap='YlGn', linecolor='black', annot=True)\n",
        "plt.show()"
      ]
    },
    {
      "cell_type": "markdown",
      "metadata": {
        "id": "cB3h_338BzcY"
      },
      "source": [
        "# Data Preparation"
      ]
    },
    {
      "cell_type": "code",
      "execution_count": 176,
      "metadata": {
        "id": "cPRV5Gn5B7Qf",
        "outputId": "d7eed310-2c4d-4def-d44d-5b3b9a624f3b",
        "colab": {
          "base_uri": "https://localhost:8080/",
          "height": 0
        }
      },
      "outputs": [
        {
          "output_type": "execute_result",
          "data": {
            "text/plain": [
              "luas_panen                    0\n",
              "produktivitas                 0\n",
              "produksi                      0\n",
              "jumlah_penduduk               0\n",
              "produksi_beras                0\n",
              "konsumsi_rumah_tangga         0\n",
              "surplus_defisit               0\n",
              "presentase_surplus_defisit    0\n",
              "harga_beras                   0\n",
              "suhu                          0\n",
              "penyinaran_matahari           0\n",
              "dtype: int64"
            ]
          },
          "metadata": {},
          "execution_count": 176
        }
      ],
      "source": [
        "df1.isnull().sum()"
      ]
    },
    {
      "cell_type": "code",
      "execution_count": 177,
      "metadata": {
        "id": "DnIvlUuaB2vA"
      },
      "outputs": [],
      "source": [
        "# Input Variabel x\n",
        "x = df[['luas_panen', 'produktivitas', 'produksi',  'jumlah_penduduk', 'produksi_beras', 'konsumsi_rumah_tangga', 'surplus_defisit', 'presentase_surplus_defisit', 'suhu', 'penyinaran_matahari']]\n",
        "\n",
        "# Target Variabel y\n",
        "y = df['produksi']"
      ]
    },
    {
      "cell_type": "markdown",
      "metadata": {
        "id": "Kj1aaYnbDSgj"
      },
      "source": [
        "# Pemodelan Data"
      ]
    },
    {
      "cell_type": "code",
      "execution_count": 178,
      "metadata": {
        "id": "G4mttkfE7eVI"
      },
      "outputs": [],
      "source": [
        "#Split Training and Testing\n",
        "\n",
        "from sklearn.model_selection import train_test_split #import train_test_split function \n",
        "from sklearn import metrics #import scikit-learn metrics module for accuracy calculation"
      ]
    },
    {
      "cell_type": "code",
      "execution_count": 179,
      "metadata": {
        "id": "wuPp6lx4DQWV"
      },
      "outputs": [],
      "source": [
        "# Split aata Testing & Training \n",
        "\n",
        "x_train,x_test,y_train,y_test=train_test_split(x,y, test_size=0.3, random_state=42)"
      ]
    },
    {
      "cell_type": "markdown",
      "metadata": {
        "id": "osoKZDMWDYMH"
      },
      "source": [
        "## Model Linier Regression"
      ]
    },
    {
      "cell_type": "code",
      "execution_count": 180,
      "metadata": {
        "id": "QnOUVRIV7llX"
      },
      "outputs": [],
      "source": [
        "from sklearn.linear_model import LinearRegression"
      ]
    },
    {
      "cell_type": "code",
      "execution_count": 181,
      "metadata": {
        "id": "CmNqg_RYDkYR"
      },
      "outputs": [],
      "source": [
        "ln = LinearRegression()\n",
        "\n",
        "# Training Model\n",
        "\n",
        "# Memodelkan data\n",
        "model_ln = ln.fit(x_train, y_train)\n",
        "\n",
        "# Melakukan predict pada data test\n",
        "pred_ln = model_ln.predict(x_test)"
      ]
    },
    {
      "cell_type": "code",
      "execution_count": 182,
      "metadata": {
        "id": "0G0_ZQ81Dog3"
      },
      "outputs": [],
      "source": [
        "from sklearn import metrics"
      ]
    },
    {
      "cell_type": "code",
      "execution_count": 183,
      "metadata": {
        "id": "mSGvt9CjDq3a",
        "outputId": "b2cf4f30-c1f0-4c10-b324-96396aea7da2",
        "colab": {
          "base_uri": "https://localhost:8080/",
          "height": 0
        }
      },
      "outputs": [
        {
          "output_type": "stream",
          "name": "stdout",
          "text": [
            "R Square : 1.0\n"
          ]
        }
      ],
      "source": [
        "# Nilai R2\n",
        "print('R Square :', metrics.r2_score(y_test, pred_ln))"
      ]
    },
    {
      "cell_type": "code",
      "execution_count": 184,
      "metadata": {
        "id": "lqVZuYddDvU2",
        "outputId": "6e1e3ec0-4d8e-4da5-8e8e-efc7fafb26e7",
        "colab": {
          "base_uri": "https://localhost:8080/",
          "height": 0
        }
      },
      "outputs": [
        {
          "output_type": "stream",
          "name": "stdout",
          "text": [
            "MAPE : 2.8187144000004256e-12\n"
          ]
        }
      ],
      "source": [
        "# Nilai MAPE\n",
        "def mape(y_true,y_pred):\n",
        "  y_true,y_pred = np.array(y_true), np.array(y_pred)\n",
        "  return np.mean(np.abs((y_true-y_pred)/y_true))*100\n",
        "\n",
        "print('MAPE :', mape(y_test,pred_ln))"
      ]
    },
    {
      "cell_type": "markdown",
      "metadata": {
        "id": "MJFNxPgaEQKu"
      },
      "source": [
        "## ANN (Artificial Neural Network)"
      ]
    },
    {
      "cell_type": "code",
      "execution_count": 185,
      "metadata": {
        "id": "Ju_MbBglEUIe"
      },
      "outputs": [],
      "source": [
        "from sklearn.neural_network import MLPRegressor"
      ]
    },
    {
      "cell_type": "code",
      "execution_count": 186,
      "metadata": {
        "id": "QHdQvx3mEWVm"
      },
      "outputs": [],
      "source": [
        "# ReLU : fungsi aktivasi untuk memungkinkan model menyelesaikan masalah non linier\n",
        "# ReLU (Rectified Linear Unit)\n",
        "mlp = MLPRegressor()\n",
        "\n",
        "# Memodelkan Data Menggunakan Algoritma Decision Tree\n",
        "model_mlp = mlp.fit(x_train, y_train)\n",
        "\n",
        "# Melakukan predict pada data test\n",
        "pred_mlp = model_mlp.predict(x_test)"
      ]
    },
    {
      "cell_type": "code",
      "execution_count": 187,
      "metadata": {
        "id": "Xnyu3EcbEbBO",
        "outputId": "59545ea4-0c56-4b68-f3c8-32305ba99499",
        "colab": {
          "base_uri": "https://localhost:8080/",
          "height": 0
        }
      },
      "outputs": [
        {
          "output_type": "stream",
          "name": "stdout",
          "text": [
            "R Square : 0.9127243069356525\n"
          ]
        }
      ],
      "source": [
        "# Nilai R^2\n",
        "print('R Square :', metrics.r2_score(y_test,pred_mlp))"
      ]
    },
    {
      "cell_type": "code",
      "execution_count": 188,
      "metadata": {
        "id": "vZsxJxGCEc_-",
        "outputId": "f19894cd-a0af-4d08-b387-249ec5004576",
        "colab": {
          "base_uri": "https://localhost:8080/",
          "height": 0
        }
      },
      "outputs": [
        {
          "output_type": "stream",
          "name": "stdout",
          "text": [
            "MAPE : 2691.529969484887\n"
          ]
        }
      ],
      "source": [
        "# Membuat Script MAPE\n",
        "def mean_absolut_percentage_error(y_true,y_pred):\n",
        "  y_true,y_pred=np.array(y_true), np.array(y_pred)\n",
        "  return np.mean(np.abs((y_true - y_pred)/y_true))*100\n",
        "print('MAPE :', mean_absolut_percentage_error(y_test,pred_mlp))"
      ]
    },
    {
      "cell_type": "markdown",
      "metadata": {
        "id": "FuD7UD77EuRD"
      },
      "source": [
        "# Implementasi Model"
      ]
    },
    {
      "cell_type": "code",
      "execution_count": 189,
      "metadata": {
        "id": "ovQ2ay1wE4BS"
      },
      "outputs": [],
      "source": [
        "x1 = df[['luas_panen', 'produktivitas', 'produksi',  'jumlah_penduduk', 'produksi_beras', 'konsumsi_rumah_tangga', 'surplus_defisit', 'presentase_surplus_defisit', 'suhu', 'penyinaran_matahari']]"
      ]
    },
    {
      "cell_type": "code",
      "execution_count": 190,
      "metadata": {
        "id": "EkVXJR4fFAv2",
        "outputId": "e6b38eb8-b813-4f4b-a7a0-005c81c6c76e",
        "colab": {
          "base_uri": "https://localhost:8080/",
          "height": 0
        }
      },
      "outputs": [
        {
          "output_type": "execute_result",
          "data": {
            "text/plain": [
              "array([ 1726732.16857568,  1688434.73430863,  1700726.78153476,\n",
              "        1645969.70812036,  1579791.58908355,   935162.61212285,\n",
              "         917724.68708685,   884511.00263985,   930776.91353151,\n",
              "         966040.1903504 ,  2599032.22556204,  2586209.89438152,\n",
              "        2571499.59052636,  2550178.64814413,  2658643.74298456,\n",
              "         410269.93503493,   435166.71540214,   436969.01480628,\n",
              "         427479.77843184,   432676.39305976,   804967.86328756,\n",
              "         857368.10436374,   821189.94647763,   840213.39720663,\n",
              "         848968.02746673,  1361444.78928687,  1484184.19244479,\n",
              "        1492151.04412315,  1483299.16897698,  1468213.16196385,\n",
              "         292862.41674808,   287654.57049003,   284395.25802945,\n",
              "         289550.63291644,   294935.04232661,   730701.35979918,\n",
              "         668915.5558809 ,   711234.65640831,   663144.2431959 ,\n",
              "         648612.4234865 , 11827057.13976017, 11979296.35865084,\n",
              "       11814341.68568338, 11901345.32551155, 12069284.46226065,\n",
              "       10583380.97256209, 10349106.58312977, 10543820.80220004,\n",
              "       10618172.48807228, 10449089.20207973, 10298057.85879698,\n",
              "       11021517.81067931, 11363009.58220423, 11259680.40692452,\n",
              "       11063508.6037593 ,  1107840.21182497,  1159080.87977857,\n",
              "        1171989.23832591,  1139805.87206789,  1145848.84612408,\n",
              "        1240703.4984046 ,  1330161.59627433,  1211732.84775077,\n",
              "        1144310.20456459,  1050708.69158964,   640384.80382052,\n",
              "         610209.19043482,   622613.13741063,   582492.06856928,\n",
              "         562479.44450029,   638858.06472112,   657345.79961284,\n",
              "         680831.6756268 ,   672597.80368298,   668976.40131621,\n",
              "         118058.72786177,   110303.09686942,   117236.03533766,\n",
              "         115513.47754959,   118465.19991119,   206940.24376081,\n",
              "         228326.15546207,   233444.98931394,   245313.83043307,\n",
              "         239971.94959551,   298430.28209547,   315820.81482548,\n",
              "         291563.52516909,   299948.09577063,   305042.97643559,\n",
              "        2791133.52664302,  2387083.8057598 ,  2729164.94683104,\n",
              "        2649457.04636384,  2757632.29859696,   305246.86137788,\n",
              "         299762.06907043,   318033.11197591,   321136.71279138,\n",
              "         305282.2854864 ,   188859.88741972,   190918.39979169,\n",
              "         202193.96506287,   190321.60832122,   189701.17270758,\n",
              "        1473236.70094436,  1470140.63286841,  1443421.92993901,\n",
              "        1503274.35710112,  1522835.25910445,  1194972.48056637,\n",
              "        1163149.59529247,  1100041.34618245,  1110764.52636249,\n",
              "        1116395.6272645 ,   600373.71814902,   614478.65543888,\n",
              "         715848.27385236,   803785.74366143,   752168.00816097,\n",
              "         137540.14157183,   144878.40380695,   170256.02570209,\n",
              "         172223.04257104,   171445.73880609,  1055855.95682021,\n",
              "        1080397.14999851,  1023038.85338362,  1022723.45232814,\n",
              "        1024416.68202935,   351626.76514636,   346514.44172885,\n",
              "         382601.04821728,   364748.79792743,   387864.37532802,\n",
              "        4128194.74513952,  3840163.04185693,  3722769.11549513,\n",
              "        3921361.57329127,  4046705.06870296,   924973.2917552 ,\n",
              "         649518.64106881,   850067.39964921,   897998.11526251,\n",
              "         834741.90702445,   627358.97745605,   647008.57507795,\n",
              "         648767.85253881,   651542.23648397,   640067.77861664,\n",
              "         507570.3656305 ,   490084.73252099,   488010.527995  ,\n",
              "         475453.68023629,   477173.87917407,  1546869.19070881,\n",
              "        1131533.47177567,  1546038.58236105,  1107873.26937513,\n",
              "        1544502.50913444,  2792813.5594121 ,  2622034.56137684,\n",
              "        2691110.67371693,  2603085.04977182,  2719942.58039401,\n",
              "        3088673.34894226,  3160920.39196248,  3165577.72323741,\n",
              "        3153913.42851844,  3190799.11745613])"
            ]
          },
          "metadata": {},
          "execution_count": 190
        }
      ],
      "source": [
        "prediction = model_mlp.predict(x1)\n",
        "prediction"
      ]
    },
    {
      "cell_type": "code",
      "execution_count": 191,
      "metadata": {
        "id": "Iu4k3I9KFDFg",
        "outputId": "fd09837b-7525-46aa-a80e-c2d683d2edbe",
        "colab": {
          "base_uri": "https://localhost:8080/",
          "height": 206
        }
      },
      "outputs": [
        {
          "output_type": "execute_result",
          "data": {
            "text/plain": [
              "   Prediction\n",
              "0  1726732.17\n",
              "1  1688434.73\n",
              "2  1700726.78\n",
              "3  1645969.71\n",
              "4  1579791.59"
            ],
            "text/html": [
              "\n",
              "  <div id=\"df-8bebefa2-ee67-4a49-9bce-69cb1896106a\">\n",
              "    <div class=\"colab-df-container\">\n",
              "      <div>\n",
              "<style scoped>\n",
              "    .dataframe tbody tr th:only-of-type {\n",
              "        vertical-align: middle;\n",
              "    }\n",
              "\n",
              "    .dataframe tbody tr th {\n",
              "        vertical-align: top;\n",
              "    }\n",
              "\n",
              "    .dataframe thead th {\n",
              "        text-align: right;\n",
              "    }\n",
              "</style>\n",
              "<table border=\"1\" class=\"dataframe\">\n",
              "  <thead>\n",
              "    <tr style=\"text-align: right;\">\n",
              "      <th></th>\n",
              "      <th>Prediction</th>\n",
              "    </tr>\n",
              "  </thead>\n",
              "  <tbody>\n",
              "    <tr>\n",
              "      <th>0</th>\n",
              "      <td>1726732.17</td>\n",
              "    </tr>\n",
              "    <tr>\n",
              "      <th>1</th>\n",
              "      <td>1688434.73</td>\n",
              "    </tr>\n",
              "    <tr>\n",
              "      <th>2</th>\n",
              "      <td>1700726.78</td>\n",
              "    </tr>\n",
              "    <tr>\n",
              "      <th>3</th>\n",
              "      <td>1645969.71</td>\n",
              "    </tr>\n",
              "    <tr>\n",
              "      <th>4</th>\n",
              "      <td>1579791.59</td>\n",
              "    </tr>\n",
              "  </tbody>\n",
              "</table>\n",
              "</div>\n",
              "      <button class=\"colab-df-convert\" onclick=\"convertToInteractive('df-8bebefa2-ee67-4a49-9bce-69cb1896106a')\"\n",
              "              title=\"Convert this dataframe to an interactive table.\"\n",
              "              style=\"display:none;\">\n",
              "        \n",
              "  <svg xmlns=\"http://www.w3.org/2000/svg\" height=\"24px\"viewBox=\"0 0 24 24\"\n",
              "       width=\"24px\">\n",
              "    <path d=\"M0 0h24v24H0V0z\" fill=\"none\"/>\n",
              "    <path d=\"M18.56 5.44l.94 2.06.94-2.06 2.06-.94-2.06-.94-.94-2.06-.94 2.06-2.06.94zm-11 1L8.5 8.5l.94-2.06 2.06-.94-2.06-.94L8.5 2.5l-.94 2.06-2.06.94zm10 10l.94 2.06.94-2.06 2.06-.94-2.06-.94-.94-2.06-.94 2.06-2.06.94z\"/><path d=\"M17.41 7.96l-1.37-1.37c-.4-.4-.92-.59-1.43-.59-.52 0-1.04.2-1.43.59L10.3 9.45l-7.72 7.72c-.78.78-.78 2.05 0 2.83L4 21.41c.39.39.9.59 1.41.59.51 0 1.02-.2 1.41-.59l7.78-7.78 2.81-2.81c.8-.78.8-2.07 0-2.86zM5.41 20L4 18.59l7.72-7.72 1.47 1.35L5.41 20z\"/>\n",
              "  </svg>\n",
              "      </button>\n",
              "      \n",
              "  <style>\n",
              "    .colab-df-container {\n",
              "      display:flex;\n",
              "      flex-wrap:wrap;\n",
              "      gap: 12px;\n",
              "    }\n",
              "\n",
              "    .colab-df-convert {\n",
              "      background-color: #E8F0FE;\n",
              "      border: none;\n",
              "      border-radius: 50%;\n",
              "      cursor: pointer;\n",
              "      display: none;\n",
              "      fill: #1967D2;\n",
              "      height: 32px;\n",
              "      padding: 0 0 0 0;\n",
              "      width: 32px;\n",
              "    }\n",
              "\n",
              "    .colab-df-convert:hover {\n",
              "      background-color: #E2EBFA;\n",
              "      box-shadow: 0px 1px 2px rgba(60, 64, 67, 0.3), 0px 1px 3px 1px rgba(60, 64, 67, 0.15);\n",
              "      fill: #174EA6;\n",
              "    }\n",
              "\n",
              "    [theme=dark] .colab-df-convert {\n",
              "      background-color: #3B4455;\n",
              "      fill: #D2E3FC;\n",
              "    }\n",
              "\n",
              "    [theme=dark] .colab-df-convert:hover {\n",
              "      background-color: #434B5C;\n",
              "      box-shadow: 0px 1px 3px 1px rgba(0, 0, 0, 0.15);\n",
              "      filter: drop-shadow(0px 1px 2px rgba(0, 0, 0, 0.3));\n",
              "      fill: #FFFFFF;\n",
              "    }\n",
              "  </style>\n",
              "\n",
              "      <script>\n",
              "        const buttonEl =\n",
              "          document.querySelector('#df-8bebefa2-ee67-4a49-9bce-69cb1896106a button.colab-df-convert');\n",
              "        buttonEl.style.display =\n",
              "          google.colab.kernel.accessAllowed ? 'block' : 'none';\n",
              "\n",
              "        async function convertToInteractive(key) {\n",
              "          const element = document.querySelector('#df-8bebefa2-ee67-4a49-9bce-69cb1896106a');\n",
              "          const dataTable =\n",
              "            await google.colab.kernel.invokeFunction('convertToInteractive',\n",
              "                                                     [key], {});\n",
              "          if (!dataTable) return;\n",
              "\n",
              "          const docLinkHtml = 'Like what you see? Visit the ' +\n",
              "            '<a target=\"_blank\" href=https://colab.research.google.com/notebooks/data_table.ipynb>data table notebook</a>'\n",
              "            + ' to learn more about interactive tables.';\n",
              "          element.innerHTML = '';\n",
              "          dataTable['output_type'] = 'display_data';\n",
              "          await google.colab.output.renderOutput(dataTable, element);\n",
              "          const docLink = document.createElement('div');\n",
              "          docLink.innerHTML = docLinkHtml;\n",
              "          element.appendChild(docLink);\n",
              "        }\n",
              "      </script>\n",
              "    </div>\n",
              "  </div>\n",
              "  "
            ]
          },
          "metadata": {},
          "execution_count": 191
        }
      ],
      "source": [
        "df_result = pd.DataFrame({'Prediction' : prediction}).round(2)\n",
        "df_result.head()"
      ]
    },
    {
      "cell_type": "code",
      "execution_count": 192,
      "metadata": {
        "id": "X8sOIkBNFHsS",
        "outputId": "468b1ae0-9b09-4704-d294-6c4b8a083756",
        "colab": {
          "base_uri": "https://localhost:8080/",
          "height": 270
        }
      },
      "outputs": [
        {
          "output_type": "execute_result",
          "data": {
            "text/plain": [
              "  provinsi  kode_provinsi  tahun  luas_panen  produktivitas    produksi  \\\n",
              "0     ACEH             11   2018   329515.78          56.49  1861567.10   \n",
              "1     ACEH             11   2019   310012.46          55.30  1714437.60   \n",
              "2     ACEH             11   2020   317869.41          55.28  1757313.07   \n",
              "3     ACEH             11   2021   297058.38          55.03  1634639.60   \n",
              "4     ACEH             11   2022   271750.20          55.55  1509456.00   \n",
              "\n",
              "   jumlah_penduduk  luas_provinsi  produksi_beras  konsumsi_rumah_tangga  \\\n",
              "0          5243400        5795600       1066890.0          557210.000000   \n",
              "1          5316300        5795600        982570.0          443379.000000   \n",
              "2          5274900        5795600       1007143.0          455749.000000   \n",
              "3          5333700        5795600        941688.0          472355.000000   \n",
              "4          5407900        5683909        873975.0          516389.279133   \n",
              "\n",
              "   surplus_defisit  presentase_surplus_defisit  harga_beras   suhu  \\\n",
              "0    509680.000000                   91.470002        10182  27.08   \n",
              "1    539191.000000                  121.609503        11134  26.90   \n",
              "2    551394.000000                  120.986332        11093  26.50   \n",
              "3    469333.000000                   99.360227         9428  26.80   \n",
              "4    357585.720867                   69.247317        10883  26.60   \n",
              "\n",
              "   curah_hujan  penyinaran_matahari  Prediction  \n",
              "0       254.76                60.18  1726732.17  \n",
              "1       135.34                65.74  1688434.73  \n",
              "2          NaN                62.50  1700726.78  \n",
              "3          NaN                65.00  1645969.71  \n",
              "4          NaN                63.75  1579791.59  "
            ],
            "text/html": [
              "\n",
              "  <div id=\"df-b80df6c8-33b4-4cf3-9980-34db097e940d\">\n",
              "    <div class=\"colab-df-container\">\n",
              "      <div>\n",
              "<style scoped>\n",
              "    .dataframe tbody tr th:only-of-type {\n",
              "        vertical-align: middle;\n",
              "    }\n",
              "\n",
              "    .dataframe tbody tr th {\n",
              "        vertical-align: top;\n",
              "    }\n",
              "\n",
              "    .dataframe thead th {\n",
              "        text-align: right;\n",
              "    }\n",
              "</style>\n",
              "<table border=\"1\" class=\"dataframe\">\n",
              "  <thead>\n",
              "    <tr style=\"text-align: right;\">\n",
              "      <th></th>\n",
              "      <th>provinsi</th>\n",
              "      <th>kode_provinsi</th>\n",
              "      <th>tahun</th>\n",
              "      <th>luas_panen</th>\n",
              "      <th>produktivitas</th>\n",
              "      <th>produksi</th>\n",
              "      <th>jumlah_penduduk</th>\n",
              "      <th>luas_provinsi</th>\n",
              "      <th>produksi_beras</th>\n",
              "      <th>konsumsi_rumah_tangga</th>\n",
              "      <th>surplus_defisit</th>\n",
              "      <th>presentase_surplus_defisit</th>\n",
              "      <th>harga_beras</th>\n",
              "      <th>suhu</th>\n",
              "      <th>curah_hujan</th>\n",
              "      <th>penyinaran_matahari</th>\n",
              "      <th>Prediction</th>\n",
              "    </tr>\n",
              "  </thead>\n",
              "  <tbody>\n",
              "    <tr>\n",
              "      <th>0</th>\n",
              "      <td>ACEH</td>\n",
              "      <td>11</td>\n",
              "      <td>2018</td>\n",
              "      <td>329515.78</td>\n",
              "      <td>56.49</td>\n",
              "      <td>1861567.10</td>\n",
              "      <td>5243400</td>\n",
              "      <td>5795600</td>\n",
              "      <td>1066890.0</td>\n",
              "      <td>557210.000000</td>\n",
              "      <td>509680.000000</td>\n",
              "      <td>91.470002</td>\n",
              "      <td>10182</td>\n",
              "      <td>27.08</td>\n",
              "      <td>254.76</td>\n",
              "      <td>60.18</td>\n",
              "      <td>1726732.17</td>\n",
              "    </tr>\n",
              "    <tr>\n",
              "      <th>1</th>\n",
              "      <td>ACEH</td>\n",
              "      <td>11</td>\n",
              "      <td>2019</td>\n",
              "      <td>310012.46</td>\n",
              "      <td>55.30</td>\n",
              "      <td>1714437.60</td>\n",
              "      <td>5316300</td>\n",
              "      <td>5795600</td>\n",
              "      <td>982570.0</td>\n",
              "      <td>443379.000000</td>\n",
              "      <td>539191.000000</td>\n",
              "      <td>121.609503</td>\n",
              "      <td>11134</td>\n",
              "      <td>26.90</td>\n",
              "      <td>135.34</td>\n",
              "      <td>65.74</td>\n",
              "      <td>1688434.73</td>\n",
              "    </tr>\n",
              "    <tr>\n",
              "      <th>2</th>\n",
              "      <td>ACEH</td>\n",
              "      <td>11</td>\n",
              "      <td>2020</td>\n",
              "      <td>317869.41</td>\n",
              "      <td>55.28</td>\n",
              "      <td>1757313.07</td>\n",
              "      <td>5274900</td>\n",
              "      <td>5795600</td>\n",
              "      <td>1007143.0</td>\n",
              "      <td>455749.000000</td>\n",
              "      <td>551394.000000</td>\n",
              "      <td>120.986332</td>\n",
              "      <td>11093</td>\n",
              "      <td>26.50</td>\n",
              "      <td>NaN</td>\n",
              "      <td>62.50</td>\n",
              "      <td>1700726.78</td>\n",
              "    </tr>\n",
              "    <tr>\n",
              "      <th>3</th>\n",
              "      <td>ACEH</td>\n",
              "      <td>11</td>\n",
              "      <td>2021</td>\n",
              "      <td>297058.38</td>\n",
              "      <td>55.03</td>\n",
              "      <td>1634639.60</td>\n",
              "      <td>5333700</td>\n",
              "      <td>5795600</td>\n",
              "      <td>941688.0</td>\n",
              "      <td>472355.000000</td>\n",
              "      <td>469333.000000</td>\n",
              "      <td>99.360227</td>\n",
              "      <td>9428</td>\n",
              "      <td>26.80</td>\n",
              "      <td>NaN</td>\n",
              "      <td>65.00</td>\n",
              "      <td>1645969.71</td>\n",
              "    </tr>\n",
              "    <tr>\n",
              "      <th>4</th>\n",
              "      <td>ACEH</td>\n",
              "      <td>11</td>\n",
              "      <td>2022</td>\n",
              "      <td>271750.20</td>\n",
              "      <td>55.55</td>\n",
              "      <td>1509456.00</td>\n",
              "      <td>5407900</td>\n",
              "      <td>5683909</td>\n",
              "      <td>873975.0</td>\n",
              "      <td>516389.279133</td>\n",
              "      <td>357585.720867</td>\n",
              "      <td>69.247317</td>\n",
              "      <td>10883</td>\n",
              "      <td>26.60</td>\n",
              "      <td>NaN</td>\n",
              "      <td>63.75</td>\n",
              "      <td>1579791.59</td>\n",
              "    </tr>\n",
              "  </tbody>\n",
              "</table>\n",
              "</div>\n",
              "      <button class=\"colab-df-convert\" onclick=\"convertToInteractive('df-b80df6c8-33b4-4cf3-9980-34db097e940d')\"\n",
              "              title=\"Convert this dataframe to an interactive table.\"\n",
              "              style=\"display:none;\">\n",
              "        \n",
              "  <svg xmlns=\"http://www.w3.org/2000/svg\" height=\"24px\"viewBox=\"0 0 24 24\"\n",
              "       width=\"24px\">\n",
              "    <path d=\"M0 0h24v24H0V0z\" fill=\"none\"/>\n",
              "    <path d=\"M18.56 5.44l.94 2.06.94-2.06 2.06-.94-2.06-.94-.94-2.06-.94 2.06-2.06.94zm-11 1L8.5 8.5l.94-2.06 2.06-.94-2.06-.94L8.5 2.5l-.94 2.06-2.06.94zm10 10l.94 2.06.94-2.06 2.06-.94-2.06-.94-.94-2.06-.94 2.06-2.06.94z\"/><path d=\"M17.41 7.96l-1.37-1.37c-.4-.4-.92-.59-1.43-.59-.52 0-1.04.2-1.43.59L10.3 9.45l-7.72 7.72c-.78.78-.78 2.05 0 2.83L4 21.41c.39.39.9.59 1.41.59.51 0 1.02-.2 1.41-.59l7.78-7.78 2.81-2.81c.8-.78.8-2.07 0-2.86zM5.41 20L4 18.59l7.72-7.72 1.47 1.35L5.41 20z\"/>\n",
              "  </svg>\n",
              "      </button>\n",
              "      \n",
              "  <style>\n",
              "    .colab-df-container {\n",
              "      display:flex;\n",
              "      flex-wrap:wrap;\n",
              "      gap: 12px;\n",
              "    }\n",
              "\n",
              "    .colab-df-convert {\n",
              "      background-color: #E8F0FE;\n",
              "      border: none;\n",
              "      border-radius: 50%;\n",
              "      cursor: pointer;\n",
              "      display: none;\n",
              "      fill: #1967D2;\n",
              "      height: 32px;\n",
              "      padding: 0 0 0 0;\n",
              "      width: 32px;\n",
              "    }\n",
              "\n",
              "    .colab-df-convert:hover {\n",
              "      background-color: #E2EBFA;\n",
              "      box-shadow: 0px 1px 2px rgba(60, 64, 67, 0.3), 0px 1px 3px 1px rgba(60, 64, 67, 0.15);\n",
              "      fill: #174EA6;\n",
              "    }\n",
              "\n",
              "    [theme=dark] .colab-df-convert {\n",
              "      background-color: #3B4455;\n",
              "      fill: #D2E3FC;\n",
              "    }\n",
              "\n",
              "    [theme=dark] .colab-df-convert:hover {\n",
              "      background-color: #434B5C;\n",
              "      box-shadow: 0px 1px 3px 1px rgba(0, 0, 0, 0.15);\n",
              "      filter: drop-shadow(0px 1px 2px rgba(0, 0, 0, 0.3));\n",
              "      fill: #FFFFFF;\n",
              "    }\n",
              "  </style>\n",
              "\n",
              "      <script>\n",
              "        const buttonEl =\n",
              "          document.querySelector('#df-b80df6c8-33b4-4cf3-9980-34db097e940d button.colab-df-convert');\n",
              "        buttonEl.style.display =\n",
              "          google.colab.kernel.accessAllowed ? 'block' : 'none';\n",
              "\n",
              "        async function convertToInteractive(key) {\n",
              "          const element = document.querySelector('#df-b80df6c8-33b4-4cf3-9980-34db097e940d');\n",
              "          const dataTable =\n",
              "            await google.colab.kernel.invokeFunction('convertToInteractive',\n",
              "                                                     [key], {});\n",
              "          if (!dataTable) return;\n",
              "\n",
              "          const docLinkHtml = 'Like what you see? Visit the ' +\n",
              "            '<a target=\"_blank\" href=https://colab.research.google.com/notebooks/data_table.ipynb>data table notebook</a>'\n",
              "            + ' to learn more about interactive tables.';\n",
              "          element.innerHTML = '';\n",
              "          dataTable['output_type'] = 'display_data';\n",
              "          await google.colab.output.renderOutput(dataTable, element);\n",
              "          const docLink = document.createElement('div');\n",
              "          docLink.innerHTML = docLinkHtml;\n",
              "          element.appendChild(docLink);\n",
              "        }\n",
              "      </script>\n",
              "    </div>\n",
              "  </div>\n",
              "  "
            ]
          },
          "metadata": {},
          "execution_count": 192
        }
      ],
      "source": [
        "# Menggabungkan Data Frame hasil prediksi dengan data frame input variabel\n",
        "df_pred_ho = pd.concat([df,df_result], sort=True, axis=1)\n",
        "df_pred_ho.head()"
      ]
    },
    {
      "cell_type": "code",
      "execution_count": 193,
      "metadata": {
        "id": "ClWoMBfwF9Kf",
        "outputId": "888f1854-f6c8-45ef-c61b-549792196757",
        "colab": {
          "base_uri": "https://localhost:8080/",
          "height": 0
        }
      },
      "outputs": [
        {
          "output_type": "execute_result",
          "data": {
            "text/plain": [
              "338624185.59000003"
            ]
          },
          "metadata": {},
          "execution_count": 193
        }
      ],
      "source": [
        "df_pred_ho['Prediction'].sum()"
      ]
    },
    {
      "cell_type": "code",
      "execution_count": 194,
      "metadata": {
        "id": "Qjv87EnEFTOO",
        "outputId": "b8799911-47e5-48bb-8c1f-51fbd74973f7",
        "colab": {
          "base_uri": "https://localhost:8080/",
          "height": 0
        }
      },
      "outputs": [
        {
          "output_type": "execute_result",
          "data": {
            "text/plain": [
              "277618039.37"
            ]
          },
          "metadata": {},
          "execution_count": 194
        }
      ],
      "source": [
        "df1['produksi'].sum()"
      ]
    },
    {
      "cell_type": "code",
      "execution_count": 195,
      "metadata": {
        "id": "aLWzHf-lKKNv",
        "outputId": "2ec766c4-9912-4eaf-fd26-bc8cfefeab82",
        "colab": {
          "base_uri": "https://localhost:8080/",
          "height": 423
        }
      },
      "outputs": [
        {
          "output_type": "execute_result",
          "data": {
            "text/plain": [
              "       produksi  Prediction\n",
              "0    1861567.10  1726732.17\n",
              "1    1714437.60  1688434.73\n",
              "2    1757313.07  1700726.78\n",
              "3    1634639.60  1645969.71\n",
              "4    1509456.00  1579791.59\n",
              "..          ...         ...\n",
              "165  2108284.72  3088673.35\n",
              "166  2078901.59  3160920.39\n",
              "167  2040500.19  3165577.72\n",
              "168  2004142.51  3153913.43\n",
              "169  2088584.00  3190799.12\n",
              "\n",
              "[170 rows x 2 columns]"
            ],
            "text/html": [
              "\n",
              "  <div id=\"df-b9074b55-a048-470f-9753-29e2f83b8a5a\">\n",
              "    <div class=\"colab-df-container\">\n",
              "      <div>\n",
              "<style scoped>\n",
              "    .dataframe tbody tr th:only-of-type {\n",
              "        vertical-align: middle;\n",
              "    }\n",
              "\n",
              "    .dataframe tbody tr th {\n",
              "        vertical-align: top;\n",
              "    }\n",
              "\n",
              "    .dataframe thead th {\n",
              "        text-align: right;\n",
              "    }\n",
              "</style>\n",
              "<table border=\"1\" class=\"dataframe\">\n",
              "  <thead>\n",
              "    <tr style=\"text-align: right;\">\n",
              "      <th></th>\n",
              "      <th>produksi</th>\n",
              "      <th>Prediction</th>\n",
              "    </tr>\n",
              "  </thead>\n",
              "  <tbody>\n",
              "    <tr>\n",
              "      <th>0</th>\n",
              "      <td>1861567.10</td>\n",
              "      <td>1726732.17</td>\n",
              "    </tr>\n",
              "    <tr>\n",
              "      <th>1</th>\n",
              "      <td>1714437.60</td>\n",
              "      <td>1688434.73</td>\n",
              "    </tr>\n",
              "    <tr>\n",
              "      <th>2</th>\n",
              "      <td>1757313.07</td>\n",
              "      <td>1700726.78</td>\n",
              "    </tr>\n",
              "    <tr>\n",
              "      <th>3</th>\n",
              "      <td>1634639.60</td>\n",
              "      <td>1645969.71</td>\n",
              "    </tr>\n",
              "    <tr>\n",
              "      <th>4</th>\n",
              "      <td>1509456.00</td>\n",
              "      <td>1579791.59</td>\n",
              "    </tr>\n",
              "    <tr>\n",
              "      <th>...</th>\n",
              "      <td>...</td>\n",
              "      <td>...</td>\n",
              "    </tr>\n",
              "    <tr>\n",
              "      <th>165</th>\n",
              "      <td>2108284.72</td>\n",
              "      <td>3088673.35</td>\n",
              "    </tr>\n",
              "    <tr>\n",
              "      <th>166</th>\n",
              "      <td>2078901.59</td>\n",
              "      <td>3160920.39</td>\n",
              "    </tr>\n",
              "    <tr>\n",
              "      <th>167</th>\n",
              "      <td>2040500.19</td>\n",
              "      <td>3165577.72</td>\n",
              "    </tr>\n",
              "    <tr>\n",
              "      <th>168</th>\n",
              "      <td>2004142.51</td>\n",
              "      <td>3153913.43</td>\n",
              "    </tr>\n",
              "    <tr>\n",
              "      <th>169</th>\n",
              "      <td>2088584.00</td>\n",
              "      <td>3190799.12</td>\n",
              "    </tr>\n",
              "  </tbody>\n",
              "</table>\n",
              "<p>170 rows × 2 columns</p>\n",
              "</div>\n",
              "      <button class=\"colab-df-convert\" onclick=\"convertToInteractive('df-b9074b55-a048-470f-9753-29e2f83b8a5a')\"\n",
              "              title=\"Convert this dataframe to an interactive table.\"\n",
              "              style=\"display:none;\">\n",
              "        \n",
              "  <svg xmlns=\"http://www.w3.org/2000/svg\" height=\"24px\"viewBox=\"0 0 24 24\"\n",
              "       width=\"24px\">\n",
              "    <path d=\"M0 0h24v24H0V0z\" fill=\"none\"/>\n",
              "    <path d=\"M18.56 5.44l.94 2.06.94-2.06 2.06-.94-2.06-.94-.94-2.06-.94 2.06-2.06.94zm-11 1L8.5 8.5l.94-2.06 2.06-.94-2.06-.94L8.5 2.5l-.94 2.06-2.06.94zm10 10l.94 2.06.94-2.06 2.06-.94-2.06-.94-.94-2.06-.94 2.06-2.06.94z\"/><path d=\"M17.41 7.96l-1.37-1.37c-.4-.4-.92-.59-1.43-.59-.52 0-1.04.2-1.43.59L10.3 9.45l-7.72 7.72c-.78.78-.78 2.05 0 2.83L4 21.41c.39.39.9.59 1.41.59.51 0 1.02-.2 1.41-.59l7.78-7.78 2.81-2.81c.8-.78.8-2.07 0-2.86zM5.41 20L4 18.59l7.72-7.72 1.47 1.35L5.41 20z\"/>\n",
              "  </svg>\n",
              "      </button>\n",
              "      \n",
              "  <style>\n",
              "    .colab-df-container {\n",
              "      display:flex;\n",
              "      flex-wrap:wrap;\n",
              "      gap: 12px;\n",
              "    }\n",
              "\n",
              "    .colab-df-convert {\n",
              "      background-color: #E8F0FE;\n",
              "      border: none;\n",
              "      border-radius: 50%;\n",
              "      cursor: pointer;\n",
              "      display: none;\n",
              "      fill: #1967D2;\n",
              "      height: 32px;\n",
              "      padding: 0 0 0 0;\n",
              "      width: 32px;\n",
              "    }\n",
              "\n",
              "    .colab-df-convert:hover {\n",
              "      background-color: #E2EBFA;\n",
              "      box-shadow: 0px 1px 2px rgba(60, 64, 67, 0.3), 0px 1px 3px 1px rgba(60, 64, 67, 0.15);\n",
              "      fill: #174EA6;\n",
              "    }\n",
              "\n",
              "    [theme=dark] .colab-df-convert {\n",
              "      background-color: #3B4455;\n",
              "      fill: #D2E3FC;\n",
              "    }\n",
              "\n",
              "    [theme=dark] .colab-df-convert:hover {\n",
              "      background-color: #434B5C;\n",
              "      box-shadow: 0px 1px 3px 1px rgba(0, 0, 0, 0.15);\n",
              "      filter: drop-shadow(0px 1px 2px rgba(0, 0, 0, 0.3));\n",
              "      fill: #FFFFFF;\n",
              "    }\n",
              "  </style>\n",
              "\n",
              "      <script>\n",
              "        const buttonEl =\n",
              "          document.querySelector('#df-b9074b55-a048-470f-9753-29e2f83b8a5a button.colab-df-convert');\n",
              "        buttonEl.style.display =\n",
              "          google.colab.kernel.accessAllowed ? 'block' : 'none';\n",
              "\n",
              "        async function convertToInteractive(key) {\n",
              "          const element = document.querySelector('#df-b9074b55-a048-470f-9753-29e2f83b8a5a');\n",
              "          const dataTable =\n",
              "            await google.colab.kernel.invokeFunction('convertToInteractive',\n",
              "                                                     [key], {});\n",
              "          if (!dataTable) return;\n",
              "\n",
              "          const docLinkHtml = 'Like what you see? Visit the ' +\n",
              "            '<a target=\"_blank\" href=https://colab.research.google.com/notebooks/data_table.ipynb>data table notebook</a>'\n",
              "            + ' to learn more about interactive tables.';\n",
              "          element.innerHTML = '';\n",
              "          dataTable['output_type'] = 'display_data';\n",
              "          await google.colab.output.renderOutput(dataTable, element);\n",
              "          const docLink = document.createElement('div');\n",
              "          docLink.innerHTML = docLinkHtml;\n",
              "          element.appendChild(docLink);\n",
              "        }\n",
              "      </script>\n",
              "    </div>\n",
              "  </div>\n",
              "  "
            ]
          },
          "metadata": {},
          "execution_count": 195
        }
      ],
      "source": [
        "df_comp = df_pred_ho[['produksi', 'Prediction']]\n",
        "df_comp"
      ]
    },
    {
      "cell_type": "markdown",
      "metadata": {
        "id": "OxY5uEwf2amV"
      },
      "source": [
        "## Pemodelan ARIMA"
      ]
    },
    {
      "cell_type": "code",
      "source": [
        "!pip install pmdarima"
      ],
      "metadata": {
        "colab": {
          "base_uri": "https://localhost:8080/",
          "height": 0
        },
        "id": "H-nuAudTiYRD",
        "outputId": "fb06c88d-e641-4f5e-88f4-0c38ef3b16cd"
      },
      "execution_count": 202,
      "outputs": [
        {
          "output_type": "stream",
          "name": "stdout",
          "text": [
            "Looking in indexes: https://pypi.org/simple, https://us-python.pkg.dev/colab-wheels/public/simple/\n",
            "Requirement already satisfied: pmdarima in /usr/local/lib/python3.10/dist-packages (2.0.3)\n",
            "Requirement already satisfied: joblib>=0.11 in /usr/local/lib/python3.10/dist-packages (from pmdarima) (1.2.0)\n",
            "Requirement already satisfied: Cython!=0.29.18,!=0.29.31,>=0.29 in /usr/local/lib/python3.10/dist-packages (from pmdarima) (0.29.34)\n",
            "Requirement already satisfied: numpy>=1.21.2 in /usr/local/lib/python3.10/dist-packages (from pmdarima) (1.22.4)\n",
            "Requirement already satisfied: pandas>=0.19 in /usr/local/lib/python3.10/dist-packages (from pmdarima) (1.5.3)\n",
            "Requirement already satisfied: scikit-learn>=0.22 in /usr/local/lib/python3.10/dist-packages (from pmdarima) (1.2.2)\n",
            "Requirement already satisfied: scipy>=1.3.2 in /usr/local/lib/python3.10/dist-packages (from pmdarima) (1.10.1)\n",
            "Requirement already satisfied: statsmodels>=0.13.2 in /usr/local/lib/python3.10/dist-packages (from pmdarima) (0.13.5)\n",
            "Requirement already satisfied: urllib3 in /usr/local/lib/python3.10/dist-packages (from pmdarima) (1.26.15)\n",
            "Requirement already satisfied: setuptools!=50.0.0,>=38.6.0 in /usr/local/lib/python3.10/dist-packages (from pmdarima) (67.7.2)\n",
            "Requirement already satisfied: python-dateutil>=2.8.1 in /usr/local/lib/python3.10/dist-packages (from pandas>=0.19->pmdarima) (2.8.2)\n",
            "Requirement already satisfied: pytz>=2020.1 in /usr/local/lib/python3.10/dist-packages (from pandas>=0.19->pmdarima) (2022.7.1)\n",
            "Requirement already satisfied: threadpoolctl>=2.0.0 in /usr/local/lib/python3.10/dist-packages (from scikit-learn>=0.22->pmdarima) (3.1.0)\n",
            "Requirement already satisfied: patsy>=0.5.2 in /usr/local/lib/python3.10/dist-packages (from statsmodels>=0.13.2->pmdarima) (0.5.3)\n",
            "Requirement already satisfied: packaging>=21.3 in /usr/local/lib/python3.10/dist-packages (from statsmodels>=0.13.2->pmdarima) (23.1)\n",
            "Requirement already satisfied: six in /usr/local/lib/python3.10/dist-packages (from patsy>=0.5.2->statsmodels>=0.13.2->pmdarima) (1.16.0)\n"
          ]
        }
      ]
    },
    {
      "cell_type": "code",
      "execution_count": 203,
      "metadata": {
        "id": "l3as93FVMWbs",
        "outputId": "413a5995-8b47-4d2a-8a9f-280a1b1c3af4",
        "colab": {
          "base_uri": "https://localhost:8080/",
          "height": 237
        }
      },
      "outputs": [
        {
          "output_type": "execute_result",
          "data": {
            "text/plain": [
              "        total_prod  total_luas_panen     total_krt  total_supdef\n",
              "tahun                                                           \n",
              "2018   59200533.72     334645.130588  2.504300e+07      7.762802\n",
              "2019   54604033.34     314055.504412  2.054333e+07      6.388920\n",
              "2020   54649202.24     313449.263529  2.088212e+07     14.095629\n",
              "2021   54415294.22     306229.447647  2.205964e+07      2.416405\n",
              "2022   54748975.85     307488.769412  2.411610e+07     -1.474052"
            ],
            "text/html": [
              "\n",
              "  <div id=\"df-e38ec880-7754-49d1-bee3-2418c2426de1\">\n",
              "    <div class=\"colab-df-container\">\n",
              "      <div>\n",
              "<style scoped>\n",
              "    .dataframe tbody tr th:only-of-type {\n",
              "        vertical-align: middle;\n",
              "    }\n",
              "\n",
              "    .dataframe tbody tr th {\n",
              "        vertical-align: top;\n",
              "    }\n",
              "\n",
              "    .dataframe thead th {\n",
              "        text-align: right;\n",
              "    }\n",
              "</style>\n",
              "<table border=\"1\" class=\"dataframe\">\n",
              "  <thead>\n",
              "    <tr style=\"text-align: right;\">\n",
              "      <th></th>\n",
              "      <th>total_prod</th>\n",
              "      <th>total_luas_panen</th>\n",
              "      <th>total_krt</th>\n",
              "      <th>total_supdef</th>\n",
              "    </tr>\n",
              "    <tr>\n",
              "      <th>tahun</th>\n",
              "      <th></th>\n",
              "      <th></th>\n",
              "      <th></th>\n",
              "      <th></th>\n",
              "    </tr>\n",
              "  </thead>\n",
              "  <tbody>\n",
              "    <tr>\n",
              "      <th>2018</th>\n",
              "      <td>59200533.72</td>\n",
              "      <td>334645.130588</td>\n",
              "      <td>2.504300e+07</td>\n",
              "      <td>7.762802</td>\n",
              "    </tr>\n",
              "    <tr>\n",
              "      <th>2019</th>\n",
              "      <td>54604033.34</td>\n",
              "      <td>314055.504412</td>\n",
              "      <td>2.054333e+07</td>\n",
              "      <td>6.388920</td>\n",
              "    </tr>\n",
              "    <tr>\n",
              "      <th>2020</th>\n",
              "      <td>54649202.24</td>\n",
              "      <td>313449.263529</td>\n",
              "      <td>2.088212e+07</td>\n",
              "      <td>14.095629</td>\n",
              "    </tr>\n",
              "    <tr>\n",
              "      <th>2021</th>\n",
              "      <td>54415294.22</td>\n",
              "      <td>306229.447647</td>\n",
              "      <td>2.205964e+07</td>\n",
              "      <td>2.416405</td>\n",
              "    </tr>\n",
              "    <tr>\n",
              "      <th>2022</th>\n",
              "      <td>54748975.85</td>\n",
              "      <td>307488.769412</td>\n",
              "      <td>2.411610e+07</td>\n",
              "      <td>-1.474052</td>\n",
              "    </tr>\n",
              "  </tbody>\n",
              "</table>\n",
              "</div>\n",
              "      <button class=\"colab-df-convert\" onclick=\"convertToInteractive('df-e38ec880-7754-49d1-bee3-2418c2426de1')\"\n",
              "              title=\"Convert this dataframe to an interactive table.\"\n",
              "              style=\"display:none;\">\n",
              "        \n",
              "  <svg xmlns=\"http://www.w3.org/2000/svg\" height=\"24px\"viewBox=\"0 0 24 24\"\n",
              "       width=\"24px\">\n",
              "    <path d=\"M0 0h24v24H0V0z\" fill=\"none\"/>\n",
              "    <path d=\"M18.56 5.44l.94 2.06.94-2.06 2.06-.94-2.06-.94-.94-2.06-.94 2.06-2.06.94zm-11 1L8.5 8.5l.94-2.06 2.06-.94-2.06-.94L8.5 2.5l-.94 2.06-2.06.94zm10 10l.94 2.06.94-2.06 2.06-.94-2.06-.94-.94-2.06-.94 2.06-2.06.94z\"/><path d=\"M17.41 7.96l-1.37-1.37c-.4-.4-.92-.59-1.43-.59-.52 0-1.04.2-1.43.59L10.3 9.45l-7.72 7.72c-.78.78-.78 2.05 0 2.83L4 21.41c.39.39.9.59 1.41.59.51 0 1.02-.2 1.41-.59l7.78-7.78 2.81-2.81c.8-.78.8-2.07 0-2.86zM5.41 20L4 18.59l7.72-7.72 1.47 1.35L5.41 20z\"/>\n",
              "  </svg>\n",
              "      </button>\n",
              "      \n",
              "  <style>\n",
              "    .colab-df-container {\n",
              "      display:flex;\n",
              "      flex-wrap:wrap;\n",
              "      gap: 12px;\n",
              "    }\n",
              "\n",
              "    .colab-df-convert {\n",
              "      background-color: #E8F0FE;\n",
              "      border: none;\n",
              "      border-radius: 50%;\n",
              "      cursor: pointer;\n",
              "      display: none;\n",
              "      fill: #1967D2;\n",
              "      height: 32px;\n",
              "      padding: 0 0 0 0;\n",
              "      width: 32px;\n",
              "    }\n",
              "\n",
              "    .colab-df-convert:hover {\n",
              "      background-color: #E2EBFA;\n",
              "      box-shadow: 0px 1px 2px rgba(60, 64, 67, 0.3), 0px 1px 3px 1px rgba(60, 64, 67, 0.15);\n",
              "      fill: #174EA6;\n",
              "    }\n",
              "\n",
              "    [theme=dark] .colab-df-convert {\n",
              "      background-color: #3B4455;\n",
              "      fill: #D2E3FC;\n",
              "    }\n",
              "\n",
              "    [theme=dark] .colab-df-convert:hover {\n",
              "      background-color: #434B5C;\n",
              "      box-shadow: 0px 1px 3px 1px rgba(0, 0, 0, 0.15);\n",
              "      filter: drop-shadow(0px 1px 2px rgba(0, 0, 0, 0.3));\n",
              "      fill: #FFFFFF;\n",
              "    }\n",
              "  </style>\n",
              "\n",
              "      <script>\n",
              "        const buttonEl =\n",
              "          document.querySelector('#df-e38ec880-7754-49d1-bee3-2418c2426de1 button.colab-df-convert');\n",
              "        buttonEl.style.display =\n",
              "          google.colab.kernel.accessAllowed ? 'block' : 'none';\n",
              "\n",
              "        async function convertToInteractive(key) {\n",
              "          const element = document.querySelector('#df-e38ec880-7754-49d1-bee3-2418c2426de1');\n",
              "          const dataTable =\n",
              "            await google.colab.kernel.invokeFunction('convertToInteractive',\n",
              "                                                     [key], {});\n",
              "          if (!dataTable) return;\n",
              "\n",
              "          const docLinkHtml = 'Like what you see? Visit the ' +\n",
              "            '<a target=\"_blank\" href=https://colab.research.google.com/notebooks/data_table.ipynb>data table notebook</a>'\n",
              "            + ' to learn more about interactive tables.';\n",
              "          element.innerHTML = '';\n",
              "          dataTable['output_type'] = 'display_data';\n",
              "          await google.colab.output.renderOutput(dataTable, element);\n",
              "          const docLink = document.createElement('div');\n",
              "          docLink.innerHTML = docLinkHtml;\n",
              "          element.appendChild(docLink);\n",
              "        }\n",
              "      </script>\n",
              "    </div>\n",
              "  </div>\n",
              "  "
            ]
          },
          "metadata": {},
          "execution_count": 203
        }
      ],
      "source": [
        "df_1 = df.groupby('tahun')\\\n",
        "                .agg(total_prod = ('produksi', 'sum'),\n",
        "                total_luas_panen = ('luas_panen', 'mean'),\n",
        "                total_krt = ('konsumsi_rumah_tangga', 'sum'),\n",
        "                total_supdef = ('presentase_surplus_defisit', 'mean'),\n",
        "                     \n",
        "                     )\n",
        "                \n",
        "df_1"
      ]
    },
    {
      "cell_type": "code",
      "source": [
        "df_1['total_prod'].plot(figsize=(10,5))"
      ],
      "metadata": {
        "colab": {
          "base_uri": "https://localhost:8080/",
          "height": 497
        },
        "id": "lEmmJOBCfbS5",
        "outputId": "f51a4a54-b9a4-4ab2-e41a-e77557ce2c4a"
      },
      "execution_count": 204,
      "outputs": [
        {
          "output_type": "execute_result",
          "data": {
            "text/plain": [
              "<Axes: xlabel='tahun'>"
            ]
          },
          "metadata": {},
          "execution_count": 204
        },
        {
          "output_type": "display_data",
          "data": {
            "text/plain": [
              "<Figure size 1000x500 with 1 Axes>"
            ],
            "image/png": "[encoded data removed]"
          },
          "metadata": {}
        }
      ]
    },
    {
      "cell_type": "markdown",
      "source": [
        "Check For Stationarity"
      ],
      "metadata": {
        "id": "HvXOXUd0hIXA"
      }
    },
    {
      "cell_type": "code",
      "source": [
        "from statsmodels.tsa.stattools import adfuller\n",
        "\n",
        "def ad_test(dataset):\n",
        "  dftest = adfuller(dataset, autolag = 'AIC')\n",
        "  print(\"1. ADF \", dftest[0])\n",
        "  print(\"2. P-Value \", dftest[1])\n",
        "  print(\"3. Num Of Lags \", dftest[2])\n",
        "  print(\"4. Num Of Observations Uses For ADF Regression and Critical Values Calulations \", dftest[3])\n",
        "  print(\"5. Critical Values \")\n",
        "  for key, val in dftest[4].items():\n",
        "    print(\"\\t\", key, \": \", val)"
      ],
      "metadata": {
        "id": "WV1Yavq0gs7B"
      },
      "execution_count": 205,
      "outputs": []
    },
    {
      "cell_type": "code",
      "source": [
        "ad_test(df_1['total_prod'])"
      ],
      "metadata": {
        "colab": {
          "base_uri": "https://localhost:8080/",
          "height": 0
        },
        "id": "CzMSDp1Vh81w",
        "outputId": "40342cc7-e35f-4d3d-80fc-15af4e47983a"
      },
      "execution_count": 206,
      "outputs": [
        {
          "output_type": "stream",
          "name": "stdout",
          "text": [
            "1. ADF  -23.577355529722652\n",
            "2. P-Value  0.0\n",
            "3. Num Of Lags  0\n",
            "4. Num Of Observations Uses For ADF Regression and Critical Values Calulations  4\n",
            "5. Critical Values \n",
            "\t 1% :  -7.355440625\n",
            "\t 5% :  -4.474365000000001\n",
            "\t 10% :  -3.1269325\n"
          ]
        }
      ]
    },
    {
      "cell_type": "markdown",
      "source": [
        "Figure Out Order for ARIMA Model"
      ],
      "metadata": {
        "id": "rNV7XOJMiINV"
      }
    },
    {
      "cell_type": "code",
      "source": [
        "from pmdarima import auto_arima\n",
        "\n",
        "# Ignore harmless warnings\n",
        "import warnings\n",
        "warnings.filterwarnings(\"ignore\")"
      ],
      "metadata": {
        "id": "v8D0Cr-WiDtV"
      },
      "execution_count": 208,
      "outputs": []
    },
    {
      "cell_type": "code",
      "source": [
        "stepwise_fit = auto_arima(df_1['total_prod'], trace=True,\n",
        "                          suppress_warnings=True)\n",
        "\n",
        "stepwise_fit.summary()"
      ],
      "metadata": {
        "colab": {
          "base_uri": "https://localhost:8080/",
          "height": 558
        },
        "id": "LQ2hu3R2igqH",
        "outputId": "d3cfe086-567c-4599-f9e4-82d920cbc858"
      },
      "execution_count": 210,
      "outputs": [
        {
          "output_type": "stream",
          "name": "stdout",
          "text": [
            "Performing stepwise search to minimize aic\n",
            " ARIMA(1,0,1)(0,0,0)[0] intercept   : AIC=inf, Time=0.61 sec\n",
            " ARIMA(0,0,0)(0,0,0)[0] intercept   : AIC=162.451, Time=0.03 sec\n",
            " ARIMA(1,0,0)(0,0,0)[0] intercept   : AIC=1291.595, Time=0.07 sec\n",
            " ARIMA(0,0,1)(0,0,0)[0] intercept   : AIC=inf, Time=0.31 sec\n",
            " ARIMA(0,0,0)(0,0,0)[0]             : AIC=194.518, Time=0.02 sec\n",
            "\n",
            "Best model:  ARIMA(0,0,0)(0,0,0)[0] intercept\n",
            "Total fit time: 1.098 seconds\n"
          ]
        },
        {
          "output_type": "execute_result",
          "data": {
            "text/plain": [
              "<class 'statsmodels.iolib.summary.Summary'>\n",
              "\"\"\"\n",
              "                               SARIMAX Results                                \n",
              "==============================================================================\n",
              "Dep. Variable:                      y   No. Observations:                    5\n",
              "Model:                        SARIMAX   Log Likelihood                 -79.226\n",
              "Date:                Mon, 12 Jun 2023   AIC                            162.451\n",
              "Time:                        07:39:51   BIC                            161.670\n",
              "Sample:                             0   HQIC                           160.355\n",
              "                                  - 5                                         \n",
              "Covariance Type:                  opg                                         \n",
              "==============================================================================\n",
              "                 coef    std err          z      P>|z|      [0.025      0.975]\n",
              "------------------------------------------------------------------------------\n",
              "intercept   5.552e+07   8.29e+06      6.697      0.000    3.93e+07    7.18e+07\n",
              "sigma2      3.392e+12   2.04e+13      0.166      0.868   -3.67e+13    4.34e+13\n",
              "===================================================================================\n",
              "Ljung-Box (L1) (Q):                   0.02   Jarque-Bera (JB):                 1.85\n",
              "Prob(Q):                              0.90   Prob(JB):                         0.40\n",
              "Heteroskedasticity (H):               0.13   Skew:                             1.49\n",
              "Prob(H) (two-sided):                  0.23   Kurtosis:                         3.23\n",
              "===================================================================================\n",
              "\n",
              "Warnings:\n",
              "[1] Covariance matrix calculated using the outer product of gradients (complex-step).\n",
              "\"\"\""
            ],
            "text/html": [
              "<table class=\"simpletable\">\n",
              "<caption>SARIMAX Results</caption>\n",
              "<tr>\n",
              "  <th>Dep. Variable:</th>           <td>y</td>        <th>  No. Observations:  </th>    <td>5</td>   \n",
              "</tr>\n",
              "<tr>\n",
              "  <th>Model:</th>                <td>SARIMAX</td>     <th>  Log Likelihood     </th> <td>-79.226</td>\n",
              "</tr>\n",
              "<tr>\n",
              "  <th>Date:</th>            <td>Mon, 12 Jun 2023</td> <th>  AIC                </th> <td>162.451</td>\n",
              "</tr>\n",
              "<tr>\n",
              "  <th>Time:</th>                <td>07:39:51</td>     <th>  BIC                </th> <td>161.670</td>\n",
              "</tr>\n",
              "<tr>\n",
              "  <th>Sample:</th>                  <td>0</td>        <th>  HQIC               </th> <td>160.355</td>\n",
              "</tr>\n",
              "<tr>\n",
              "  <th></th>                       <td> - 5</td>       <th>                     </th>    <td> </td>   \n",
              "</tr>\n",
              "<tr>\n",
              "  <th>Covariance Type:</th>        <td>opg</td>       <th>                     </th>    <td> </td>   \n",
              "</tr>\n",
              "</table>\n",
              "<table class=\"simpletable\">\n",
              "<tr>\n",
              "      <td></td>         <th>coef</th>     <th>std err</th>      <th>z</th>      <th>P>|z|</th>  <th>[0.025</th>    <th>0.975]</th>  \n",
              "</tr>\n",
              "<tr>\n",
              "  <th>intercept</th> <td> 5.552e+07</td> <td> 8.29e+06</td> <td>    6.697</td> <td> 0.000</td> <td> 3.93e+07</td> <td> 7.18e+07</td>\n",
              "</tr>\n",
              "<tr>\n",
              "  <th>sigma2</th>    <td> 3.392e+12</td> <td> 2.04e+13</td> <td>    0.166</td> <td> 0.868</td> <td>-3.67e+13</td> <td> 4.34e+13</td>\n",
              "</tr>\n",
              "</table>\n",
              "<table class=\"simpletable\">\n",
              "<tr>\n",
              "  <th>Ljung-Box (L1) (Q):</th>     <td>0.02</td> <th>  Jarque-Bera (JB):  </th> <td>1.85</td>\n",
              "</tr>\n",
              "<tr>\n",
              "  <th>Prob(Q):</th>                <td>0.90</td> <th>  Prob(JB):          </th> <td>0.40</td>\n",
              "</tr>\n",
              "<tr>\n",
              "  <th>Heteroskedasticity (H):</th> <td>0.13</td> <th>  Skew:              </th> <td>1.49</td>\n",
              "</tr>\n",
              "<tr>\n",
              "  <th>Prob(H) (two-sided):</th>    <td>0.23</td> <th>  Kurtosis:          </th> <td>3.23</td>\n",
              "</tr>\n",
              "</table><br/><br/>Warnings:<br/>[1] Covariance matrix calculated using the outer product of gradients (complex-step)."
            ]
          },
          "metadata": {},
          "execution_count": 210
        }
      ]
    },
    {
      "cell_type": "code",
      "source": [
        "from statsmodels.tsa.arima.model import ARIMA"
      ],
      "metadata": {
        "id": "eRSniE-Di7rL"
      },
      "execution_count": 211,
      "outputs": []
    },
    {
      "cell_type": "markdown",
      "source": [
        "Split Data into Training and Testing"
      ],
      "metadata": {
        "id": "tVHGWxprjI8O"
      }
    },
    {
      "cell_type": "code",
      "source": [
        "print(df_1.shape)\n",
        "train=df_1.iloc[:-3]\n",
        "test=df_1.iloc[-3:]\n",
        "print(train.shape, test.shape)"
      ],
      "metadata": {
        "colab": {
          "base_uri": "https://localhost:8080/",
          "height": 0
        },
        "id": "jwvDJ582jIKt",
        "outputId": "8dc3eaae-a790-4e75-da14-3e3b53f2c857"
      },
      "execution_count": 221,
      "outputs": [
        {
          "output_type": "stream",
          "name": "stdout",
          "text": [
            "(5, 4)\n",
            "(2, 4) (3, 4)\n"
          ]
        }
      ]
    },
    {
      "cell_type": "markdown",
      "source": [
        "Train Model"
      ],
      "metadata": {
        "id": "4E2cLmMfjgJK"
      }
    },
    {
      "cell_type": "code",
      "source": [
        " model = ARIMA(train['total_prod'], order=(1,0,0))\n",
        " model = model.fit()\n",
        " model.summary()"
      ],
      "metadata": {
        "colab": {
          "base_uri": "https://localhost:8080/",
          "height": 440
        },
        "id": "OFYcfltsjach",
        "outputId": "deae3cd5-2baf-41ec-e5c4-eff920e4d170"
      },
      "execution_count": 222,
      "outputs": [
        {
          "output_type": "execute_result",
          "data": {
            "text/plain": [
              "<class 'statsmodels.iolib.summary.Summary'>\n",
              "\"\"\"\n",
              "                               SARIMAX Results                                \n",
              "==============================================================================\n",
              "Dep. Variable:             total_prod   No. Observations:                    2\n",
              "Model:                 ARIMA(1, 0, 0)   Log Likelihood                 -31.756\n",
              "Date:                Mon, 12 Jun 2023   AIC                             69.512\n",
              "Time:                        07:43:57   BIC                             65.591\n",
              "Sample:                             0   HQIC                            61.312\n",
              "                                  - 2                                         \n",
              "Covariance Type:                  opg                                         \n",
              "==============================================================================\n",
              "                 coef    std err          z      P>|z|      [0.025      0.975]\n",
              "------------------------------------------------------------------------------\n",
              "const        5.69e+07    1.3e-06   4.37e+13      0.000    5.69e+07    5.69e+07\n",
              "ar.L1         -0.6180      1.851     -0.334      0.738      -4.246       3.010\n",
              "sigma2      5.282e+12   1.08e-13   4.88e+25      0.000    5.28e+12    5.28e+12\n",
              "===================================================================================\n",
              "Ljung-Box (L1) (Q):                   2.00   Jarque-Bera (JB):                 0.33\n",
              "Prob(Q):                              0.16   Prob(JB):                         0.85\n",
              "Heteroskedasticity (H):                nan   Skew:                             0.00\n",
              "Prob(H) (two-sided):                   nan   Kurtosis:                         1.00\n",
              "===================================================================================\n",
              "\n",
              "Warnings:\n",
              "[1] Covariance matrix calculated using the outer product of gradients (complex-step).\n",
              "[2] Covariance matrix is singular or near-singular, with condition number 2.39e+42. Standard errors may be unstable.\n",
              "\"\"\""
            ],
            "text/html": [
              "<table class=\"simpletable\">\n",
              "<caption>SARIMAX Results</caption>\n",
              "<tr>\n",
              "  <th>Dep. Variable:</th>      <td>total_prod</td>    <th>  No. Observations:  </th>    <td>2</td>   \n",
              "</tr>\n",
              "<tr>\n",
              "  <th>Model:</th>            <td>ARIMA(1, 0, 0)</td>  <th>  Log Likelihood     </th> <td>-31.756</td>\n",
              "</tr>\n",
              "<tr>\n",
              "  <th>Date:</th>            <td>Mon, 12 Jun 2023</td> <th>  AIC                </th> <td>69.512</td> \n",
              "</tr>\n",
              "<tr>\n",
              "  <th>Time:</th>                <td>07:43:57</td>     <th>  BIC                </th> <td>65.591</td> \n",
              "</tr>\n",
              "<tr>\n",
              "  <th>Sample:</th>                  <td>0</td>        <th>  HQIC               </th> <td>61.312</td> \n",
              "</tr>\n",
              "<tr>\n",
              "  <th></th>                       <td> - 2</td>       <th>                     </th>    <td> </td>   \n",
              "</tr>\n",
              "<tr>\n",
              "  <th>Covariance Type:</th>        <td>opg</td>       <th>                     </th>    <td> </td>   \n",
              "</tr>\n",
              "</table>\n",
              "<table class=\"simpletable\">\n",
              "<tr>\n",
              "     <td></td>       <th>coef</th>     <th>std err</th>      <th>z</th>      <th>P>|z|</th>  <th>[0.025</th>    <th>0.975]</th>  \n",
              "</tr>\n",
              "<tr>\n",
              "  <th>const</th>  <td>  5.69e+07</td> <td>  1.3e-06</td> <td> 4.37e+13</td> <td> 0.000</td> <td> 5.69e+07</td> <td> 5.69e+07</td>\n",
              "</tr>\n",
              "<tr>\n",
              "  <th>ar.L1</th>  <td>   -0.6180</td> <td>    1.851</td> <td>   -0.334</td> <td> 0.738</td> <td>   -4.246</td> <td>    3.010</td>\n",
              "</tr>\n",
              "<tr>\n",
              "  <th>sigma2</th> <td> 5.282e+12</td> <td> 1.08e-13</td> <td> 4.88e+25</td> <td> 0.000</td> <td> 5.28e+12</td> <td> 5.28e+12</td>\n",
              "</tr>\n",
              "</table>\n",
              "<table class=\"simpletable\">\n",
              "<tr>\n",
              "  <th>Ljung-Box (L1) (Q):</th>     <td>2.00</td> <th>  Jarque-Bera (JB):  </th> <td>0.33</td>\n",
              "</tr>\n",
              "<tr>\n",
              "  <th>Prob(Q):</th>                <td>0.16</td> <th>  Prob(JB):          </th> <td>0.85</td>\n",
              "</tr>\n",
              "<tr>\n",
              "  <th>Heteroskedasticity (H):</th>  <td>nan</td> <th>  Skew:              </th> <td>0.00</td>\n",
              "</tr>\n",
              "<tr>\n",
              "  <th>Prob(H) (two-sided):</th>     <td>nan</td> <th>  Kurtosis:          </th> <td>1.00</td>\n",
              "</tr>\n",
              "</table><br/><br/>Warnings:<br/>[1] Covariance matrix calculated using the outer product of gradients (complex-step).<br/>[2] Covariance matrix is singular or near-singular, with condition number 2.39e+42. Standard errors may be unstable."
            ]
          },
          "metadata": {},
          "execution_count": 222
        }
      ]
    },
    {
      "cell_type": "markdown",
      "source": [
        "Membuat Predictiins pada Test Set"
      ],
      "metadata": {
        "id": "-2pXsqiJj-1I"
      }
    },
    {
      "cell_type": "code",
      "source": [
        "start = len(train)\n",
        "end = len(train)+len(test)-1\n",
        "pred = model.predict(start=start, end=end, typ='levels')\n",
        "print(pred)\n",
        "#pred.index=df.index[start:end+1]\n",
        "#print(pred)"
      ],
      "metadata": {
        "colab": {
          "base_uri": "https://localhost:8080/",
          "height": 0
        },
        "id": "e3ul1l5qjsk1",
        "outputId": "6aad0abf-4c2d-4ab8-f02c-96320007e8e9"
      },
      "execution_count": 223,
      "outputs": [
        {
          "output_type": "stream",
          "name": "stdout",
          "text": [
            "2    5.832267e+07\n",
            "3    5.602444e+07\n",
            "4    5.744482e+07\n",
            "Name: predicted_mean, dtype: float64\n"
          ]
        }
      ]
    },
    {
      "cell_type": "code",
      "source": [
        "pred.plot(legend=True)\n",
        "test['total_prod'].plot(legend=True)"
      ],
      "metadata": {
        "colab": {
          "base_uri": "https://localhost:8080/",
          "height": 482
        },
        "id": "g2NAWacOkb3V",
        "outputId": "a0bbe0ad-0a3f-4fbe-8743-3e9c8276aec2"
      },
      "execution_count": 224,
      "outputs": [
        {
          "output_type": "execute_result",
          "data": {
            "text/plain": [
              "<Axes: xlabel='tahun'>"
            ]
          },
          "metadata": {},
          "execution_count": 224
        },
        {
          "output_type": "display_data",
          "data": {
            "text/plain": [
              "<Figure size 640x480 with 1 Axes>"
            ],
            "image/png": "[encoded data removed]"
          },
          "metadata": {}
        }
      ]
    },
    {
      "cell_type": "code",
      "source": [
        "test['total_prod'].mean()"
      ],
      "metadata": {
        "colab": {
          "base_uri": "https://localhost:8080/",
          "height": 0
        },
        "id": "oItCNab4krhz",
        "outputId": "d03d17b3-382d-4f4a-94cb-bbe7548feb2d"
      },
      "execution_count": 225,
      "outputs": [
        {
          "output_type": "execute_result",
          "data": {
            "text/plain": [
              "54604490.77"
            ]
          },
          "metadata": {},
          "execution_count": 225
        }
      ]
    },
    {
      "cell_type": "code",
      "source": [
        "from sklearn.metrics import mean_squared_error\n",
        "from math import sqrt\n",
        "rmse = sqrt(mean_squared_error(pred,test['total_prod']))\n",
        "print(rmse)"
      ],
      "metadata": {
        "colab": {
          "base_uri": "https://localhost:8080/",
          "height": 0
        },
        "id": "qJbSOFdXlPLZ",
        "outputId": "73d94407-f04c-4771-d79a-a45274223b08"
      },
      "execution_count": 226,
      "outputs": [
        {
          "output_type": "stream",
          "name": "stdout",
          "text": [
            "2789941.2795368754\n"
          ]
        }
      ]
    },
    {
      "cell_type": "code",
      "source": [
        "model2 = ARIMA(df_1['total_prod'], order=(1,0,0))\n",
        "model2 = model2.fit()\n",
        "df_1.tail()"
      ],
      "metadata": {
        "colab": {
          "base_uri": "https://localhost:8080/",
          "height": 237
        },
        "id": "7IjtS_BPlstE",
        "outputId": "9d471136-eccb-4e5f-f7b2-d482645e3c04"
      },
      "execution_count": 227,
      "outputs": [
        {
          "output_type": "execute_result",
          "data": {
            "text/plain": [
              "        total_prod  total_luas_panen     total_krt  total_supdef\n",
              "tahun                                                           \n",
              "2018   59200533.72     334645.130588  2.504300e+07      7.762802\n",
              "2019   54604033.34     314055.504412  2.054333e+07      6.388920\n",
              "2020   54649202.24     313449.263529  2.088212e+07     14.095629\n",
              "2021   54415294.22     306229.447647  2.205964e+07      2.416405\n",
              "2022   54748975.85     307488.769412  2.411610e+07     -1.474052"
            ],
            "text/html": [
              "\n",
              "  <div id=\"df-4bc68967-1c90-45c0-894a-04cd44a64d35\">\n",
              "    <div class=\"colab-df-container\">\n",
              "      <div>\n",
              "<style scoped>\n",
              "    .dataframe tbody tr th:only-of-type {\n",
              "        vertical-align: middle;\n",
              "    }\n",
              "\n",
              "    .dataframe tbody tr th {\n",
              "        vertical-align: top;\n",
              "    }\n",
              "\n",
              "    .dataframe thead th {\n",
              "        text-align: right;\n",
              "    }\n",
              "</style>\n",
              "<table border=\"1\" class=\"dataframe\">\n",
              "  <thead>\n",
              "    <tr style=\"text-align: right;\">\n",
              "      <th></th>\n",
              "      <th>total_prod</th>\n",
              "      <th>total_luas_panen</th>\n",
              "      <th>total_krt</th>\n",
              "      <th>total_supdef</th>\n",
              "    </tr>\n",
              "    <tr>\n",
              "      <th>tahun</th>\n",
              "      <th></th>\n",
              "      <th></th>\n",
              "      <th></th>\n",
              "      <th></th>\n",
              "    </tr>\n",
              "  </thead>\n",
              "  <tbody>\n",
              "    <tr>\n",
              "      <th>2018</th>\n",
              "      <td>59200533.72</td>\n",
              "      <td>334645.130588</td>\n",
              "      <td>2.504300e+07</td>\n",
              "      <td>7.762802</td>\n",
              "    </tr>\n",
              "    <tr>\n",
              "      <th>2019</th>\n",
              "      <td>54604033.34</td>\n",
              "      <td>314055.504412</td>\n",
              "      <td>2.054333e+07</td>\n",
              "      <td>6.388920</td>\n",
              "    </tr>\n",
              "    <tr>\n",
              "      <th>2020</th>\n",
              "      <td>54649202.24</td>\n",
              "      <td>313449.263529</td>\n",
              "      <td>2.088212e+07</td>\n",
              "      <td>14.095629</td>\n",
              "    </tr>\n",
              "    <tr>\n",
              "      <th>2021</th>\n",
              "      <td>54415294.22</td>\n",
              "      <td>306229.447647</td>\n",
              "      <td>2.205964e+07</td>\n",
              "      <td>2.416405</td>\n",
              "    </tr>\n",
              "    <tr>\n",
              "      <th>2022</th>\n",
              "      <td>54748975.85</td>\n",
              "      <td>307488.769412</td>\n",
              "      <td>2.411610e+07</td>\n",
              "      <td>-1.474052</td>\n",
              "    </tr>\n",
              "  </tbody>\n",
              "</table>\n",
              "</div>\n",
              "      <button class=\"colab-df-convert\" onclick=\"convertToInteractive('df-4bc68967-1c90-45c0-894a-04cd44a64d35')\"\n",
              "              title=\"Convert this dataframe to an interactive table.\"\n",
              "              style=\"display:none;\">\n",
              "        \n",
              "  <svg xmlns=\"http://www.w3.org/2000/svg\" height=\"24px\"viewBox=\"0 0 24 24\"\n",
              "       width=\"24px\">\n",
              "    <path d=\"M0 0h24v24H0V0z\" fill=\"none\"/>\n",
              "    <path d=\"M18.56 5.44l.94 2.06.94-2.06 2.06-.94-2.06-.94-.94-2.06-.94 2.06-2.06.94zm-11 1L8.5 8.5l.94-2.06 2.06-.94-2.06-.94L8.5 2.5l-.94 2.06-2.06.94zm10 10l.94 2.06.94-2.06 2.06-.94-2.06-.94-.94-2.06-.94 2.06-2.06.94z\"/><path d=\"M17.41 7.96l-1.37-1.37c-.4-.4-.92-.59-1.43-.59-.52 0-1.04.2-1.43.59L10.3 9.45l-7.72 7.72c-.78.78-.78 2.05 0 2.83L4 21.41c.39.39.9.59 1.41.59.51 0 1.02-.2 1.41-.59l7.78-7.78 2.81-2.81c.8-.78.8-2.07 0-2.86zM5.41 20L4 18.59l7.72-7.72 1.47 1.35L5.41 20z\"/>\n",
              "  </svg>\n",
              "      </button>\n",
              "      \n",
              "  <style>\n",
              "    .colab-df-container {\n",
              "      display:flex;\n",
              "      flex-wrap:wrap;\n",
              "      gap: 12px;\n",
              "    }\n",
              "\n",
              "    .colab-df-convert {\n",
              "      background-color: #E8F0FE;\n",
              "      border: none;\n",
              "      border-radius: 50%;\n",
              "      cursor: pointer;\n",
              "      display: none;\n",
              "      fill: #1967D2;\n",
              "      height: 32px;\n",
              "      padding: 0 0 0 0;\n",
              "      width: 32px;\n",
              "    }\n",
              "\n",
              "    .colab-df-convert:hover {\n",
              "      background-color: #E2EBFA;\n",
              "      box-shadow: 0px 1px 2px rgba(60, 64, 67, 0.3), 0px 1px 3px 1px rgba(60, 64, 67, 0.15);\n",
              "      fill: #174EA6;\n",
              "    }\n",
              "\n",
              "    [theme=dark] .colab-df-convert {\n",
              "      background-color: #3B4455;\n",
              "      fill: #D2E3FC;\n",
              "    }\n",
              "\n",
              "    [theme=dark] .colab-df-convert:hover {\n",
              "      background-color: #434B5C;\n",
              "      box-shadow: 0px 1px 3px 1px rgba(0, 0, 0, 0.15);\n",
              "      filter: drop-shadow(0px 1px 2px rgba(0, 0, 0, 0.3));\n",
              "      fill: #FFFFFF;\n",
              "    }\n",
              "  </style>\n",
              "\n",
              "      <script>\n",
              "        const buttonEl =\n",
              "          document.querySelector('#df-4bc68967-1c90-45c0-894a-04cd44a64d35 button.colab-df-convert');\n",
              "        buttonEl.style.display =\n",
              "          google.colab.kernel.accessAllowed ? 'block' : 'none';\n",
              "\n",
              "        async function convertToInteractive(key) {\n",
              "          const element = document.querySelector('#df-4bc68967-1c90-45c0-894a-04cd44a64d35');\n",
              "          const dataTable =\n",
              "            await google.colab.kernel.invokeFunction('convertToInteractive',\n",
              "                                                     [key], {});\n",
              "          if (!dataTable) return;\n",
              "\n",
              "          const docLinkHtml = 'Like what you see? Visit the ' +\n",
              "            '<a target=\"_blank\" href=https://colab.research.google.com/notebooks/data_table.ipynb>data table notebook</a>'\n",
              "            + ' to learn more about interactive tables.';\n",
              "          element.innerHTML = '';\n",
              "          dataTable['output_type'] = 'display_data';\n",
              "          await google.colab.output.renderOutput(dataTable, element);\n",
              "          const docLink = document.createElement('div');\n",
              "          docLink.innerHTML = docLinkHtml;\n",
              "          element.appendChild(docLink);\n",
              "        }\n",
              "      </script>\n",
              "    </div>\n",
              "  </div>\n",
              "  "
            ]
          },
          "metadata": {},
          "execution_count": 227
        }
      ]
    },
    {
      "cell_type": "markdown",
      "source": [
        "For Future Dates"
      ],
      "metadata": {
        "id": "TE_-fXBTl-Sa"
      }
    },
    {
      "cell_type": "code",
      "source": [
        "start_year = 2023\n",
        "end_year = 2028\n",
        "\n",
        "index_future_years = pd.date_range(start=str(start_year), end=str(end_year), freq='Y')\n",
        "\n",
        "pred = model2.predict(start=len(df_1), end=len(df_1)+len(index_future_years)-1, typ='levels').rename('ARIMA Predictions')\n",
        "pred.index = index_future_years\n",
        "\n",
        "print(pred)"
      ],
      "metadata": {
        "colab": {
          "base_uri": "https://localhost:8080/",
          "height": 0
        },
        "id": "v7RSclSGl8Kb",
        "outputId": "f156112b-a4ad-4a28-e844-b7ee4d513f97"
      },
      "execution_count": 228,
      "outputs": [
        {
          "output_type": "stream",
          "name": "stdout",
          "text": [
            "2023-12-31    5.567944e+07\n",
            "2024-12-31    5.549226e+07\n",
            "2025-12-31    5.552991e+07\n",
            "2026-12-31    5.552234e+07\n",
            "2027-12-31    5.552386e+07\n",
            "Freq: A-DEC, Name: ARIMA Predictions, dtype: float64\n"
          ]
        }
      ]
    },
    {
      "cell_type": "code",
      "source": [
        "pred.plot(figsize=(10,5),legend=True)"
      ],
      "metadata": {
        "colab": {
          "base_uri": "https://localhost:8080/",
          "height": 477
        },
        "id": "DCZuBe9HmLU9",
        "outputId": "7befc82a-ea0c-4260-e74a-fbab7e2d1143"
      },
      "execution_count": 230,
      "outputs": [
        {
          "output_type": "execute_result",
          "data": {
            "text/plain": [
              "<Axes: >"
            ]
          },
          "metadata": {},
          "execution_count": 230
        },
        {
          "output_type": "display_data",
          "data": {
            "text/plain": [
              "<Figure size 1000x500 with 1 Axes>"
            ],
            "image/png": "[encoded data removed]"
          },
          "metadata": {}
        }
      ]
    },
    {
      "cell_type": "code",
      "source": [],
      "metadata": {
        "id": "bUVk2fNWmHwp"
      },
      "execution_count": null,
      "outputs": []
    }
  ],
  "metadata": {
    "colab": {
      "provenance": []
    },
    "kernelspec": {
      "display_name": "Python 3",
      "name": "python3"
    },
    "language_info": {
      "name": "python"
    }
  },
  "nbformat": 4,
  "nbformat_minor": 0
}