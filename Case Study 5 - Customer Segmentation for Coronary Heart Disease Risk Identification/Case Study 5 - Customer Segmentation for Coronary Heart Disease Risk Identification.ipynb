{
  "nbformat": 4,
  "nbformat_minor": 0,
  "metadata": {
    "colab": {
      "provenance": []
    },
    "kernelspec": {
      "name": "python3",
      "display_name": "Python 3"
    },
    "language_info": {
      "name": "python"
    }
  },
  "cells": [
    {
      "cell_type": "markdown",
      "source": [
        "# Business Understanding\n",
        "\n",
        "Objectives:\n",
        "1. Menemukan kelompok nasabah utnuk menentukan RESIKO serangan jantung koroner\n",
        "\n",
        "## Segmentasi Nasabah Asuransi kesehatan untuk menemukan tingkat RESIKO jantung koroner dengan pendekatan sains data\n",
        "\n",
        "Permasalahan: Unsupervised Leaning Algoritma K-MEans Clusterrin Evaluasi: ElBOW Method"
      ],
      "metadata": {
        "id": "0qnWpKEd6Gpl"
      }
    },
    {
      "cell_type": "markdown",
      "source": [
        "# Data Understanding"
      ],
      "metadata": {
        "id": "hrtl2igc6t4o"
      }
    },
    {
      "cell_type": "code",
      "source": [
        "# Memanggil Library\n",
        "\n",
        "import pandas as pd\n",
        "import numpy as np\n",
        "import seaborn as sns\n",
        "import matplotlib.pyplot as plt"
      ],
      "metadata": {
        "id": "NrhCCeoh6583"
      },
      "execution_count": null,
      "outputs": []
    },
    {
      "cell_type": "code",
      "source": [
        "# Mengubungkan Data\n",
        "from google.colab import drive\n",
        "drive.mount('/content/drive')"
      ],
      "metadata": {
        "colab": {
          "base_uri": "https://localhost:8080/"
        },
        "id": "fBhGRaHy68K9",
        "outputId": "769039c6-3345-4698-d126-1db176106558"
      },
      "execution_count": null,
      "outputs": [
        {
          "output_type": "stream",
          "name": "stdout",
          "text": [
            "Mounted at /content/drive\n"
          ]
        }
      ]
    },
    {
      "cell_type": "code",
      "source": [
        "path = '/content/drive/MyDrive/DataSource/Chapter06DataSet.csv'\n",
        "\n",
        "load_data_res = pd.read_csv(path)\n",
        "\n",
        "# Membentuk data dalam data frame\n",
        "\n",
        "df = pd.DataFrame(load_data_res)\n",
        "\n",
        "df.head()"
      ],
      "metadata": {
        "colab": {
          "base_uri": "https://localhost:8080/",
          "height": 206
        },
        "id": "NJR4504t6857",
        "outputId": "adc36e40-ce62-4485-aee4-dffc27af3741"
      },
      "execution_count": null,
      "outputs": [
        {
          "output_type": "execute_result",
          "data": {
            "text/plain": [
              "   Weight  Cholesterol  Gender\n",
              "0     102          111       1\n",
              "1     115          135       1\n",
              "2     115          136       1\n",
              "3     140          167       0\n",
              "4     130          158       1"
            ],
            "text/html": [
              "\n",
              "  <div id=\"df-72f98909-5104-4a78-aa5e-aecda2c495b6\">\n",
              "    <div class=\"colab-df-container\">\n",
              "      <div>\n",
              "<style scoped>\n",
              "    .dataframe tbody tr th:only-of-type {\n",
              "        vertical-align: middle;\n",
              "    }\n",
              "\n",
              "    .dataframe tbody tr th {\n",
              "        vertical-align: top;\n",
              "    }\n",
              "\n",
              "    .dataframe thead th {\n",
              "        text-align: right;\n",
              "    }\n",
              "</style>\n",
              "<table border=\"1\" class=\"dataframe\">\n",
              "  <thead>\n",
              "    <tr style=\"text-align: right;\">\n",
              "      <th></th>\n",
              "      <th>Weight</th>\n",
              "      <th>Cholesterol</th>\n",
              "      <th>Gender</th>\n",
              "    </tr>\n",
              "  </thead>\n",
              "  <tbody>\n",
              "    <tr>\n",
              "      <th>0</th>\n",
              "      <td>102</td>\n",
              "      <td>111</td>\n",
              "      <td>1</td>\n",
              "    </tr>\n",
              "    <tr>\n",
              "      <th>1</th>\n",
              "      <td>115</td>\n",
              "      <td>135</td>\n",
              "      <td>1</td>\n",
              "    </tr>\n",
              "    <tr>\n",
              "      <th>2</th>\n",
              "      <td>115</td>\n",
              "      <td>136</td>\n",
              "      <td>1</td>\n",
              "    </tr>\n",
              "    <tr>\n",
              "      <th>3</th>\n",
              "      <td>140</td>\n",
              "      <td>167</td>\n",
              "      <td>0</td>\n",
              "    </tr>\n",
              "    <tr>\n",
              "      <th>4</th>\n",
              "      <td>130</td>\n",
              "      <td>158</td>\n",
              "      <td>1</td>\n",
              "    </tr>\n",
              "  </tbody>\n",
              "</table>\n",
              "</div>\n",
              "      <button class=\"colab-df-convert\" onclick=\"convertToInteractive('df-72f98909-5104-4a78-aa5e-aecda2c495b6')\"\n",
              "              title=\"Convert this dataframe to an interactive table.\"\n",
              "              style=\"display:none;\">\n",
              "        \n",
              "  <svg xmlns=\"http://www.w3.org/2000/svg\" height=\"24px\"viewBox=\"0 0 24 24\"\n",
              "       width=\"24px\">\n",
              "    <path d=\"M0 0h24v24H0V0z\" fill=\"none\"/>\n",
              "    <path d=\"M18.56 5.44l.94 2.06.94-2.06 2.06-.94-2.06-.94-.94-2.06-.94 2.06-2.06.94zm-11 1L8.5 8.5l.94-2.06 2.06-.94-2.06-.94L8.5 2.5l-.94 2.06-2.06.94zm10 10l.94 2.06.94-2.06 2.06-.94-2.06-.94-.94-2.06-.94 2.06-2.06.94z\"/><path d=\"M17.41 7.96l-1.37-1.37c-.4-.4-.92-.59-1.43-.59-.52 0-1.04.2-1.43.59L10.3 9.45l-7.72 7.72c-.78.78-.78 2.05 0 2.83L4 21.41c.39.39.9.59 1.41.59.51 0 1.02-.2 1.41-.59l7.78-7.78 2.81-2.81c.8-.78.8-2.07 0-2.86zM5.41 20L4 18.59l7.72-7.72 1.47 1.35L5.41 20z\"/>\n",
              "  </svg>\n",
              "      </button>\n",
              "      \n",
              "  <style>\n",
              "    .colab-df-container {\n",
              "      display:flex;\n",
              "      flex-wrap:wrap;\n",
              "      gap: 12px;\n",
              "    }\n",
              "\n",
              "    .colab-df-convert {\n",
              "      background-color: #E8F0FE;\n",
              "      border: none;\n",
              "      border-radius: 50%;\n",
              "      cursor: pointer;\n",
              "      display: none;\n",
              "      fill: #1967D2;\n",
              "      height: 32px;\n",
              "      padding: 0 0 0 0;\n",
              "      width: 32px;\n",
              "    }\n",
              "\n",
              "    .colab-df-convert:hover {\n",
              "      background-color: #E2EBFA;\n",
              "      box-shadow: 0px 1px 2px rgba(60, 64, 67, 0.3), 0px 1px 3px 1px rgba(60, 64, 67, 0.15);\n",
              "      fill: #174EA6;\n",
              "    }\n",
              "\n",
              "    [theme=dark] .colab-df-convert {\n",
              "      background-color: #3B4455;\n",
              "      fill: #D2E3FC;\n",
              "    }\n",
              "\n",
              "    [theme=dark] .colab-df-convert:hover {\n",
              "      background-color: #434B5C;\n",
              "      box-shadow: 0px 1px 3px 1px rgba(0, 0, 0, 0.15);\n",
              "      filter: drop-shadow(0px 1px 2px rgba(0, 0, 0, 0.3));\n",
              "      fill: #FFFFFF;\n",
              "    }\n",
              "  </style>\n",
              "\n",
              "      <script>\n",
              "        const buttonEl =\n",
              "          document.querySelector('#df-72f98909-5104-4a78-aa5e-aecda2c495b6 button.colab-df-convert');\n",
              "        buttonEl.style.display =\n",
              "          google.colab.kernel.accessAllowed ? 'block' : 'none';\n",
              "\n",
              "        async function convertToInteractive(key) {\n",
              "          const element = document.querySelector('#df-72f98909-5104-4a78-aa5e-aecda2c495b6');\n",
              "          const dataTable =\n",
              "            await google.colab.kernel.invokeFunction('convertToInteractive',\n",
              "                                                     [key], {});\n",
              "          if (!dataTable) return;\n",
              "\n",
              "          const docLinkHtml = 'Like what you see? Visit the ' +\n",
              "            '<a target=\"_blank\" href=https://colab.research.google.com/notebooks/data_table.ipynb>data table notebook</a>'\n",
              "            + ' to learn more about interactive tables.';\n",
              "          element.innerHTML = '';\n",
              "          dataTable['output_type'] = 'display_data';\n",
              "          await google.colab.output.renderOutput(dataTable, element);\n",
              "          const docLink = document.createElement('div');\n",
              "          docLink.innerHTML = docLinkHtml;\n",
              "          element.appendChild(docLink);\n",
              "        }\n",
              "      </script>\n",
              "    </div>\n",
              "  </div>\n",
              "  "
            ]
          },
          "metadata": {},
          "execution_count": 3
        }
      ]
    },
    {
      "cell_type": "code",
      "source": [
        "df.isnull().sum()"
      ],
      "metadata": {
        "colab": {
          "base_uri": "https://localhost:8080/"
        },
        "id": "rlPVRv4F7gVE",
        "outputId": "f1560b8e-f9f9-4100-df30-05a6cddc800f"
      },
      "execution_count": null,
      "outputs": [
        {
          "output_type": "execute_result",
          "data": {
            "text/plain": [
              "Weight         0\n",
              "Cholesterol    0\n",
              "Gender         0\n",
              "dtype: int64"
            ]
          },
          "metadata": {},
          "execution_count": 4
        }
      ]
    },
    {
      "cell_type": "code",
      "source": [
        "df.isna().sum()"
      ],
      "metadata": {
        "colab": {
          "base_uri": "https://localhost:8080/"
        },
        "id": "qykJRuhJ7rqj",
        "outputId": "9b34116f-fcde-4ce1-9ce9-15563eb35ec2"
      },
      "execution_count": null,
      "outputs": [
        {
          "output_type": "execute_result",
          "data": {
            "text/plain": [
              "Weight         0\n",
              "Cholesterol    0\n",
              "Gender         0\n",
              "dtype: int64"
            ]
          },
          "metadata": {},
          "execution_count": 5
        }
      ]
    },
    {
      "cell_type": "markdown",
      "source": [
        "## Data Preparation\n",
        "\n",
        "1. Tidak ada JOIN antar table, alias semua field sudah dicover dalam satu tabel\n",
        "2. Tidak ada melakukan handling missing value, disebabkan tidak ada data NULL value dan juga NaN value."
      ],
      "metadata": {
        "id": "RnrPhwXw7tzX"
      }
    },
    {
      "cell_type": "markdown",
      "source": [
        "# Pemodelan data Menggunakan Clusterring"
      ],
      "metadata": {
        "id": "xvhbOlQp8CcJ"
      }
    },
    {
      "cell_type": "code",
      "source": [
        "from sklearn.cluster import KMeans\n",
        "\n",
        "from sklearn.preprocessing import MinMaxScaler"
      ],
      "metadata": {
        "id": "cV2ZRJsB7sP4"
      },
      "execution_count": null,
      "outputs": []
    },
    {
      "cell_type": "code",
      "source": [
        "# Menentukan Input Variabel\n",
        "\n",
        "x = df[['Weight','Cholesterol','Gender']]\n",
        "\n",
        "# Pada pemodelan Unsuprevised learning tidak ada variabel target"
      ],
      "metadata": {
        "id": "l8nYHOSV8gsd"
      },
      "execution_count": null,
      "outputs": []
    },
    {
      "cell_type": "markdown",
      "source": [
        "## Elbow Metodologi\n",
        "\n",
        "Adalah suatu metode untuk menentukan nilai N cluster, sehingga cluster tersebut optimal"
      ],
      "metadata": {
        "id": "R3s3nPpo827_"
      }
    },
    {
      "cell_type": "code",
      "source": [
        "cluster_range = range(1,10)\n",
        "\n",
        "cluster_wss= []\n",
        "\n",
        "for num_cluster in cluster_range:\n",
        "  clusters = KMeans(num_cluster)\n",
        "  clusters.fit(x)\n",
        "  cluster_wss.append(clusters.inertia_)\n",
        "\n",
        "plt.xlabel('Jumlah Cluster')\n",
        "plt.ylabel('WSS')\n",
        "plt.plot(cluster_range, cluster_wss, marker='o')\n",
        "\n",
        "plt.show()\n"
      ],
      "metadata": {
        "colab": {
          "base_uri": "https://localhost:8080/",
          "height": 797
        },
        "id": "o38Q16tk8wkR",
        "outputId": "839a1b3f-ec9a-4870-8a61-e8b4170172a7"
      },
      "execution_count": null,
      "outputs": [
        {
          "output_type": "stream",
          "name": "stderr",
          "text": [
            "/usr/local/lib/python3.10/dist-packages/sklearn/cluster/_kmeans.py:870: FutureWarning: The default value of `n_init` will change from 10 to 'auto' in 1.4. Set the value of `n_init` explicitly to suppress the warning\n",
            "  warnings.warn(\n",
            "/usr/local/lib/python3.10/dist-packages/sklearn/cluster/_kmeans.py:870: FutureWarning: The default value of `n_init` will change from 10 to 'auto' in 1.4. Set the value of `n_init` explicitly to suppress the warning\n",
            "  warnings.warn(\n",
            "/usr/local/lib/python3.10/dist-packages/sklearn/cluster/_kmeans.py:870: FutureWarning: The default value of `n_init` will change from 10 to 'auto' in 1.4. Set the value of `n_init` explicitly to suppress the warning\n",
            "  warnings.warn(\n",
            "/usr/local/lib/python3.10/dist-packages/sklearn/cluster/_kmeans.py:870: FutureWarning: The default value of `n_init` will change from 10 to 'auto' in 1.4. Set the value of `n_init` explicitly to suppress the warning\n",
            "  warnings.warn(\n",
            "/usr/local/lib/python3.10/dist-packages/sklearn/cluster/_kmeans.py:870: FutureWarning: The default value of `n_init` will change from 10 to 'auto' in 1.4. Set the value of `n_init` explicitly to suppress the warning\n",
            "  warnings.warn(\n",
            "/usr/local/lib/python3.10/dist-packages/sklearn/cluster/_kmeans.py:870: FutureWarning: The default value of `n_init` will change from 10 to 'auto' in 1.4. Set the value of `n_init` explicitly to suppress the warning\n",
            "  warnings.warn(\n",
            "/usr/local/lib/python3.10/dist-packages/sklearn/cluster/_kmeans.py:870: FutureWarning: The default value of `n_init` will change from 10 to 'auto' in 1.4. Set the value of `n_init` explicitly to suppress the warning\n",
            "  warnings.warn(\n",
            "/usr/local/lib/python3.10/dist-packages/sklearn/cluster/_kmeans.py:870: FutureWarning: The default value of `n_init` will change from 10 to 'auto' in 1.4. Set the value of `n_init` explicitly to suppress the warning\n",
            "  warnings.warn(\n",
            "/usr/local/lib/python3.10/dist-packages/sklearn/cluster/_kmeans.py:870: FutureWarning: The default value of `n_init` will change from 10 to 'auto' in 1.4. Set the value of `n_init` explicitly to suppress the warning\n",
            "  warnings.warn(\n"
          ]
        },
        {
          "output_type": "display_data",
          "data": {
            "text/plain": [
              "<Figure size 640x480 with 1 Axes>"
            ],
            "image/png": "[encoded data removed]"
          },
          "metadata": {}
        }
      ]
    },
    {
      "cell_type": "markdown",
      "source": [
        "## Hasil Analisis ELBOW\n",
        "\n",
        "Ditemukan garis lengkung ELBOW berasda pada titik 2 kemudian melandai diangka 3 dan landai kembali di angka 4.\n",
        "\n",
        "Bisa disimpulkan bahaw nilai n cluster akan optimal pada nilai cluster 3 sd 4."
      ],
      "metadata": {
        "id": "xjPbV-No-xNQ"
      }
    },
    {
      "cell_type": "code",
      "source": [
        "# Menentukan konfigurasi K means pada model\n",
        "\n",
        "cls = KMeans(n_clusters=3, random_state=0)\n",
        "\n",
        "# Membentuk Model\n",
        "model_cls = cls.fit(x)"
      ],
      "metadata": {
        "colab": {
          "base_uri": "https://localhost:8080/"
        },
        "id": "BkJ_bLVB9qIZ",
        "outputId": "2fbaf80f-a056-4013-96a7-093c2dc83ec6"
      },
      "execution_count": null,
      "outputs": [
        {
          "output_type": "stream",
          "name": "stderr",
          "text": [
            "/usr/local/lib/python3.10/dist-packages/sklearn/cluster/_kmeans.py:870: FutureWarning: The default value of `n_init` will change from 10 to 'auto' in 1.4. Set the value of `n_init` explicitly to suppress the warning\n",
            "  warnings.warn(\n"
          ]
        }
      ]
    },
    {
      "cell_type": "code",
      "source": [
        "df['cluster'] = model_cls.labels_"
      ],
      "metadata": {
        "id": "JAZ4-BNB_chI"
      },
      "execution_count": null,
      "outputs": []
    },
    {
      "cell_type": "code",
      "source": [
        "df.head(5)"
      ],
      "metadata": {
        "colab": {
          "base_uri": "https://localhost:8080/",
          "height": 206
        },
        "id": "wOKKsT0p_pLP",
        "outputId": "6fc2e784-6ed1-4e7a-863a-0f5d08cdfd4d"
      },
      "execution_count": null,
      "outputs": [
        {
          "output_type": "execute_result",
          "data": {
            "text/plain": [
              "   Weight  Cholesterol  Gender  cluster\n",
              "0     102          111       1        1\n",
              "1     115          135       1        1\n",
              "2     115          136       1        1\n",
              "3     140          167       0        0\n",
              "4     130          158       1        0"
            ],
            "text/html": [
              "\n",
              "  <div id=\"df-7d40b7a6-7705-4a44-bc26-7753fcd55ed3\">\n",
              "    <div class=\"colab-df-container\">\n",
              "      <div>\n",
              "<style scoped>\n",
              "    .dataframe tbody tr th:only-of-type {\n",
              "        vertical-align: middle;\n",
              "    }\n",
              "\n",
              "    .dataframe tbody tr th {\n",
              "        vertical-align: top;\n",
              "    }\n",
              "\n",
              "    .dataframe thead th {\n",
              "        text-align: right;\n",
              "    }\n",
              "</style>\n",
              "<table border=\"1\" class=\"dataframe\">\n",
              "  <thead>\n",
              "    <tr style=\"text-align: right;\">\n",
              "      <th></th>\n",
              "      <th>Weight</th>\n",
              "      <th>Cholesterol</th>\n",
              "      <th>Gender</th>\n",
              "      <th>cluster</th>\n",
              "    </tr>\n",
              "  </thead>\n",
              "  <tbody>\n",
              "    <tr>\n",
              "      <th>0</th>\n",
              "      <td>102</td>\n",
              "      <td>111</td>\n",
              "      <td>1</td>\n",
              "      <td>1</td>\n",
              "    </tr>\n",
              "    <tr>\n",
              "      <th>1</th>\n",
              "      <td>115</td>\n",
              "      <td>135</td>\n",
              "      <td>1</td>\n",
              "      <td>1</td>\n",
              "    </tr>\n",
              "    <tr>\n",
              "      <th>2</th>\n",
              "      <td>115</td>\n",
              "      <td>136</td>\n",
              "      <td>1</td>\n",
              "      <td>1</td>\n",
              "    </tr>\n",
              "    <tr>\n",
              "      <th>3</th>\n",
              "      <td>140</td>\n",
              "      <td>167</td>\n",
              "      <td>0</td>\n",
              "      <td>0</td>\n",
              "    </tr>\n",
              "    <tr>\n",
              "      <th>4</th>\n",
              "      <td>130</td>\n",
              "      <td>158</td>\n",
              "      <td>1</td>\n",
              "      <td>0</td>\n",
              "    </tr>\n",
              "  </tbody>\n",
              "</table>\n",
              "</div>\n",
              "      <button class=\"colab-df-convert\" onclick=\"convertToInteractive('df-7d40b7a6-7705-4a44-bc26-7753fcd55ed3')\"\n",
              "              title=\"Convert this dataframe to an interactive table.\"\n",
              "              style=\"display:none;\">\n",
              "        \n",
              "  <svg xmlns=\"http://www.w3.org/2000/svg\" height=\"24px\"viewBox=\"0 0 24 24\"\n",
              "       width=\"24px\">\n",
              "    <path d=\"M0 0h24v24H0V0z\" fill=\"none\"/>\n",
              "    <path d=\"M18.56 5.44l.94 2.06.94-2.06 2.06-.94-2.06-.94-.94-2.06-.94 2.06-2.06.94zm-11 1L8.5 8.5l.94-2.06 2.06-.94-2.06-.94L8.5 2.5l-.94 2.06-2.06.94zm10 10l.94 2.06.94-2.06 2.06-.94-2.06-.94-.94-2.06-.94 2.06-2.06.94z\"/><path d=\"M17.41 7.96l-1.37-1.37c-.4-.4-.92-.59-1.43-.59-.52 0-1.04.2-1.43.59L10.3 9.45l-7.72 7.72c-.78.78-.78 2.05 0 2.83L4 21.41c.39.39.9.59 1.41.59.51 0 1.02-.2 1.41-.59l7.78-7.78 2.81-2.81c.8-.78.8-2.07 0-2.86zM5.41 20L4 18.59l7.72-7.72 1.47 1.35L5.41 20z\"/>\n",
              "  </svg>\n",
              "      </button>\n",
              "      \n",
              "  <style>\n",
              "    .colab-df-container {\n",
              "      display:flex;\n",
              "      flex-wrap:wrap;\n",
              "      gap: 12px;\n",
              "    }\n",
              "\n",
              "    .colab-df-convert {\n",
              "      background-color: #E8F0FE;\n",
              "      border: none;\n",
              "      border-radius: 50%;\n",
              "      cursor: pointer;\n",
              "      display: none;\n",
              "      fill: #1967D2;\n",
              "      height: 32px;\n",
              "      padding: 0 0 0 0;\n",
              "      width: 32px;\n",
              "    }\n",
              "\n",
              "    .colab-df-convert:hover {\n",
              "      background-color: #E2EBFA;\n",
              "      box-shadow: 0px 1px 2px rgba(60, 64, 67, 0.3), 0px 1px 3px 1px rgba(60, 64, 67, 0.15);\n",
              "      fill: #174EA6;\n",
              "    }\n",
              "\n",
              "    [theme=dark] .colab-df-convert {\n",
              "      background-color: #3B4455;\n",
              "      fill: #D2E3FC;\n",
              "    }\n",
              "\n",
              "    [theme=dark] .colab-df-convert:hover {\n",
              "      background-color: #434B5C;\n",
              "      box-shadow: 0px 1px 3px 1px rgba(0, 0, 0, 0.15);\n",
              "      filter: drop-shadow(0px 1px 2px rgba(0, 0, 0, 0.3));\n",
              "      fill: #FFFFFF;\n",
              "    }\n",
              "  </style>\n",
              "\n",
              "      <script>\n",
              "        const buttonEl =\n",
              "          document.querySelector('#df-7d40b7a6-7705-4a44-bc26-7753fcd55ed3 button.colab-df-convert');\n",
              "        buttonEl.style.display =\n",
              "          google.colab.kernel.accessAllowed ? 'block' : 'none';\n",
              "\n",
              "        async function convertToInteractive(key) {\n",
              "          const element = document.querySelector('#df-7d40b7a6-7705-4a44-bc26-7753fcd55ed3');\n",
              "          const dataTable =\n",
              "            await google.colab.kernel.invokeFunction('convertToInteractive',\n",
              "                                                     [key], {});\n",
              "          if (!dataTable) return;\n",
              "\n",
              "          const docLinkHtml = 'Like what you see? Visit the ' +\n",
              "            '<a target=\"_blank\" href=https://colab.research.google.com/notebooks/data_table.ipynb>data table notebook</a>'\n",
              "            + ' to learn more about interactive tables.';\n",
              "          element.innerHTML = '';\n",
              "          dataTable['output_type'] = 'display_data';\n",
              "          await google.colab.output.renderOutput(dataTable, element);\n",
              "          const docLink = document.createElement('div');\n",
              "          docLink.innerHTML = docLinkHtml;\n",
              "          element.appendChild(docLink);\n",
              "        }\n",
              "      </script>\n",
              "    </div>\n",
              "  </div>\n",
              "  "
            ]
          },
          "metadata": {},
          "execution_count": 24
        }
      ]
    },
    {
      "cell_type": "code",
      "source": [
        "# Eksport to Excel\n",
        "# Exsport as download if in colab\n",
        "from google.colab import files\n",
        "\n",
        "# Menyimpan file/eksport file to local computer output CSV file\n",
        "\n",
        "df.to_excel('df_cluster.xlsx')\n",
        "files.download('df_cluster.xlsx')"
      ],
      "metadata": {
        "colab": {
          "base_uri": "https://localhost:8080/",
          "height": 17
        },
        "id": "qOc0_lJ5Cyz3",
        "outputId": "cb502f39-8adb-455b-bd52-dd316e7d9c2e"
      },
      "execution_count": null,
      "outputs": [
        {
          "output_type": "display_data",
          "data": {
            "text/plain": [
              "<IPython.core.display.Javascript object>"
            ],
            "application/javascript": [
              "\n",
              "    async function download(id, filename, size) {\n",
              "      if (!google.colab.kernel.accessAllowed) {\n",
              "        return;\n",
              "      }\n",
              "      const div = document.createElement('div');\n",
              "      const label = document.createElement('label');\n",
              "      label.textContent = `Downloading \"${filename}\": `;\n",
              "      div.appendChild(label);\n",
              "      const progress = document.createElement('progress');\n",
              "      progress.max = size;\n",
              "      div.appendChild(progress);\n",
              "      document.body.appendChild(div);\n",
              "\n",
              "      const buffers = [];\n",
              "      let downloaded = 0;\n",
              "\n",
              "      const channel = await google.colab.kernel.comms.open(id);\n",
              "      // Send a message to notify the kernel that we're ready.\n",
              "      channel.send({})\n",
              "\n",
              "      for await (const message of channel.messages) {\n",
              "        // Send a message to notify the kernel that we're ready.\n",
              "        channel.send({})\n",
              "        if (message.buffers) {\n",
              "          for (const buffer of message.buffers) {\n",
              "            buffers.push(buffer);\n",
              "            downloaded += buffer.byteLength;\n",
              "            progress.value = downloaded;\n",
              "          }\n",
              "        }\n",
              "      }\n",
              "      const blob = new Blob(buffers, {type: 'application/binary'});\n",
              "      const a = document.createElement('a');\n",
              "      a.href = window.URL.createObjectURL(blob);\n",
              "      a.download = filename;\n",
              "      div.appendChild(a);\n",
              "      a.click();\n",
              "      div.remove();\n",
              "    }\n",
              "  "
            ]
          },
          "metadata": {}
        },
        {
          "output_type": "display_data",
          "data": {
            "text/plain": [
              "<IPython.core.display.Javascript object>"
            ],
            "application/javascript": [
              "download(\"download_472720fd-5dd7-4ce3-8273-f636fb0a6838\", \"df_cluster.xlsx\", 18476)"
            ]
          },
          "metadata": {}
        }
      ]
    },
    {
      "cell_type": "markdown",
      "source": [
        "## Case 2 (Mortality Rate Cluster)\n",
        "\n",
        "## Business Understanding\n",
        "Objectives: Menemukan Cluster dari data, untuk melihat potensial risk angka rate mortality. Hal ini diperlukan untuk menentukan langkah.\n",
        "\n",
        "Pemodelan: Clustering - Unsupervised Learning\n"
      ],
      "metadata": {
        "id": "0BkYxnqHFXpJ"
      }
    },
    {
      "cell_type": "markdown",
      "source": [
        "## Data Understanding"
      ],
      "metadata": {
        "id": "Z4KsMzfaGMbY"
      }
    },
    {
      "cell_type": "code",
      "source": [
        "# Load Data nasabah baru/calon nasabah yg mengajukan kredit\n",
        "\n",
        "path1 = '/content/drive/MyDrive/DataSource/data_mortality_rate.xlsx'\n",
        "load_data_mr = pd.read_excel(path1)\n",
        "\n",
        "# DataFrame\n",
        "\n",
        "df_1 = pd.DataFrame(load_data_mr)\n",
        "df_1.head()"
      ],
      "metadata": {
        "colab": {
          "base_uri": "https://localhost:8080/",
          "height": 305
        },
        "id": "4JhyffFFDEWg",
        "outputId": "ce46c680-e71c-492e-e1ab-2ffd13888957"
      },
      "execution_count": null,
      "outputs": [
        {
          "output_type": "execute_result",
          "data": {
            "text/plain": [
              "   Year of Date Month of Date  Day of Date  Count of Sheet1  \\\n",
              "0          1990      December           31               10   \n",
              "1          1991      December           31               10   \n",
              "2          1992      December           31               10   \n",
              "3          1993      December           31               10   \n",
              "4          1994      December           31               10   \n",
              "\n",
              "   Crude Birth Ratio  Crude Death Ratio  HIV Prevalence  \\\n",
              "0              295.2               76.5            1.82   \n",
              "1              289.1               75.5            2.69   \n",
              "2              282.9               74.6            3.23   \n",
              "3              276.3               73.9            3.75   \n",
              "4              268.6               71.5            4.09   \n",
              "\n",
              "   Immunization Measless  Infant Mortality Rate  Life expentancy rate  \\\n",
              "0                  698.0                  471.4                 674.8   \n",
              "1                  696.0                  458.2                 678.1   \n",
              "2                  720.0                  445.7                 681.2   \n",
              "3                  739.0                  433.5                 683.1   \n",
              "4                  812.0                  422.0                 687.9   \n",
              "\n",
              "   Malaria Prevalence  Maternal Mortality Rate  Nurse Density  Pharmaceutical  \\\n",
              "0                 0.0                   3281.0         849.62             0.0   \n",
              "1                 0.0                   3093.0         767.07            76.0   \n",
              "2                 0.0                   2908.0         519.69            24.0   \n",
              "3                 0.0                   2787.0         828.39            81.0   \n",
              "4                 0.0                   2631.0         555.81             0.0   \n",
              "\n",
              "   Physi density  TB Prevalence  Undernourish Population  \\\n",
              "0         849.62            0.0                    273.8   \n",
              "1         767.07            0.0                    273.8   \n",
              "2         519.69            0.0                    268.1   \n",
              "3         828.39            0.0                    264.0   \n",
              "4         555.81            0.0                    239.1   \n",
              "\n",
              "   Underweight Children  immunization DPT  \n",
              "0                 280.6             740.0  \n",
              "1                 243.2             734.0  \n",
              "2                 214.1             722.0  \n",
              "3                 225.6             737.0  \n",
              "4                 183.4             779.0  "
            ],
            "text/html": [
              "\n",
              "  <div id=\"df-141d1be4-e79d-40c9-9bf4-2bf32ca7b65c\">\n",
              "    <div class=\"colab-df-container\">\n",
              "      <div>\n",
              "<style scoped>\n",
              "    .dataframe tbody tr th:only-of-type {\n",
              "        vertical-align: middle;\n",
              "    }\n",
              "\n",
              "    .dataframe tbody tr th {\n",
              "        vertical-align: top;\n",
              "    }\n",
              "\n",
              "    .dataframe thead th {\n",
              "        text-align: right;\n",
              "    }\n",
              "</style>\n",
              "<table border=\"1\" class=\"dataframe\">\n",
              "  <thead>\n",
              "    <tr style=\"text-align: right;\">\n",
              "      <th></th>\n",
              "      <th>Year of Date</th>\n",
              "      <th>Month of Date</th>\n",
              "      <th>Day of Date</th>\n",
              "      <th>Count of Sheet1</th>\n",
              "      <th>Crude Birth Ratio</th>\n",
              "      <th>Crude Death Ratio</th>\n",
              "      <th>HIV Prevalence</th>\n",
              "      <th>Immunization Measless</th>\n",
              "      <th>Infant Mortality Rate</th>\n",
              "      <th>Life expentancy rate</th>\n",
              "      <th>Malaria Prevalence</th>\n",
              "      <th>Maternal Mortality Rate</th>\n",
              "      <th>Nurse Density</th>\n",
              "      <th>Pharmaceutical</th>\n",
              "      <th>Physi density</th>\n",
              "      <th>TB Prevalence</th>\n",
              "      <th>Undernourish Population</th>\n",
              "      <th>Underweight Children</th>\n",
              "      <th>immunization DPT</th>\n",
              "    </tr>\n",
              "  </thead>\n",
              "  <tbody>\n",
              "    <tr>\n",
              "      <th>0</th>\n",
              "      <td>1990</td>\n",
              "      <td>December</td>\n",
              "      <td>31</td>\n",
              "      <td>10</td>\n",
              "      <td>295.2</td>\n",
              "      <td>76.5</td>\n",
              "      <td>1.82</td>\n",
              "      <td>698.0</td>\n",
              "      <td>471.4</td>\n",
              "      <td>674.8</td>\n",
              "      <td>0.0</td>\n",
              "      <td>3281.0</td>\n",
              "      <td>849.62</td>\n",
              "      <td>0.0</td>\n",
              "      <td>849.62</td>\n",
              "      <td>0.0</td>\n",
              "      <td>273.8</td>\n",
              "      <td>280.6</td>\n",
              "      <td>740.0</td>\n",
              "    </tr>\n",
              "    <tr>\n",
              "      <th>1</th>\n",
              "      <td>1991</td>\n",
              "      <td>December</td>\n",
              "      <td>31</td>\n",
              "      <td>10</td>\n",
              "      <td>289.1</td>\n",
              "      <td>75.5</td>\n",
              "      <td>2.69</td>\n",
              "      <td>696.0</td>\n",
              "      <td>458.2</td>\n",
              "      <td>678.1</td>\n",
              "      <td>0.0</td>\n",
              "      <td>3093.0</td>\n",
              "      <td>767.07</td>\n",
              "      <td>76.0</td>\n",
              "      <td>767.07</td>\n",
              "      <td>0.0</td>\n",
              "      <td>273.8</td>\n",
              "      <td>243.2</td>\n",
              "      <td>734.0</td>\n",
              "    </tr>\n",
              "    <tr>\n",
              "      <th>2</th>\n",
              "      <td>1992</td>\n",
              "      <td>December</td>\n",
              "      <td>31</td>\n",
              "      <td>10</td>\n",
              "      <td>282.9</td>\n",
              "      <td>74.6</td>\n",
              "      <td>3.23</td>\n",
              "      <td>720.0</td>\n",
              "      <td>445.7</td>\n",
              "      <td>681.2</td>\n",
              "      <td>0.0</td>\n",
              "      <td>2908.0</td>\n",
              "      <td>519.69</td>\n",
              "      <td>24.0</td>\n",
              "      <td>519.69</td>\n",
              "      <td>0.0</td>\n",
              "      <td>268.1</td>\n",
              "      <td>214.1</td>\n",
              "      <td>722.0</td>\n",
              "    </tr>\n",
              "    <tr>\n",
              "      <th>3</th>\n",
              "      <td>1993</td>\n",
              "      <td>December</td>\n",
              "      <td>31</td>\n",
              "      <td>10</td>\n",
              "      <td>276.3</td>\n",
              "      <td>73.9</td>\n",
              "      <td>3.75</td>\n",
              "      <td>739.0</td>\n",
              "      <td>433.5</td>\n",
              "      <td>683.1</td>\n",
              "      <td>0.0</td>\n",
              "      <td>2787.0</td>\n",
              "      <td>828.39</td>\n",
              "      <td>81.0</td>\n",
              "      <td>828.39</td>\n",
              "      <td>0.0</td>\n",
              "      <td>264.0</td>\n",
              "      <td>225.6</td>\n",
              "      <td>737.0</td>\n",
              "    </tr>\n",
              "    <tr>\n",
              "      <th>4</th>\n",
              "      <td>1994</td>\n",
              "      <td>December</td>\n",
              "      <td>31</td>\n",
              "      <td>10</td>\n",
              "      <td>268.6</td>\n",
              "      <td>71.5</td>\n",
              "      <td>4.09</td>\n",
              "      <td>812.0</td>\n",
              "      <td>422.0</td>\n",
              "      <td>687.9</td>\n",
              "      <td>0.0</td>\n",
              "      <td>2631.0</td>\n",
              "      <td>555.81</td>\n",
              "      <td>0.0</td>\n",
              "      <td>555.81</td>\n",
              "      <td>0.0</td>\n",
              "      <td>239.1</td>\n",
              "      <td>183.4</td>\n",
              "      <td>779.0</td>\n",
              "    </tr>\n",
              "  </tbody>\n",
              "</table>\n",
              "</div>\n",
              "      <button class=\"colab-df-convert\" onclick=\"convertToInteractive('df-141d1be4-e79d-40c9-9bf4-2bf32ca7b65c')\"\n",
              "              title=\"Convert this dataframe to an interactive table.\"\n",
              "              style=\"display:none;\">\n",
              "        \n",
              "  <svg xmlns=\"http://www.w3.org/2000/svg\" height=\"24px\"viewBox=\"0 0 24 24\"\n",
              "       width=\"24px\">\n",
              "    <path d=\"M0 0h24v24H0V0z\" fill=\"none\"/>\n",
              "    <path d=\"M18.56 5.44l.94 2.06.94-2.06 2.06-.94-2.06-.94-.94-2.06-.94 2.06-2.06.94zm-11 1L8.5 8.5l.94-2.06 2.06-.94-2.06-.94L8.5 2.5l-.94 2.06-2.06.94zm10 10l.94 2.06.94-2.06 2.06-.94-2.06-.94-.94-2.06-.94 2.06-2.06.94z\"/><path d=\"M17.41 7.96l-1.37-1.37c-.4-.4-.92-.59-1.43-.59-.52 0-1.04.2-1.43.59L10.3 9.45l-7.72 7.72c-.78.78-.78 2.05 0 2.83L4 21.41c.39.39.9.59 1.41.59.51 0 1.02-.2 1.41-.59l7.78-7.78 2.81-2.81c.8-.78.8-2.07 0-2.86zM5.41 20L4 18.59l7.72-7.72 1.47 1.35L5.41 20z\"/>\n",
              "  </svg>\n",
              "      </button>\n",
              "      \n",
              "  <style>\n",
              "    .colab-df-container {\n",
              "      display:flex;\n",
              "      flex-wrap:wrap;\n",
              "      gap: 12px;\n",
              "    }\n",
              "\n",
              "    .colab-df-convert {\n",
              "      background-color: #E8F0FE;\n",
              "      border: none;\n",
              "      border-radius: 50%;\n",
              "      cursor: pointer;\n",
              "      display: none;\n",
              "      fill: #1967D2;\n",
              "      height: 32px;\n",
              "      padding: 0 0 0 0;\n",
              "      width: 32px;\n",
              "    }\n",
              "\n",
              "    .colab-df-convert:hover {\n",
              "      background-color: #E2EBFA;\n",
              "      box-shadow: 0px 1px 2px rgba(60, 64, 67, 0.3), 0px 1px 3px 1px rgba(60, 64, 67, 0.15);\n",
              "      fill: #174EA6;\n",
              "    }\n",
              "\n",
              "    [theme=dark] .colab-df-convert {\n",
              "      background-color: #3B4455;\n",
              "      fill: #D2E3FC;\n",
              "    }\n",
              "\n",
              "    [theme=dark] .colab-df-convert:hover {\n",
              "      background-color: #434B5C;\n",
              "      box-shadow: 0px 1px 3px 1px rgba(0, 0, 0, 0.15);\n",
              "      filter: drop-shadow(0px 1px 2px rgba(0, 0, 0, 0.3));\n",
              "      fill: #FFFFFF;\n",
              "    }\n",
              "  </style>\n",
              "\n",
              "      <script>\n",
              "        const buttonEl =\n",
              "          document.querySelector('#df-141d1be4-e79d-40c9-9bf4-2bf32ca7b65c button.colab-df-convert');\n",
              "        buttonEl.style.display =\n",
              "          google.colab.kernel.accessAllowed ? 'block' : 'none';\n",
              "\n",
              "        async function convertToInteractive(key) {\n",
              "          const element = document.querySelector('#df-141d1be4-e79d-40c9-9bf4-2bf32ca7b65c');\n",
              "          const dataTable =\n",
              "            await google.colab.kernel.invokeFunction('convertToInteractive',\n",
              "                                                     [key], {});\n",
              "          if (!dataTable) return;\n",
              "\n",
              "          const docLinkHtml = 'Like what you see? Visit the ' +\n",
              "            '<a target=\"_blank\" href=https://colab.research.google.com/notebooks/data_table.ipynb>data table notebook</a>'\n",
              "            + ' to learn more about interactive tables.';\n",
              "          element.innerHTML = '';\n",
              "          dataTable['output_type'] = 'display_data';\n",
              "          await google.colab.output.renderOutput(dataTable, element);\n",
              "          const docLink = document.createElement('div');\n",
              "          docLink.innerHTML = docLinkHtml;\n",
              "          element.appendChild(docLink);\n",
              "        }\n",
              "      </script>\n",
              "    </div>\n",
              "  </div>\n",
              "  "
            ]
          },
          "metadata": {},
          "execution_count": 34
        }
      ]
    },
    {
      "cell_type": "markdown",
      "source": [
        "## Pemodelan Cluster\n",
        "\n"
      ],
      "metadata": {
        "id": "hvN5BjajG3uL"
      }
    },
    {
      "cell_type": "code",
      "source": [
        "from sklearn.cluster import KMeans\n",
        "\n",
        "from sklearn.preprocessing import MinMaxScaler"
      ],
      "metadata": {
        "id": "yPgvgy44GxaW"
      },
      "execution_count": null,
      "outputs": []
    },
    {
      "cell_type": "code",
      "source": [
        "# Menentukan Input Variabel\n",
        "\n",
        "x1 = df_1[['Crude Birth Ratio',\t'Crude Death Ratio', 'HIV Prevalence',\t'Immunization Measless',\t'Infant Mortality Rate',\t'Life expentancy rate',\t'Malaria Prevalence',\t'Maternal Mortality Rate',\t'Nurse Density', 'Pharmaceutical',\t'Physi density',\t'TB Prevalence',\t'Undernourish Population',\t'Underweight Children',\t'immunization DPT']]\n",
        "\n",
        "# Pada pemodelan Unsuprevised learning tidak ada variabel target"
      ],
      "metadata": {
        "id": "-yEAU6JPHD06"
      },
      "execution_count": null,
      "outputs": []
    },
    {
      "cell_type": "code",
      "source": [
        "# Elbow Metodologi\n",
        "\n",
        "cluster_range = range(1,10)\n",
        "\n",
        "cluster_wss= []\n",
        "\n",
        "for num_cluster in cluster_range:\n",
        "  clusters = KMeans(num_cluster)\n",
        "  clusters.fit(x1)\n",
        "  cluster_wss.append(clusters.inertia_)\n",
        "\n",
        "plt.xlabel('Jumlah Cluster')\n",
        "plt.ylabel('WSS')\n",
        "plt.plot(cluster_range, cluster_wss, marker='o')\n",
        "\n",
        "plt.show()\n"
      ],
      "metadata": {
        "colab": {
          "base_uri": "https://localhost:8080/",
          "height": 797
        },
        "id": "XBAcPl3vIA46",
        "outputId": "bfcce42c-8105-4998-e828-aad54c6bbb35"
      },
      "execution_count": null,
      "outputs": [
        {
          "output_type": "stream",
          "name": "stderr",
          "text": [
            "/usr/local/lib/python3.10/dist-packages/sklearn/cluster/_kmeans.py:870: FutureWarning: The default value of `n_init` will change from 10 to 'auto' in 1.4. Set the value of `n_init` explicitly to suppress the warning\n",
            "  warnings.warn(\n",
            "/usr/local/lib/python3.10/dist-packages/sklearn/cluster/_kmeans.py:870: FutureWarning: The default value of `n_init` will change from 10 to 'auto' in 1.4. Set the value of `n_init` explicitly to suppress the warning\n",
            "  warnings.warn(\n",
            "/usr/local/lib/python3.10/dist-packages/sklearn/cluster/_kmeans.py:870: FutureWarning: The default value of `n_init` will change from 10 to 'auto' in 1.4. Set the value of `n_init` explicitly to suppress the warning\n",
            "  warnings.warn(\n",
            "/usr/local/lib/python3.10/dist-packages/sklearn/cluster/_kmeans.py:870: FutureWarning: The default value of `n_init` will change from 10 to 'auto' in 1.4. Set the value of `n_init` explicitly to suppress the warning\n",
            "  warnings.warn(\n",
            "/usr/local/lib/python3.10/dist-packages/sklearn/cluster/_kmeans.py:870: FutureWarning: The default value of `n_init` will change from 10 to 'auto' in 1.4. Set the value of `n_init` explicitly to suppress the warning\n",
            "  warnings.warn(\n",
            "/usr/local/lib/python3.10/dist-packages/sklearn/cluster/_kmeans.py:870: FutureWarning: The default value of `n_init` will change from 10 to 'auto' in 1.4. Set the value of `n_init` explicitly to suppress the warning\n",
            "  warnings.warn(\n",
            "/usr/local/lib/python3.10/dist-packages/sklearn/cluster/_kmeans.py:870: FutureWarning: The default value of `n_init` will change from 10 to 'auto' in 1.4. Set the value of `n_init` explicitly to suppress the warning\n",
            "  warnings.warn(\n",
            "/usr/local/lib/python3.10/dist-packages/sklearn/cluster/_kmeans.py:870: FutureWarning: The default value of `n_init` will change from 10 to 'auto' in 1.4. Set the value of `n_init` explicitly to suppress the warning\n",
            "  warnings.warn(\n",
            "/usr/local/lib/python3.10/dist-packages/sklearn/cluster/_kmeans.py:870: FutureWarning: The default value of `n_init` will change from 10 to 'auto' in 1.4. Set the value of `n_init` explicitly to suppress the warning\n",
            "  warnings.warn(\n"
          ]
        },
        {
          "output_type": "display_data",
          "data": {
            "text/plain": [
              "<Figure size 640x480 with 1 Axes>"
            ],
            "image/png": "[encoded data removed]"
          },
          "metadata": {}
        }
      ]
    },
    {
      "cell_type": "code",
      "source": [
        "# Menentukan konfigurasi K means pada model\n",
        "\n",
        "cls = KMeans(n_clusters=5, random_state=0)\n",
        "\n",
        "# Membentuk Model\n",
        "model_cls = cls.fit(x1)"
      ],
      "metadata": {
        "colab": {
          "base_uri": "https://localhost:8080/"
        },
        "id": "8NVUFmMBI_hl",
        "outputId": "2a8a587a-9525-4bd3-cfd8-b004f9a36829"
      },
      "execution_count": null,
      "outputs": [
        {
          "output_type": "stream",
          "name": "stderr",
          "text": [
            "/usr/local/lib/python3.10/dist-packages/sklearn/cluster/_kmeans.py:870: FutureWarning: The default value of `n_init` will change from 10 to 'auto' in 1.4. Set the value of `n_init` explicitly to suppress the warning\n",
            "  warnings.warn(\n"
          ]
        }
      ]
    },
    {
      "cell_type": "code",
      "source": [
        "df_1['cluster'] = model_cls.labels_"
      ],
      "metadata": {
        "id": "ftjMMdl0Ix3D"
      },
      "execution_count": null,
      "outputs": []
    },
    {
      "cell_type": "code",
      "source": [
        "# Eksport to Excel\n",
        "# Exsport as download if in colab\n",
        "from google.colab import files\n",
        "\n",
        "# Menyimpan file/eksport file to local computer output CSV file\n",
        "\n",
        "df_1.to_excel('df_cluster_mortality.xlsx')\n",
        "files.download('df_cluster_mortality.xlsx')"
      ],
      "metadata": {
        "colab": {
          "base_uri": "https://localhost:8080/",
          "height": 17
        },
        "id": "vw9APETjJIf2",
        "outputId": "2af3e3ca-f847-48a0-cfe6-02a21a390024"
      },
      "execution_count": null,
      "outputs": [
        {
          "output_type": "display_data",
          "data": {
            "text/plain": [
              "<IPython.core.display.Javascript object>"
            ],
            "application/javascript": [
              "\n",
              "    async function download(id, filename, size) {\n",
              "      if (!google.colab.kernel.accessAllowed) {\n",
              "        return;\n",
              "      }\n",
              "      const div = document.createElement('div');\n",
              "      const label = document.createElement('label');\n",
              "      label.textContent = `Downloading \"${filename}\": `;\n",
              "      div.appendChild(label);\n",
              "      const progress = document.createElement('progress');\n",
              "      progress.max = size;\n",
              "      div.appendChild(progress);\n",
              "      document.body.appendChild(div);\n",
              "\n",
              "      const buffers = [];\n",
              "      let downloaded = 0;\n",
              "\n",
              "      const channel = await google.colab.kernel.comms.open(id);\n",
              "      // Send a message to notify the kernel that we're ready.\n",
              "      channel.send({})\n",
              "\n",
              "      for await (const message of channel.messages) {\n",
              "        // Send a message to notify the kernel that we're ready.\n",
              "        channel.send({})\n",
              "        if (message.buffers) {\n",
              "          for (const buffer of message.buffers) {\n",
              "            buffers.push(buffer);\n",
              "            downloaded += buffer.byteLength;\n",
              "            progress.value = downloaded;\n",
              "          }\n",
              "        }\n",
              "      }\n",
              "      const blob = new Blob(buffers, {type: 'application/binary'});\n",
              "      const a = document.createElement('a');\n",
              "      a.href = window.URL.createObjectURL(blob);\n",
              "      a.download = filename;\n",
              "      div.appendChild(a);\n",
              "      a.click();\n",
              "      div.remove();\n",
              "    }\n",
              "  "
            ]
          },
          "metadata": {}
        },
        {
          "output_type": "display_data",
          "data": {
            "text/plain": [
              "<IPython.core.display.Javascript object>"
            ],
            "application/javascript": [
              "download(\"download_f7ba43e3-3d92-4506-b00b-26531b4fa374\", \"df_cluster_mortality.xlsx\", 8530)"
            ]
          },
          "metadata": {}
        }
      ]
    }
  ]
}