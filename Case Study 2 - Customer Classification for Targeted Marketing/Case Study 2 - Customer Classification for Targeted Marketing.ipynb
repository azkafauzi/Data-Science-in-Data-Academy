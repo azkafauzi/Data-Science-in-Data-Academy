{
  "nbformat": 4,
  "nbformat_minor": 0,
  "metadata": {
    "colab": {
      "provenance": []
    },
    "kernelspec": {
      "name": "python3",
      "display_name": "Python 3"
    },
    "language_info": {
      "name": "python"
    }
  },
  "cells": [
    {
      "cell_type": "markdown",
      "source": [
        "# Bussiness Understanding\n",
        "\n",
        "Richard sebagai online retailer ingin mengklasifikasi customer yang akan beli cepat, beli nanti, atau kapan-kapan. Dengan hal tersebut, diharapkan dia dapat mengatur target pemasaran kepada customer yang tepat.\n",
        "\n",
        "\n",
        "Supervised Learning - Klasifikasi\n",
        "\n",
        "- DecisionTree\n",
        "- RandomForest\n",
        "- XGBoost Classifier\n",
        "- Logistic Regression\n",
        "- SVM\n",
        "\n",
        "Target Variabel: tabletAdoption\n",
        "class:\n",
        "  1. Innovator\n",
        "  2. Early Majority\n",
        "  3. Early Adopter\n",
        "  4. Late Majority\n"
      ],
      "metadata": {
        "id": "L8kNG3QEWr6L"
      }
    },
    {
      "cell_type": "markdown",
      "source": [
        "# Data Understanding"
      ],
      "metadata": {
        "id": "6VPCgLxNXgXz"
      }
    },
    {
      "cell_type": "code",
      "source": [
        "# Memanggil Library\n",
        "\n",
        "import pandas as pd\n",
        "import numpy as np\n",
        "import seaborn as sns\n",
        "import matplotlib.pyplot as plt"
      ],
      "metadata": {
        "id": "qo9g7FA4Xiq_"
      },
      "execution_count": null,
      "outputs": []
    },
    {
      "cell_type": "code",
      "source": [
        "# Mengubungkan Data\n",
        "from google.colab import drive\n",
        "drive.mount('/content/drive')"
      ],
      "metadata": {
        "colab": {
          "base_uri": "https://localhost:8080/"
        },
        "id": "C6Zn5KzoXn2b",
        "outputId": "68674696-3ed0-4b77-96bf-a7b789f1cd49"
      },
      "execution_count": null,
      "outputs": [
        {
          "output_type": "stream",
          "name": "stdout",
          "text": [
            "Drive already mounted at /content/drive; to attempt to forcibly remount, call drive.mount(\"/content/drive\", force_remount=True).\n"
          ]
        }
      ]
    },
    {
      "cell_type": "code",
      "source": [
        "path = '/content/drive/MyDrive/DataSource/Chapter10DataSet_Training.csv'"
      ],
      "metadata": {
        "id": "EkEWXAt8XqSa"
      },
      "execution_count": null,
      "outputs": []
    },
    {
      "cell_type": "code",
      "source": [
        "load_tabbletadoption = pd.read_csv(path)"
      ],
      "metadata": {
        "id": "hLXFw7G-evFk"
      },
      "execution_count": null,
      "outputs": []
    },
    {
      "cell_type": "code",
      "source": [
        "df = pd.DataFrame(load_tabbletadoption)\n",
        "df.head()"
      ],
      "metadata": {
        "colab": {
          "base_uri": "https://localhost:8080/",
          "height": 270
        },
        "id": "4gYqRtwme3Xn",
        "outputId": "d2f46aff-1b7b-4b9b-a2dc-0de31811e7d1"
      },
      "execution_count": null,
      "outputs": [
        {
          "output_type": "execute_result",
          "data": {
            "text/plain": [
              "   User_ID Gender  Age Marital_Status Website_Activity  \\\n",
              "0     9552      M   61              M           Seldom   \n",
              "1     6757      M   27              M          Regular   \n",
              "2     3599      F   29              M           Seldom   \n",
              "3     6811      M   49              M           Seldom   \n",
              "4     4104      M   29              S           Seldom   \n",
              "\n",
              "  Browsed_Electronics_12Mo Bought_Electronics_12Mo Bought_Digital_Media_18Mo  \\\n",
              "0                      Yes                     Yes                       Yes   \n",
              "1                      Yes                      No                       Yes   \n",
              "2                      Yes                     Yes                       Yes   \n",
              "3                      Yes                     Yes                       Yes   \n",
              "4                      Yes                     Yes                       Yes   \n",
              "\n",
              "  Bought_Digital_Books   Payment_Method Tablet_Adoption  \n",
              "0                   No    Bank Transfer   Late Majority  \n",
              "1                   No    Bank Transfer       Innovator  \n",
              "2                  Yes    Bank Transfer   Early Adopter  \n",
              "3                  Yes  Website Account   Early Adopter  \n",
              "4                   No  Website Account   Late Majority  "
            ],
            "text/html": [
              "\n",
              "  <div id=\"df-96bfd284-0bce-467c-be16-35d612b17b6c\">\n",
              "    <div class=\"colab-df-container\">\n",
              "      <div>\n",
              "<style scoped>\n",
              "    .dataframe tbody tr th:only-of-type {\n",
              "        vertical-align: middle;\n",
              "    }\n",
              "\n",
              "    .dataframe tbody tr th {\n",
              "        vertical-align: top;\n",
              "    }\n",
              "\n",
              "    .dataframe thead th {\n",
              "        text-align: right;\n",
              "    }\n",
              "</style>\n",
              "<table border=\"1\" class=\"dataframe\">\n",
              "  <thead>\n",
              "    <tr style=\"text-align: right;\">\n",
              "      <th></th>\n",
              "      <th>User_ID</th>\n",
              "      <th>Gender</th>\n",
              "      <th>Age</th>\n",
              "      <th>Marital_Status</th>\n",
              "      <th>Website_Activity</th>\n",
              "      <th>Browsed_Electronics_12Mo</th>\n",
              "      <th>Bought_Electronics_12Mo</th>\n",
              "      <th>Bought_Digital_Media_18Mo</th>\n",
              "      <th>Bought_Digital_Books</th>\n",
              "      <th>Payment_Method</th>\n",
              "      <th>Tablet_Adoption</th>\n",
              "    </tr>\n",
              "  </thead>\n",
              "  <tbody>\n",
              "    <tr>\n",
              "      <th>0</th>\n",
              "      <td>9552</td>\n",
              "      <td>M</td>\n",
              "      <td>61</td>\n",
              "      <td>M</td>\n",
              "      <td>Seldom</td>\n",
              "      <td>Yes</td>\n",
              "      <td>Yes</td>\n",
              "      <td>Yes</td>\n",
              "      <td>No</td>\n",
              "      <td>Bank Transfer</td>\n",
              "      <td>Late Majority</td>\n",
              "    </tr>\n",
              "    <tr>\n",
              "      <th>1</th>\n",
              "      <td>6757</td>\n",
              "      <td>M</td>\n",
              "      <td>27</td>\n",
              "      <td>M</td>\n",
              "      <td>Regular</td>\n",
              "      <td>Yes</td>\n",
              "      <td>No</td>\n",
              "      <td>Yes</td>\n",
              "      <td>No</td>\n",
              "      <td>Bank Transfer</td>\n",
              "      <td>Innovator</td>\n",
              "    </tr>\n",
              "    <tr>\n",
              "      <th>2</th>\n",
              "      <td>3599</td>\n",
              "      <td>F</td>\n",
              "      <td>29</td>\n",
              "      <td>M</td>\n",
              "      <td>Seldom</td>\n",
              "      <td>Yes</td>\n",
              "      <td>Yes</td>\n",
              "      <td>Yes</td>\n",
              "      <td>Yes</td>\n",
              "      <td>Bank Transfer</td>\n",
              "      <td>Early Adopter</td>\n",
              "    </tr>\n",
              "    <tr>\n",
              "      <th>3</th>\n",
              "      <td>6811</td>\n",
              "      <td>M</td>\n",
              "      <td>49</td>\n",
              "      <td>M</td>\n",
              "      <td>Seldom</td>\n",
              "      <td>Yes</td>\n",
              "      <td>Yes</td>\n",
              "      <td>Yes</td>\n",
              "      <td>Yes</td>\n",
              "      <td>Website Account</td>\n",
              "      <td>Early Adopter</td>\n",
              "    </tr>\n",
              "    <tr>\n",
              "      <th>4</th>\n",
              "      <td>4104</td>\n",
              "      <td>M</td>\n",
              "      <td>29</td>\n",
              "      <td>S</td>\n",
              "      <td>Seldom</td>\n",
              "      <td>Yes</td>\n",
              "      <td>Yes</td>\n",
              "      <td>Yes</td>\n",
              "      <td>No</td>\n",
              "      <td>Website Account</td>\n",
              "      <td>Late Majority</td>\n",
              "    </tr>\n",
              "  </tbody>\n",
              "</table>\n",
              "</div>\n",
              "      <button class=\"colab-df-convert\" onclick=\"convertToInteractive('df-96bfd284-0bce-467c-be16-35d612b17b6c')\"\n",
              "              title=\"Convert this dataframe to an interactive table.\"\n",
              "              style=\"display:none;\">\n",
              "        \n",
              "  <svg xmlns=\"http://www.w3.org/2000/svg\" height=\"24px\"viewBox=\"0 0 24 24\"\n",
              "       width=\"24px\">\n",
              "    <path d=\"M0 0h24v24H0V0z\" fill=\"none\"/>\n",
              "    <path d=\"M18.56 5.44l.94 2.06.94-2.06 2.06-.94-2.06-.94-.94-2.06-.94 2.06-2.06.94zm-11 1L8.5 8.5l.94-2.06 2.06-.94-2.06-.94L8.5 2.5l-.94 2.06-2.06.94zm10 10l.94 2.06.94-2.06 2.06-.94-2.06-.94-.94-2.06-.94 2.06-2.06.94z\"/><path d=\"M17.41 7.96l-1.37-1.37c-.4-.4-.92-.59-1.43-.59-.52 0-1.04.2-1.43.59L10.3 9.45l-7.72 7.72c-.78.78-.78 2.05 0 2.83L4 21.41c.39.39.9.59 1.41.59.51 0 1.02-.2 1.41-.59l7.78-7.78 2.81-2.81c.8-.78.8-2.07 0-2.86zM5.41 20L4 18.59l7.72-7.72 1.47 1.35L5.41 20z\"/>\n",
              "  </svg>\n",
              "      </button>\n",
              "      \n",
              "  <style>\n",
              "    .colab-df-container {\n",
              "      display:flex;\n",
              "      flex-wrap:wrap;\n",
              "      gap: 12px;\n",
              "    }\n",
              "\n",
              "    .colab-df-convert {\n",
              "      background-color: #E8F0FE;\n",
              "      border: none;\n",
              "      border-radius: 50%;\n",
              "      cursor: pointer;\n",
              "      display: none;\n",
              "      fill: #1967D2;\n",
              "      height: 32px;\n",
              "      padding: 0 0 0 0;\n",
              "      width: 32px;\n",
              "    }\n",
              "\n",
              "    .colab-df-convert:hover {\n",
              "      background-color: #E2EBFA;\n",
              "      box-shadow: 0px 1px 2px rgba(60, 64, 67, 0.3), 0px 1px 3px 1px rgba(60, 64, 67, 0.15);\n",
              "      fill: #174EA6;\n",
              "    }\n",
              "\n",
              "    [theme=dark] .colab-df-convert {\n",
              "      background-color: #3B4455;\n",
              "      fill: #D2E3FC;\n",
              "    }\n",
              "\n",
              "    [theme=dark] .colab-df-convert:hover {\n",
              "      background-color: #434B5C;\n",
              "      box-shadow: 0px 1px 3px 1px rgba(0, 0, 0, 0.15);\n",
              "      filter: drop-shadow(0px 1px 2px rgba(0, 0, 0, 0.3));\n",
              "      fill: #FFFFFF;\n",
              "    }\n",
              "  </style>\n",
              "\n",
              "      <script>\n",
              "        const buttonEl =\n",
              "          document.querySelector('#df-96bfd284-0bce-467c-be16-35d612b17b6c button.colab-df-convert');\n",
              "        buttonEl.style.display =\n",
              "          google.colab.kernel.accessAllowed ? 'block' : 'none';\n",
              "\n",
              "        async function convertToInteractive(key) {\n",
              "          const element = document.querySelector('#df-96bfd284-0bce-467c-be16-35d612b17b6c');\n",
              "          const dataTable =\n",
              "            await google.colab.kernel.invokeFunction('convertToInteractive',\n",
              "                                                     [key], {});\n",
              "          if (!dataTable) return;\n",
              "\n",
              "          const docLinkHtml = 'Like what you see? Visit the ' +\n",
              "            '<a target=\"_blank\" href=https://colab.research.google.com/notebooks/data_table.ipynb>data table notebook</a>'\n",
              "            + ' to learn more about interactive tables.';\n",
              "          element.innerHTML = '';\n",
              "          dataTable['output_type'] = 'display_data';\n",
              "          await google.colab.output.renderOutput(dataTable, element);\n",
              "          const docLink = document.createElement('div');\n",
              "          docLink.innerHTML = docLinkHtml;\n",
              "          element.appendChild(docLink);\n",
              "        }\n",
              "      </script>\n",
              "    </div>\n",
              "  </div>\n",
              "  "
            ]
          },
          "metadata": {},
          "execution_count": 7
        }
      ]
    },
    {
      "cell_type": "code",
      "source": [
        "df.info()"
      ],
      "metadata": {
        "colab": {
          "base_uri": "https://localhost:8080/"
        },
        "id": "D2KwmCmte3gg",
        "outputId": "91b43d2f-08d8-4c97-f2ee-30e7e96b8a0f"
      },
      "execution_count": null,
      "outputs": [
        {
          "output_type": "stream",
          "name": "stdout",
          "text": [
            "<class 'pandas.core.frame.DataFrame'>\n",
            "RangeIndex: 661 entries, 0 to 660\n",
            "Data columns (total 11 columns):\n",
            " #   Column                     Non-Null Count  Dtype \n",
            "---  ------                     --------------  ----- \n",
            " 0   User_ID                    661 non-null    int64 \n",
            " 1   Gender                     661 non-null    object\n",
            " 2   Age                        661 non-null    int64 \n",
            " 3   Marital_Status             661 non-null    object\n",
            " 4   Website_Activity           661 non-null    object\n",
            " 5   Browsed_Electronics_12Mo   661 non-null    object\n",
            " 6   Bought_Electronics_12Mo    661 non-null    object\n",
            " 7   Bought_Digital_Media_18Mo  661 non-null    object\n",
            " 8   Bought_Digital_Books       661 non-null    object\n",
            " 9   Payment_Method             661 non-null    object\n",
            " 10  Tablet_Adoption            661 non-null    object\n",
            "dtypes: int64(2), object(9)\n",
            "memory usage: 56.9+ KB\n"
          ]
        }
      ]
    },
    {
      "cell_type": "markdown",
      "source": [
        "Type data tersebut banyak bertype String sehingga pada pengolahan data akan diperlukan label encoder"
      ],
      "metadata": {
        "id": "VbEBNFXmfDNR"
      }
    },
    {
      "cell_type": "code",
      "source": [
        "# Target Variabel\n",
        "\n",
        "df['Tablet_Adoption'].value_counts()"
      ],
      "metadata": {
        "colab": {
          "base_uri": "https://localhost:8080/"
        },
        "id": "jqoU_06ofMk4",
        "outputId": "63190749-1289-446d-ebc1-c9533deb0300"
      },
      "execution_count": null,
      "outputs": [
        {
          "output_type": "execute_result",
          "data": {
            "text/plain": [
              "Early Adopter     205\n",
              "Early Majority    186\n",
              "Late Majority     172\n",
              "Innovator          98\n",
              "Name: Tablet_Adoption, dtype: int64"
            ]
          },
          "metadata": {},
          "execution_count": 9
        }
      ]
    },
    {
      "cell_type": "markdown",
      "source": [
        "# Data Preparation"
      ],
      "metadata": {
        "id": "ivnA1inHfr6W"
      }
    },
    {
      "cell_type": "code",
      "source": [
        "df.isnull().sum()"
      ],
      "metadata": {
        "colab": {
          "base_uri": "https://localhost:8080/"
        },
        "id": "XO8hIzOtfAgX",
        "outputId": "20721c22-b803-4ce7-c75a-404b4b945209"
      },
      "execution_count": null,
      "outputs": [
        {
          "output_type": "execute_result",
          "data": {
            "text/plain": [
              "User_ID                      0\n",
              "Gender                       0\n",
              "Age                          0\n",
              "Marital_Status               0\n",
              "Website_Activity             0\n",
              "Browsed_Electronics_12Mo     0\n",
              "Bought_Electronics_12Mo      0\n",
              "Bought_Digital_Media_18Mo    0\n",
              "Bought_Digital_Books         0\n",
              "Payment_Method               0\n",
              "Tablet_Adoption              0\n",
              "dtype: int64"
            ]
          },
          "metadata": {},
          "execution_count": 10
        }
      ]
    },
    {
      "cell_type": "code",
      "source": [
        "df.isna().sum()"
      ],
      "metadata": {
        "colab": {
          "base_uri": "https://localhost:8080/"
        },
        "id": "LsguT-H-fwZY",
        "outputId": "dad83c84-e882-493f-fb0f-87e4ed274236"
      },
      "execution_count": null,
      "outputs": [
        {
          "output_type": "execute_result",
          "data": {
            "text/plain": [
              "User_ID                      0\n",
              "Gender                       0\n",
              "Age                          0\n",
              "Marital_Status               0\n",
              "Website_Activity             0\n",
              "Browsed_Electronics_12Mo     0\n",
              "Bought_Electronics_12Mo      0\n",
              "Bought_Digital_Media_18Mo    0\n",
              "Bought_Digital_Books         0\n",
              "Payment_Method               0\n",
              "Tablet_Adoption              0\n",
              "dtype: int64"
            ]
          },
          "metadata": {},
          "execution_count": 11
        }
      ]
    },
    {
      "cell_type": "code",
      "source": [
        "# Label encoder\n",
        "\n",
        "from sklearn.preprocessing import LabelEncoder\n",
        "\n",
        "# membuat instance dari LabelEncoder\n",
        "label_encoder = LabelEncoder()"
      ],
      "metadata": {
        "id": "RgycjigcfyIo"
      },
      "execution_count": null,
      "outputs": []
    },
    {
      "cell_type": "code",
      "source": [
        "df_input=pd.DataFrame({col: df[col].astype('category').cat.codes for col in df}, index=df.index)"
      ],
      "metadata": {
        "id": "MC3kwW7ogFZw"
      },
      "execution_count": null,
      "outputs": []
    },
    {
      "cell_type": "code",
      "source": [
        "df_input.head(3)"
      ],
      "metadata": {
        "colab": {
          "base_uri": "https://localhost:8080/",
          "height": 207
        },
        "id": "XueVa36htwn-",
        "outputId": "56c5c306-5330-4235-c31d-fa0a0d41fb69"
      },
      "execution_count": null,
      "outputs": [
        {
          "output_type": "execute_result",
          "data": {
            "text/plain": [
              "   User_ID  Gender  Age  Marital_Status  Website_Activity  \\\n",
              "0      599       1   45               0                 2   \n",
              "1      388       1   11               0                 1   \n",
              "2      178       0   13               0                 2   \n",
              "\n",
              "   Browsed_Electronics_12Mo  Bought_Electronics_12Mo  \\\n",
              "0                         1                        1   \n",
              "1                         1                        0   \n",
              "2                         1                        1   \n",
              "\n",
              "   Bought_Digital_Media_18Mo  Bought_Digital_Books  Payment_Method  \\\n",
              "0                          1                     0               0   \n",
              "1                          1                     0               0   \n",
              "2                          1                     1               0   \n",
              "\n",
              "   Tablet_Adoption  \n",
              "0                3  \n",
              "1                2  \n",
              "2                0  "
            ],
            "text/html": [
              "\n",
              "  <div id=\"df-68c01c14-96d5-4203-abba-fd21c02ded24\">\n",
              "    <div class=\"colab-df-container\">\n",
              "      <div>\n",
              "<style scoped>\n",
              "    .dataframe tbody tr th:only-of-type {\n",
              "        vertical-align: middle;\n",
              "    }\n",
              "\n",
              "    .dataframe tbody tr th {\n",
              "        vertical-align: top;\n",
              "    }\n",
              "\n",
              "    .dataframe thead th {\n",
              "        text-align: right;\n",
              "    }\n",
              "</style>\n",
              "<table border=\"1\" class=\"dataframe\">\n",
              "  <thead>\n",
              "    <tr style=\"text-align: right;\">\n",
              "      <th></th>\n",
              "      <th>User_ID</th>\n",
              "      <th>Gender</th>\n",
              "      <th>Age</th>\n",
              "      <th>Marital_Status</th>\n",
              "      <th>Website_Activity</th>\n",
              "      <th>Browsed_Electronics_12Mo</th>\n",
              "      <th>Bought_Electronics_12Mo</th>\n",
              "      <th>Bought_Digital_Media_18Mo</th>\n",
              "      <th>Bought_Digital_Books</th>\n",
              "      <th>Payment_Method</th>\n",
              "      <th>Tablet_Adoption</th>\n",
              "    </tr>\n",
              "  </thead>\n",
              "  <tbody>\n",
              "    <tr>\n",
              "      <th>0</th>\n",
              "      <td>599</td>\n",
              "      <td>1</td>\n",
              "      <td>45</td>\n",
              "      <td>0</td>\n",
              "      <td>2</td>\n",
              "      <td>1</td>\n",
              "      <td>1</td>\n",
              "      <td>1</td>\n",
              "      <td>0</td>\n",
              "      <td>0</td>\n",
              "      <td>3</td>\n",
              "    </tr>\n",
              "    <tr>\n",
              "      <th>1</th>\n",
              "      <td>388</td>\n",
              "      <td>1</td>\n",
              "      <td>11</td>\n",
              "      <td>0</td>\n",
              "      <td>1</td>\n",
              "      <td>1</td>\n",
              "      <td>0</td>\n",
              "      <td>1</td>\n",
              "      <td>0</td>\n",
              "      <td>0</td>\n",
              "      <td>2</td>\n",
              "    </tr>\n",
              "    <tr>\n",
              "      <th>2</th>\n",
              "      <td>178</td>\n",
              "      <td>0</td>\n",
              "      <td>13</td>\n",
              "      <td>0</td>\n",
              "      <td>2</td>\n",
              "      <td>1</td>\n",
              "      <td>1</td>\n",
              "      <td>1</td>\n",
              "      <td>1</td>\n",
              "      <td>0</td>\n",
              "      <td>0</td>\n",
              "    </tr>\n",
              "  </tbody>\n",
              "</table>\n",
              "</div>\n",
              "      <button class=\"colab-df-convert\" onclick=\"convertToInteractive('df-68c01c14-96d5-4203-abba-fd21c02ded24')\"\n",
              "              title=\"Convert this dataframe to an interactive table.\"\n",
              "              style=\"display:none;\">\n",
              "        \n",
              "  <svg xmlns=\"http://www.w3.org/2000/svg\" height=\"24px\"viewBox=\"0 0 24 24\"\n",
              "       width=\"24px\">\n",
              "    <path d=\"M0 0h24v24H0V0z\" fill=\"none\"/>\n",
              "    <path d=\"M18.56 5.44l.94 2.06.94-2.06 2.06-.94-2.06-.94-.94-2.06-.94 2.06-2.06.94zm-11 1L8.5 8.5l.94-2.06 2.06-.94-2.06-.94L8.5 2.5l-.94 2.06-2.06.94zm10 10l.94 2.06.94-2.06 2.06-.94-2.06-.94-.94-2.06-.94 2.06-2.06.94z\"/><path d=\"M17.41 7.96l-1.37-1.37c-.4-.4-.92-.59-1.43-.59-.52 0-1.04.2-1.43.59L10.3 9.45l-7.72 7.72c-.78.78-.78 2.05 0 2.83L4 21.41c.39.39.9.59 1.41.59.51 0 1.02-.2 1.41-.59l7.78-7.78 2.81-2.81c.8-.78.8-2.07 0-2.86zM5.41 20L4 18.59l7.72-7.72 1.47 1.35L5.41 20z\"/>\n",
              "  </svg>\n",
              "      </button>\n",
              "      \n",
              "  <style>\n",
              "    .colab-df-container {\n",
              "      display:flex;\n",
              "      flex-wrap:wrap;\n",
              "      gap: 12px;\n",
              "    }\n",
              "\n",
              "    .colab-df-convert {\n",
              "      background-color: #E8F0FE;\n",
              "      border: none;\n",
              "      border-radius: 50%;\n",
              "      cursor: pointer;\n",
              "      display: none;\n",
              "      fill: #1967D2;\n",
              "      height: 32px;\n",
              "      padding: 0 0 0 0;\n",
              "      width: 32px;\n",
              "    }\n",
              "\n",
              "    .colab-df-convert:hover {\n",
              "      background-color: #E2EBFA;\n",
              "      box-shadow: 0px 1px 2px rgba(60, 64, 67, 0.3), 0px 1px 3px 1px rgba(60, 64, 67, 0.15);\n",
              "      fill: #174EA6;\n",
              "    }\n",
              "\n",
              "    [theme=dark] .colab-df-convert {\n",
              "      background-color: #3B4455;\n",
              "      fill: #D2E3FC;\n",
              "    }\n",
              "\n",
              "    [theme=dark] .colab-df-convert:hover {\n",
              "      background-color: #434B5C;\n",
              "      box-shadow: 0px 1px 3px 1px rgba(0, 0, 0, 0.15);\n",
              "      filter: drop-shadow(0px 1px 2px rgba(0, 0, 0, 0.3));\n",
              "      fill: #FFFFFF;\n",
              "    }\n",
              "  </style>\n",
              "\n",
              "      <script>\n",
              "        const buttonEl =\n",
              "          document.querySelector('#df-68c01c14-96d5-4203-abba-fd21c02ded24 button.colab-df-convert');\n",
              "        buttonEl.style.display =\n",
              "          google.colab.kernel.accessAllowed ? 'block' : 'none';\n",
              "\n",
              "        async function convertToInteractive(key) {\n",
              "          const element = document.querySelector('#df-68c01c14-96d5-4203-abba-fd21c02ded24');\n",
              "          const dataTable =\n",
              "            await google.colab.kernel.invokeFunction('convertToInteractive',\n",
              "                                                     [key], {});\n",
              "          if (!dataTable) return;\n",
              "\n",
              "          const docLinkHtml = 'Like what you see? Visit the ' +\n",
              "            '<a target=\"_blank\" href=https://colab.research.google.com/notebooks/data_table.ipynb>data table notebook</a>'\n",
              "            + ' to learn more about interactive tables.';\n",
              "          element.innerHTML = '';\n",
              "          dataTable['output_type'] = 'display_data';\n",
              "          await google.colab.output.renderOutput(dataTable, element);\n",
              "          const docLink = document.createElement('div');\n",
              "          docLink.innerHTML = docLinkHtml;\n",
              "          element.appendChild(docLink);\n",
              "        }\n",
              "      </script>\n",
              "    </div>\n",
              "  </div>\n",
              "  "
            ]
          },
          "metadata": {},
          "execution_count": 15
        }
      ]
    },
    {
      "cell_type": "code",
      "source": [
        "# Kita harus tau hasil encoder dari field target\n",
        "\n",
        "df_input['Tablet_Adoption'].value_counts()"
      ],
      "metadata": {
        "colab": {
          "base_uri": "https://localhost:8080/"
        },
        "id": "RNpfGXcZt6hT",
        "outputId": "250609f5-2512-43cd-b78e-212b30393884"
      },
      "execution_count": null,
      "outputs": [
        {
          "output_type": "execute_result",
          "data": {
            "text/plain": [
              "0    205\n",
              "1    186\n",
              "3    172\n",
              "2     98\n",
              "Name: Tablet_Adoption, dtype: int64"
            ]
          },
          "metadata": {},
          "execution_count": 16
        }
      ]
    },
    {
      "cell_type": "markdown",
      "source": [
        "0 -> early adopter\n",
        "1 -> early majority\n",
        "3 -> late majority\n",
        "2 -> Innovator"
      ],
      "metadata": {
        "id": "1kVqmrvfuWNb"
      }
    },
    {
      "cell_type": "markdown",
      "source": [
        "# Pemodelan Data"
      ],
      "metadata": {
        "id": "7Yp1wXSsulNC"
      }
    },
    {
      "cell_type": "code",
      "source": [
        "from sklearn.model_selection import train_test_split #import train_test_split function\n",
        "from sklearn import metrics #import scikit-learn metrics module for accuracy calculation"
      ],
      "metadata": {
        "id": "TmUCCZ5MuQ3D"
      },
      "execution_count": null,
      "outputs": []
    },
    {
      "cell_type": "code",
      "source": [
        "# Evaluation Mpdel\n",
        "\n",
        "from sklearn.metrics import accuracy_score\n",
        "from sklearn.metrics import classification_report\n",
        "from sklearn.metrics import precision_score, recall_score\n",
        "from sklearn.metrics import confusion_matrix"
      ],
      "metadata": {
        "id": "nNuIUBYBxA5F"
      },
      "execution_count": null,
      "outputs": []
    },
    {
      "cell_type": "code",
      "source": [
        "# Input Variabel\n",
        "\n",
        "x = df_input[['Gender',\t'Age',\t'Marital_Status', 'Website_Activity',\t'Browsed_Electronics_12Mo',\t'Bought_Electronics_12Mo',\t'Bought_Digital_Media_18Mo',\t'Bought_Digital_Books',\t'Payment_Method']]\n",
        "\n",
        "# Target Variabel\n",
        "y = df_input['Tablet_Adoption'].astype('category')"
      ],
      "metadata": {
        "id": "pr-6XC_yutst"
      },
      "execution_count": null,
      "outputs": []
    },
    {
      "cell_type": "code",
      "source": [],
      "metadata": {
        "id": "-piqwM2Swh13"
      },
      "execution_count": null,
      "outputs": []
    },
    {
      "cell_type": "code",
      "source": [
        "# SPLIT Testing & Training. 70 % training dan 30% testing\n",
        "\n",
        "x_train,x_test,y_train,y_test=train_test_split(x,y, test_size=0.3, random_state=0)"
      ],
      "metadata": {
        "id": "VxixUZfPvieO"
      },
      "execution_count": null,
      "outputs": []
    },
    {
      "cell_type": "markdown",
      "source": [
        "## Decision Tree"
      ],
      "metadata": {
        "id": "gXlfX4u-wiey"
      }
    },
    {
      "cell_type": "code",
      "source": [
        "from sklearn.tree import DecisionTreeClassifier #Import Decision Tree Classifier"
      ],
      "metadata": {
        "id": "q3rdeeaEv5Zd"
      },
      "execution_count": null,
      "outputs": []
    },
    {
      "cell_type": "code",
      "source": [
        "# Membuat objek Algoritma Decision Tree Klasifikasi\n",
        "tree =DecisionTreeClassifier(criterion='gini', splitter='best', max_depth=6)\n",
        "\n",
        "# Memodelkan data menggunakan algoritma Decision Tree\n",
        "model_tree = tree.fit(x_train,y_train)\n",
        "\n",
        "# Melakukan predict pada data test\n",
        "pred_tree = model_tree.predict(x_test)"
      ],
      "metadata": {
        "id": "7exR08Nwwm68"
      },
      "execution_count": null,
      "outputs": []
    },
    {
      "cell_type": "markdown",
      "source": [
        "## Evaluasi Decision Tree"
      ],
      "metadata": {
        "id": "ZpEPfg5mwvau"
      }
    },
    {
      "cell_type": "code",
      "source": [
        "print(classification_report(y_test, pred_tree))"
      ],
      "metadata": {
        "colab": {
          "base_uri": "https://localhost:8080/"
        },
        "id": "D6tmoF81woic",
        "outputId": "5d372f92-91de-4ffb-ade7-f41cb56f644f"
      },
      "execution_count": null,
      "outputs": [
        {
          "output_type": "stream",
          "name": "stdout",
          "text": [
            "              precision    recall  f1-score   support\n",
            "\n",
            "           0       0.51      0.64      0.56        66\n",
            "           1       0.69      0.35      0.47        57\n",
            "           2       0.44      0.48      0.46        29\n",
            "           3       0.69      0.81      0.75        47\n",
            "\n",
            "    accuracy                           0.57       199\n",
            "   macro avg       0.58      0.57      0.56       199\n",
            "weighted avg       0.59      0.57      0.56       199\n",
            "\n"
          ]
        }
      ]
    },
    {
      "cell_type": "code",
      "source": [
        "# Visualize the confusion matrix of Decision Tree\n",
        "mat = confusion_matrix(y_test, pred_tree)\n",
        "sns.heatmap(mat.T, square = True, annot = True, fmt = 'd', cbar = False)\n",
        "plt.xlabel('true label')\n",
        "plt.ylabel('predicted label')"
      ],
      "metadata": {
        "colab": {
          "base_uri": "https://localhost:8080/",
          "height": 466
        },
        "id": "5F-JUFL_w0ca",
        "outputId": "2d4cf50b-b741-497f-d506-50b494cf0fb1"
      },
      "execution_count": null,
      "outputs": [
        {
          "output_type": "execute_result",
          "data": {
            "text/plain": [
              "Text(113.9222222222222, 0.5, 'predicted label')"
            ]
          },
          "metadata": {},
          "execution_count": 33
        },
        {
          "output_type": "display_data",
          "data": {
            "text/plain": [
              "<Figure size 640x480 with 1 Axes>"
            ],
            "image/png": "[encoded data removed]"
          },
          "metadata": {}
        }
      ]
    },
    {
      "cell_type": "code",
      "source": [
        "# Signifikan faktor model Decision Tree dari model tersebut yg menggambarkan nasabah gagal bayar/tidak\n",
        "\n",
        "feat_importances = pd.Series(model_tree.feature_importances_, index=x.columns)\n",
        "feat_importances.nlargest(10).plot(kind='barh')"
      ],
      "metadata": {
        "colab": {
          "base_uri": "https://localhost:8080/",
          "height": 467
        },
        "id": "WkIrzS9dxKLw",
        "outputId": "9c761a52-22cb-4b4c-ade3-7b4be9b353dd"
      },
      "execution_count": null,
      "outputs": [
        {
          "output_type": "execute_result",
          "data": {
            "text/plain": [
              "<Axes: >"
            ]
          },
          "metadata": {},
          "execution_count": 34
        },
        {
          "output_type": "display_data",
          "data": {
            "text/plain": [
              "<Figure size 640x480 with 1 Axes>"
            ],
            "image/png": "[encoded data removed]"
          },
          "metadata": {}
        }
      ]
    },
    {
      "cell_type": "markdown",
      "source": [
        "## K Fold Validation"
      ],
      "metadata": {
        "id": "L_nYJaR8yUU9"
      }
    },
    {
      "cell_type": "markdown",
      "source": [
        "K-Fold Cross Validation adalah salah satu dari jenis pengujian cross validation yang berfungsi untuk menilai kinerja proses sebuah metode algoritma dengan membagi sampel data secara acak dan mengelompokan data tersebut sebanyak nilai K K-Fold"
      ],
      "metadata": {
        "id": "9YytgJJFyZ6i"
      }
    },
    {
      "cell_type": "code",
      "source": [
        "from sklearn.model_selection import cross_validate\n",
        "from sklearn.metrics import recall_score\n",
        "\n",
        "from sklearn.model_selection import cross_val_score"
      ],
      "metadata": {
        "id": "TfXv-N6byEpp"
      },
      "execution_count": null,
      "outputs": []
    },
    {
      "cell_type": "code",
      "source": [
        "scores = cross_val_score(model_tree, x, y, cv=10, scoring='f1_macro')"
      ],
      "metadata": {
        "id": "szDDI9XxzU2n"
      },
      "execution_count": null,
      "outputs": []
    },
    {
      "cell_type": "code",
      "source": [
        "scores"
      ],
      "metadata": {
        "colab": {
          "base_uri": "https://localhost:8080/"
        },
        "id": "-_nNbFZ6zboT",
        "outputId": "fd63300b-9775-4f32-e9ed-8d7dd5a33237"
      },
      "execution_count": null,
      "outputs": [
        {
          "output_type": "execute_result",
          "data": {
            "text/plain": [
              "array([0.65061121, 0.68782051, 0.53085568, 0.60467775, 0.66446078,\n",
              "       0.5323214 , 0.68611857, 0.60203036, 0.31814127, 0.23830011])"
            ]
          },
          "metadata": {},
          "execution_count": 41
        }
      ]
    },
    {
      "cell_type": "code",
      "source": [
        "print(\"%0.2f accuracy with a standard deviation of %0.2f\" % (scores.mean(), scores.std()))"
      ],
      "metadata": {
        "colab": {
          "base_uri": "https://localhost:8080/"
        },
        "id": "qbR1RKY9zopN",
        "outputId": "9aa4d5e6-f863-4626-8d67-335aa8a6a6e4"
      },
      "execution_count": null,
      "outputs": [
        {
          "output_type": "stream",
          "name": "stdout",
          "text": [
            "0.55 accuracy with a standard deviation of 0.15\n"
          ]
        }
      ]
    },
    {
      "cell_type": "markdown",
      "source": [
        "## Random Forest"
      ],
      "metadata": {
        "id": "NCzxDb8N1B3q"
      }
    },
    {
      "cell_type": "code",
      "source": [
        "from sklearn.ensemble import RandomForestClassifier\n",
        "from sklearn.preprocessing import LabelEncoder\n",
        "from sklearn.preprocessing import StandardScaler"
      ],
      "metadata": {
        "id": "jgSXR7820AL3"
      },
      "execution_count": null,
      "outputs": []
    },
    {
      "cell_type": "code",
      "source": [
        "# Memodelkan data menggunakan algoritma Random Forest\n",
        "clf_rf = RandomForestClassifier(n_estimators=200, max_depth=6)\n",
        "\n",
        "# Memodelkan data menggunakan algoritma Random Forest\n",
        "model_rf= clf_rf.fit(x_train,y_train)\n",
        "\n",
        "# Melakukan predict pada data test\n",
        "pred_rf = model_rf.predict(x_test)"
      ],
      "metadata": {
        "id": "v8RrDk_v1JEs"
      },
      "execution_count": null,
      "outputs": []
    },
    {
      "cell_type": "markdown",
      "source": [
        "## Evaluasi Model Random Forest"
      ],
      "metadata": {
        "id": "mBSk9roS1Rq9"
      }
    },
    {
      "cell_type": "code",
      "source": [
        "print(classification_report(y_test, pred_rf))"
      ],
      "metadata": {
        "colab": {
          "base_uri": "https://localhost:8080/"
        },
        "id": "iPvdJIN81Mxn",
        "outputId": "d27c8a7c-61a5-4430-f323-83e6dc90c778"
      },
      "execution_count": null,
      "outputs": [
        {
          "output_type": "stream",
          "name": "stdout",
          "text": [
            "              precision    recall  f1-score   support\n",
            "\n",
            "           0       0.57      0.64      0.60        66\n",
            "           1       0.75      0.42      0.54        57\n",
            "           2       0.42      0.59      0.49        29\n",
            "           3       0.70      0.79      0.74        47\n",
            "\n",
            "    accuracy                           0.60       199\n",
            "   macro avg       0.61      0.61      0.59       199\n",
            "weighted avg       0.63      0.60      0.60       199\n",
            "\n"
          ]
        }
      ]
    },
    {
      "cell_type": "code",
      "source": [
        "# Visualize the confusion matrix of Random Forest\n",
        "mat = confusion_matrix(y_test, pred_rf)\n",
        "sns.heatmap(mat.T, square = True, annot = True, fmt = 'd', cbar = False)\n",
        "plt.xlabel('true label')\n",
        "plt.ylabel('predicted label')"
      ],
      "metadata": {
        "colab": {
          "base_uri": "https://localhost:8080/",
          "height": 466
        },
        "id": "c1ihORFq1Vgr",
        "outputId": "c990578e-f5ce-4e56-c00b-c56547116f30"
      },
      "execution_count": null,
      "outputs": [
        {
          "output_type": "execute_result",
          "data": {
            "text/plain": [
              "Text(113.9222222222222, 0.5, 'predicted label')"
            ]
          },
          "metadata": {},
          "execution_count": 46
        },
        {
          "output_type": "display_data",
          "data": {
            "text/plain": [
              "<Figure size 640x480 with 1 Axes>"
            ],
            "image/png": "[encoded data removed]"
          },
          "metadata": {}
        }
      ]
    },
    {
      "cell_type": "code",
      "source": [
        "# Signifikan faktor model Random Forest dari model tersebut yg menggambarkan nasabah gagal bayar/tidak\n",
        "\n",
        "feat_importances = pd.Series(model_rf.feature_importances_, index=x.columns)\n",
        "feat_importances.nlargest(10).plot(kind='barh')"
      ],
      "metadata": {
        "colab": {
          "base_uri": "https://localhost:8080/",
          "height": 467
        },
        "id": "wRkYuqVA1lG8",
        "outputId": "5a03ceb4-ef4e-4acc-9ea5-8c8b0cb9f13d"
      },
      "execution_count": null,
      "outputs": [
        {
          "output_type": "execute_result",
          "data": {
            "text/plain": [
              "<Axes: >"
            ]
          },
          "metadata": {},
          "execution_count": 47
        },
        {
          "output_type": "display_data",
          "data": {
            "text/plain": [
              "<Figure size 640x480 with 1 Axes>"
            ],
            "image/png": "[encoded data removed]"
          },
          "metadata": {}
        }
      ]
    },
    {
      "cell_type": "code",
      "source": [
        "scores = cross_val_score(model_rf, x, y, cv=10, scoring='f1_macro')"
      ],
      "metadata": {
        "id": "-Sv_o87x2XTf"
      },
      "execution_count": null,
      "outputs": []
    },
    {
      "cell_type": "code",
      "source": [
        "scores"
      ],
      "metadata": {
        "colab": {
          "base_uri": "https://localhost:8080/"
        },
        "id": "ySPrgv512gj8",
        "outputId": "4fa4a520-7085-4082-ba01-a68e475b93e7"
      },
      "execution_count": null,
      "outputs": [
        {
          "output_type": "execute_result",
          "data": {
            "text/plain": [
              "array([0.66605084, 0.59960784, 0.65867794, 0.66493416, 0.69262371,\n",
              "       0.60463533, 0.72580645, 0.75153461, 0.28699453, 0.22973564])"
            ]
          },
          "metadata": {},
          "execution_count": 56
        }
      ]
    },
    {
      "cell_type": "code",
      "source": [
        "print(\"%0.2f accuracy with a standard deviation of %0.2f\" % (scores.mean(), scores.std()))"
      ],
      "metadata": {
        "colab": {
          "base_uri": "https://localhost:8080/"
        },
        "id": "Q0I3CiOi2jyM",
        "outputId": "c4feb018-2283-4318-e425-ae9460fbf287"
      },
      "execution_count": null,
      "outputs": [
        {
          "output_type": "stream",
          "name": "stdout",
          "text": [
            "0.59 accuracy with a standard deviation of 0.17\n"
          ]
        }
      ]
    },
    {
      "cell_type": "markdown",
      "source": [
        "## Pemodelan XGBoost"
      ],
      "metadata": {
        "id": "R6a7fe9E1et5"
      }
    },
    {
      "cell_type": "code",
      "source": [
        "from xgboost import XGBClassifier"
      ],
      "metadata": {
        "id": "IjTJsWBK1cI0"
      },
      "execution_count": null,
      "outputs": []
    },
    {
      "cell_type": "code",
      "source": [
        "clf_xg = XGBClassifier()\n",
        "\n",
        "# Memodelkan data menggunakan algoritma XGBoost\n",
        "model_xg= clf_xg.fit(x_train,y_train)\n",
        "\n",
        "# Melakukan predict pada data test\n",
        "pred_xg = model_xg.predict(x_test)"
      ],
      "metadata": {
        "id": "SmOvjU7d1qHJ"
      },
      "execution_count": null,
      "outputs": []
    },
    {
      "cell_type": "markdown",
      "source": [
        "## Evaluasi Model XGBoostClassifier"
      ],
      "metadata": {
        "id": "7tj6v3mA1v-P"
      }
    },
    {
      "cell_type": "code",
      "source": [
        "print(classification_report(y_test, pred_xg))"
      ],
      "metadata": {
        "colab": {
          "base_uri": "https://localhost:8080/"
        },
        "id": "-XR6g2nW1riv",
        "outputId": "132fb5ac-7d91-41e1-d195-ec40e2b37d6c"
      },
      "execution_count": null,
      "outputs": [
        {
          "output_type": "stream",
          "name": "stdout",
          "text": [
            "              precision    recall  f1-score   support\n",
            "\n",
            "           0       0.54      0.44      0.48        66\n",
            "           1       0.58      0.58      0.58        57\n",
            "           2       0.43      0.55      0.48        29\n",
            "           3       0.59      0.64      0.61        47\n",
            "\n",
            "    accuracy                           0.54       199\n",
            "   macro avg       0.53      0.55      0.54       199\n",
            "weighted avg       0.55      0.54      0.54       199\n",
            "\n"
          ]
        }
      ]
    },
    {
      "cell_type": "code",
      "source": [
        "# Visualize the confusion matrix of XGBoost\n",
        "mat = confusion_matrix(y_test, pred_xg)\n",
        "sns.heatmap(mat.T, square = True, annot = True, fmt = 'd', cbar = False)\n",
        "plt.xlabel('true label')\n",
        "plt.ylabel('predicted label')"
      ],
      "metadata": {
        "colab": {
          "base_uri": "https://localhost:8080/",
          "height": 466
        },
        "id": "Lx9Lh7CC1xwz",
        "outputId": "bcc1497d-d13d-4219-faa8-6883ca35b1a2"
      },
      "execution_count": null,
      "outputs": [
        {
          "output_type": "execute_result",
          "data": {
            "text/plain": [
              "Text(113.9222222222222, 0.5, 'predicted label')"
            ]
          },
          "metadata": {},
          "execution_count": 54
        },
        {
          "output_type": "display_data",
          "data": {
            "text/plain": [
              "<Figure size 640x480 with 1 Axes>"
            ],
            "image/png": "[encoded data removed]"
          },
          "metadata": {}
        }
      ]
    }
  ]
}