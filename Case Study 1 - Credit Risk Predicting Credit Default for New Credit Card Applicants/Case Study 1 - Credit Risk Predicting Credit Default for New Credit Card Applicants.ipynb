{
  "nbformat": 4,
  "nbformat_minor": 0,
  "metadata": {
    "colab": {
      "provenance": []
    },
    "kernelspec": {
      "name": "python3",
      "display_name": "Python 3"
    },
    "language_info": {
      "name": "python"
    }
  },
  "cells": [
    {
      "cell_type": "markdown",
      "source": [
        "# Business Understanding\n",
        "\n",
        "Salah satu bank terkemuka ingin memprediksi nasabah yang terindikasi kredit macet saat mengajukan pinjaman. Pemberi pinjaman biasanya membuat dua jenis keputusan:\n",
        "\n",
        "1. Pertama, apakah akan memberikan kredit kepada pemohon baru, dan\n",
        "2. Kedua, bagaimana menangani pemohon yang sudah ada, termasuk apakah akan meningkatkan batas kredit mereka.\n",
        "\n",
        "Dalam kedua kasus, apapun teknik yang digunakan, sangat penting bahwa ada sampel besat pelanggan sebelumnya dengan detail aplikasi, pola perilaku, dan riwayat kredit beriktunya yang tersedia. Sebagian besar karakteristik konsumen (pendapatan tahunan, usia, jumlah tahun bekerja engan memberi kerja saat ini, dll) dan riwayat merekan selanjutnya. Area aplikasi khas di pasar konsumen meliputi: kartu kredit, pinjaman mobil, hipotek rumah, pinjaman ekuitas rumah, pesanan katalog surat, dan berbagai macam produk pinjaman pribadi.\n",
        "\n",
        "Objectives 1 : Prediktive pengajuan nasabah kartu kredit yang abru akan gagal bayar atau tidak\n",
        "## Prediktif Analytic untuk Meminimalisir Angka Resiko Nasabah Baru yang Berpotensi Gagal Bayar pada Pengajuan Kartu Kredit Menggunakan Pendekatan Sains Data\n",
        "\n",
        "Case : Klasifikasi --> Supervised Learning\n",
        "\n",
        "Kemungkinan Algoritma yang akan dipergunakan:\n",
        "\n",
        "1. Decision Tree\n",
        "2. Random Forest\n",
        "3. Logistic Regression\n",
        "4. SVM (Support Vector Machine)\n",
        "5. XGBOOST Classifier\n",
        "\n",
        "\n",
        "Objectives 2 : Prediktive kenaikan angka kredit pada nasabah yang sudah ada\n",
        "## Implementasi Machine Learning untuk Predictive sebagai Langkah Optimalisasi Nilai Kredit OLD Nasabah pada Bank XX Menggunakan ...\n",
        "\n",
        "Case : Estimasi\n",
        "\n",
        "Kemungkinan Algoritma yang akan dipergunakan:\n",
        "\n",
        "1. Linier Regression\n",
        "2. ANN (Artificial Neural Network)"
      ],
      "metadata": {
        "id": "GqJqXGGZqiWr"
      }
    },
    {
      "cell_type": "code",
      "source": [
        "# Memanggil Library\n",
        "\n",
        "import pandas as pd\n",
        "import numpy as np\n",
        "import seaborn as sns\n",
        "import matplotlib.pyplot as plt"
      ],
      "metadata": {
        "id": "9_0YTZs0veMN"
      },
      "execution_count": null,
      "outputs": []
    },
    {
      "cell_type": "markdown",
      "source": [
        "# Data Understanding"
      ],
      "metadata": {
        "id": "tMZXBClfvst5"
      }
    },
    {
      "cell_type": "code",
      "source": [
        "# Mengubungkan Data\n",
        "from google.colab import drive\n",
        "drive.mount('/content/drive')"
      ],
      "metadata": {
        "colab": {
          "base_uri": "https://localhost:8080/"
        },
        "id": "q4QBMTVgvqvE",
        "outputId": "bc6d4481-8b9e-41a5-8869-ed525ff0d155"
      },
      "execution_count": null,
      "outputs": [
        {
          "output_type": "stream",
          "name": "stdout",
          "text": [
            "Drive already mounted at /content/drive; to attempt to forcibly remount, call drive.mount(\"/content/drive\", force_remount=True).\n"
          ]
        }
      ]
    },
    {
      "cell_type": "code",
      "source": [
        "path = '/content/drive/MyDrive/PDA_DataSource/credit_risk_1.csv'\n",
        "\n",
        "load_data_cr = pd.read_csv(path)\n",
        "load_data_cr"
      ],
      "metadata": {
        "colab": {
          "base_uri": "https://localhost:8080/",
          "height": 505
        },
        "id": "nw1nYvOSv8xx",
        "outputId": "ca1c9a8c-9c96-4dd3-b7dc-a69553dd4bbe"
      },
      "execution_count": null,
      "outputs": [
        {
          "output_type": "execute_result",
          "data": {
            "text/plain": [
              "     Unnamed: 0  age  ed  employ  address  income  debtinc   creddebt  \\\n",
              "0             0   41   3      17       12     176      9.3  11.359392   \n",
              "1             1   27   1      10        6      31     17.3   1.362202   \n",
              "2             2   40   1      15       14      55      5.5   0.856075   \n",
              "3             3   41   1      15       14     120      2.9   2.658720   \n",
              "4             4   24   2       2        0      28     17.3   1.787436   \n",
              "..          ...  ...  ..     ...      ...     ...      ...        ...   \n",
              "695         695   36   2       6       15      27      4.6   0.262062   \n",
              "696         696   29   2       6        4      21     11.5   0.369495   \n",
              "697         697   33   1      15        3      32      7.6   0.491264   \n",
              "698         698   45   1      19       22      77      8.4   2.302608   \n",
              "699         699   37   1      12       14      44     14.7   2.994684   \n",
              "\n",
              "      othdebt  default  \n",
              "0    5.008608      1.0  \n",
              "1    4.000798      0.0  \n",
              "2    2.168925      0.0  \n",
              "3    0.821280      0.0  \n",
              "4    3.056564      1.0  \n",
              "..        ...      ...  \n",
              "695  0.979938      1.0  \n",
              "696  2.045505      0.0  \n",
              "697  1.940736      0.0  \n",
              "698  4.165392      0.0  \n",
              "699  3.473316      0.0  \n",
              "\n",
              "[700 rows x 10 columns]"
            ],
            "text/html": [
              "\n",
              "  <div id=\"df-3508faf8-883a-47d6-aa60-4043e0501e04\">\n",
              "    <div class=\"colab-df-container\">\n",
              "      <div>\n",
              "<style scoped>\n",
              "    .dataframe tbody tr th:only-of-type {\n",
              "        vertical-align: middle;\n",
              "    }\n",
              "\n",
              "    .dataframe tbody tr th {\n",
              "        vertical-align: top;\n",
              "    }\n",
              "\n",
              "    .dataframe thead th {\n",
              "        text-align: right;\n",
              "    }\n",
              "</style>\n",
              "<table border=\"1\" class=\"dataframe\">\n",
              "  <thead>\n",
              "    <tr style=\"text-align: right;\">\n",
              "      <th></th>\n",
              "      <th>Unnamed: 0</th>\n",
              "      <th>age</th>\n",
              "      <th>ed</th>\n",
              "      <th>employ</th>\n",
              "      <th>address</th>\n",
              "      <th>income</th>\n",
              "      <th>debtinc</th>\n",
              "      <th>creddebt</th>\n",
              "      <th>othdebt</th>\n",
              "      <th>default</th>\n",
              "    </tr>\n",
              "  </thead>\n",
              "  <tbody>\n",
              "    <tr>\n",
              "      <th>0</th>\n",
              "      <td>0</td>\n",
              "      <td>41</td>\n",
              "      <td>3</td>\n",
              "      <td>17</td>\n",
              "      <td>12</td>\n",
              "      <td>176</td>\n",
              "      <td>9.3</td>\n",
              "      <td>11.359392</td>\n",
              "      <td>5.008608</td>\n",
              "      <td>1.0</td>\n",
              "    </tr>\n",
              "    <tr>\n",
              "      <th>1</th>\n",
              "      <td>1</td>\n",
              "      <td>27</td>\n",
              "      <td>1</td>\n",
              "      <td>10</td>\n",
              "      <td>6</td>\n",
              "      <td>31</td>\n",
              "      <td>17.3</td>\n",
              "      <td>1.362202</td>\n",
              "      <td>4.000798</td>\n",
              "      <td>0.0</td>\n",
              "    </tr>\n",
              "    <tr>\n",
              "      <th>2</th>\n",
              "      <td>2</td>\n",
              "      <td>40</td>\n",
              "      <td>1</td>\n",
              "      <td>15</td>\n",
              "      <td>14</td>\n",
              "      <td>55</td>\n",
              "      <td>5.5</td>\n",
              "      <td>0.856075</td>\n",
              "      <td>2.168925</td>\n",
              "      <td>0.0</td>\n",
              "    </tr>\n",
              "    <tr>\n",
              "      <th>3</th>\n",
              "      <td>3</td>\n",
              "      <td>41</td>\n",
              "      <td>1</td>\n",
              "      <td>15</td>\n",
              "      <td>14</td>\n",
              "      <td>120</td>\n",
              "      <td>2.9</td>\n",
              "      <td>2.658720</td>\n",
              "      <td>0.821280</td>\n",
              "      <td>0.0</td>\n",
              "    </tr>\n",
              "    <tr>\n",
              "      <th>4</th>\n",
              "      <td>4</td>\n",
              "      <td>24</td>\n",
              "      <td>2</td>\n",
              "      <td>2</td>\n",
              "      <td>0</td>\n",
              "      <td>28</td>\n",
              "      <td>17.3</td>\n",
              "      <td>1.787436</td>\n",
              "      <td>3.056564</td>\n",
              "      <td>1.0</td>\n",
              "    </tr>\n",
              "    <tr>\n",
              "      <th>...</th>\n",
              "      <td>...</td>\n",
              "      <td>...</td>\n",
              "      <td>...</td>\n",
              "      <td>...</td>\n",
              "      <td>...</td>\n",
              "      <td>...</td>\n",
              "      <td>...</td>\n",
              "      <td>...</td>\n",
              "      <td>...</td>\n",
              "      <td>...</td>\n",
              "    </tr>\n",
              "    <tr>\n",
              "      <th>695</th>\n",
              "      <td>695</td>\n",
              "      <td>36</td>\n",
              "      <td>2</td>\n",
              "      <td>6</td>\n",
              "      <td>15</td>\n",
              "      <td>27</td>\n",
              "      <td>4.6</td>\n",
              "      <td>0.262062</td>\n",
              "      <td>0.979938</td>\n",
              "      <td>1.0</td>\n",
              "    </tr>\n",
              "    <tr>\n",
              "      <th>696</th>\n",
              "      <td>696</td>\n",
              "      <td>29</td>\n",
              "      <td>2</td>\n",
              "      <td>6</td>\n",
              "      <td>4</td>\n",
              "      <td>21</td>\n",
              "      <td>11.5</td>\n",
              "      <td>0.369495</td>\n",
              "      <td>2.045505</td>\n",
              "      <td>0.0</td>\n",
              "    </tr>\n",
              "    <tr>\n",
              "      <th>697</th>\n",
              "      <td>697</td>\n",
              "      <td>33</td>\n",
              "      <td>1</td>\n",
              "      <td>15</td>\n",
              "      <td>3</td>\n",
              "      <td>32</td>\n",
              "      <td>7.6</td>\n",
              "      <td>0.491264</td>\n",
              "      <td>1.940736</td>\n",
              "      <td>0.0</td>\n",
              "    </tr>\n",
              "    <tr>\n",
              "      <th>698</th>\n",
              "      <td>698</td>\n",
              "      <td>45</td>\n",
              "      <td>1</td>\n",
              "      <td>19</td>\n",
              "      <td>22</td>\n",
              "      <td>77</td>\n",
              "      <td>8.4</td>\n",
              "      <td>2.302608</td>\n",
              "      <td>4.165392</td>\n",
              "      <td>0.0</td>\n",
              "    </tr>\n",
              "    <tr>\n",
              "      <th>699</th>\n",
              "      <td>699</td>\n",
              "      <td>37</td>\n",
              "      <td>1</td>\n",
              "      <td>12</td>\n",
              "      <td>14</td>\n",
              "      <td>44</td>\n",
              "      <td>14.7</td>\n",
              "      <td>2.994684</td>\n",
              "      <td>3.473316</td>\n",
              "      <td>0.0</td>\n",
              "    </tr>\n",
              "  </tbody>\n",
              "</table>\n",
              "<p>700 rows × 10 columns</p>\n",
              "</div>\n",
              "      <button class=\"colab-df-convert\" onclick=\"convertToInteractive('df-3508faf8-883a-47d6-aa60-4043e0501e04')\"\n",
              "              title=\"Convert this dataframe to an interactive table.\"\n",
              "              style=\"display:none;\">\n",
              "        \n",
              "  <svg xmlns=\"http://www.w3.org/2000/svg\" height=\"24px\"viewBox=\"0 0 24 24\"\n",
              "       width=\"24px\">\n",
              "    <path d=\"M0 0h24v24H0V0z\" fill=\"none\"/>\n",
              "    <path d=\"M18.56 5.44l.94 2.06.94-2.06 2.06-.94-2.06-.94-.94-2.06-.94 2.06-2.06.94zm-11 1L8.5 8.5l.94-2.06 2.06-.94-2.06-.94L8.5 2.5l-.94 2.06-2.06.94zm10 10l.94 2.06.94-2.06 2.06-.94-2.06-.94-.94-2.06-.94 2.06-2.06.94z\"/><path d=\"M17.41 7.96l-1.37-1.37c-.4-.4-.92-.59-1.43-.59-.52 0-1.04.2-1.43.59L10.3 9.45l-7.72 7.72c-.78.78-.78 2.05 0 2.83L4 21.41c.39.39.9.59 1.41.59.51 0 1.02-.2 1.41-.59l7.78-7.78 2.81-2.81c.8-.78.8-2.07 0-2.86zM5.41 20L4 18.59l7.72-7.72 1.47 1.35L5.41 20z\"/>\n",
              "  </svg>\n",
              "      </button>\n",
              "      \n",
              "  <style>\n",
              "    .colab-df-container {\n",
              "      display:flex;\n",
              "      flex-wrap:wrap;\n",
              "      gap: 12px;\n",
              "    }\n",
              "\n",
              "    .colab-df-convert {\n",
              "      background-color: #E8F0FE;\n",
              "      border: none;\n",
              "      border-radius: 50%;\n",
              "      cursor: pointer;\n",
              "      display: none;\n",
              "      fill: #1967D2;\n",
              "      height: 32px;\n",
              "      padding: 0 0 0 0;\n",
              "      width: 32px;\n",
              "    }\n",
              "\n",
              "    .colab-df-convert:hover {\n",
              "      background-color: #E2EBFA;\n",
              "      box-shadow: 0px 1px 2px rgba(60, 64, 67, 0.3), 0px 1px 3px 1px rgba(60, 64, 67, 0.15);\n",
              "      fill: #174EA6;\n",
              "    }\n",
              "\n",
              "    [theme=dark] .colab-df-convert {\n",
              "      background-color: #3B4455;\n",
              "      fill: #D2E3FC;\n",
              "    }\n",
              "\n",
              "    [theme=dark] .colab-df-convert:hover {\n",
              "      background-color: #434B5C;\n",
              "      box-shadow: 0px 1px 3px 1px rgba(0, 0, 0, 0.15);\n",
              "      filter: drop-shadow(0px 1px 2px rgba(0, 0, 0, 0.3));\n",
              "      fill: #FFFFFF;\n",
              "    }\n",
              "  </style>\n",
              "\n",
              "      <script>\n",
              "        const buttonEl =\n",
              "          document.querySelector('#df-3508faf8-883a-47d6-aa60-4043e0501e04 button.colab-df-convert');\n",
              "        buttonEl.style.display =\n",
              "          google.colab.kernel.accessAllowed ? 'block' : 'none';\n",
              "\n",
              "        async function convertToInteractive(key) {\n",
              "          const element = document.querySelector('#df-3508faf8-883a-47d6-aa60-4043e0501e04');\n",
              "          const dataTable =\n",
              "            await google.colab.kernel.invokeFunction('convertToInteractive',\n",
              "                                                     [key], {});\n",
              "          if (!dataTable) return;\n",
              "\n",
              "          const docLinkHtml = 'Like what you see? Visit the ' +\n",
              "            '<a target=\"_blank\" href=https://colab.research.google.com/notebooks/data_table.ipynb>data table notebook</a>'\n",
              "            + ' to learn more about interactive tables.';\n",
              "          element.innerHTML = '';\n",
              "          dataTable['output_type'] = 'display_data';\n",
              "          await google.colab.output.renderOutput(dataTable, element);\n",
              "          const docLink = document.createElement('div');\n",
              "          docLink.innerHTML = docLinkHtml;\n",
              "          element.appendChild(docLink);\n",
              "        }\n",
              "      </script>\n",
              "    </div>\n",
              "  </div>\n",
              "  "
            ]
          },
          "metadata": {},
          "execution_count": 29
        }
      ]
    },
    {
      "cell_type": "code",
      "source": [
        "# Membuat data frame\n",
        "\n",
        "df = pd.DataFrame(load_data_cr)\n",
        "df.head()"
      ],
      "metadata": {
        "colab": {
          "base_uri": "https://localhost:8080/",
          "height": 267
        },
        "id": "oxOX-McWyFTj",
        "outputId": "0ffef1e4-2953-469c-eee0-dbb772349178"
      },
      "execution_count": null,
      "outputs": [
        {
          "output_type": "execute_result",
          "data": {
            "text/plain": [
              "   Unnamed: 0  age  ed  employ  address  income  debtinc   creddebt   othdebt  \\\n",
              "0           0   41   3      17       12     176      9.3  11.359392  5.008608   \n",
              "1           1   27   1      10        6      31     17.3   1.362202  4.000798   \n",
              "2           2   40   1      15       14      55      5.5   0.856075  2.168925   \n",
              "3           3   41   1      15       14     120      2.9   2.658720  0.821280   \n",
              "4           4   24   2       2        0      28     17.3   1.787436  3.056564   \n",
              "\n",
              "   default  \n",
              "0      1.0  \n",
              "1      0.0  \n",
              "2      0.0  \n",
              "3      0.0  \n",
              "4      1.0  "
            ],
            "text/html": [
              "\n",
              "  <div id=\"df-a0414fbe-ead2-4412-9576-7219b68b7127\">\n",
              "    <div class=\"colab-df-container\">\n",
              "      <div>\n",
              "<style scoped>\n",
              "    .dataframe tbody tr th:only-of-type {\n",
              "        vertical-align: middle;\n",
              "    }\n",
              "\n",
              "    .dataframe tbody tr th {\n",
              "        vertical-align: top;\n",
              "    }\n",
              "\n",
              "    .dataframe thead th {\n",
              "        text-align: right;\n",
              "    }\n",
              "</style>\n",
              "<table border=\"1\" class=\"dataframe\">\n",
              "  <thead>\n",
              "    <tr style=\"text-align: right;\">\n",
              "      <th></th>\n",
              "      <th>Unnamed: 0</th>\n",
              "      <th>age</th>\n",
              "      <th>ed</th>\n",
              "      <th>employ</th>\n",
              "      <th>address</th>\n",
              "      <th>income</th>\n",
              "      <th>debtinc</th>\n",
              "      <th>creddebt</th>\n",
              "      <th>othdebt</th>\n",
              "      <th>default</th>\n",
              "    </tr>\n",
              "  </thead>\n",
              "  <tbody>\n",
              "    <tr>\n",
              "      <th>0</th>\n",
              "      <td>0</td>\n",
              "      <td>41</td>\n",
              "      <td>3</td>\n",
              "      <td>17</td>\n",
              "      <td>12</td>\n",
              "      <td>176</td>\n",
              "      <td>9.3</td>\n",
              "      <td>11.359392</td>\n",
              "      <td>5.008608</td>\n",
              "      <td>1.0</td>\n",
              "    </tr>\n",
              "    <tr>\n",
              "      <th>1</th>\n",
              "      <td>1</td>\n",
              "      <td>27</td>\n",
              "      <td>1</td>\n",
              "      <td>10</td>\n",
              "      <td>6</td>\n",
              "      <td>31</td>\n",
              "      <td>17.3</td>\n",
              "      <td>1.362202</td>\n",
              "      <td>4.000798</td>\n",
              "      <td>0.0</td>\n",
              "    </tr>\n",
              "    <tr>\n",
              "      <th>2</th>\n",
              "      <td>2</td>\n",
              "      <td>40</td>\n",
              "      <td>1</td>\n",
              "      <td>15</td>\n",
              "      <td>14</td>\n",
              "      <td>55</td>\n",
              "      <td>5.5</td>\n",
              "      <td>0.856075</td>\n",
              "      <td>2.168925</td>\n",
              "      <td>0.0</td>\n",
              "    </tr>\n",
              "    <tr>\n",
              "      <th>3</th>\n",
              "      <td>3</td>\n",
              "      <td>41</td>\n",
              "      <td>1</td>\n",
              "      <td>15</td>\n",
              "      <td>14</td>\n",
              "      <td>120</td>\n",
              "      <td>2.9</td>\n",
              "      <td>2.658720</td>\n",
              "      <td>0.821280</td>\n",
              "      <td>0.0</td>\n",
              "    </tr>\n",
              "    <tr>\n",
              "      <th>4</th>\n",
              "      <td>4</td>\n",
              "      <td>24</td>\n",
              "      <td>2</td>\n",
              "      <td>2</td>\n",
              "      <td>0</td>\n",
              "      <td>28</td>\n",
              "      <td>17.3</td>\n",
              "      <td>1.787436</td>\n",
              "      <td>3.056564</td>\n",
              "      <td>1.0</td>\n",
              "    </tr>\n",
              "  </tbody>\n",
              "</table>\n",
              "</div>\n",
              "      <button class=\"colab-df-convert\" onclick=\"convertToInteractive('df-a0414fbe-ead2-4412-9576-7219b68b7127')\"\n",
              "              title=\"Convert this dataframe to an interactive table.\"\n",
              "              style=\"display:none;\">\n",
              "        \n",
              "  <svg xmlns=\"http://www.w3.org/2000/svg\" height=\"24px\"viewBox=\"0 0 24 24\"\n",
              "       width=\"24px\">\n",
              "    <path d=\"M0 0h24v24H0V0z\" fill=\"none\"/>\n",
              "    <path d=\"M18.56 5.44l.94 2.06.94-2.06 2.06-.94-2.06-.94-.94-2.06-.94 2.06-2.06.94zm-11 1L8.5 8.5l.94-2.06 2.06-.94-2.06-.94L8.5 2.5l-.94 2.06-2.06.94zm10 10l.94 2.06.94-2.06 2.06-.94-2.06-.94-.94-2.06-.94 2.06-2.06.94z\"/><path d=\"M17.41 7.96l-1.37-1.37c-.4-.4-.92-.59-1.43-.59-.52 0-1.04.2-1.43.59L10.3 9.45l-7.72 7.72c-.78.78-.78 2.05 0 2.83L4 21.41c.39.39.9.59 1.41.59.51 0 1.02-.2 1.41-.59l7.78-7.78 2.81-2.81c.8-.78.8-2.07 0-2.86zM5.41 20L4 18.59l7.72-7.72 1.47 1.35L5.41 20z\"/>\n",
              "  </svg>\n",
              "      </button>\n",
              "      \n",
              "  <style>\n",
              "    .colab-df-container {\n",
              "      display:flex;\n",
              "      flex-wrap:wrap;\n",
              "      gap: 12px;\n",
              "    }\n",
              "\n",
              "    .colab-df-convert {\n",
              "      background-color: #E8F0FE;\n",
              "      border: none;\n",
              "      border-radius: 50%;\n",
              "      cursor: pointer;\n",
              "      display: none;\n",
              "      fill: #1967D2;\n",
              "      height: 32px;\n",
              "      padding: 0 0 0 0;\n",
              "      width: 32px;\n",
              "    }\n",
              "\n",
              "    .colab-df-convert:hover {\n",
              "      background-color: #E2EBFA;\n",
              "      box-shadow: 0px 1px 2px rgba(60, 64, 67, 0.3), 0px 1px 3px 1px rgba(60, 64, 67, 0.15);\n",
              "      fill: #174EA6;\n",
              "    }\n",
              "\n",
              "    [theme=dark] .colab-df-convert {\n",
              "      background-color: #3B4455;\n",
              "      fill: #D2E3FC;\n",
              "    }\n",
              "\n",
              "    [theme=dark] .colab-df-convert:hover {\n",
              "      background-color: #434B5C;\n",
              "      box-shadow: 0px 1px 3px 1px rgba(0, 0, 0, 0.15);\n",
              "      filter: drop-shadow(0px 1px 2px rgba(0, 0, 0, 0.3));\n",
              "      fill: #FFFFFF;\n",
              "    }\n",
              "  </style>\n",
              "\n",
              "      <script>\n",
              "        const buttonEl =\n",
              "          document.querySelector('#df-a0414fbe-ead2-4412-9576-7219b68b7127 button.colab-df-convert');\n",
              "        buttonEl.style.display =\n",
              "          google.colab.kernel.accessAllowed ? 'block' : 'none';\n",
              "\n",
              "        async function convertToInteractive(key) {\n",
              "          const element = document.querySelector('#df-a0414fbe-ead2-4412-9576-7219b68b7127');\n",
              "          const dataTable =\n",
              "            await google.colab.kernel.invokeFunction('convertToInteractive',\n",
              "                                                     [key], {});\n",
              "          if (!dataTable) return;\n",
              "\n",
              "          const docLinkHtml = 'Like what you see? Visit the ' +\n",
              "            '<a target=\"_blank\" href=https://colab.research.google.com/notebooks/data_table.ipynb>data table notebook</a>'\n",
              "            + ' to learn more about interactive tables.';\n",
              "          element.innerHTML = '';\n",
              "          dataTable['output_type'] = 'display_data';\n",
              "          await google.colab.output.renderOutput(dataTable, element);\n",
              "          const docLink = document.createElement('div');\n",
              "          docLink.innerHTML = docLinkHtml;\n",
              "          element.appendChild(docLink);\n",
              "        }\n",
              "      </script>\n",
              "    </div>\n",
              "  </div>\n",
              "  "
            ]
          },
          "metadata": {},
          "execution_count": 30
        }
      ]
    },
    {
      "cell_type": "markdown",
      "source": [
        "Data Decscription There are 9 attributes containing 850 customer records followed by :\n",
        "\n",
        "age : Umur nasabah\n",
        "\n",
        "ed : Level pendidikan nasabah\n",
        "\n",
        "employ : Masa jabatan dengan pemberi kerja saat ini (dalam tahun)\n",
        "\n",
        "addres : Jumlah tahun di alamat yang sama\n",
        "\n",
        "income : Pendapatan nasabah\n",
        "\n",
        "debtinc : Debt to income ratio (Rasio hutang terhadap pendapatan) adalah semua pembayaran hutang bulanan anda dibagi dengan pendapatan kotor bulanan anda. Angka ini adalah salah satu cara pemberi pinjaman mengukur kemampuan anda untuk mengelola pembayaran bulanan untuk melunasi uang yang anda rencanakan untuk dipinjam. Rasio hutang terhadap pendapatan anda tidak secara langung mempengaruhi nilai kredit anda. Ini karena lembaga kredit tidak tahu berapa banyak uang yang anda peroleh, sehingga tidak dapat melakukan perhitungan.\n",
        "\n",
        "creddebt : Credit to debt ratio (Rasio kredit terhadap utang), Menunjukan bahwa presentase rasio hutang terhadap kredit yang baik di bawah 30%. Dan itu berlaku untuk rasio anda pada salah satu kartu anda secara terpisah serta untuk rasio keseluruhan anda.\n",
        "\n",
        "othdebt : Utang lainnya\n",
        "\n",
        "default : Label nasabah gagal di masa lalu (1 = gagal, 0 = tidak pernah gagal)"
      ],
      "metadata": {
        "id": "NyBw8TowyuMm"
      }
    },
    {
      "cell_type": "code",
      "source": [
        "df.info()"
      ],
      "metadata": {
        "colab": {
          "base_uri": "https://localhost:8080/"
        },
        "id": "r_ghE1VNyU4-",
        "outputId": "13a8e151-3477-4d39-ed99-09492d0eea3e"
      },
      "execution_count": null,
      "outputs": [
        {
          "output_type": "stream",
          "name": "stdout",
          "text": [
            "<class 'pandas.core.frame.DataFrame'>\n",
            "RangeIndex: 700 entries, 0 to 699\n",
            "Data columns (total 10 columns):\n",
            " #   Column      Non-Null Count  Dtype  \n",
            "---  ------      --------------  -----  \n",
            " 0   Unnamed: 0  700 non-null    int64  \n",
            " 1   age         700 non-null    int64  \n",
            " 2   ed          700 non-null    int64  \n",
            " 3   employ      700 non-null    int64  \n",
            " 4   address     700 non-null    int64  \n",
            " 5   income      700 non-null    int64  \n",
            " 6   debtinc     700 non-null    float64\n",
            " 7   creddebt    700 non-null    float64\n",
            " 8   othdebt     700 non-null    float64\n",
            " 9   default     700 non-null    float64\n",
            "dtypes: float64(4), int64(6)\n",
            "memory usage: 54.8 KB\n"
          ]
        }
      ]
    },
    {
      "cell_type": "markdown",
      "source": [
        "Tipe data semuanya numerik. Tetapi case nya adalah klasifikasi. Sehingga pada tahap pemodelan data variabel dependen/variabel target harus dirubah kedalam bentuk kategori\n",
        "\n",
        "Syarat KLASIFIKASI\n",
        "  1. Variabel target/dependen --> Kategorik\n",
        "  2. Input variabel bisa kategorik atau bisa numerik\n",
        "\n",
        "VARIABEL TARGET/DEPENDEN : default\n",
        "Input variabel :\n",
        "1. age\n",
        "2. ed\n",
        "3. employ\n",
        "4. adress\n",
        "5. income\n",
        "6. debtinc\n",
        "7. creddebt\n",
        "8. othdebt"
      ],
      "metadata": {
        "id": "46yZXoZz8c0H"
      }
    },
    {
      "cell_type": "code",
      "source": [
        "df.isnull().sum()"
      ],
      "metadata": {
        "colab": {
          "base_uri": "https://localhost:8080/"
        },
        "id": "nAaq30YD1HiH",
        "outputId": "c9e52985-9b11-4bef-b13c-b7485d8d3645"
      },
      "execution_count": null,
      "outputs": [
        {
          "output_type": "execute_result",
          "data": {
            "text/plain": [
              "Unnamed: 0    0\n",
              "age           0\n",
              "ed            0\n",
              "employ        0\n",
              "address       0\n",
              "income        0\n",
              "debtinc       0\n",
              "creddebt      0\n",
              "othdebt       0\n",
              "default       0\n",
              "dtype: int64"
            ]
          },
          "metadata": {},
          "execution_count": 32
        }
      ]
    },
    {
      "cell_type": "code",
      "source": [
        "# Melakukan cek value jumlah default berdasarkan gagal atau tidak (1 atau 0)\n",
        "\n",
        "df['default'].value_counts()"
      ],
      "metadata": {
        "colab": {
          "base_uri": "https://localhost:8080/"
        },
        "id": "G-5EdPy41KlY",
        "outputId": "556c17d7-c32a-41db-e0ff-28af9d7f95af"
      },
      "execution_count": null,
      "outputs": [
        {
          "output_type": "execute_result",
          "data": {
            "text/plain": [
              "0.0    517\n",
              "1.0    183\n",
              "Name: default, dtype: int64"
            ]
          },
          "metadata": {},
          "execution_count": 33
        }
      ]
    },
    {
      "cell_type": "code",
      "source": [
        "df['ed'].value_counts()"
      ],
      "metadata": {
        "colab": {
          "base_uri": "https://localhost:8080/"
        },
        "id": "gx6KO8nz-Chb",
        "outputId": "430153db-e7c4-4c4d-f2b3-20c38a043ce4"
      },
      "execution_count": null,
      "outputs": [
        {
          "output_type": "execute_result",
          "data": {
            "text/plain": [
              "1    372\n",
              "2    198\n",
              "3     87\n",
              "4     38\n",
              "5      5\n",
              "Name: ed, dtype: int64"
            ]
          },
          "metadata": {},
          "execution_count": 34
        }
      ]
    },
    {
      "cell_type": "code",
      "source": [
        "df_data_cr = pd.DataFrame(load_data_cr)"
      ],
      "metadata": {
        "id": "Yrw--ryM-JGL"
      },
      "execution_count": null,
      "outputs": []
    },
    {
      "cell_type": "code",
      "source": [
        "df = df_data_cr[['age', 'ed', 'employ', 'address', 'income', 'debtinc', 'creddebt', 'othdebt', 'default']]"
      ],
      "metadata": {
        "id": "FJkRU0r3-Sz0"
      },
      "execution_count": null,
      "outputs": []
    },
    {
      "cell_type": "code",
      "source": [
        "# Menganalisia kondisi data, melihat Outlier pada adata\n",
        "\n",
        "sns.boxplot(x = 'variable', y = 'value', data = pd.melt(df))\n",
        "plt.show"
      ],
      "metadata": {
        "colab": {
          "base_uri": "https://localhost:8080/",
          "height": 466
        },
        "id": "Uc-8DeX3-1w-",
        "outputId": "f3612b1b-3c05-4929-b426-80af0bc2e643"
      },
      "execution_count": null,
      "outputs": [
        {
          "output_type": "execute_result",
          "data": {
            "text/plain": [
              "<function matplotlib.pyplot.show(close=None, block=None)>"
            ]
          },
          "metadata": {},
          "execution_count": 37
        },
        {
          "output_type": "display_data",
          "data": {
            "text/plain": [
              "<Figure size 640x480 with 1 Axes>"
            ],
            "image/png": "[encoded data removed]"
          },
          "metadata": {}
        }
      ]
    },
    {
      "cell_type": "markdown",
      "source": [
        "Variabel income memiliki nilai yang cenderung tinggi daripada variabel lainnya. Karena INCOME itu adalah UANG"
      ],
      "metadata": {
        "id": "ZpRn66jdAiLa"
      }
    },
    {
      "cell_type": "code",
      "source": [
        "df_a = df[['age', 'ed', 'employ', 'address', 'debtinc', 'creddebt']]"
      ],
      "metadata": {
        "id": "hde0D2aIAklo"
      },
      "execution_count": null,
      "outputs": []
    },
    {
      "cell_type": "code",
      "source": [
        "sns.boxplot(x = 'variable', y = 'value', data = pd.melt(df_a))\n",
        "plt.show"
      ],
      "metadata": {
        "colab": {
          "base_uri": "https://localhost:8080/",
          "height": 466
        },
        "id": "MWOwyGtXA1kQ",
        "outputId": "ba578011-617d-4c88-8922-8c93da783454"
      },
      "execution_count": null,
      "outputs": [
        {
          "output_type": "execute_result",
          "data": {
            "text/plain": [
              "<function matplotlib.pyplot.show(close=None, block=None)>"
            ]
          },
          "metadata": {},
          "execution_count": 39
        },
        {
          "output_type": "display_data",
          "data": {
            "text/plain": [
              "<Figure size 640x480 with 1 Axes>"
            ],
            "image/png": "[encoded data removed]"
          },
          "metadata": {}
        }
      ]
    },
    {
      "cell_type": "code",
      "source": [
        "df_b = df[['ed']]\n",
        "\n",
        "sns.boxplot(x = 'variable', y = 'value', data = pd.melt(df_b))\n",
        "plt.show"
      ],
      "metadata": {
        "colab": {
          "base_uri": "https://localhost:8080/",
          "height": 466
        },
        "id": "5iCoZnnx_j_e",
        "outputId": "40304f8d-a482-4d7c-99ad-c8a48b1166dc"
      },
      "execution_count": null,
      "outputs": [
        {
          "output_type": "execute_result",
          "data": {
            "text/plain": [
              "<function matplotlib.pyplot.show(close=None, block=None)>"
            ]
          },
          "metadata": {},
          "execution_count": 40
        },
        {
          "output_type": "display_data",
          "data": {
            "text/plain": [
              "<Figure size 640x480 with 1 Axes>"
            ],
            "image/png": "[encoded data removed]"
          },
          "metadata": {}
        }
      ]
    },
    {
      "cell_type": "markdown",
      "source": [
        "1. Calon nasabah kredit di dominasi usia diatas 20\n",
        "2. Tingkat pendidikan calon nasabah ada 5 yaitu SD/SMP/SMA/S1/S2. Dimana tingkat pendidikan 1 dan 2 berada pada area boxplot (sebarannya banyak). Sedangkan ED 3 -> lebih sedikit. Makin sedikit level pendidikan maka makin besar peluang pengajuan kreditnya\n",
        "3. Orang mengajukan kredit jika mereka sudah diatas 2 tahun tinggal di tempat yang sama, jabatan yang sama, rasio debtic dalam 2 tahun (nilainnya sama)\n",
        "4. Ada banyak calon nasabah kredit memiliki hutang lainnya."
      ],
      "metadata": {
        "id": "JELHYQ2RBMb_"
      }
    },
    {
      "cell_type": "code",
      "source": [
        "scatplot = sns.FacetGrid(df_data_cr, col = 'ed', hue = 'default')\n",
        "scatplot.map(plt.scatter, 'age', 'othdebt', alpha=.7)\n",
        "scatplot.add_legend()"
      ],
      "metadata": {
        "colab": {
          "base_uri": "https://localhost:8080/",
          "height": 154
        },
        "id": "VvT-BI1EAEso",
        "outputId": "d17baa64-209d-417c-c19a-4cb324c9b54c"
      },
      "execution_count": null,
      "outputs": [
        {
          "output_type": "execute_result",
          "data": {
            "text/plain": [
              "<seaborn.axisgrid.FacetGrid at 0x7ff3395f36a0>"
            ]
          },
          "metadata": {},
          "execution_count": 41
        },
        {
          "output_type": "display_data",
          "data": {
            "text/plain": [
              "<Figure size 1572x300 with 5 Axes>"
            ],
            "image/png": "[encoded data removed]"
          },
          "metadata": {}
        }
      ]
    },
    {
      "cell_type": "markdown",
      "source": [
        "1. Potensi gagal bayar didominasi pada range usia 20 sd 30 pada level ED 1\n",
        "2. Potensi gagal bayar didominasi pada range usia 20 sd 35 pada level ED 2\n",
        "3. Potensi gagal bayar didominasi pada range usia 20 sd 45 pada level ED 3\n",
        "4. Potensi gagal bayar didominasi pada range usia 20 sd 28 pada level ED 4\n",
        "5. Potensi gagal bayar didominasi pada range usia diatas 50 pada level ED 5"
      ],
      "metadata": {
        "id": "myf0S9p3Crg8"
      }
    },
    {
      "cell_type": "markdown",
      "source": [
        "# Data Preparation"
      ],
      "metadata": {
        "id": "4Ws6o3xpC-4o"
      }
    },
    {
      "cell_type": "markdown",
      "source": [
        "Mencari NULL value dan NAN value"
      ],
      "metadata": {
        "id": "RT-tMGwCDPcA"
      }
    },
    {
      "cell_type": "code",
      "source": [
        "df.isnull().sum()"
      ],
      "metadata": {
        "colab": {
          "base_uri": "https://localhost:8080/"
        },
        "id": "kgyUBV3yClFq",
        "outputId": "efedea32-b1d2-4a94-9189-ab8a315f17ac"
      },
      "execution_count": null,
      "outputs": [
        {
          "output_type": "execute_result",
          "data": {
            "text/plain": [
              "age         0\n",
              "ed          0\n",
              "employ      0\n",
              "address     0\n",
              "income      0\n",
              "debtinc     0\n",
              "creddebt    0\n",
              "othdebt     0\n",
              "default     0\n",
              "dtype: int64"
            ]
          },
          "metadata": {},
          "execution_count": 42
        }
      ]
    },
    {
      "cell_type": "code",
      "source": [
        "df.isna().sum()"
      ],
      "metadata": {
        "colab": {
          "base_uri": "https://localhost:8080/"
        },
        "id": "Z_ZyNOOeDdrd",
        "outputId": "00bff7da-d411-46d3-d987-3d50cc85f5a3"
      },
      "execution_count": null,
      "outputs": [
        {
          "output_type": "execute_result",
          "data": {
            "text/plain": [
              "age         0\n",
              "ed          0\n",
              "employ      0\n",
              "address     0\n",
              "income      0\n",
              "debtinc     0\n",
              "creddebt    0\n",
              "othdebt     0\n",
              "default     0\n",
              "dtype: int64"
            ]
          },
          "metadata": {},
          "execution_count": 43
        }
      ]
    },
    {
      "cell_type": "markdown",
      "source": [
        "# Pemodelan Data"
      ],
      "metadata": {
        "id": "CphmT0uvDsN-"
      }
    },
    {
      "cell_type": "code",
      "source": [
        "#Split Training and Testing\n",
        "\n",
        "from sklearn.model_selection import train_test_split #import train_test_split function\n",
        "from sklearn import metrics #import scikit-learn metrics module for accuracy calculation"
      ],
      "metadata": {
        "id": "yiDL_BpYDhBU"
      },
      "execution_count": null,
      "outputs": []
    },
    {
      "cell_type": "code",
      "source": [
        "# Evaluation Mpdel\n",
        "\n",
        "from sklearn.metrics import accuracy_score\n",
        "from sklearn.metrics import classification_report\n",
        "from sklearn.metrics import precision_score, recall_score\n",
        "from sklearn.metrics import confusion_matrix"
      ],
      "metadata": {
        "id": "g8--GkRnD6yD"
      },
      "execution_count": null,
      "outputs": []
    },
    {
      "cell_type": "code",
      "source": [
        "# Input variable x\n",
        "\n",
        "x = df[['age', 'ed', 'employ', 'address', 'income', 'debtinc', 'creddebt', 'othdebt']]\n",
        "\n",
        "# Input variable y\n",
        "\n",
        "y = df_data_cr['default'].astype('category')"
      ],
      "metadata": {
        "id": "UV3hy5cuD8Lg"
      },
      "execution_count": null,
      "outputs": []
    },
    {
      "cell_type": "code",
      "source": [
        "# SPLIT Testing & Training ---- Supervised Learning\n",
        "\n",
        "x_train,x_test,y_train,y_test=train_test_split(x,y, test_size=0.3, random_state=0)"
      ],
      "metadata": {
        "id": "C-WsAR0SD9sd"
      },
      "execution_count": null,
      "outputs": []
    },
    {
      "cell_type": "markdown",
      "source": [
        "Data Training 70% dan Testing 30%"
      ],
      "metadata": {
        "id": "1mW7ljIgEABh"
      }
    },
    {
      "cell_type": "markdown",
      "source": [
        "## Pemodelan Menggunakan Decision Tree"
      ],
      "metadata": {
        "id": "5div7K5-EEJv"
      }
    },
    {
      "cell_type": "code",
      "source": [
        "from sklearn.tree import DecisionTreeClassifier #Import Decision Tree Classifier"
      ],
      "metadata": {
        "id": "s7U4DE4dEIR6"
      },
      "execution_count": null,
      "outputs": []
    },
    {
      "cell_type": "code",
      "source": [
        "# Membuat objek Algoritma Decision Tree Klasifikasi\n",
        "tree =DecisionTreeClassifier(criterion='gini', splitter='best', max_depth=6)\n",
        "\n",
        "# Memodelkan data menggunakan algoritma Decision Tree\n",
        "model_tree = tree.fit(x_train,y_train)\n",
        "\n",
        "# Melakukan predict pada data test\n",
        "pred_tree = model_tree.predict(x_test)"
      ],
      "metadata": {
        "id": "9GP09yE8EJDh"
      },
      "execution_count": null,
      "outputs": []
    },
    {
      "cell_type": "markdown",
      "source": [
        "## Evaluasi Decision Tree Klasifikasi"
      ],
      "metadata": {
        "id": "tX90a-9iEOCE"
      }
    },
    {
      "cell_type": "code",
      "source": [
        "print(classification_report(y_test, pred_tree))"
      ],
      "metadata": {
        "colab": {
          "base_uri": "https://localhost:8080/"
        },
        "id": "ivuvpmi3EXGd",
        "outputId": "38b27c25-7db5-4f9e-ce6a-dc6c94cf65f0"
      },
      "execution_count": null,
      "outputs": [
        {
          "output_type": "stream",
          "name": "stdout",
          "text": [
            "              precision    recall  f1-score   support\n",
            "\n",
            "         0.0       0.82      0.81      0.82       155\n",
            "         1.0       0.49      0.51      0.50        55\n",
            "\n",
            "    accuracy                           0.73       210\n",
            "   macro avg       0.66      0.66      0.66       210\n",
            "weighted avg       0.74      0.73      0.73       210\n",
            "\n"
          ]
        }
      ]
    },
    {
      "cell_type": "markdown",
      "source": [
        "Model tidak bisa dipergunakan"
      ],
      "metadata": {
        "id": "vn_dlXAVEk3V"
      }
    },
    {
      "cell_type": "code",
      "source": [
        "# Visualize the confusion matrix of Decision Tree\n",
        "mat = confusion_matrix(y_test, pred_tree)\n",
        "sns.heatmap(mat.T, square = True, annot = True, fmt = 'd', cbar = False)\n",
        "plt.xlabel('true label')\n",
        "plt.ylabel('predicted label')"
      ],
      "metadata": {
        "colab": {
          "base_uri": "https://localhost:8080/",
          "height": 466
        },
        "id": "gZM6Pb-5EoRX",
        "outputId": "36e3925d-a858-41cf-dca2-f4f26bd81e10"
      },
      "execution_count": null,
      "outputs": [
        {
          "output_type": "execute_result",
          "data": {
            "text/plain": [
              "Text(113.9222222222222, 0.5, 'predicted label')"
            ]
          },
          "metadata": {},
          "execution_count": 51
        },
        {
          "output_type": "display_data",
          "data": {
            "text/plain": [
              "<Figure size 640x480 with 1 Axes>"
            ],
            "image/png": "[encoded data removed]"
          },
          "metadata": {}
        }
      ]
    },
    {
      "cell_type": "code",
      "source": [
        "# Signifikan faktor model Decision Tree dari model tersebut yg menggambarkan nasabah gagal bayar/tidak\n",
        "\n",
        "feat_importances = pd.Series(model_tree.feature_importances_, index=x.columns)\n",
        "feat_importances.nlargest(10).plot(kind='barh')"
      ],
      "metadata": {
        "colab": {
          "base_uri": "https://localhost:8080/",
          "height": 447
        },
        "id": "Zx6HTj5xGLlq",
        "outputId": "2e7a8153-309c-4045-d4f2-df30ac782086"
      },
      "execution_count": null,
      "outputs": [
        {
          "output_type": "execute_result",
          "data": {
            "text/plain": [
              "<Axes: >"
            ]
          },
          "metadata": {},
          "execution_count": 52
        },
        {
          "output_type": "display_data",
          "data": {
            "text/plain": [
              "<Figure size 640x480 with 1 Axes>"
            ],
            "image/png": "[encoded data removed]"
          },
          "metadata": {}
        }
      ]
    },
    {
      "cell_type": "markdown",
      "source": [
        "## Pemodelan Menggunakan Random Forest"
      ],
      "metadata": {
        "id": "OUW0V7B-G-5b"
      }
    },
    {
      "cell_type": "code",
      "source": [
        "from sklearn.ensemble import RandomForestClassifier\n",
        "from sklearn.preprocessing import LabelEncoder\n",
        "from sklearn.preprocessing import StandardScaler"
      ],
      "metadata": {
        "id": "-bwAjhctGZkO"
      },
      "execution_count": null,
      "outputs": []
    },
    {
      "cell_type": "code",
      "source": [
        "# Memodelkan data menggunakan algoritma Random Forest\n",
        "clf_rf = RandomForestClassifier(n_estimators=200, max_depth=6)\n",
        "\n",
        "# Memodelkan data menggunakan algoritma Random Forest\n",
        "model_rf= clf_rf.fit(x_train,y_train)\n",
        "\n",
        "# Melakukan predict pada data test\n",
        "pred_rf = model_rf.predict(x_test)"
      ],
      "metadata": {
        "id": "7SqeV3EfHOj0"
      },
      "execution_count": null,
      "outputs": []
    },
    {
      "cell_type": "markdown",
      "source": [
        "## Evaluasi Model Random Forest"
      ],
      "metadata": {
        "id": "j-2dmmcHHoqY"
      }
    },
    {
      "cell_type": "code",
      "source": [
        "print(classification_report(y_test, pred_rf))"
      ],
      "metadata": {
        "colab": {
          "base_uri": "https://localhost:8080/"
        },
        "id": "c0gyIZLTHtBF",
        "outputId": "ca9e1dc1-eb19-405c-9b86-2a5727127979"
      },
      "execution_count": null,
      "outputs": [
        {
          "output_type": "stream",
          "name": "stdout",
          "text": [
            "              precision    recall  f1-score   support\n",
            "\n",
            "         0.0       0.80      0.95      0.87       155\n",
            "         1.0       0.69      0.33      0.44        55\n",
            "\n",
            "    accuracy                           0.79       210\n",
            "   macro avg       0.75      0.64      0.66       210\n",
            "weighted avg       0.77      0.79      0.76       210\n",
            "\n"
          ]
        }
      ]
    },
    {
      "cell_type": "code",
      "source": [
        "# Visualize the confusion matrix of Random Forest\n",
        "mat = confusion_matrix(y_test, pred_rf)\n",
        "sns.heatmap(mat.T, square = True, annot = True, fmt = 'd', cbar = False)\n",
        "plt.xlabel('true label')\n",
        "plt.ylabel('predicted label')"
      ],
      "metadata": {
        "colab": {
          "base_uri": "https://localhost:8080/",
          "height": 466
        },
        "id": "2myij2spH6Rt",
        "outputId": "0c603989-ae31-476f-8ead-0a5cd77f2991"
      },
      "execution_count": null,
      "outputs": [
        {
          "output_type": "execute_result",
          "data": {
            "text/plain": [
              "Text(113.9222222222222, 0.5, 'predicted label')"
            ]
          },
          "metadata": {},
          "execution_count": 74
        },
        {
          "output_type": "display_data",
          "data": {
            "text/plain": [
              "<Figure size 640x480 with 1 Axes>"
            ],
            "image/png": "[encoded data removed]"
          },
          "metadata": {}
        }
      ]
    },
    {
      "cell_type": "code",
      "source": [
        "# Signifikan faktor model Random Forest dari model tersebut yg menggambarkan nasabah gagal bayar/tidak\n",
        "\n",
        "feat_importances = pd.Series(model_rf.feature_importances_, index=x.columns)\n",
        "feat_importances.nlargest(10).plot(kind='barh')"
      ],
      "metadata": {
        "colab": {
          "base_uri": "https://localhost:8080/",
          "height": 447
        },
        "id": "PNhRz0B1IBJz",
        "outputId": "3cf7358f-71b8-4d79-805e-bbb6f5c7c822"
      },
      "execution_count": null,
      "outputs": [
        {
          "output_type": "execute_result",
          "data": {
            "text/plain": [
              "<Axes: >"
            ]
          },
          "metadata": {},
          "execution_count": 75
        },
        {
          "output_type": "display_data",
          "data": {
            "text/plain": [
              "<Figure size 640x480 with 1 Axes>"
            ],
            "image/png": "[encoded data removed]"
          },
          "metadata": {}
        }
      ]
    },
    {
      "cell_type": "markdown",
      "source": [
        "## Pemodelan menggunakan XGBOOST Classifier"
      ],
      "metadata": {
        "id": "ypbdPP6lIUe5"
      }
    },
    {
      "cell_type": "code",
      "source": [
        "from xgboost import XGBClassifier"
      ],
      "metadata": {
        "id": "vDukW_5RIX7n"
      },
      "execution_count": null,
      "outputs": []
    },
    {
      "cell_type": "code",
      "source": [
        "clf_xg = XGBClassifier()\n",
        "\n",
        "# Memodelkan data menggunakan algoritma XGBoost\n",
        "model_xg= clf_xg.fit(x_train,y_train)\n",
        "\n",
        "# Melakukan predict pada data test\n",
        "pred_xg = model_xg.predict(x_test)"
      ],
      "metadata": {
        "id": "oTx2ca4xIb_C"
      },
      "execution_count": null,
      "outputs": []
    },
    {
      "cell_type": "markdown",
      "source": [
        "## Evaluasi Report Model XGBoostClassifier"
      ],
      "metadata": {
        "id": "Ihex5zO4InHx"
      }
    },
    {
      "cell_type": "code",
      "source": [
        "print(classification_report(y_test, pred_xg))"
      ],
      "metadata": {
        "colab": {
          "base_uri": "https://localhost:8080/"
        },
        "id": "vGjGJGOzIwe7",
        "outputId": "02ae5ba2-4b8e-4552-b371-76419535ffba"
      },
      "execution_count": null,
      "outputs": [
        {
          "output_type": "stream",
          "name": "stdout",
          "text": [
            "              precision    recall  f1-score   support\n",
            "\n",
            "         0.0       0.81      0.87      0.84       155\n",
            "         1.0       0.55      0.44      0.48        55\n",
            "\n",
            "    accuracy                           0.76       210\n",
            "   macro avg       0.68      0.65      0.66       210\n",
            "weighted avg       0.74      0.76      0.75       210\n",
            "\n"
          ]
        }
      ]
    },
    {
      "cell_type": "code",
      "source": [
        "# Visualize the confusion matrix of XGBoost\n",
        "mat = confusion_matrix(y_test, pred_xg)\n",
        "sns.heatmap(mat.T, square = True, annot = True, fmt = 'd', cbar = False)\n",
        "plt.xlabel('true label')\n",
        "plt.ylabel('predicted label')"
      ],
      "metadata": {
        "colab": {
          "base_uri": "https://localhost:8080/",
          "height": 466
        },
        "id": "kAaES1CTIxGg",
        "outputId": "8d86d0a8-fef3-4be1-9258-85c7c57ef5b9"
      },
      "execution_count": null,
      "outputs": [
        {
          "output_type": "execute_result",
          "data": {
            "text/plain": [
              "Text(113.9222222222222, 0.5, 'predicted label')"
            ]
          },
          "metadata": {},
          "execution_count": 59
        },
        {
          "output_type": "display_data",
          "data": {
            "text/plain": [
              "<Figure size 640x480 with 1 Axes>"
            ],
            "image/png": "[encoded data removed]"
          },
          "metadata": {}
        }
      ]
    },
    {
      "cell_type": "code",
      "source": [
        "# Signifikan faktor model XGBoost dari model tersebut yg menggambarkan nasabah gagal bayar/tidak\n",
        "\n",
        "feat_importances = pd.Series(model_xg.feature_importances_, index=x.columns)\n",
        "feat_importances.nlargest(10).plot(kind='barh')"
      ],
      "metadata": {
        "colab": {
          "base_uri": "https://localhost:8080/",
          "height": 447
        },
        "id": "hx7uCJawIznz",
        "outputId": "674edf64-fcfe-44ff-9059-9ca1196b2dfb"
      },
      "execution_count": null,
      "outputs": [
        {
          "output_type": "execute_result",
          "data": {
            "text/plain": [
              "<Axes: >"
            ]
          },
          "metadata": {},
          "execution_count": 60
        },
        {
          "output_type": "display_data",
          "data": {
            "text/plain": [
              "<Figure size 640x480 with 1 Axes>"
            ],
            "image/png": "[encoded data removed]"
          },
          "metadata": {}
        }
      ]
    },
    {
      "cell_type": "markdown",
      "source": [
        "## Pemodelan Menggunakan Logistic Regression"
      ],
      "metadata": {
        "id": "-pjrxtFtI1Qp"
      }
    },
    {
      "cell_type": "code",
      "source": [
        "from sklearn.linear_model import LogisticRegression"
      ],
      "metadata": {
        "id": "21of1u4JI6WX"
      },
      "execution_count": null,
      "outputs": []
    },
    {
      "cell_type": "code",
      "source": [
        "clf_lg = LogisticRegression()\n",
        "\n",
        "# Memodelkan data menggunakan algoritma Logistic Regression\n",
        "model_lg= clf_lg.fit(x_train,y_train)\n",
        "\n",
        "# Melakukan predict pada data test\n",
        "pred_lg = model_lg.predict(x_test)"
      ],
      "metadata": {
        "id": "ZNHVwaaAJ68H"
      },
      "execution_count": null,
      "outputs": []
    },
    {
      "cell_type": "markdown",
      "source": [
        "## Evaluasi Logistic Regression"
      ],
      "metadata": {
        "id": "sLFAXGiIKAiR"
      }
    },
    {
      "cell_type": "code",
      "source": [
        "print(classification_report(y_test, pred_lg))"
      ],
      "metadata": {
        "colab": {
          "base_uri": "https://localhost:8080/"
        },
        "id": "T2Du1B49KD9v",
        "outputId": "d7832520-e8fe-4fdb-9b66-e985469239ba"
      },
      "execution_count": null,
      "outputs": [
        {
          "output_type": "stream",
          "name": "stdout",
          "text": [
            "              precision    recall  f1-score   support\n",
            "\n",
            "         0.0       0.82      0.95      0.88       155\n",
            "         1.0       0.73      0.40      0.52        55\n",
            "\n",
            "    accuracy                           0.80       210\n",
            "   macro avg       0.77      0.67      0.70       210\n",
            "weighted avg       0.79      0.80      0.78       210\n",
            "\n"
          ]
        }
      ]
    },
    {
      "cell_type": "code",
      "source": [
        "# Visualize the confusion matrix of Logistic Regression\n",
        "mat = confusion_matrix(y_test, pred_lg)\n",
        "sns.heatmap(mat.T, square = True, annot = True, fmt = 'd', cbar = False)\n",
        "plt.xlabel('true label')\n",
        "plt.ylabel('predicted label')"
      ],
      "metadata": {
        "colab": {
          "base_uri": "https://localhost:8080/",
          "height": 466
        },
        "id": "tSZ6CWKkKGbm",
        "outputId": "5ff5d7f4-7637-4b57-e9fa-b0c0261b533b"
      },
      "execution_count": null,
      "outputs": [
        {
          "output_type": "execute_result",
          "data": {
            "text/plain": [
              "Text(113.9222222222222, 0.5, 'predicted label')"
            ]
          },
          "metadata": {},
          "execution_count": 64
        },
        {
          "output_type": "display_data",
          "data": {
            "text/plain": [
              "<Figure size 640x480 with 1 Axes>"
            ],
            "image/png": "[encoded data removed]"
          },
          "metadata": {}
        }
      ]
    },
    {
      "cell_type": "markdown",
      "source": [
        "## Pemodelan Menggunakan SVM"
      ],
      "metadata": {
        "id": "QtGJL42VKLml"
      }
    },
    {
      "cell_type": "code",
      "source": [
        "# Import SVM\n",
        "from sklearn.svm import SVC"
      ],
      "metadata": {
        "id": "5-nyaVOgKOgI"
      },
      "execution_count": null,
      "outputs": []
    },
    {
      "cell_type": "code",
      "source": [
        "clf_svm = SVC(kernel='linear', random_state=0)\n",
        "\n",
        "# Memodelkan data menggunakan algoritma SVM\n",
        "model_svm= clf_svm.fit(x_train,y_train)\n",
        "\n",
        "# Melakukan predict pada data test\n",
        "pred_svm = model_svm.predict(x_test)"
      ],
      "metadata": {
        "id": "ggzN20S5KQI8"
      },
      "execution_count": null,
      "outputs": []
    },
    {
      "cell_type": "markdown",
      "source": [
        "## Evaluasi Report Model SVM"
      ],
      "metadata": {
        "id": "OXbxa-WsKTRU"
      }
    },
    {
      "cell_type": "code",
      "source": [
        "print(classification_report(y_test, pred_svm))"
      ],
      "metadata": {
        "colab": {
          "base_uri": "https://localhost:8080/"
        },
        "id": "1QXfhdx5KWf9",
        "outputId": "ab400e9e-cddc-456e-b8fd-37b7de267708"
      },
      "execution_count": null,
      "outputs": [
        {
          "output_type": "stream",
          "name": "stdout",
          "text": [
            "              precision    recall  f1-score   support\n",
            "\n",
            "         0.0       0.82      0.94      0.88       155\n",
            "         1.0       0.73      0.44      0.55        55\n",
            "\n",
            "    accuracy                           0.81       210\n",
            "   macro avg       0.78      0.69      0.71       210\n",
            "weighted avg       0.80      0.81      0.79       210\n",
            "\n"
          ]
        }
      ]
    },
    {
      "cell_type": "code",
      "source": [
        "# Visualize the confusion matrix of SVM\n",
        "mat = confusion_matrix(y_test, pred_svm)\n",
        "sns.heatmap(mat.T, square = True, annot = True, fmt = 'd', cbar = False)\n",
        "plt.xlabel('true label')\n",
        "plt.ylabel('predicted label')"
      ],
      "metadata": {
        "colab": {
          "base_uri": "https://localhost:8080/",
          "height": 466
        },
        "id": "J8wHxBJnKYMU",
        "outputId": "ee1d3aa9-581c-4790-ffc7-cc6eaf9453af"
      },
      "execution_count": null,
      "outputs": [
        {
          "output_type": "execute_result",
          "data": {
            "text/plain": [
              "Text(113.9222222222222, 0.5, 'predicted label')"
            ]
          },
          "metadata": {},
          "execution_count": 68
        },
        {
          "output_type": "display_data",
          "data": {
            "text/plain": [
              "<Figure size 640x480 with 1 Axes>"
            ],
            "image/png": "[encoded data removed]"
          },
          "metadata": {}
        }
      ]
    },
    {
      "cell_type": "markdown",
      "source": [
        "## Implementasi Model\n",
        "\n",
        "Model terbaik didapatkan menggunakan SVM dengan akurasi 81% dan presisi 82%"
      ],
      "metadata": {
        "id": "1E7SLJbMLK-U"
      }
    },
    {
      "cell_type": "code",
      "source": [
        "# Load Data nasabah baru/calon nasabah yg mengajukan kredit\n",
        "\n",
        "path1 = '/content/drive/MyDrive/PDA_DataSource/credit_risk_2.csv'\n",
        "\n",
        "load_data1 = pd.read_csv(path1)\n",
        "\n",
        "# DataFrame\n",
        "\n",
        "df_newNasabah = pd.DataFrame(load_data1)\n",
        "df_newNasabah.head()\n"
      ],
      "metadata": {
        "colab": {
          "base_uri": "https://localhost:8080/",
          "height": 267
        },
        "id": "Cz1udoP9LU9b",
        "outputId": "948f80be-0b20-403d-ee32-ab711f26299e"
      },
      "execution_count": null,
      "outputs": [
        {
          "output_type": "execute_result",
          "data": {
            "text/plain": [
              "   Unnamed: 0  age  ed  employ  address  income  debtinc  creddebt   othdebt  \\\n",
              "0         700   36   1      16       13      32     10.9  0.544128  2.943872   \n",
              "1         701   50   1       6       27      21     12.9  1.316574  1.392426   \n",
              "2         702   40   1       9        9      33     17.0  4.880700  0.729300   \n",
              "3         703   31   1       5        7      23      2.0  0.046000  0.414000   \n",
              "4         704   29   1       4        0      24      7.8  0.866736  1.005264   \n",
              "\n",
              "   default  \n",
              "0      NaN  \n",
              "1      NaN  \n",
              "2      NaN  \n",
              "3      NaN  \n",
              "4      NaN  "
            ],
            "text/html": [
              "\n",
              "  <div id=\"df-55afb8e0-85fe-4c8d-b207-dc82a548e7e0\">\n",
              "    <div class=\"colab-df-container\">\n",
              "      <div>\n",
              "<style scoped>\n",
              "    .dataframe tbody tr th:only-of-type {\n",
              "        vertical-align: middle;\n",
              "    }\n",
              "\n",
              "    .dataframe tbody tr th {\n",
              "        vertical-align: top;\n",
              "    }\n",
              "\n",
              "    .dataframe thead th {\n",
              "        text-align: right;\n",
              "    }\n",
              "</style>\n",
              "<table border=\"1\" class=\"dataframe\">\n",
              "  <thead>\n",
              "    <tr style=\"text-align: right;\">\n",
              "      <th></th>\n",
              "      <th>Unnamed: 0</th>\n",
              "      <th>age</th>\n",
              "      <th>ed</th>\n",
              "      <th>employ</th>\n",
              "      <th>address</th>\n",
              "      <th>income</th>\n",
              "      <th>debtinc</th>\n",
              "      <th>creddebt</th>\n",
              "      <th>othdebt</th>\n",
              "      <th>default</th>\n",
              "    </tr>\n",
              "  </thead>\n",
              "  <tbody>\n",
              "    <tr>\n",
              "      <th>0</th>\n",
              "      <td>700</td>\n",
              "      <td>36</td>\n",
              "      <td>1</td>\n",
              "      <td>16</td>\n",
              "      <td>13</td>\n",
              "      <td>32</td>\n",
              "      <td>10.9</td>\n",
              "      <td>0.544128</td>\n",
              "      <td>2.943872</td>\n",
              "      <td>NaN</td>\n",
              "    </tr>\n",
              "    <tr>\n",
              "      <th>1</th>\n",
              "      <td>701</td>\n",
              "      <td>50</td>\n",
              "      <td>1</td>\n",
              "      <td>6</td>\n",
              "      <td>27</td>\n",
              "      <td>21</td>\n",
              "      <td>12.9</td>\n",
              "      <td>1.316574</td>\n",
              "      <td>1.392426</td>\n",
              "      <td>NaN</td>\n",
              "    </tr>\n",
              "    <tr>\n",
              "      <th>2</th>\n",
              "      <td>702</td>\n",
              "      <td>40</td>\n",
              "      <td>1</td>\n",
              "      <td>9</td>\n",
              "      <td>9</td>\n",
              "      <td>33</td>\n",
              "      <td>17.0</td>\n",
              "      <td>4.880700</td>\n",
              "      <td>0.729300</td>\n",
              "      <td>NaN</td>\n",
              "    </tr>\n",
              "    <tr>\n",
              "      <th>3</th>\n",
              "      <td>703</td>\n",
              "      <td>31</td>\n",
              "      <td>1</td>\n",
              "      <td>5</td>\n",
              "      <td>7</td>\n",
              "      <td>23</td>\n",
              "      <td>2.0</td>\n",
              "      <td>0.046000</td>\n",
              "      <td>0.414000</td>\n",
              "      <td>NaN</td>\n",
              "    </tr>\n",
              "    <tr>\n",
              "      <th>4</th>\n",
              "      <td>704</td>\n",
              "      <td>29</td>\n",
              "      <td>1</td>\n",
              "      <td>4</td>\n",
              "      <td>0</td>\n",
              "      <td>24</td>\n",
              "      <td>7.8</td>\n",
              "      <td>0.866736</td>\n",
              "      <td>1.005264</td>\n",
              "      <td>NaN</td>\n",
              "    </tr>\n",
              "  </tbody>\n",
              "</table>\n",
              "</div>\n",
              "      <button class=\"colab-df-convert\" onclick=\"convertToInteractive('df-55afb8e0-85fe-4c8d-b207-dc82a548e7e0')\"\n",
              "              title=\"Convert this dataframe to an interactive table.\"\n",
              "              style=\"display:none;\">\n",
              "        \n",
              "  <svg xmlns=\"http://www.w3.org/2000/svg\" height=\"24px\"viewBox=\"0 0 24 24\"\n",
              "       width=\"24px\">\n",
              "    <path d=\"M0 0h24v24H0V0z\" fill=\"none\"/>\n",
              "    <path d=\"M18.56 5.44l.94 2.06.94-2.06 2.06-.94-2.06-.94-.94-2.06-.94 2.06-2.06.94zm-11 1L8.5 8.5l.94-2.06 2.06-.94-2.06-.94L8.5 2.5l-.94 2.06-2.06.94zm10 10l.94 2.06.94-2.06 2.06-.94-2.06-.94-.94-2.06-.94 2.06-2.06.94z\"/><path d=\"M17.41 7.96l-1.37-1.37c-.4-.4-.92-.59-1.43-.59-.52 0-1.04.2-1.43.59L10.3 9.45l-7.72 7.72c-.78.78-.78 2.05 0 2.83L4 21.41c.39.39.9.59 1.41.59.51 0 1.02-.2 1.41-.59l7.78-7.78 2.81-2.81c.8-.78.8-2.07 0-2.86zM5.41 20L4 18.59l7.72-7.72 1.47 1.35L5.41 20z\"/>\n",
              "  </svg>\n",
              "      </button>\n",
              "      \n",
              "  <style>\n",
              "    .colab-df-container {\n",
              "      display:flex;\n",
              "      flex-wrap:wrap;\n",
              "      gap: 12px;\n",
              "    }\n",
              "\n",
              "    .colab-df-convert {\n",
              "      background-color: #E8F0FE;\n",
              "      border: none;\n",
              "      border-radius: 50%;\n",
              "      cursor: pointer;\n",
              "      display: none;\n",
              "      fill: #1967D2;\n",
              "      height: 32px;\n",
              "      padding: 0 0 0 0;\n",
              "      width: 32px;\n",
              "    }\n",
              "\n",
              "    .colab-df-convert:hover {\n",
              "      background-color: #E2EBFA;\n",
              "      box-shadow: 0px 1px 2px rgba(60, 64, 67, 0.3), 0px 1px 3px 1px rgba(60, 64, 67, 0.15);\n",
              "      fill: #174EA6;\n",
              "    }\n",
              "\n",
              "    [theme=dark] .colab-df-convert {\n",
              "      background-color: #3B4455;\n",
              "      fill: #D2E3FC;\n",
              "    }\n",
              "\n",
              "    [theme=dark] .colab-df-convert:hover {\n",
              "      background-color: #434B5C;\n",
              "      box-shadow: 0px 1px 3px 1px rgba(0, 0, 0, 0.15);\n",
              "      filter: drop-shadow(0px 1px 2px rgba(0, 0, 0, 0.3));\n",
              "      fill: #FFFFFF;\n",
              "    }\n",
              "  </style>\n",
              "\n",
              "      <script>\n",
              "        const buttonEl =\n",
              "          document.querySelector('#df-55afb8e0-85fe-4c8d-b207-dc82a548e7e0 button.colab-df-convert');\n",
              "        buttonEl.style.display =\n",
              "          google.colab.kernel.accessAllowed ? 'block' : 'none';\n",
              "\n",
              "        async function convertToInteractive(key) {\n",
              "          const element = document.querySelector('#df-55afb8e0-85fe-4c8d-b207-dc82a548e7e0');\n",
              "          const dataTable =\n",
              "            await google.colab.kernel.invokeFunction('convertToInteractive',\n",
              "                                                     [key], {});\n",
              "          if (!dataTable) return;\n",
              "\n",
              "          const docLinkHtml = 'Like what you see? Visit the ' +\n",
              "            '<a target=\"_blank\" href=https://colab.research.google.com/notebooks/data_table.ipynb>data table notebook</a>'\n",
              "            + ' to learn more about interactive tables.';\n",
              "          element.innerHTML = '';\n",
              "          dataTable['output_type'] = 'display_data';\n",
              "          await google.colab.output.renderOutput(dataTable, element);\n",
              "          const docLink = document.createElement('div');\n",
              "          docLink.innerHTML = docLinkHtml;\n",
              "          element.appendChild(docLink);\n",
              "        }\n",
              "      </script>\n",
              "    </div>\n",
              "  </div>\n",
              "  "
            ]
          },
          "metadata": {},
          "execution_count": 70
        }
      ]
    },
    {
      "cell_type": "code",
      "source": [
        "df_newNasabah.info()"
      ],
      "metadata": {
        "colab": {
          "base_uri": "https://localhost:8080/"
        },
        "id": "fegBTgDDNbBK",
        "outputId": "0f4be4a8-897e-4593-a065-0e54aec69e1e"
      },
      "execution_count": null,
      "outputs": [
        {
          "output_type": "stream",
          "name": "stdout",
          "text": [
            "<class 'pandas.core.frame.DataFrame'>\n",
            "RangeIndex: 150 entries, 0 to 149\n",
            "Data columns (total 10 columns):\n",
            " #   Column      Non-Null Count  Dtype  \n",
            "---  ------      --------------  -----  \n",
            " 0   Unnamed: 0  150 non-null    int64  \n",
            " 1   age         150 non-null    int64  \n",
            " 2   ed          150 non-null    int64  \n",
            " 3   employ      150 non-null    int64  \n",
            " 4   address     150 non-null    int64  \n",
            " 5   income      150 non-null    int64  \n",
            " 6   debtinc     150 non-null    float64\n",
            " 7   creddebt    150 non-null    float64\n",
            " 8   othdebt     150 non-null    float64\n",
            " 9   default     0 non-null      float64\n",
            "dtypes: float64(4), int64(6)\n",
            "memory usage: 11.8 KB\n"
          ]
        }
      ]
    },
    {
      "cell_type": "code",
      "source": [
        "# Input Variabel untuk predict\n",
        "\n",
        "x2 = df_newNasabah[['age', 'ed', 'employ', 'address', 'income', 'debtinc', 'creddebt', 'othdebt']]"
      ],
      "metadata": {
        "id": "r1TwYjlpMpJk"
      },
      "execution_count": null,
      "outputs": []
    },
    {
      "cell_type": "code",
      "source": [
        "# Predict menggunakan Model SVM\n",
        "\n",
        "prediction_svm = model_svm.predict(x2)"
      ],
      "metadata": {
        "id": "dvuYxh1pNPLm"
      },
      "execution_count": null,
      "outputs": []
    },
    {
      "cell_type": "code",
      "source": [
        "prediction_svm"
      ],
      "metadata": {
        "colab": {
          "base_uri": "https://localhost:8080/"
        },
        "id": "fGLGShUoQTa4",
        "outputId": "e0aee0fb-19e2-4d78-a28b-1b53c1178be0"
      },
      "execution_count": null,
      "outputs": [
        {
          "output_type": "execute_result",
          "data": {
            "text/plain": [
              "array([0., 0., 1., 0., 0., 0., 0., 1., 0., 0., 0., 0., 0., 0., 0., 0., 1.,\n",
              "       0., 0., 0., 0., 0., 0., 0., 0., 0., 0., 0., 0., 0., 0., 0., 1., 0.,\n",
              "       0., 0., 0., 0., 0., 0., 1., 0., 0., 0., 0., 1., 0., 0., 0., 0., 0.,\n",
              "       0., 0., 0., 0., 0., 1., 0., 0., 0., 0., 0., 0., 1., 0., 0., 0., 0.,\n",
              "       0., 0., 1., 0., 0., 1., 0., 0., 0., 1., 0., 0., 0., 1., 0., 1., 1.,\n",
              "       0., 0., 0., 0., 1., 0., 0., 0., 0., 0., 0., 0., 0., 0., 0., 0., 1.,\n",
              "       0., 1., 0., 0., 0., 1., 0., 0., 1., 0., 0., 0., 0., 0., 0., 0., 0.,\n",
              "       0., 0., 0., 1., 0., 0., 0., 1., 0., 0., 0., 0., 0., 0., 0., 0., 0.,\n",
              "       1., 0., 0., 0., 1., 0., 0., 0., 0., 0., 0., 0., 0., 0.])"
            ]
          },
          "metadata": {},
          "execution_count": 78
        }
      ]
    },
    {
      "cell_type": "markdown",
      "source": [
        "## Membuat object baru untuk preparing export hasil pemodelan data menggunkan data baru"
      ],
      "metadata": {
        "id": "QbzAUPl6Qd6T"
      }
    },
    {
      "cell_type": "code",
      "source": [
        "df_pred = pd.DataFrame({'prediction': prediction_svm}).round(3)\n",
        "df_pred.head()"
      ],
      "metadata": {
        "colab": {
          "base_uri": "https://localhost:8080/",
          "height": 206
        },
        "id": "QO7mTkYaQamx",
        "outputId": "29cef8c4-f29d-4bad-8e5a-2c0ccb022009"
      },
      "execution_count": null,
      "outputs": [
        {
          "output_type": "execute_result",
          "data": {
            "text/plain": [
              "   prediction\n",
              "0         0.0\n",
              "1         0.0\n",
              "2         1.0\n",
              "3         0.0\n",
              "4         0.0"
            ],
            "text/html": [
              "\n",
              "  <div id=\"df-f5db2ca4-166c-4507-a2f5-bb62012aeee8\">\n",
              "    <div class=\"colab-df-container\">\n",
              "      <div>\n",
              "<style scoped>\n",
              "    .dataframe tbody tr th:only-of-type {\n",
              "        vertical-align: middle;\n",
              "    }\n",
              "\n",
              "    .dataframe tbody tr th {\n",
              "        vertical-align: top;\n",
              "    }\n",
              "\n",
              "    .dataframe thead th {\n",
              "        text-align: right;\n",
              "    }\n",
              "</style>\n",
              "<table border=\"1\" class=\"dataframe\">\n",
              "  <thead>\n",
              "    <tr style=\"text-align: right;\">\n",
              "      <th></th>\n",
              "      <th>prediction</th>\n",
              "    </tr>\n",
              "  </thead>\n",
              "  <tbody>\n",
              "    <tr>\n",
              "      <th>0</th>\n",
              "      <td>0.0</td>\n",
              "    </tr>\n",
              "    <tr>\n",
              "      <th>1</th>\n",
              "      <td>0.0</td>\n",
              "    </tr>\n",
              "    <tr>\n",
              "      <th>2</th>\n",
              "      <td>1.0</td>\n",
              "    </tr>\n",
              "    <tr>\n",
              "      <th>3</th>\n",
              "      <td>0.0</td>\n",
              "    </tr>\n",
              "    <tr>\n",
              "      <th>4</th>\n",
              "      <td>0.0</td>\n",
              "    </tr>\n",
              "  </tbody>\n",
              "</table>\n",
              "</div>\n",
              "      <button class=\"colab-df-convert\" onclick=\"convertToInteractive('df-f5db2ca4-166c-4507-a2f5-bb62012aeee8')\"\n",
              "              title=\"Convert this dataframe to an interactive table.\"\n",
              "              style=\"display:none;\">\n",
              "        \n",
              "  <svg xmlns=\"http://www.w3.org/2000/svg\" height=\"24px\"viewBox=\"0 0 24 24\"\n",
              "       width=\"24px\">\n",
              "    <path d=\"M0 0h24v24H0V0z\" fill=\"none\"/>\n",
              "    <path d=\"M18.56 5.44l.94 2.06.94-2.06 2.06-.94-2.06-.94-.94-2.06-.94 2.06-2.06.94zm-11 1L8.5 8.5l.94-2.06 2.06-.94-2.06-.94L8.5 2.5l-.94 2.06-2.06.94zm10 10l.94 2.06.94-2.06 2.06-.94-2.06-.94-.94-2.06-.94 2.06-2.06.94z\"/><path d=\"M17.41 7.96l-1.37-1.37c-.4-.4-.92-.59-1.43-.59-.52 0-1.04.2-1.43.59L10.3 9.45l-7.72 7.72c-.78.78-.78 2.05 0 2.83L4 21.41c.39.39.9.59 1.41.59.51 0 1.02-.2 1.41-.59l7.78-7.78 2.81-2.81c.8-.78.8-2.07 0-2.86zM5.41 20L4 18.59l7.72-7.72 1.47 1.35L5.41 20z\"/>\n",
              "  </svg>\n",
              "      </button>\n",
              "      \n",
              "  <style>\n",
              "    .colab-df-container {\n",
              "      display:flex;\n",
              "      flex-wrap:wrap;\n",
              "      gap: 12px;\n",
              "    }\n",
              "\n",
              "    .colab-df-convert {\n",
              "      background-color: #E8F0FE;\n",
              "      border: none;\n",
              "      border-radius: 50%;\n",
              "      cursor: pointer;\n",
              "      display: none;\n",
              "      fill: #1967D2;\n",
              "      height: 32px;\n",
              "      padding: 0 0 0 0;\n",
              "      width: 32px;\n",
              "    }\n",
              "\n",
              "    .colab-df-convert:hover {\n",
              "      background-color: #E2EBFA;\n",
              "      box-shadow: 0px 1px 2px rgba(60, 64, 67, 0.3), 0px 1px 3px 1px rgba(60, 64, 67, 0.15);\n",
              "      fill: #174EA6;\n",
              "    }\n",
              "\n",
              "    [theme=dark] .colab-df-convert {\n",
              "      background-color: #3B4455;\n",
              "      fill: #D2E3FC;\n",
              "    }\n",
              "\n",
              "    [theme=dark] .colab-df-convert:hover {\n",
              "      background-color: #434B5C;\n",
              "      box-shadow: 0px 1px 3px 1px rgba(0, 0, 0, 0.15);\n",
              "      filter: drop-shadow(0px 1px 2px rgba(0, 0, 0, 0.3));\n",
              "      fill: #FFFFFF;\n",
              "    }\n",
              "  </style>\n",
              "\n",
              "      <script>\n",
              "        const buttonEl =\n",
              "          document.querySelector('#df-f5db2ca4-166c-4507-a2f5-bb62012aeee8 button.colab-df-convert');\n",
              "        buttonEl.style.display =\n",
              "          google.colab.kernel.accessAllowed ? 'block' : 'none';\n",
              "\n",
              "        async function convertToInteractive(key) {\n",
              "          const element = document.querySelector('#df-f5db2ca4-166c-4507-a2f5-bb62012aeee8');\n",
              "          const dataTable =\n",
              "            await google.colab.kernel.invokeFunction('convertToInteractive',\n",
              "                                                     [key], {});\n",
              "          if (!dataTable) return;\n",
              "\n",
              "          const docLinkHtml = 'Like what you see? Visit the ' +\n",
              "            '<a target=\"_blank\" href=https://colab.research.google.com/notebooks/data_table.ipynb>data table notebook</a>'\n",
              "            + ' to learn more about interactive tables.';\n",
              "          element.innerHTML = '';\n",
              "          dataTable['output_type'] = 'display_data';\n",
              "          await google.colab.output.renderOutput(dataTable, element);\n",
              "          const docLink = document.createElement('div');\n",
              "          docLink.innerHTML = docLinkHtml;\n",
              "          element.appendChild(docLink);\n",
              "        }\n",
              "      </script>\n",
              "    </div>\n",
              "  </div>\n",
              "  "
            ]
          },
          "metadata": {},
          "execution_count": 79
        }
      ]
    },
    {
      "cell_type": "code",
      "source": [
        "df4 = x2"
      ],
      "metadata": {
        "id": "RF0cECNeRH6o"
      },
      "execution_count": null,
      "outputs": []
    },
    {
      "cell_type": "code",
      "source": [
        "df_hasil_predict = pd.concat([df4, df_pred], sort=True, axis=1)"
      ],
      "metadata": {
        "id": "PsVbuwRzQ9jY"
      },
      "execution_count": null,
      "outputs": []
    },
    {
      "cell_type": "code",
      "source": [
        "df_hasil_predict"
      ],
      "metadata": {
        "colab": {
          "base_uri": "https://localhost:8080/",
          "height": 423
        },
        "id": "V9sXAyowRW72",
        "outputId": "63d4ee25-d80c-4a40-f2d2-d1dbdd39d993"
      },
      "execution_count": null,
      "outputs": [
        {
          "output_type": "execute_result",
          "data": {
            "text/plain": [
              "     age  ed  employ  address  income  debtinc  creddebt   othdebt  prediction\n",
              "0     36   1      16       13      32     10.9  0.544128  2.943872         0.0\n",
              "1     50   1       6       27      21     12.9  1.316574  1.392426         0.0\n",
              "2     40   1       9        9      33     17.0  4.880700  0.729300         1.0\n",
              "3     31   1       5        7      23      2.0  0.046000  0.414000         0.0\n",
              "4     29   1       4        0      24      7.8  0.866736  1.005264         0.0\n",
              "..   ...  ..     ...      ...     ...      ...       ...       ...         ...\n",
              "145   34   1      12       15      32      2.7  0.239328  0.624672         0.0\n",
              "146   32   2      12       11     116      5.7  4.026708  2.585292         0.0\n",
              "147   48   1      13       11      38     10.8  0.722304  3.381696         0.0\n",
              "148   35   2       1       11      24      7.8  0.417456  1.454544         0.0\n",
              "149   37   1      20       13      41     12.9  0.899130  4.389870         0.0\n",
              "\n",
              "[150 rows x 9 columns]"
            ],
            "text/html": [
              "\n",
              "  <div id=\"df-5703bdda-6997-483e-b894-301374a8ad42\">\n",
              "    <div class=\"colab-df-container\">\n",
              "      <div>\n",
              "<style scoped>\n",
              "    .dataframe tbody tr th:only-of-type {\n",
              "        vertical-align: middle;\n",
              "    }\n",
              "\n",
              "    .dataframe tbody tr th {\n",
              "        vertical-align: top;\n",
              "    }\n",
              "\n",
              "    .dataframe thead th {\n",
              "        text-align: right;\n",
              "    }\n",
              "</style>\n",
              "<table border=\"1\" class=\"dataframe\">\n",
              "  <thead>\n",
              "    <tr style=\"text-align: right;\">\n",
              "      <th></th>\n",
              "      <th>age</th>\n",
              "      <th>ed</th>\n",
              "      <th>employ</th>\n",
              "      <th>address</th>\n",
              "      <th>income</th>\n",
              "      <th>debtinc</th>\n",
              "      <th>creddebt</th>\n",
              "      <th>othdebt</th>\n",
              "      <th>prediction</th>\n",
              "    </tr>\n",
              "  </thead>\n",
              "  <tbody>\n",
              "    <tr>\n",
              "      <th>0</th>\n",
              "      <td>36</td>\n",
              "      <td>1</td>\n",
              "      <td>16</td>\n",
              "      <td>13</td>\n",
              "      <td>32</td>\n",
              "      <td>10.9</td>\n",
              "      <td>0.544128</td>\n",
              "      <td>2.943872</td>\n",
              "      <td>0.0</td>\n",
              "    </tr>\n",
              "    <tr>\n",
              "      <th>1</th>\n",
              "      <td>50</td>\n",
              "      <td>1</td>\n",
              "      <td>6</td>\n",
              "      <td>27</td>\n",
              "      <td>21</td>\n",
              "      <td>12.9</td>\n",
              "      <td>1.316574</td>\n",
              "      <td>1.392426</td>\n",
              "      <td>0.0</td>\n",
              "    </tr>\n",
              "    <tr>\n",
              "      <th>2</th>\n",
              "      <td>40</td>\n",
              "      <td>1</td>\n",
              "      <td>9</td>\n",
              "      <td>9</td>\n",
              "      <td>33</td>\n",
              "      <td>17.0</td>\n",
              "      <td>4.880700</td>\n",
              "      <td>0.729300</td>\n",
              "      <td>1.0</td>\n",
              "    </tr>\n",
              "    <tr>\n",
              "      <th>3</th>\n",
              "      <td>31</td>\n",
              "      <td>1</td>\n",
              "      <td>5</td>\n",
              "      <td>7</td>\n",
              "      <td>23</td>\n",
              "      <td>2.0</td>\n",
              "      <td>0.046000</td>\n",
              "      <td>0.414000</td>\n",
              "      <td>0.0</td>\n",
              "    </tr>\n",
              "    <tr>\n",
              "      <th>4</th>\n",
              "      <td>29</td>\n",
              "      <td>1</td>\n",
              "      <td>4</td>\n",
              "      <td>0</td>\n",
              "      <td>24</td>\n",
              "      <td>7.8</td>\n",
              "      <td>0.866736</td>\n",
              "      <td>1.005264</td>\n",
              "      <td>0.0</td>\n",
              "    </tr>\n",
              "    <tr>\n",
              "      <th>...</th>\n",
              "      <td>...</td>\n",
              "      <td>...</td>\n",
              "      <td>...</td>\n",
              "      <td>...</td>\n",
              "      <td>...</td>\n",
              "      <td>...</td>\n",
              "      <td>...</td>\n",
              "      <td>...</td>\n",
              "      <td>...</td>\n",
              "    </tr>\n",
              "    <tr>\n",
              "      <th>145</th>\n",
              "      <td>34</td>\n",
              "      <td>1</td>\n",
              "      <td>12</td>\n",
              "      <td>15</td>\n",
              "      <td>32</td>\n",
              "      <td>2.7</td>\n",
              "      <td>0.239328</td>\n",
              "      <td>0.624672</td>\n",
              "      <td>0.0</td>\n",
              "    </tr>\n",
              "    <tr>\n",
              "      <th>146</th>\n",
              "      <td>32</td>\n",
              "      <td>2</td>\n",
              "      <td>12</td>\n",
              "      <td>11</td>\n",
              "      <td>116</td>\n",
              "      <td>5.7</td>\n",
              "      <td>4.026708</td>\n",
              "      <td>2.585292</td>\n",
              "      <td>0.0</td>\n",
              "    </tr>\n",
              "    <tr>\n",
              "      <th>147</th>\n",
              "      <td>48</td>\n",
              "      <td>1</td>\n",
              "      <td>13</td>\n",
              "      <td>11</td>\n",
              "      <td>38</td>\n",
              "      <td>10.8</td>\n",
              "      <td>0.722304</td>\n",
              "      <td>3.381696</td>\n",
              "      <td>0.0</td>\n",
              "    </tr>\n",
              "    <tr>\n",
              "      <th>148</th>\n",
              "      <td>35</td>\n",
              "      <td>2</td>\n",
              "      <td>1</td>\n",
              "      <td>11</td>\n",
              "      <td>24</td>\n",
              "      <td>7.8</td>\n",
              "      <td>0.417456</td>\n",
              "      <td>1.454544</td>\n",
              "      <td>0.0</td>\n",
              "    </tr>\n",
              "    <tr>\n",
              "      <th>149</th>\n",
              "      <td>37</td>\n",
              "      <td>1</td>\n",
              "      <td>20</td>\n",
              "      <td>13</td>\n",
              "      <td>41</td>\n",
              "      <td>12.9</td>\n",
              "      <td>0.899130</td>\n",
              "      <td>4.389870</td>\n",
              "      <td>0.0</td>\n",
              "    </tr>\n",
              "  </tbody>\n",
              "</table>\n",
              "<p>150 rows × 9 columns</p>\n",
              "</div>\n",
              "      <button class=\"colab-df-convert\" onclick=\"convertToInteractive('df-5703bdda-6997-483e-b894-301374a8ad42')\"\n",
              "              title=\"Convert this dataframe to an interactive table.\"\n",
              "              style=\"display:none;\">\n",
              "        \n",
              "  <svg xmlns=\"http://www.w3.org/2000/svg\" height=\"24px\"viewBox=\"0 0 24 24\"\n",
              "       width=\"24px\">\n",
              "    <path d=\"M0 0h24v24H0V0z\" fill=\"none\"/>\n",
              "    <path d=\"M18.56 5.44l.94 2.06.94-2.06 2.06-.94-2.06-.94-.94-2.06-.94 2.06-2.06.94zm-11 1L8.5 8.5l.94-2.06 2.06-.94-2.06-.94L8.5 2.5l-.94 2.06-2.06.94zm10 10l.94 2.06.94-2.06 2.06-.94-2.06-.94-.94-2.06-.94 2.06-2.06.94z\"/><path d=\"M17.41 7.96l-1.37-1.37c-.4-.4-.92-.59-1.43-.59-.52 0-1.04.2-1.43.59L10.3 9.45l-7.72 7.72c-.78.78-.78 2.05 0 2.83L4 21.41c.39.39.9.59 1.41.59.51 0 1.02-.2 1.41-.59l7.78-7.78 2.81-2.81c.8-.78.8-2.07 0-2.86zM5.41 20L4 18.59l7.72-7.72 1.47 1.35L5.41 20z\"/>\n",
              "  </svg>\n",
              "      </button>\n",
              "      \n",
              "  <style>\n",
              "    .colab-df-container {\n",
              "      display:flex;\n",
              "      flex-wrap:wrap;\n",
              "      gap: 12px;\n",
              "    }\n",
              "\n",
              "    .colab-df-convert {\n",
              "      background-color: #E8F0FE;\n",
              "      border: none;\n",
              "      border-radius: 50%;\n",
              "      cursor: pointer;\n",
              "      display: none;\n",
              "      fill: #1967D2;\n",
              "      height: 32px;\n",
              "      padding: 0 0 0 0;\n",
              "      width: 32px;\n",
              "    }\n",
              "\n",
              "    .colab-df-convert:hover {\n",
              "      background-color: #E2EBFA;\n",
              "      box-shadow: 0px 1px 2px rgba(60, 64, 67, 0.3), 0px 1px 3px 1px rgba(60, 64, 67, 0.15);\n",
              "      fill: #174EA6;\n",
              "    }\n",
              "\n",
              "    [theme=dark] .colab-df-convert {\n",
              "      background-color: #3B4455;\n",
              "      fill: #D2E3FC;\n",
              "    }\n",
              "\n",
              "    [theme=dark] .colab-df-convert:hover {\n",
              "      background-color: #434B5C;\n",
              "      box-shadow: 0px 1px 3px 1px rgba(0, 0, 0, 0.15);\n",
              "      filter: drop-shadow(0px 1px 2px rgba(0, 0, 0, 0.3));\n",
              "      fill: #FFFFFF;\n",
              "    }\n",
              "  </style>\n",
              "\n",
              "      <script>\n",
              "        const buttonEl =\n",
              "          document.querySelector('#df-5703bdda-6997-483e-b894-301374a8ad42 button.colab-df-convert');\n",
              "        buttonEl.style.display =\n",
              "          google.colab.kernel.accessAllowed ? 'block' : 'none';\n",
              "\n",
              "        async function convertToInteractive(key) {\n",
              "          const element = document.querySelector('#df-5703bdda-6997-483e-b894-301374a8ad42');\n",
              "          const dataTable =\n",
              "            await google.colab.kernel.invokeFunction('convertToInteractive',\n",
              "                                                     [key], {});\n",
              "          if (!dataTable) return;\n",
              "\n",
              "          const docLinkHtml = 'Like what you see? Visit the ' +\n",
              "            '<a target=\"_blank\" href=https://colab.research.google.com/notebooks/data_table.ipynb>data table notebook</a>'\n",
              "            + ' to learn more about interactive tables.';\n",
              "          element.innerHTML = '';\n",
              "          dataTable['output_type'] = 'display_data';\n",
              "          await google.colab.output.renderOutput(dataTable, element);\n",
              "          const docLink = document.createElement('div');\n",
              "          docLink.innerHTML = docLinkHtml;\n",
              "          element.appendChild(docLink);\n",
              "        }\n",
              "      </script>\n",
              "    </div>\n",
              "  </div>\n",
              "  "
            ]
          },
          "metadata": {},
          "execution_count": 82
        }
      ]
    },
    {
      "cell_type": "code",
      "source": [
        "df_hasil_predict['prediction'].value_counts()"
      ],
      "metadata": {
        "colab": {
          "base_uri": "https://localhost:8080/"
        },
        "id": "rUyTwNn1RYt5",
        "outputId": "b73aeee9-0278-4928-d875-c4c7e03eb0e3"
      },
      "execution_count": null,
      "outputs": [
        {
          "output_type": "execute_result",
          "data": {
            "text/plain": [
              "0.0    127\n",
              "1.0     23\n",
              "Name: prediction, dtype: int64"
            ]
          },
          "metadata": {},
          "execution_count": 83
        }
      ]
    },
    {
      "cell_type": "markdown",
      "source": [
        "Dari hasil tersebut, maka Bank akan memutuskan ada sebanyak 127 calon nasabah yang diterima permohonan kreditnya dan ada 23 nasabah yang ditolah permohonan kreditnya"
      ],
      "metadata": {
        "id": "ZPCVtDtiRmkB"
      }
    },
    {
      "cell_type": "markdown",
      "source": [
        "IMPORT dan DOWNLOAD to CSV"
      ],
      "metadata": {
        "id": "ZDSTUsdqSzIT"
      }
    },
    {
      "cell_type": "code",
      "source": [
        "# Eksport to CSV\n",
        "# Exsport as download if in colab\n",
        "from google.colab import files\n",
        "\n",
        "# Menyimpan file/eksport file to local computer output CSV file\n",
        "\n",
        "df_hasil_predict.to_csv('df_hasil_predict.csv', sep=',')\n",
        "files.download('df_hasil_predict.csv')"
      ],
      "metadata": {
        "colab": {
          "base_uri": "https://localhost:8080/",
          "height": 17
        },
        "id": "RCmU-GOlSC8W",
        "outputId": "4aabec08-5201-4a12-fdbb-7bd4852055d5"
      },
      "execution_count": null,
      "outputs": [
        {
          "output_type": "display_data",
          "data": {
            "text/plain": [
              "<IPython.core.display.Javascript object>"
            ],
            "application/javascript": [
              "\n",
              "    async function download(id, filename, size) {\n",
              "      if (!google.colab.kernel.accessAllowed) {\n",
              "        return;\n",
              "      }\n",
              "      const div = document.createElement('div');\n",
              "      const label = document.createElement('label');\n",
              "      label.textContent = `Downloading \"${filename}\": `;\n",
              "      div.appendChild(label);\n",
              "      const progress = document.createElement('progress');\n",
              "      progress.max = size;\n",
              "      div.appendChild(progress);\n",
              "      document.body.appendChild(div);\n",
              "\n",
              "      const buffers = [];\n",
              "      let downloaded = 0;\n",
              "\n",
              "      const channel = await google.colab.kernel.comms.open(id);\n",
              "      // Send a message to notify the kernel that we're ready.\n",
              "      channel.send({})\n",
              "\n",
              "      for await (const message of channel.messages) {\n",
              "        // Send a message to notify the kernel that we're ready.\n",
              "        channel.send({})\n",
              "        if (message.buffers) {\n",
              "          for (const buffer of message.buffers) {\n",
              "            buffers.push(buffer);\n",
              "            downloaded += buffer.byteLength;\n",
              "            progress.value = downloaded;\n",
              "          }\n",
              "        }\n",
              "      }\n",
              "      const blob = new Blob(buffers, {type: 'application/binary'});\n",
              "      const a = document.createElement('a');\n",
              "      a.href = window.URL.createObjectURL(blob);\n",
              "      a.download = filename;\n",
              "      div.appendChild(a);\n",
              "      a.click();\n",
              "      div.remove();\n",
              "    }\n",
              "  "
            ]
          },
          "metadata": {}
        },
        {
          "output_type": "display_data",
          "data": {
            "text/plain": [
              "<IPython.core.display.Javascript object>"
            ],
            "application/javascript": [
              "download(\"download_a224410e-ea03-446e-b964-261da3fac7e4\", \"df_hasil_predict.csv\", 6630)"
            ]
          },
          "metadata": {}
        }
      ]
    }
  ]
}