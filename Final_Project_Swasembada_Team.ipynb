{
  "cells": [
    {
      "attachments": {},
      "cell_type": "markdown",
      "metadata": {
        "id": "Hw-sD7FVGbeV"
      },
      "source": [
        "## Business Understanding"
      ]
    },
    {
      "attachments": {},
      "cell_type": "markdown",
      "metadata": {
        "id": "cRPc4hDLGfE9"
      },
      "source": [
        "Upaya memastikan ketersedian pangan (padi) di Indonesia dan untuk mengatasi masalah defisitnya produksi beras di beberapa provinsi. Maka, dilakukan estimasi produksi padi  pada tahun 2023 sebagai langkah awal untuk mengambil kebijakan dan tindakan preventif lainnya.\n",
        "\n",
        "Faktor - faktor yang dinilai berpengaruh terhadap produksi yaitu luas panen, jumlah penduduk, konsumsi rumah tangga, suhu, harga beras dan penyinaran matahari.\n",
        "\n",
        "Judul : Estimasi Ketersediaan Padi Nasional sebagai Upaya  Meningkatkan Ketahanan Pangan Menggunakan Algoritma XGBoost\n",
        "\n",
        "Case Problem: Estimasi\n"
      ]
    },
    {
      "cell_type": "code",
      "execution_count": null,
      "metadata": {
        "id": "0-CTjdePGgo-"
      },
      "outputs": [],
      "source": [
        "# import library\n",
        "import pandas as pd\n",
        "import numpy as np\n",
        "import seaborn as sns\n",
        "import matplotlib.pyplot as plt"
      ]
    },
    {
      "attachments": {},
      "cell_type": "markdown",
      "metadata": {
        "id": "r241TKdj_cC9"
      },
      "source": [
        "# Data Understanding"
      ]
    },
    {
      "cell_type": "code",
      "execution_count": null,
      "metadata": {
        "colab": {
          "base_uri": "https://localhost:8080/"
        },
        "id": "MT-H5edZ_i2E",
        "outputId": "5c310091-62e6-482f-e711-9ee25beca5b4"
      },
      "outputs": [
        {
          "name": "stdout",
          "output_type": "stream",
          "text": [
            "Drive already mounted at /content/drive; to attempt to forcibly remount, call drive.mount(\"/content/drive\", force_remount=True).\n"
          ]
        }
      ],
      "source": [
        "from google.colab import drive\n",
        "drive.mount('/content/drive')"
      ]
    },
    {
      "cell_type": "code",
      "execution_count": null,
      "metadata": {
        "colab": {
          "base_uri": "https://localhost:8080/",
          "height": 277
        },
        "id": "reziBlDa_uQD",
        "outputId": "b510839e-19e8-47d5-e200-60c553e39f42"
      },
      "outputs": [
        {
          "data": {
            "text/html": [
              "\n",
              "  <div id=\"df-e2d9e77b-135f-4526-8b09-d95eb014f2c1\">\n",
              "    <div class=\"colab-df-container\">\n",
              "      <div>\n",
              "<style scoped>\n",
              "    .dataframe tbody tr th:only-of-type {\n",
              "        vertical-align: middle;\n",
              "    }\n",
              "\n",
              "    .dataframe tbody tr th {\n",
              "        vertical-align: top;\n",
              "    }\n",
              "\n",
              "    .dataframe thead th {\n",
              "        text-align: right;\n",
              "    }\n",
              "</style>\n",
              "<table border=\"1\" class=\"dataframe\">\n",
              "  <thead>\n",
              "    <tr style=\"text-align: right;\">\n",
              "      <th></th>\n",
              "      <th>provinsi</th>\n",
              "      <th>kode_provinsi</th>\n",
              "      <th>tahun</th>\n",
              "      <th>luas panen (ha)</th>\n",
              "      <th>produktivitas (ku/ha)</th>\n",
              "      <th>produksi (ton)</th>\n",
              "      <th>jumlah penduduk</th>\n",
              "      <th>luas provinsi (ha)</th>\n",
              "      <th>produksi beras (ton)</th>\n",
              "      <th>proyeksi konsumsi rumah tangga(ton)</th>\n",
              "      <th>surplus/ defisit(ton)</th>\n",
              "      <th>surplus/ defisit(%)*</th>\n",
              "      <th>harga beras(Rp)</th>\n",
              "      <th>suhu</th>\n",
              "      <th>curah hujan (mm)</th>\n",
              "      <th>penyinaran matahari (%)</th>\n",
              "    </tr>\n",
              "  </thead>\n",
              "  <tbody>\n",
              "    <tr>\n",
              "      <th>0</th>\n",
              "      <td>ACEH</td>\n",
              "      <td>11</td>\n",
              "      <td>2018</td>\n",
              "      <td>329515.78</td>\n",
              "      <td>56.49</td>\n",
              "      <td>1861567.10</td>\n",
              "      <td>5243400</td>\n",
              "      <td>5795600</td>\n",
              "      <td>1066890.0</td>\n",
              "      <td>557210.000000</td>\n",
              "      <td>509680.000000</td>\n",
              "      <td>91.470002</td>\n",
              "      <td>10182</td>\n",
              "      <td>27.08</td>\n",
              "      <td>254.76</td>\n",
              "      <td>60.18</td>\n",
              "    </tr>\n",
              "    <tr>\n",
              "      <th>1</th>\n",
              "      <td>ACEH</td>\n",
              "      <td>11</td>\n",
              "      <td>2019</td>\n",
              "      <td>310012.46</td>\n",
              "      <td>55.30</td>\n",
              "      <td>1714437.60</td>\n",
              "      <td>5316300</td>\n",
              "      <td>5795600</td>\n",
              "      <td>982570.0</td>\n",
              "      <td>443379.000000</td>\n",
              "      <td>539191.000000</td>\n",
              "      <td>121.609503</td>\n",
              "      <td>11134</td>\n",
              "      <td>26.90</td>\n",
              "      <td>135.34</td>\n",
              "      <td>65.74</td>\n",
              "    </tr>\n",
              "    <tr>\n",
              "      <th>2</th>\n",
              "      <td>ACEH</td>\n",
              "      <td>11</td>\n",
              "      <td>2020</td>\n",
              "      <td>317869.41</td>\n",
              "      <td>55.28</td>\n",
              "      <td>1757313.07</td>\n",
              "      <td>5274900</td>\n",
              "      <td>5795600</td>\n",
              "      <td>1007143.0</td>\n",
              "      <td>455749.000000</td>\n",
              "      <td>551394.000000</td>\n",
              "      <td>120.986332</td>\n",
              "      <td>11093</td>\n",
              "      <td>26.50</td>\n",
              "      <td>NaN</td>\n",
              "      <td>62.50</td>\n",
              "    </tr>\n",
              "    <tr>\n",
              "      <th>3</th>\n",
              "      <td>ACEH</td>\n",
              "      <td>11</td>\n",
              "      <td>2021</td>\n",
              "      <td>297058.38</td>\n",
              "      <td>55.03</td>\n",
              "      <td>1634639.60</td>\n",
              "      <td>5333700</td>\n",
              "      <td>5795600</td>\n",
              "      <td>941688.0</td>\n",
              "      <td>472355.000000</td>\n",
              "      <td>469333.000000</td>\n",
              "      <td>99.360227</td>\n",
              "      <td>9428</td>\n",
              "      <td>26.80</td>\n",
              "      <td>NaN</td>\n",
              "      <td>65.00</td>\n",
              "    </tr>\n",
              "    <tr>\n",
              "      <th>4</th>\n",
              "      <td>ACEH</td>\n",
              "      <td>11</td>\n",
              "      <td>2022</td>\n",
              "      <td>271750.20</td>\n",
              "      <td>55.55</td>\n",
              "      <td>1509456.00</td>\n",
              "      <td>5407900</td>\n",
              "      <td>5683909</td>\n",
              "      <td>873975.0</td>\n",
              "      <td>516389.279133</td>\n",
              "      <td>357585.720867</td>\n",
              "      <td>69.247317</td>\n",
              "      <td>10883</td>\n",
              "      <td>26.60</td>\n",
              "      <td>NaN</td>\n",
              "      <td>63.75</td>\n",
              "    </tr>\n",
              "  </tbody>\n",
              "</table>\n",
              "</div>\n",
              "      <button class=\"colab-df-convert\" onclick=\"convertToInteractive('df-e2d9e77b-135f-4526-8b09-d95eb014f2c1')\"\n",
              "              title=\"Convert this dataframe to an interactive table.\"\n",
              "              style=\"display:none;\">\n",
              "        \n",
              "  <svg xmlns=\"http://www.w3.org/2000/svg\" height=\"24px\"viewBox=\"0 0 24 24\"\n",
              "       width=\"24px\">\n",
              "    <path d=\"M0 0h24v24H0V0z\" fill=\"none\"/>\n",
              "    <path d=\"M18.56 5.44l.94 2.06.94-2.06 2.06-.94-2.06-.94-.94-2.06-.94 2.06-2.06.94zm-11 1L8.5 8.5l.94-2.06 2.06-.94-2.06-.94L8.5 2.5l-.94 2.06-2.06.94zm10 10l.94 2.06.94-2.06 2.06-.94-2.06-.94-.94-2.06-.94 2.06-2.06.94z\"/><path d=\"M17.41 7.96l-1.37-1.37c-.4-.4-.92-.59-1.43-.59-.52 0-1.04.2-1.43.59L10.3 9.45l-7.72 7.72c-.78.78-.78 2.05 0 2.83L4 21.41c.39.39.9.59 1.41.59.51 0 1.02-.2 1.41-.59l7.78-7.78 2.81-2.81c.8-.78.8-2.07 0-2.86zM5.41 20L4 18.59l7.72-7.72 1.47 1.35L5.41 20z\"/>\n",
              "  </svg>\n",
              "      </button>\n",
              "      \n",
              "  <style>\n",
              "    .colab-df-container {\n",
              "      display:flex;\n",
              "      flex-wrap:wrap;\n",
              "      gap: 12px;\n",
              "    }\n",
              "\n",
              "    .colab-df-convert {\n",
              "      background-color: #E8F0FE;\n",
              "      border: none;\n",
              "      border-radius: 50%;\n",
              "      cursor: pointer;\n",
              "      display: none;\n",
              "      fill: #1967D2;\n",
              "      height: 32px;\n",
              "      padding: 0 0 0 0;\n",
              "      width: 32px;\n",
              "    }\n",
              "\n",
              "    .colab-df-convert:hover {\n",
              "      background-color: #E2EBFA;\n",
              "      box-shadow: 0px 1px 2px rgba(60, 64, 67, 0.3), 0px 1px 3px 1px rgba(60, 64, 67, 0.15);\n",
              "      fill: #174EA6;\n",
              "    }\n",
              "\n",
              "    [theme=dark] .colab-df-convert {\n",
              "      background-color: #3B4455;\n",
              "      fill: #D2E3FC;\n",
              "    }\n",
              "\n",
              "    [theme=dark] .colab-df-convert:hover {\n",
              "      background-color: #434B5C;\n",
              "      box-shadow: 0px 1px 3px 1px rgba(0, 0, 0, 0.15);\n",
              "      filter: drop-shadow(0px 1px 2px rgba(0, 0, 0, 0.3));\n",
              "      fill: #FFFFFF;\n",
              "    }\n",
              "  </style>\n",
              "\n",
              "      <script>\n",
              "        const buttonEl =\n",
              "          document.querySelector('#df-e2d9e77b-135f-4526-8b09-d95eb014f2c1 button.colab-df-convert');\n",
              "        buttonEl.style.display =\n",
              "          google.colab.kernel.accessAllowed ? 'block' : 'none';\n",
              "\n",
              "        async function convertToInteractive(key) {\n",
              "          const element = document.querySelector('#df-e2d9e77b-135f-4526-8b09-d95eb014f2c1');\n",
              "          const dataTable =\n",
              "            await google.colab.kernel.invokeFunction('convertToInteractive',\n",
              "                                                     [key], {});\n",
              "          if (!dataTable) return;\n",
              "\n",
              "          const docLinkHtml = 'Like what you see? Visit the ' +\n",
              "            '<a target=\"_blank\" href=https://colab.research.google.com/notebooks/data_table.ipynb>data table notebook</a>'\n",
              "            + ' to learn more about interactive tables.';\n",
              "          element.innerHTML = '';\n",
              "          dataTable['output_type'] = 'display_data';\n",
              "          await google.colab.output.renderOutput(dataTable, element);\n",
              "          const docLink = document.createElement('div');\n",
              "          docLink.innerHTML = docLinkHtml;\n",
              "          element.appendChild(docLink);\n",
              "        }\n",
              "      </script>\n",
              "    </div>\n",
              "  </div>\n",
              "  "
            ],
            "text/plain": [
              "  provinsi  kode_provinsi  tahun  luas panen (ha)  produktivitas (ku/ha)  \\\n",
              "0     ACEH             11   2018        329515.78                  56.49   \n",
              "1     ACEH             11   2019        310012.46                  55.30   \n",
              "2     ACEH             11   2020        317869.41                  55.28   \n",
              "3     ACEH             11   2021        297058.38                  55.03   \n",
              "4     ACEH             11   2022        271750.20                  55.55   \n",
              "\n",
              "   produksi (ton)  jumlah penduduk   luas provinsi (ha)  produksi beras (ton)  \\\n",
              "0      1861567.10           5243400             5795600             1066890.0   \n",
              "1      1714437.60           5316300             5795600              982570.0   \n",
              "2      1757313.07           5274900             5795600             1007143.0   \n",
              "3      1634639.60           5333700             5795600              941688.0   \n",
              "4      1509456.00           5407900             5683909              873975.0   \n",
              "\n",
              "   proyeksi konsumsi rumah tangga(ton)  surplus/ defisit(ton)  \\\n",
              "0                        557210.000000          509680.000000   \n",
              "1                        443379.000000          539191.000000   \n",
              "2                        455749.000000          551394.000000   \n",
              "3                        472355.000000          469333.000000   \n",
              "4                        516389.279133          357585.720867   \n",
              "\n",
              "   surplus/ defisit(%)*  harga beras(Rp)   suhu  curah hujan (mm)  \\\n",
              "0             91.470002            10182  27.08            254.76   \n",
              "1            121.609503            11134  26.90            135.34   \n",
              "2            120.986332            11093  26.50               NaN   \n",
              "3             99.360227             9428  26.80               NaN   \n",
              "4             69.247317            10883  26.60               NaN   \n",
              "\n",
              "   penyinaran matahari (%)  \n",
              "0                    60.18  \n",
              "1                    65.74  \n",
              "2                    62.50  \n",
              "3                    65.00  \n",
              "4                    63.75  "
            ]
          },
          "execution_count": 43,
          "metadata": {},
          "output_type": "execute_result"
        }
      ],
      "source": [
        "url = '/content/drive/MyDrive/dataset Padi baru.xlsx'\n",
        "df = pd.read_excel(url)\n",
        "df = pd.DataFrame(df)\n",
        "df.head()"
      ]
    },
    {
      "cell_type": "code",
      "execution_count": null,
      "metadata": {
        "colab": {
          "base_uri": "https://localhost:8080/"
        },
        "id": "BmlPCXNX3Y6C",
        "outputId": "5f9f9375-b93d-43bc-99a7-303e0e32f252"
      },
      "outputs": [
        {
          "name": "stdout",
          "output_type": "stream",
          "text": [
            "<class 'pandas.core.frame.DataFrame'>\n",
            "RangeIndex: 170 entries, 0 to 169\n",
            "Data columns (total 16 columns):\n",
            " #   Column                               Non-Null Count  Dtype  \n",
            "---  ------                               --------------  -----  \n",
            " 0   provinsi                             170 non-null    object \n",
            " 1   kode_provinsi                        170 non-null    int64  \n",
            " 2   tahun                                170 non-null    int64  \n",
            " 3   luas panen (ha)                      170 non-null    float64\n",
            " 4   produktivitas (ku/ha)                170 non-null    float64\n",
            " 5   produksi (ton)                       170 non-null    float64\n",
            " 6   jumlah penduduk                      170 non-null    int64  \n",
            " 7   luas provinsi (ha)                   170 non-null    int64  \n",
            " 8   produksi beras (ton)                 170 non-null    float64\n",
            " 9   proyeksi konsumsi rumah tangga(ton)  170 non-null    float64\n",
            " 10  surplus/ defisit(ton)                170 non-null    float64\n",
            " 11  surplus/ defisit(%)*                 170 non-null    float64\n",
            " 12  harga beras(Rp)                      170 non-null    int64  \n",
            " 13  suhu                                 170 non-null    float64\n",
            " 14  curah hujan (mm)                     44 non-null     float64\n",
            " 15  penyinaran matahari (%)              170 non-null    float64\n",
            "dtypes: float64(10), int64(5), object(1)\n",
            "memory usage: 21.4+ KB\n"
          ]
        }
      ],
      "source": [
        "df.info()"
      ]
    },
    {
      "cell_type": "code",
      "execution_count": null,
      "metadata": {
        "colab": {
          "base_uri": "https://localhost:8080/"
        },
        "id": "ktRf1bMh71yA",
        "outputId": "383cc098-6c35-4697-f175-5bdfcacb9bd0"
      },
      "outputs": [
        {
          "data": {
            "text/plain": [
              "(170, 16)"
            ]
          },
          "execution_count": 45,
          "metadata": {},
          "output_type": "execute_result"
        }
      ],
      "source": [
        "df.shape"
      ]
    },
    {
      "cell_type": "code",
      "execution_count": null,
      "metadata": {
        "id": "NT5j-8DgDceb"
      },
      "outputs": [],
      "source": [
        "new_columns = {'luas panen (ha)': 'luas_panen',\n",
        "               'produktivitas (ku/ha)': 'produktivitas',\n",
        "               'produksi (ton)': 'produksi',\n",
        "               'jumlah penduduk ': 'jumlah_penduduk',\n",
        "               'luas provinsi (ha)': 'luas_provinsi',\n",
        "               'produksi beras (ton)': 'produksi_beras',\n",
        "               'proyeksi konsumsi rumah tangga(ton)': 'konsumsi_rumah_tangga',\n",
        "               'surplus/ defisit(ton)': 'surplus_defisit',\n",
        "               'surplus/ defisit(%)*': 'presentase_surplus_defisit',\n",
        "               'harga beras(Rp)': 'harga_beras',\n",
        "               'curah hujan (mm)': 'curah_hujan',\n",
        "               'penyinaran matahari (%)': 'penyinaran_matahari'}\n",
        "df = df.rename(columns=new_columns)"
      ]
    },
    {
      "cell_type": "code",
      "execution_count": null,
      "metadata": {
        "colab": {
          "base_uri": "https://localhost:8080/"
        },
        "id": "HiJ4u01YFlXr",
        "outputId": "dbefb3b4-d158-427c-c93a-99910ef77f87"
      },
      "outputs": [
        {
          "data": {
            "text/plain": [
              "provinsi                        0\n",
              "kode_provinsi                   0\n",
              "tahun                           0\n",
              "luas_panen                      0\n",
              "produktivitas                   0\n",
              "produksi                        0\n",
              "jumlah_penduduk                 0\n",
              "luas_provinsi                   0\n",
              "produksi_beras                  0\n",
              "konsumsi_rumah_tangga           0\n",
              "surplus_defisit                 0\n",
              "presentase_surplus_defisit      0\n",
              "harga_beras                     0\n",
              "suhu                            0\n",
              "curah_hujan                   126\n",
              "penyinaran_matahari             0\n",
              "dtype: int64"
            ]
          },
          "execution_count": 47,
          "metadata": {},
          "output_type": "execute_result"
        }
      ],
      "source": [
        "df.isnull().sum()"
      ]
    },
    {
      "cell_type": "code",
      "execution_count": null,
      "metadata": {
        "colab": {
          "base_uri": "https://localhost:8080/"
        },
        "id": "eZiKHJUeDtQN",
        "outputId": "2771fccb-96af-43af-8774-d64c2aff4b46"
      },
      "outputs": [
        {
          "data": {
            "text/plain": [
              "provinsi                        0\n",
              "kode_provinsi                   0\n",
              "tahun                           0\n",
              "luas_panen                      0\n",
              "produktivitas                   0\n",
              "produksi                        0\n",
              "jumlah_penduduk                 0\n",
              "luas_provinsi                   0\n",
              "produksi_beras                  0\n",
              "konsumsi_rumah_tangga           0\n",
              "surplus_defisit                 0\n",
              "presentase_surplus_defisit      0\n",
              "harga_beras                     0\n",
              "suhu                            0\n",
              "curah_hujan                   126\n",
              "penyinaran_matahari             0\n",
              "dtype: int64"
            ]
          },
          "execution_count": 48,
          "metadata": {},
          "output_type": "execute_result"
        }
      ],
      "source": [
        "df.isna().sum()"
      ]
    },
    {
      "attachments": {},
      "cell_type": "markdown",
      "metadata": {
        "id": "hRaDMNlNHFGl"
      },
      "source": [
        "## Data Preparation"
      ]
    },
    {
      "cell_type": "code",
      "execution_count": null,
      "metadata": {
        "colab": {
          "base_uri": "https://localhost:8080/",
          "height": 201
        },
        "id": "urHAHxqJAY4O",
        "outputId": "dc0fa4b9-f42e-4d68-a4ba-1def43895835"
      },
      "outputs": [
        {
          "data": {
            "text/html": [
              "\n",
              "  <div id=\"df-d1af97b6-dbd0-41d0-8c40-2f0ce2ad3028\">\n",
              "    <div class=\"colab-df-container\">\n",
              "      <div>\n",
              "<style scoped>\n",
              "    .dataframe tbody tr th:only-of-type {\n",
              "        vertical-align: middle;\n",
              "    }\n",
              "\n",
              "    .dataframe tbody tr th {\n",
              "        vertical-align: top;\n",
              "    }\n",
              "\n",
              "    .dataframe thead th {\n",
              "        text-align: right;\n",
              "    }\n",
              "</style>\n",
              "<table border=\"1\" class=\"dataframe\">\n",
              "  <thead>\n",
              "    <tr style=\"text-align: right;\">\n",
              "      <th></th>\n",
              "      <th>luas_panen</th>\n",
              "      <th>produktivitas</th>\n",
              "      <th>produksi</th>\n",
              "      <th>jumlah_penduduk</th>\n",
              "      <th>produksi_beras</th>\n",
              "      <th>konsumsi_rumah_tangga</th>\n",
              "      <th>surplus_defisit</th>\n",
              "      <th>presentase_surplus_defisit</th>\n",
              "      <th>harga_beras</th>\n",
              "      <th>suhu</th>\n",
              "      <th>penyinaran_matahari</th>\n",
              "    </tr>\n",
              "  </thead>\n",
              "  <tbody>\n",
              "    <tr>\n",
              "      <th>0</th>\n",
              "      <td>329515.78</td>\n",
              "      <td>56.49</td>\n",
              "      <td>1861567.10</td>\n",
              "      <td>5243400</td>\n",
              "      <td>1066890.0</td>\n",
              "      <td>557210.000000</td>\n",
              "      <td>509680.000000</td>\n",
              "      <td>91.470002</td>\n",
              "      <td>10182</td>\n",
              "      <td>27.08</td>\n",
              "      <td>60.18</td>\n",
              "    </tr>\n",
              "    <tr>\n",
              "      <th>1</th>\n",
              "      <td>310012.46</td>\n",
              "      <td>55.30</td>\n",
              "      <td>1714437.60</td>\n",
              "      <td>5316300</td>\n",
              "      <td>982570.0</td>\n",
              "      <td>443379.000000</td>\n",
              "      <td>539191.000000</td>\n",
              "      <td>121.609503</td>\n",
              "      <td>11134</td>\n",
              "      <td>26.90</td>\n",
              "      <td>65.74</td>\n",
              "    </tr>\n",
              "    <tr>\n",
              "      <th>2</th>\n",
              "      <td>317869.41</td>\n",
              "      <td>55.28</td>\n",
              "      <td>1757313.07</td>\n",
              "      <td>5274900</td>\n",
              "      <td>1007143.0</td>\n",
              "      <td>455749.000000</td>\n",
              "      <td>551394.000000</td>\n",
              "      <td>120.986332</td>\n",
              "      <td>11093</td>\n",
              "      <td>26.50</td>\n",
              "      <td>62.50</td>\n",
              "    </tr>\n",
              "    <tr>\n",
              "      <th>3</th>\n",
              "      <td>297058.38</td>\n",
              "      <td>55.03</td>\n",
              "      <td>1634639.60</td>\n",
              "      <td>5333700</td>\n",
              "      <td>941688.0</td>\n",
              "      <td>472355.000000</td>\n",
              "      <td>469333.000000</td>\n",
              "      <td>99.360227</td>\n",
              "      <td>9428</td>\n",
              "      <td>26.80</td>\n",
              "      <td>65.00</td>\n",
              "    </tr>\n",
              "    <tr>\n",
              "      <th>4</th>\n",
              "      <td>271750.20</td>\n",
              "      <td>55.55</td>\n",
              "      <td>1509456.00</td>\n",
              "      <td>5407900</td>\n",
              "      <td>873975.0</td>\n",
              "      <td>516389.279133</td>\n",
              "      <td>357585.720867</td>\n",
              "      <td>69.247317</td>\n",
              "      <td>10883</td>\n",
              "      <td>26.60</td>\n",
              "      <td>63.75</td>\n",
              "    </tr>\n",
              "  </tbody>\n",
              "</table>\n",
              "</div>\n",
              "      <button class=\"colab-df-convert\" onclick=\"convertToInteractive('df-d1af97b6-dbd0-41d0-8c40-2f0ce2ad3028')\"\n",
              "              title=\"Convert this dataframe to an interactive table.\"\n",
              "              style=\"display:none;\">\n",
              "        \n",
              "  <svg xmlns=\"http://www.w3.org/2000/svg\" height=\"24px\"viewBox=\"0 0 24 24\"\n",
              "       width=\"24px\">\n",
              "    <path d=\"M0 0h24v24H0V0z\" fill=\"none\"/>\n",
              "    <path d=\"M18.56 5.44l.94 2.06.94-2.06 2.06-.94-2.06-.94-.94-2.06-.94 2.06-2.06.94zm-11 1L8.5 8.5l.94-2.06 2.06-.94-2.06-.94L8.5 2.5l-.94 2.06-2.06.94zm10 10l.94 2.06.94-2.06 2.06-.94-2.06-.94-.94-2.06-.94 2.06-2.06.94z\"/><path d=\"M17.41 7.96l-1.37-1.37c-.4-.4-.92-.59-1.43-.59-.52 0-1.04.2-1.43.59L10.3 9.45l-7.72 7.72c-.78.78-.78 2.05 0 2.83L4 21.41c.39.39.9.59 1.41.59.51 0 1.02-.2 1.41-.59l7.78-7.78 2.81-2.81c.8-.78.8-2.07 0-2.86zM5.41 20L4 18.59l7.72-7.72 1.47 1.35L5.41 20z\"/>\n",
              "  </svg>\n",
              "      </button>\n",
              "      \n",
              "  <style>\n",
              "    .colab-df-container {\n",
              "      display:flex;\n",
              "      flex-wrap:wrap;\n",
              "      gap: 12px;\n",
              "    }\n",
              "\n",
              "    .colab-df-convert {\n",
              "      background-color: #E8F0FE;\n",
              "      border: none;\n",
              "      border-radius: 50%;\n",
              "      cursor: pointer;\n",
              "      display: none;\n",
              "      fill: #1967D2;\n",
              "      height: 32px;\n",
              "      padding: 0 0 0 0;\n",
              "      width: 32px;\n",
              "    }\n",
              "\n",
              "    .colab-df-convert:hover {\n",
              "      background-color: #E2EBFA;\n",
              "      box-shadow: 0px 1px 2px rgba(60, 64, 67, 0.3), 0px 1px 3px 1px rgba(60, 64, 67, 0.15);\n",
              "      fill: #174EA6;\n",
              "    }\n",
              "\n",
              "    [theme=dark] .colab-df-convert {\n",
              "      background-color: #3B4455;\n",
              "      fill: #D2E3FC;\n",
              "    }\n",
              "\n",
              "    [theme=dark] .colab-df-convert:hover {\n",
              "      background-color: #434B5C;\n",
              "      box-shadow: 0px 1px 3px 1px rgba(0, 0, 0, 0.15);\n",
              "      filter: drop-shadow(0px 1px 2px rgba(0, 0, 0, 0.3));\n",
              "      fill: #FFFFFF;\n",
              "    }\n",
              "  </style>\n",
              "\n",
              "      <script>\n",
              "        const buttonEl =\n",
              "          document.querySelector('#df-d1af97b6-dbd0-41d0-8c40-2f0ce2ad3028 button.colab-df-convert');\n",
              "        buttonEl.style.display =\n",
              "          google.colab.kernel.accessAllowed ? 'block' : 'none';\n",
              "\n",
              "        async function convertToInteractive(key) {\n",
              "          const element = document.querySelector('#df-d1af97b6-dbd0-41d0-8c40-2f0ce2ad3028');\n",
              "          const dataTable =\n",
              "            await google.colab.kernel.invokeFunction('convertToInteractive',\n",
              "                                                     [key], {});\n",
              "          if (!dataTable) return;\n",
              "\n",
              "          const docLinkHtml = 'Like what you see? Visit the ' +\n",
              "            '<a target=\"_blank\" href=https://colab.research.google.com/notebooks/data_table.ipynb>data table notebook</a>'\n",
              "            + ' to learn more about interactive tables.';\n",
              "          element.innerHTML = '';\n",
              "          dataTable['output_type'] = 'display_data';\n",
              "          await google.colab.output.renderOutput(dataTable, element);\n",
              "          const docLink = document.createElement('div');\n",
              "          docLink.innerHTML = docLinkHtml;\n",
              "          element.appendChild(docLink);\n",
              "        }\n",
              "      </script>\n",
              "    </div>\n",
              "  </div>\n",
              "  "
            ],
            "text/plain": [
              "   luas_panen  produktivitas    produksi  jumlah_penduduk  produksi_beras  \\\n",
              "0   329515.78          56.49  1861567.10          5243400       1066890.0   \n",
              "1   310012.46          55.30  1714437.60          5316300        982570.0   \n",
              "2   317869.41          55.28  1757313.07          5274900       1007143.0   \n",
              "3   297058.38          55.03  1634639.60          5333700        941688.0   \n",
              "4   271750.20          55.55  1509456.00          5407900        873975.0   \n",
              "\n",
              "   konsumsi_rumah_tangga  surplus_defisit  presentase_surplus_defisit  \\\n",
              "0          557210.000000    509680.000000                   91.470002   \n",
              "1          443379.000000    539191.000000                  121.609503   \n",
              "2          455749.000000    551394.000000                  120.986332   \n",
              "3          472355.000000    469333.000000                   99.360227   \n",
              "4          516389.279133    357585.720867                   69.247317   \n",
              "\n",
              "   harga_beras   suhu  penyinaran_matahari  \n",
              "0        10182  27.08                60.18  \n",
              "1        11134  26.90                65.74  \n",
              "2        11093  26.50                62.50  \n",
              "3         9428  26.80                65.00  \n",
              "4        10883  26.60                63.75  "
            ]
          },
          "execution_count": 49,
          "metadata": {},
          "output_type": "execute_result"
        }
      ],
      "source": [
        "df1 = df.drop(['provinsi', 'kode_provinsi', 'tahun', 'luas_provinsi', 'curah_hujan'], axis=1)\n",
        "df1.head()"
      ]
    },
    {
      "cell_type": "code",
      "execution_count": null,
      "metadata": {
        "colab": {
          "base_uri": "https://localhost:8080/"
        },
        "id": "iQT-Z_UPHRs5",
        "outputId": "e172d7ea-a6d7-46d5-f0d6-48b09e83ad2e"
      },
      "outputs": [
        {
          "data": {
            "text/plain": [
              "luas_panen                    0\n",
              "produktivitas                 0\n",
              "produksi                      0\n",
              "jumlah_penduduk               0\n",
              "produksi_beras                0\n",
              "konsumsi_rumah_tangga         0\n",
              "surplus_defisit               0\n",
              "presentase_surplus_defisit    0\n",
              "harga_beras                   0\n",
              "suhu                          0\n",
              "penyinaran_matahari           0\n",
              "dtype: int64"
            ]
          },
          "execution_count": 50,
          "metadata": {},
          "output_type": "execute_result"
        }
      ],
      "source": [
        "df1.isnull().sum()"
      ]
    },
    {
      "attachments": {},
      "cell_type": "markdown",
      "metadata": {
        "id": "piLMCkMXIMLA"
      },
      "source": [
        "# Korelasi"
      ]
    },
    {
      "cell_type": "code",
      "execution_count": null,
      "metadata": {
        "colab": {
          "base_uri": "https://localhost:8080/",
          "height": 791
        },
        "id": "ugijyfg2AEaQ",
        "outputId": "c1e85925-f293-4c7d-ec41-a1d49c279ff4"
      },
      "outputs": [
        {
          "data": {
            "image/png": "[encoded data removed]",
            "text/plain": [
              "<Figure size 800x800 with 2 Axes>"
            ]
          },
          "metadata": {},
          "output_type": "display_data"
        }
      ],
      "source": [
        "f, ax=plt.subplots(figsize=(8,8))\n",
        "plt.title('Pearson Correlation')\n",
        "sns.heatmap(df1.astype('float').corr(), linewidths=0.25, vmax=1.0,\n",
        "            square=True, cmap='YlGn', linecolor='black', annot=True)\n",
        "plt.show()"
      ]
    },
    {
      "attachments": {},
      "cell_type": "markdown",
      "metadata": {
        "id": "QuN6YTegzcT2"
      },
      "source": [
        "Hasil analisis untuk fitur selection :\n",
        "\n",
        "Dependent Variabel : produksi (ton)\n",
        "- Ada hubungan positif menguatkan (1) antara luas panen dengan produksi\n",
        "- Ada hubungan positif menguatkan (0.94) antara jumlah penduduk dengan produksi\n",
        "-  Ada hubungan positif menguatkan (0.93) antara konsumsi rumah tangga dengan produksi\n",
        "- Ada hubungan positif yang menguatkan (0.54) antara presentase surplus dengan defisit dengan produksi\n",
        "- Ada hubungan negatif yang melemahkan (-0.1) antara suhu dengan produksi\n",
        "- Ada hubungan negatif yang melemahkan (-0.25) antara harga beras dengan produksi\n",
        "- Ada hubungan positif yang menguatkan (0.28) antara penyinaran matahari dan produksi"
      ]
    },
    {
      "attachments": {},
      "cell_type": "markdown",
      "metadata": {
        "id": "0_b8NV98H-zp"
      },
      "source": [
        "# Pemodelan Data"
      ]
    },
    {
      "cell_type": "code",
      "execution_count": null,
      "metadata": {
        "id": "DnIvlUuaB2vA"
      },
      "outputs": [],
      "source": [
        "# Input Variabel x\n",
        "x = df[['luas_panen', 'jumlah_penduduk','konsumsi_rumah_tangga', 'presentase_surplus_defisit','suhu', 'harga_beras','penyinaran_matahari']]\n",
        "\n",
        "# Target Variabel y\n",
        "y = df['produksi']"
      ]
    },
    {
      "cell_type": "code",
      "execution_count": null,
      "metadata": {
        "id": "G4mttkfE7eVI"
      },
      "outputs": [],
      "source": [
        "#Split Training and Testing\n",
        "\n",
        "from sklearn.model_selection import train_test_split #import train_test_split function\n",
        "from sklearn import metrics #import scikit-learn metrics module for accuracy calculation"
      ]
    },
    {
      "cell_type": "code",
      "execution_count": null,
      "metadata": {
        "id": "wuPp6lx4DQWV"
      },
      "outputs": [],
      "source": [
        "# Split aata Testing & Training\n",
        "\n",
        "x_train,x_test,y_train,y_test=train_test_split(x,y, test_size=0.3, random_state=42)"
      ]
    },
    {
      "attachments": {},
      "cell_type": "markdown",
      "metadata": {
        "id": "osoKZDMWDYMH"
      },
      "source": [
        "## Model Linier Regression"
      ]
    },
    {
      "attachments": {},
      "cell_type": "markdown",
      "metadata": {
        "id": "RyL3lJScw_6i"
      },
      "source": [
        "Regresi linear (linear regression) adalah metode yang dipakai untuk memperoleh model hubungan antara variabel dependen dan variabel independent"
      ]
    },
    {
      "cell_type": "code",
      "execution_count": null,
      "metadata": {
        "id": "QnOUVRIV7llX"
      },
      "outputs": [],
      "source": [
        "from sklearn.linear_model import LinearRegression"
      ]
    },
    {
      "cell_type": "code",
      "execution_count": null,
      "metadata": {
        "id": "CmNqg_RYDkYR"
      },
      "outputs": [],
      "source": [
        "ln = LinearRegression()\n",
        "\n",
        "# Training Model\n",
        "\n",
        "# Memodelkan data\n",
        "model_ln = ln.fit(x_train, y_train)\n",
        "\n",
        "# Melakukan predict pada data test\n",
        "pred_ln = model_ln.predict(x_test)"
      ]
    },
    {
      "cell_type": "code",
      "execution_count": null,
      "metadata": {
        "id": "0G0_ZQ81Dog3"
      },
      "outputs": [],
      "source": [
        "from sklearn import metrics"
      ]
    },
    {
      "cell_type": "code",
      "execution_count": null,
      "metadata": {
        "colab": {
          "base_uri": "https://localhost:8080/"
        },
        "id": "mSGvt9CjDq3a",
        "outputId": "ae3716ae-2a4c-48f8-fd27-8436b0473608"
      },
      "outputs": [
        {
          "name": "stdout",
          "output_type": "stream",
          "text": [
            "R Square : 0.9945391139762152\n"
          ]
        }
      ],
      "source": [
        "# Nilai R2\n",
        "print('R Square :', metrics.r2_score(y_test, pred_ln))"
      ]
    },
    {
      "cell_type": "code",
      "execution_count": null,
      "metadata": {
        "colab": {
          "base_uri": "https://localhost:8080/"
        },
        "id": "lqVZuYddDvU2",
        "outputId": "7af2d558-b9c1-4746-a7d9-803544f7603e"
      },
      "outputs": [
        {
          "name": "stdout",
          "output_type": "stream",
          "text": [
            "MAPE : 229.96357588197571\n"
          ]
        }
      ],
      "source": [
        "# Nilai MAPE\n",
        "def mape(y_true,y_pred):\n",
        "  y_true,y_pred = np.array(y_true), np.array(y_pred)\n",
        "  return np.mean(np.abs((y_true-y_pred)/y_true))*100\n",
        "\n",
        "print('MAPE :', mape(y_test,pred_ln))"
      ]
    },
    {
      "attachments": {},
      "cell_type": "markdown",
      "metadata": {
        "id": "MJFNxPgaEQKu"
      },
      "source": [
        "## ANN (Artificial Neural Network)"
      ]
    },
    {
      "attachments": {},
      "cell_type": "markdown",
      "metadata": {
        "id": "-8gLChP4xCUC"
      },
      "source": [
        "Artificial Neural Network (ANN) atau Jaringan Saraf Tiruan merupakan salah satu pemodelan kompleks yang dapat memprediksi bagaimana ekosistem merespon perubahan variabel lingkungan dengan terinspirasi oleh cara kerja sistem saraf biologis, khususnya pada sel otak manusia dalam memproses informasi."
      ]
    },
    {
      "cell_type": "code",
      "execution_count": null,
      "metadata": {
        "id": "Ju_MbBglEUIe"
      },
      "outputs": [],
      "source": [
        "from sklearn.neural_network import MLPRegressor"
      ]
    },
    {
      "cell_type": "code",
      "execution_count": null,
      "metadata": {
        "colab": {
          "base_uri": "https://localhost:8080/"
        },
        "id": "QHdQvx3mEWVm",
        "outputId": "3721602e-f6c9-4bac-961d-4e65675ad924"
      },
      "outputs": [
        {
          "name": "stderr",
          "output_type": "stream",
          "text": [
            "/usr/local/lib/python3.10/dist-packages/sklearn/neural_network/_multilayer_perceptron.py:686: ConvergenceWarning: Stochastic Optimizer: Maximum iterations (200) reached and the optimization hasn't converged yet.\n",
            "  warnings.warn(\n"
          ]
        }
      ],
      "source": [
        "# ReLU : fungsi aktivasi untuk memungkinkan model menyelesaikan masalah non linier\n",
        "# ReLU (Rectified Linear Unit)\n",
        "mlp = MLPRegressor()\n",
        "\n",
        "# Memodelkan Data Menggunakan Algoritma ANN\n",
        "model_mlp = mlp.fit(x_train, y_train)\n",
        "\n",
        "# Melakukan predict pada data test\n",
        "pred_mlp = model_mlp.predict(x_test)"
      ]
    },
    {
      "cell_type": "code",
      "execution_count": null,
      "metadata": {
        "colab": {
          "base_uri": "https://localhost:8080/"
        },
        "id": "Xnyu3EcbEbBO",
        "outputId": "544435b3-731d-4bf0-a814-d2536b7ff685"
      },
      "outputs": [
        {
          "name": "stdout",
          "output_type": "stream",
          "text": [
            "R Square : 0.8460461511583127\n"
          ]
        }
      ],
      "source": [
        "# Nilai R^2\n",
        "print('R Square :', metrics.r2_score(y_test,pred_mlp))"
      ]
    },
    {
      "cell_type": "code",
      "execution_count": null,
      "metadata": {
        "colab": {
          "base_uri": "https://localhost:8080/"
        },
        "id": "vZsxJxGCEc_-",
        "outputId": "c684ac80-ac4c-4e8d-9d44-37d725fb0b3d"
      },
      "outputs": [
        {
          "name": "stdout",
          "output_type": "stream",
          "text": [
            "MAPE : 3171.0573238942984\n"
          ]
        }
      ],
      "source": [
        "# Membuat Script MAPE\n",
        "def mean_absolut_percentage_error(y_true,y_pred):\n",
        "  y_true,y_pred=np.array(y_true), np.array(y_pred)\n",
        "  return np.mean(np.abs((y_true - y_pred)/y_true))*100\n",
        "print('MAPE :', mean_absolut_percentage_error(y_test,pred_mlp))"
      ]
    },
    {
      "attachments": {},
      "cell_type": "markdown",
      "metadata": {
        "id": "FSjK5HHpn9sG"
      },
      "source": [
        "# Pemodelan XGBoost"
      ]
    },
    {
      "cell_type": "code",
      "execution_count": null,
      "metadata": {
        "id": "BmHCRkvrn9YF"
      },
      "outputs": [],
      "source": [
        "# import library\n",
        "from xgboost import XGBRegressor"
      ]
    },
    {
      "cell_type": "code",
      "execution_count": null,
      "metadata": {
        "id": "sCDmJFk1oDKt"
      },
      "outputs": [],
      "source": [
        "xgr=XGBRegressor(n_estimators=200, max_depth=6, learning_rate=0.3)\n",
        "\n",
        "# Memodelkan data menggunakan algoritma Logistic Regression\n",
        "model_xgr= xgr.fit(x_train,y_train)\n",
        "\n",
        "# melakukan predict pada data test\n",
        "pred_xgr= model_xgr.predict(x_test)"
      ]
    },
    {
      "cell_type": "code",
      "execution_count": null,
      "metadata": {
        "colab": {
          "base_uri": "https://localhost:8080/"
        },
        "id": "lFJ9FGUroLJZ",
        "outputId": "f81809f7-ed57-4209-b4dc-acf2ac8e1a09"
      },
      "outputs": [
        {
          "name": "stdout",
          "output_type": "stream",
          "text": [
            "R Square :  0.909\n"
          ]
        }
      ],
      "source": [
        "# Assessing Gododness-of-fit in a Regression Model\n",
        "print('R Square : ', metrics.r2_score(y_test,pred_xgr).round(3))"
      ]
    },
    {
      "attachments": {},
      "cell_type": "markdown",
      "metadata": {
        "id": "JqzxBISSywDc"
      },
      "source": [
        "Nilai R Square sebesar 0.909 atau 90.9%. Nilai tersebut menunjukkan bahwa variabel x berpengaruh terhadap variabel y sebesar 90.9%."
      ]
    },
    {
      "cell_type": "code",
      "execution_count": null,
      "metadata": {
        "colab": {
          "base_uri": "https://localhost:8080/"
        },
        "id": "-SoeL4LJoP8s",
        "outputId": "2115c8a5-9d38-48cd-928b-ba0055b54e97"
      },
      "outputs": [
        {
          "name": "stdout",
          "output_type": "stream",
          "text": [
            "MAPE :  14.00424551825613\n"
          ]
        }
      ],
      "source": [
        "# panggil fungsi NILAI MAPE\n",
        "print('MAPE : ',mean_absolut_percentage_error(y_test,pred_xgr.round(3)))"
      ]
    },
    {
      "attachments": {},
      "cell_type": "markdown",
      "metadata": {
        "id": "6WUSjXY4z_qM"
      },
      "source": [
        "Nilai MAPE sebesar 14 menunjukkan bahwa kemampuan model baik untuk melakukan peramalan."
      ]
    },
    {
      "attachments": {},
      "cell_type": "markdown",
      "metadata": {
        "id": "FuD7UD77EuRD"
      },
      "source": [
        "## Implementasi Model XGBoost\n",
        "\n"
      ]
    },
    {
      "cell_type": "code",
      "execution_count": null,
      "metadata": {
        "id": "lQjkDbYJYCJh"
      },
      "outputs": [],
      "source": [
        "path1='/content/drive/MyDrive/dataset padi asumsi.xlsx'"
      ]
    },
    {
      "cell_type": "code",
      "execution_count": null,
      "metadata": {
        "colab": {
          "base_uri": "https://localhost:8080/",
          "height": 314
        },
        "id": "kDqPbTLPY6lO",
        "outputId": "9f7cc231-7b0e-445d-b28e-5f15781d44cd"
      },
      "outputs": [
        {
          "data": {
            "text/html": [
              "\n",
              "  <div id=\"df-837de5de-f8dc-4bc0-a2d8-8da0568f5008\">\n",
              "    <div class=\"colab-df-container\">\n",
              "      <div>\n",
              "<style scoped>\n",
              "    .dataframe tbody tr th:only-of-type {\n",
              "        vertical-align: middle;\n",
              "    }\n",
              "\n",
              "    .dataframe tbody tr th {\n",
              "        vertical-align: top;\n",
              "    }\n",
              "\n",
              "    .dataframe thead th {\n",
              "        text-align: right;\n",
              "    }\n",
              "</style>\n",
              "<table border=\"1\" class=\"dataframe\">\n",
              "  <thead>\n",
              "    <tr style=\"text-align: right;\">\n",
              "      <th></th>\n",
              "      <th>provinsi</th>\n",
              "      <th>kode_provinsi</th>\n",
              "      <th>tahun</th>\n",
              "      <th>luas_panen</th>\n",
              "      <th>jumlah_penduduk</th>\n",
              "      <th>luas provinsi (ha)</th>\n",
              "      <th>produksi_beras</th>\n",
              "      <th>konsumsi_rumah_tangga</th>\n",
              "      <th>surplus_defisit</th>\n",
              "      <th>presentase_surplus_defisit</th>\n",
              "      <th>harga_beras</th>\n",
              "      <th>suhu</th>\n",
              "      <th>penyinaran_matahari</th>\n",
              "    </tr>\n",
              "  </thead>\n",
              "  <tbody>\n",
              "    <tr>\n",
              "      <th>0</th>\n",
              "      <td>ACEH</td>\n",
              "      <td>11</td>\n",
              "      <td>2023</td>\n",
              "      <td>272837.20080</td>\n",
              "      <td>5407900</td>\n",
              "      <td>5683909</td>\n",
              "      <td>0</td>\n",
              "      <td>5.163893e+05</td>\n",
              "      <td>0</td>\n",
              "      <td>69.247317</td>\n",
              "      <td>10883</td>\n",
              "      <td>26.60</td>\n",
              "      <td>63.750</td>\n",
              "    </tr>\n",
              "    <tr>\n",
              "      <th>1</th>\n",
              "      <td>BALI</td>\n",
              "      <td>51</td>\n",
              "      <td>2023</td>\n",
              "      <td>112769.88240</td>\n",
              "      <td>4415100</td>\n",
              "      <td>559015</td>\n",
              "      <td>0</td>\n",
              "      <td>4.538602e+05</td>\n",
              "      <td>0</td>\n",
              "      <td>-14.036307</td>\n",
              "      <td>11000</td>\n",
              "      <td>27.50</td>\n",
              "      <td>74.000</td>\n",
              "    </tr>\n",
              "    <tr>\n",
              "      <th>2</th>\n",
              "      <td>BANTEN</td>\n",
              "      <td>36</td>\n",
              "      <td>2023</td>\n",
              "      <td>338589.66280</td>\n",
              "      <td>12252000</td>\n",
              "      <td>966292</td>\n",
              "      <td>0</td>\n",
              "      <td>1.112361e+06</td>\n",
              "      <td>0</td>\n",
              "      <td>-8.424587</td>\n",
              "      <td>11541</td>\n",
              "      <td>28.18</td>\n",
              "      <td>52.625</td>\n",
              "    </tr>\n",
              "    <tr>\n",
              "      <th>3</th>\n",
              "      <td>BENGKULU</td>\n",
              "      <td>17</td>\n",
              "      <td>2023</td>\n",
              "      <td>57380.44736</td>\n",
              "      <td>2060100</td>\n",
              "      <td>1991933</td>\n",
              "      <td>0</td>\n",
              "      <td>1.994880e+05</td>\n",
              "      <td>0</td>\n",
              "      <td>-18.693366</td>\n",
              "      <td>10000</td>\n",
              "      <td>28.40</td>\n",
              "      <td>59.000</td>\n",
              "    </tr>\n",
              "    <tr>\n",
              "      <th>4</th>\n",
              "      <td>DI YOGYAKARTA</td>\n",
              "      <td>34</td>\n",
              "      <td>2023</td>\n",
              "      <td>111370.90880</td>\n",
              "      <td>3761900</td>\n",
              "      <td>317064</td>\n",
              "      <td>0</td>\n",
              "      <td>2.756889e+05</td>\n",
              "      <td>0</td>\n",
              "      <td>19.642087</td>\n",
              "      <td>10860</td>\n",
              "      <td>26.01</td>\n",
              "      <td>56.875</td>\n",
              "    </tr>\n",
              "  </tbody>\n",
              "</table>\n",
              "</div>\n",
              "      <button class=\"colab-df-convert\" onclick=\"convertToInteractive('df-837de5de-f8dc-4bc0-a2d8-8da0568f5008')\"\n",
              "              title=\"Convert this dataframe to an interactive table.\"\n",
              "              style=\"display:none;\">\n",
              "        \n",
              "  <svg xmlns=\"http://www.w3.org/2000/svg\" height=\"24px\"viewBox=\"0 0 24 24\"\n",
              "       width=\"24px\">\n",
              "    <path d=\"M0 0h24v24H0V0z\" fill=\"none\"/>\n",
              "    <path d=\"M18.56 5.44l.94 2.06.94-2.06 2.06-.94-2.06-.94-.94-2.06-.94 2.06-2.06.94zm-11 1L8.5 8.5l.94-2.06 2.06-.94-2.06-.94L8.5 2.5l-.94 2.06-2.06.94zm10 10l.94 2.06.94-2.06 2.06-.94-2.06-.94-.94-2.06-.94 2.06-2.06.94z\"/><path d=\"M17.41 7.96l-1.37-1.37c-.4-.4-.92-.59-1.43-.59-.52 0-1.04.2-1.43.59L10.3 9.45l-7.72 7.72c-.78.78-.78 2.05 0 2.83L4 21.41c.39.39.9.59 1.41.59.51 0 1.02-.2 1.41-.59l7.78-7.78 2.81-2.81c.8-.78.8-2.07 0-2.86zM5.41 20L4 18.59l7.72-7.72 1.47 1.35L5.41 20z\"/>\n",
              "  </svg>\n",
              "      </button>\n",
              "      \n",
              "  <style>\n",
              "    .colab-df-container {\n",
              "      display:flex;\n",
              "      flex-wrap:wrap;\n",
              "      gap: 12px;\n",
              "    }\n",
              "\n",
              "    .colab-df-convert {\n",
              "      background-color: #E8F0FE;\n",
              "      border: none;\n",
              "      border-radius: 50%;\n",
              "      cursor: pointer;\n",
              "      display: none;\n",
              "      fill: #1967D2;\n",
              "      height: 32px;\n",
              "      padding: 0 0 0 0;\n",
              "      width: 32px;\n",
              "    }\n",
              "\n",
              "    .colab-df-convert:hover {\n",
              "      background-color: #E2EBFA;\n",
              "      box-shadow: 0px 1px 2px rgba(60, 64, 67, 0.3), 0px 1px 3px 1px rgba(60, 64, 67, 0.15);\n",
              "      fill: #174EA6;\n",
              "    }\n",
              "\n",
              "    [theme=dark] .colab-df-convert {\n",
              "      background-color: #3B4455;\n",
              "      fill: #D2E3FC;\n",
              "    }\n",
              "\n",
              "    [theme=dark] .colab-df-convert:hover {\n",
              "      background-color: #434B5C;\n",
              "      box-shadow: 0px 1px 3px 1px rgba(0, 0, 0, 0.15);\n",
              "      filter: drop-shadow(0px 1px 2px rgba(0, 0, 0, 0.3));\n",
              "      fill: #FFFFFF;\n",
              "    }\n",
              "  </style>\n",
              "\n",
              "      <script>\n",
              "        const buttonEl =\n",
              "          document.querySelector('#df-837de5de-f8dc-4bc0-a2d8-8da0568f5008 button.colab-df-convert');\n",
              "        buttonEl.style.display =\n",
              "          google.colab.kernel.accessAllowed ? 'block' : 'none';\n",
              "\n",
              "        async function convertToInteractive(key) {\n",
              "          const element = document.querySelector('#df-837de5de-f8dc-4bc0-a2d8-8da0568f5008');\n",
              "          const dataTable =\n",
              "            await google.colab.kernel.invokeFunction('convertToInteractive',\n",
              "                                                     [key], {});\n",
              "          if (!dataTable) return;\n",
              "\n",
              "          const docLinkHtml = 'Like what you see? Visit the ' +\n",
              "            '<a target=\"_blank\" href=https://colab.research.google.com/notebooks/data_table.ipynb>data table notebook</a>'\n",
              "            + ' to learn more about interactive tables.';\n",
              "          element.innerHTML = '';\n",
              "          dataTable['output_type'] = 'display_data';\n",
              "          await google.colab.output.renderOutput(dataTable, element);\n",
              "          const docLink = document.createElement('div');\n",
              "          docLink.innerHTML = docLinkHtml;\n",
              "          element.appendChild(docLink);\n",
              "        }\n",
              "      </script>\n",
              "    </div>\n",
              "  </div>\n",
              "  "
            ],
            "text/plain": [
              "        provinsi  kode_provinsi  tahun    luas_panen  jumlah_penduduk  \\\n",
              "0           ACEH             11   2023  272837.20080          5407900   \n",
              "1           BALI             51   2023  112769.88240          4415100   \n",
              "2         BANTEN             36   2023  338589.66280         12252000   \n",
              "3       BENGKULU             17   2023   57380.44736          2060100   \n",
              "4  DI YOGYAKARTA             34   2023  111370.90880          3761900   \n",
              "\n",
              "   luas provinsi (ha)  produksi_beras  konsumsi_rumah_tangga  surplus_defisit  \\\n",
              "0             5683909               0           5.163893e+05                0   \n",
              "1              559015               0           4.538602e+05                0   \n",
              "2              966292               0           1.112361e+06                0   \n",
              "3             1991933               0           1.994880e+05                0   \n",
              "4              317064               0           2.756889e+05                0   \n",
              "\n",
              "   presentase_surplus_defisit  harga_beras   suhu  penyinaran_matahari  \n",
              "0                   69.247317        10883  26.60               63.750  \n",
              "1                  -14.036307        11000  27.50               74.000  \n",
              "2                   -8.424587        11541  28.18               52.625  \n",
              "3                  -18.693366        10000  28.40               59.000  \n",
              "4                   19.642087        10860  26.01               56.875  "
            ]
          },
          "execution_count": 69,
          "metadata": {},
          "output_type": "execute_result"
        }
      ],
      "source": [
        "load_padi=pd.read_excel(path1)\n",
        "df2=pd.DataFrame(load_padi)\n",
        "df2.head()"
      ]
    },
    {
      "cell_type": "code",
      "execution_count": null,
      "metadata": {
        "colab": {
          "base_uri": "https://localhost:8080/"
        },
        "id": "tGCtfudBfZ_2",
        "outputId": "86848527-d947-488f-f28f-731b3bec76f1"
      },
      "outputs": [
        {
          "data": {
            "text/plain": [
              "(34, 13)"
            ]
          },
          "execution_count": 70,
          "metadata": {},
          "output_type": "execute_result"
        }
      ],
      "source": [
        "df2.shape"
      ]
    },
    {
      "cell_type": "code",
      "execution_count": null,
      "metadata": {
        "colab": {
          "base_uri": "https://localhost:8080/",
          "height": 314
        },
        "id": "Wuk5TRHUmZ3d",
        "outputId": "1848f94b-0e77-4669-ad34-bceb4b6802ce"
      },
      "outputs": [
        {
          "data": {
            "text/html": [
              "\n",
              "  <div id=\"df-745e51e3-c832-4bee-8604-2dfade9a6faa\">\n",
              "    <div class=\"colab-df-container\">\n",
              "      <div>\n",
              "<style scoped>\n",
              "    .dataframe tbody tr th:only-of-type {\n",
              "        vertical-align: middle;\n",
              "    }\n",
              "\n",
              "    .dataframe tbody tr th {\n",
              "        vertical-align: top;\n",
              "    }\n",
              "\n",
              "    .dataframe thead th {\n",
              "        text-align: right;\n",
              "    }\n",
              "</style>\n",
              "<table border=\"1\" class=\"dataframe\">\n",
              "  <thead>\n",
              "    <tr style=\"text-align: right;\">\n",
              "      <th></th>\n",
              "      <th>provinsi</th>\n",
              "      <th>kode_provinsi</th>\n",
              "      <th>luas_panen</th>\n",
              "      <th>jumlah_penduduk</th>\n",
              "      <th>luas provinsi (ha)</th>\n",
              "      <th>produksi_beras</th>\n",
              "      <th>konsumsi_rumah_tangga</th>\n",
              "      <th>surplus_defisit</th>\n",
              "      <th>presentase_surplus_defisit</th>\n",
              "      <th>harga_beras</th>\n",
              "      <th>suhu</th>\n",
              "      <th>penyinaran_matahari</th>\n",
              "    </tr>\n",
              "  </thead>\n",
              "  <tbody>\n",
              "    <tr>\n",
              "      <th>0</th>\n",
              "      <td>ACEH</td>\n",
              "      <td>11</td>\n",
              "      <td>272837.20080</td>\n",
              "      <td>5407900</td>\n",
              "      <td>5683909</td>\n",
              "      <td>0</td>\n",
              "      <td>5.163893e+05</td>\n",
              "      <td>0</td>\n",
              "      <td>69.247317</td>\n",
              "      <td>10883</td>\n",
              "      <td>26.60</td>\n",
              "      <td>63.750</td>\n",
              "    </tr>\n",
              "    <tr>\n",
              "      <th>1</th>\n",
              "      <td>BALI</td>\n",
              "      <td>51</td>\n",
              "      <td>112769.88240</td>\n",
              "      <td>4415100</td>\n",
              "      <td>559015</td>\n",
              "      <td>0</td>\n",
              "      <td>4.538602e+05</td>\n",
              "      <td>0</td>\n",
              "      <td>-14.036307</td>\n",
              "      <td>11000</td>\n",
              "      <td>27.50</td>\n",
              "      <td>74.000</td>\n",
              "    </tr>\n",
              "    <tr>\n",
              "      <th>2</th>\n",
              "      <td>BANTEN</td>\n",
              "      <td>36</td>\n",
              "      <td>338589.66280</td>\n",
              "      <td>12252000</td>\n",
              "      <td>966292</td>\n",
              "      <td>0</td>\n",
              "      <td>1.112361e+06</td>\n",
              "      <td>0</td>\n",
              "      <td>-8.424587</td>\n",
              "      <td>11541</td>\n",
              "      <td>28.18</td>\n",
              "      <td>52.625</td>\n",
              "    </tr>\n",
              "    <tr>\n",
              "      <th>3</th>\n",
              "      <td>BENGKULU</td>\n",
              "      <td>17</td>\n",
              "      <td>57380.44736</td>\n",
              "      <td>2060100</td>\n",
              "      <td>1991933</td>\n",
              "      <td>0</td>\n",
              "      <td>1.994880e+05</td>\n",
              "      <td>0</td>\n",
              "      <td>-18.693366</td>\n",
              "      <td>10000</td>\n",
              "      <td>28.40</td>\n",
              "      <td>59.000</td>\n",
              "    </tr>\n",
              "    <tr>\n",
              "      <th>4</th>\n",
              "      <td>DI YOGYAKARTA</td>\n",
              "      <td>34</td>\n",
              "      <td>111370.90880</td>\n",
              "      <td>3761900</td>\n",
              "      <td>317064</td>\n",
              "      <td>0</td>\n",
              "      <td>2.756889e+05</td>\n",
              "      <td>0</td>\n",
              "      <td>19.642087</td>\n",
              "      <td>10860</td>\n",
              "      <td>26.01</td>\n",
              "      <td>56.875</td>\n",
              "    </tr>\n",
              "  </tbody>\n",
              "</table>\n",
              "</div>\n",
              "      <button class=\"colab-df-convert\" onclick=\"convertToInteractive('df-745e51e3-c832-4bee-8604-2dfade9a6faa')\"\n",
              "              title=\"Convert this dataframe to an interactive table.\"\n",
              "              style=\"display:none;\">\n",
              "        \n",
              "  <svg xmlns=\"http://www.w3.org/2000/svg\" height=\"24px\"viewBox=\"0 0 24 24\"\n",
              "       width=\"24px\">\n",
              "    <path d=\"M0 0h24v24H0V0z\" fill=\"none\"/>\n",
              "    <path d=\"M18.56 5.44l.94 2.06.94-2.06 2.06-.94-2.06-.94-.94-2.06-.94 2.06-2.06.94zm-11 1L8.5 8.5l.94-2.06 2.06-.94-2.06-.94L8.5 2.5l-.94 2.06-2.06.94zm10 10l.94 2.06.94-2.06 2.06-.94-2.06-.94-.94-2.06-.94 2.06-2.06.94z\"/><path d=\"M17.41 7.96l-1.37-1.37c-.4-.4-.92-.59-1.43-.59-.52 0-1.04.2-1.43.59L10.3 9.45l-7.72 7.72c-.78.78-.78 2.05 0 2.83L4 21.41c.39.39.9.59 1.41.59.51 0 1.02-.2 1.41-.59l7.78-7.78 2.81-2.81c.8-.78.8-2.07 0-2.86zM5.41 20L4 18.59l7.72-7.72 1.47 1.35L5.41 20z\"/>\n",
              "  </svg>\n",
              "      </button>\n",
              "      \n",
              "  <style>\n",
              "    .colab-df-container {\n",
              "      display:flex;\n",
              "      flex-wrap:wrap;\n",
              "      gap: 12px;\n",
              "    }\n",
              "\n",
              "    .colab-df-convert {\n",
              "      background-color: #E8F0FE;\n",
              "      border: none;\n",
              "      border-radius: 50%;\n",
              "      cursor: pointer;\n",
              "      display: none;\n",
              "      fill: #1967D2;\n",
              "      height: 32px;\n",
              "      padding: 0 0 0 0;\n",
              "      width: 32px;\n",
              "    }\n",
              "\n",
              "    .colab-df-convert:hover {\n",
              "      background-color: #E2EBFA;\n",
              "      box-shadow: 0px 1px 2px rgba(60, 64, 67, 0.3), 0px 1px 3px 1px rgba(60, 64, 67, 0.15);\n",
              "      fill: #174EA6;\n",
              "    }\n",
              "\n",
              "    [theme=dark] .colab-df-convert {\n",
              "      background-color: #3B4455;\n",
              "      fill: #D2E3FC;\n",
              "    }\n",
              "\n",
              "    [theme=dark] .colab-df-convert:hover {\n",
              "      background-color: #434B5C;\n",
              "      box-shadow: 0px 1px 3px 1px rgba(0, 0, 0, 0.15);\n",
              "      filter: drop-shadow(0px 1px 2px rgba(0, 0, 0, 0.3));\n",
              "      fill: #FFFFFF;\n",
              "    }\n",
              "  </style>\n",
              "\n",
              "      <script>\n",
              "        const buttonEl =\n",
              "          document.querySelector('#df-745e51e3-c832-4bee-8604-2dfade9a6faa button.colab-df-convert');\n",
              "        buttonEl.style.display =\n",
              "          google.colab.kernel.accessAllowed ? 'block' : 'none';\n",
              "\n",
              "        async function convertToInteractive(key) {\n",
              "          const element = document.querySelector('#df-745e51e3-c832-4bee-8604-2dfade9a6faa');\n",
              "          const dataTable =\n",
              "            await google.colab.kernel.invokeFunction('convertToInteractive',\n",
              "                                                     [key], {});\n",
              "          if (!dataTable) return;\n",
              "\n",
              "          const docLinkHtml = 'Like what you see? Visit the ' +\n",
              "            '<a target=\"_blank\" href=https://colab.research.google.com/notebooks/data_table.ipynb>data table notebook</a>'\n",
              "            + ' to learn more about interactive tables.';\n",
              "          element.innerHTML = '';\n",
              "          dataTable['output_type'] = 'display_data';\n",
              "          await google.colab.output.renderOutput(dataTable, element);\n",
              "          const docLink = document.createElement('div');\n",
              "          docLink.innerHTML = docLinkHtml;\n",
              "          element.appendChild(docLink);\n",
              "        }\n",
              "      </script>\n",
              "    </div>\n",
              "  </div>\n",
              "  "
            ],
            "text/plain": [
              "        provinsi  kode_provinsi    luas_panen  jumlah_penduduk  \\\n",
              "0           ACEH             11  272837.20080          5407900   \n",
              "1           BALI             51  112769.88240          4415100   \n",
              "2         BANTEN             36  338589.66280         12252000   \n",
              "3       BENGKULU             17   57380.44736          2060100   \n",
              "4  DI YOGYAKARTA             34  111370.90880          3761900   \n",
              "\n",
              "   luas provinsi (ha)  produksi_beras  konsumsi_rumah_tangga  surplus_defisit  \\\n",
              "0             5683909               0           5.163893e+05                0   \n",
              "1              559015               0           4.538602e+05                0   \n",
              "2              966292               0           1.112361e+06                0   \n",
              "3             1991933               0           1.994880e+05                0   \n",
              "4              317064               0           2.756889e+05                0   \n",
              "\n",
              "   presentase_surplus_defisit  harga_beras   suhu  penyinaran_matahari  \n",
              "0                   69.247317        10883  26.60               63.750  \n",
              "1                  -14.036307        11000  27.50               74.000  \n",
              "2                   -8.424587        11541  28.18               52.625  \n",
              "3                  -18.693366        10000  28.40               59.000  \n",
              "4                   19.642087        10860  26.01               56.875  "
            ]
          },
          "execution_count": 71,
          "metadata": {},
          "output_type": "execute_result"
        }
      ],
      "source": [
        "df3 = df2.drop(['tahun'], axis=1)\n",
        "df3.head()"
      ]
    },
    {
      "cell_type": "code",
      "execution_count": null,
      "metadata": {
        "id": "ovQ2ay1wE4BS"
      },
      "outputs": [],
      "source": [
        "x1 = df3[['luas_panen', 'jumlah_penduduk','konsumsi_rumah_tangga', 'presentase_surplus_defisit','suhu', 'harga_beras','penyinaran_matahari']]"
      ]
    },
    {
      "cell_type": "code",
      "execution_count": null,
      "metadata": {
        "colab": {
          "base_uri": "https://localhost:8080/"
        },
        "id": "EkVXJR4fFAv2",
        "outputId": "ba26dd3f-c9ef-4d8c-85d1-7f514b3bb1cd"
      },
      "outputs": [
        {
          "data": {
            "text/plain": [
              "array([1.5094548e+06, 6.1014600e+05, 1.7885820e+06, 2.5447347e+05,\n",
              "       5.9041112e+05, 3.6649998e+03, 2.4013380e+05, 2.7774275e+05,\n",
              "       9.4471870e+06, 9.5606170e+06, 9.6157960e+06, 7.3122694e+05,\n",
              "       8.1942031e+05, 5.0482231e+05, 2.3942442e+05, 3.0534873e+04,\n",
              "       6.1424910e+04, 5.0741800e+02, 2.6881600e+06, 9.2599531e+04,\n",
              "       2.4487369e+04, 1.4030511e+06, 8.1129188e+05, 2.1266333e+05,\n",
              "       2.3963945e+04, 2.1355684e+05, 3.5351203e+05, 2.9119012e+06,\n",
              "       7.7748144e+05, 4.7896019e+05, 2.4373031e+05, 1.3735319e+06,\n",
              "       2.7750692e+06, 2.0885841e+06], dtype=float32)"
            ]
          },
          "execution_count": 73,
          "metadata": {},
          "output_type": "execute_result"
        }
      ],
      "source": [
        "prediction = model_xgr.predict(x1)\n",
        "prediction"
      ]
    },
    {
      "cell_type": "code",
      "execution_count": null,
      "metadata": {
        "colab": {
          "base_uri": "https://localhost:8080/",
          "height": 201
        },
        "id": "Iu4k3I9KFDFg",
        "outputId": "774823c5-5a91-41c0-c937-2b1ee3a405ae"
      },
      "outputs": [
        {
          "data": {
            "text/html": [
              "\n",
              "  <div id=\"df-fb1dd473-2b92-4cc3-8cda-8683b918e7d1\">\n",
              "    <div class=\"colab-df-container\">\n",
              "      <div>\n",
              "<style scoped>\n",
              "    .dataframe tbody tr th:only-of-type {\n",
              "        vertical-align: middle;\n",
              "    }\n",
              "\n",
              "    .dataframe tbody tr th {\n",
              "        vertical-align: top;\n",
              "    }\n",
              "\n",
              "    .dataframe thead th {\n",
              "        text-align: right;\n",
              "    }\n",
              "</style>\n",
              "<table border=\"1\" class=\"dataframe\">\n",
              "  <thead>\n",
              "    <tr style=\"text-align: right;\">\n",
              "      <th></th>\n",
              "      <th>Prediction</th>\n",
              "    </tr>\n",
              "  </thead>\n",
              "  <tbody>\n",
              "    <tr>\n",
              "      <th>0</th>\n",
              "      <td>1.509455e+06</td>\n",
              "    </tr>\n",
              "    <tr>\n",
              "      <th>1</th>\n",
              "      <td>6.101460e+05</td>\n",
              "    </tr>\n",
              "    <tr>\n",
              "      <th>2</th>\n",
              "      <td>1.788582e+06</td>\n",
              "    </tr>\n",
              "    <tr>\n",
              "      <th>3</th>\n",
              "      <td>2.544735e+05</td>\n",
              "    </tr>\n",
              "    <tr>\n",
              "      <th>4</th>\n",
              "      <td>5.904111e+05</td>\n",
              "    </tr>\n",
              "  </tbody>\n",
              "</table>\n",
              "</div>\n",
              "      <button class=\"colab-df-convert\" onclick=\"convertToInteractive('df-fb1dd473-2b92-4cc3-8cda-8683b918e7d1')\"\n",
              "              title=\"Convert this dataframe to an interactive table.\"\n",
              "              style=\"display:none;\">\n",
              "        \n",
              "  <svg xmlns=\"http://www.w3.org/2000/svg\" height=\"24px\"viewBox=\"0 0 24 24\"\n",
              "       width=\"24px\">\n",
              "    <path d=\"M0 0h24v24H0V0z\" fill=\"none\"/>\n",
              "    <path d=\"M18.56 5.44l.94 2.06.94-2.06 2.06-.94-2.06-.94-.94-2.06-.94 2.06-2.06.94zm-11 1L8.5 8.5l.94-2.06 2.06-.94-2.06-.94L8.5 2.5l-.94 2.06-2.06.94zm10 10l.94 2.06.94-2.06 2.06-.94-2.06-.94-.94-2.06-.94 2.06-2.06.94z\"/><path d=\"M17.41 7.96l-1.37-1.37c-.4-.4-.92-.59-1.43-.59-.52 0-1.04.2-1.43.59L10.3 9.45l-7.72 7.72c-.78.78-.78 2.05 0 2.83L4 21.41c.39.39.9.59 1.41.59.51 0 1.02-.2 1.41-.59l7.78-7.78 2.81-2.81c.8-.78.8-2.07 0-2.86zM5.41 20L4 18.59l7.72-7.72 1.47 1.35L5.41 20z\"/>\n",
              "  </svg>\n",
              "      </button>\n",
              "      \n",
              "  <style>\n",
              "    .colab-df-container {\n",
              "      display:flex;\n",
              "      flex-wrap:wrap;\n",
              "      gap: 12px;\n",
              "    }\n",
              "\n",
              "    .colab-df-convert {\n",
              "      background-color: #E8F0FE;\n",
              "      border: none;\n",
              "      border-radius: 50%;\n",
              "      cursor: pointer;\n",
              "      display: none;\n",
              "      fill: #1967D2;\n",
              "      height: 32px;\n",
              "      padding: 0 0 0 0;\n",
              "      width: 32px;\n",
              "    }\n",
              "\n",
              "    .colab-df-convert:hover {\n",
              "      background-color: #E2EBFA;\n",
              "      box-shadow: 0px 1px 2px rgba(60, 64, 67, 0.3), 0px 1px 3px 1px rgba(60, 64, 67, 0.15);\n",
              "      fill: #174EA6;\n",
              "    }\n",
              "\n",
              "    [theme=dark] .colab-df-convert {\n",
              "      background-color: #3B4455;\n",
              "      fill: #D2E3FC;\n",
              "    }\n",
              "\n",
              "    [theme=dark] .colab-df-convert:hover {\n",
              "      background-color: #434B5C;\n",
              "      box-shadow: 0px 1px 3px 1px rgba(0, 0, 0, 0.15);\n",
              "      filter: drop-shadow(0px 1px 2px rgba(0, 0, 0, 0.3));\n",
              "      fill: #FFFFFF;\n",
              "    }\n",
              "  </style>\n",
              "\n",
              "      <script>\n",
              "        const buttonEl =\n",
              "          document.querySelector('#df-fb1dd473-2b92-4cc3-8cda-8683b918e7d1 button.colab-df-convert');\n",
              "        buttonEl.style.display =\n",
              "          google.colab.kernel.accessAllowed ? 'block' : 'none';\n",
              "\n",
              "        async function convertToInteractive(key) {\n",
              "          const element = document.querySelector('#df-fb1dd473-2b92-4cc3-8cda-8683b918e7d1');\n",
              "          const dataTable =\n",
              "            await google.colab.kernel.invokeFunction('convertToInteractive',\n",
              "                                                     [key], {});\n",
              "          if (!dataTable) return;\n",
              "\n",
              "          const docLinkHtml = 'Like what you see? Visit the ' +\n",
              "            '<a target=\"_blank\" href=https://colab.research.google.com/notebooks/data_table.ipynb>data table notebook</a>'\n",
              "            + ' to learn more about interactive tables.';\n",
              "          element.innerHTML = '';\n",
              "          dataTable['output_type'] = 'display_data';\n",
              "          await google.colab.output.renderOutput(dataTable, element);\n",
              "          const docLink = document.createElement('div');\n",
              "          docLink.innerHTML = docLinkHtml;\n",
              "          element.appendChild(docLink);\n",
              "        }\n",
              "      </script>\n",
              "    </div>\n",
              "  </div>\n",
              "  "
            ],
            "text/plain": [
              "     Prediction\n",
              "0  1.509455e+06\n",
              "1  6.101460e+05\n",
              "2  1.788582e+06\n",
              "3  2.544735e+05\n",
              "4  5.904111e+05"
            ]
          },
          "execution_count": 74,
          "metadata": {},
          "output_type": "execute_result"
        }
      ],
      "source": [
        "df_result = pd.DataFrame({'Prediction' : prediction}).round(2)\n",
        "df_result.head()"
      ]
    },
    {
      "cell_type": "code",
      "execution_count": null,
      "metadata": {
        "colab": {
          "base_uri": "https://localhost:8080/",
          "height": 314
        },
        "id": "X8sOIkBNFHsS",
        "outputId": "1c5fc978-82b1-46a6-c2c2-1e9260608e69"
      },
      "outputs": [
        {
          "data": {
            "text/html": [
              "\n",
              "  <div id=\"df-5c97af7e-f45c-4c72-aac7-91be2667be70\">\n",
              "    <div class=\"colab-df-container\">\n",
              "      <div>\n",
              "<style scoped>\n",
              "    .dataframe tbody tr th:only-of-type {\n",
              "        vertical-align: middle;\n",
              "    }\n",
              "\n",
              "    .dataframe tbody tr th {\n",
              "        vertical-align: top;\n",
              "    }\n",
              "\n",
              "    .dataframe thead th {\n",
              "        text-align: right;\n",
              "    }\n",
              "</style>\n",
              "<table border=\"1\" class=\"dataframe\">\n",
              "  <thead>\n",
              "    <tr style=\"text-align: right;\">\n",
              "      <th></th>\n",
              "      <th>provinsi</th>\n",
              "      <th>kode_provinsi</th>\n",
              "      <th>tahun</th>\n",
              "      <th>luas_panen</th>\n",
              "      <th>jumlah_penduduk</th>\n",
              "      <th>luas provinsi (ha)</th>\n",
              "      <th>produksi_beras</th>\n",
              "      <th>konsumsi_rumah_tangga</th>\n",
              "      <th>surplus_defisit</th>\n",
              "      <th>presentase_surplus_defisit</th>\n",
              "      <th>harga_beras</th>\n",
              "      <th>suhu</th>\n",
              "      <th>penyinaran_matahari</th>\n",
              "      <th>Prediction</th>\n",
              "    </tr>\n",
              "  </thead>\n",
              "  <tbody>\n",
              "    <tr>\n",
              "      <th>0</th>\n",
              "      <td>ACEH</td>\n",
              "      <td>11</td>\n",
              "      <td>2023</td>\n",
              "      <td>272837.20080</td>\n",
              "      <td>5407900</td>\n",
              "      <td>5683909</td>\n",
              "      <td>0</td>\n",
              "      <td>5.163893e+05</td>\n",
              "      <td>0</td>\n",
              "      <td>69.247317</td>\n",
              "      <td>10883</td>\n",
              "      <td>26.60</td>\n",
              "      <td>63.750</td>\n",
              "      <td>1.509455e+06</td>\n",
              "    </tr>\n",
              "    <tr>\n",
              "      <th>1</th>\n",
              "      <td>BALI</td>\n",
              "      <td>51</td>\n",
              "      <td>2023</td>\n",
              "      <td>112769.88240</td>\n",
              "      <td>4415100</td>\n",
              "      <td>559015</td>\n",
              "      <td>0</td>\n",
              "      <td>4.538602e+05</td>\n",
              "      <td>0</td>\n",
              "      <td>-14.036307</td>\n",
              "      <td>11000</td>\n",
              "      <td>27.50</td>\n",
              "      <td>74.000</td>\n",
              "      <td>6.101460e+05</td>\n",
              "    </tr>\n",
              "    <tr>\n",
              "      <th>2</th>\n",
              "      <td>BANTEN</td>\n",
              "      <td>36</td>\n",
              "      <td>2023</td>\n",
              "      <td>338589.66280</td>\n",
              "      <td>12252000</td>\n",
              "      <td>966292</td>\n",
              "      <td>0</td>\n",
              "      <td>1.112361e+06</td>\n",
              "      <td>0</td>\n",
              "      <td>-8.424587</td>\n",
              "      <td>11541</td>\n",
              "      <td>28.18</td>\n",
              "      <td>52.625</td>\n",
              "      <td>1.788582e+06</td>\n",
              "    </tr>\n",
              "    <tr>\n",
              "      <th>3</th>\n",
              "      <td>BENGKULU</td>\n",
              "      <td>17</td>\n",
              "      <td>2023</td>\n",
              "      <td>57380.44736</td>\n",
              "      <td>2060100</td>\n",
              "      <td>1991933</td>\n",
              "      <td>0</td>\n",
              "      <td>1.994880e+05</td>\n",
              "      <td>0</td>\n",
              "      <td>-18.693366</td>\n",
              "      <td>10000</td>\n",
              "      <td>28.40</td>\n",
              "      <td>59.000</td>\n",
              "      <td>2.544735e+05</td>\n",
              "    </tr>\n",
              "    <tr>\n",
              "      <th>4</th>\n",
              "      <td>DI YOGYAKARTA</td>\n",
              "      <td>34</td>\n",
              "      <td>2023</td>\n",
              "      <td>111370.90880</td>\n",
              "      <td>3761900</td>\n",
              "      <td>317064</td>\n",
              "      <td>0</td>\n",
              "      <td>2.756889e+05</td>\n",
              "      <td>0</td>\n",
              "      <td>19.642087</td>\n",
              "      <td>10860</td>\n",
              "      <td>26.01</td>\n",
              "      <td>56.875</td>\n",
              "      <td>5.904111e+05</td>\n",
              "    </tr>\n",
              "  </tbody>\n",
              "</table>\n",
              "</div>\n",
              "      <button class=\"colab-df-convert\" onclick=\"convertToInteractive('df-5c97af7e-f45c-4c72-aac7-91be2667be70')\"\n",
              "              title=\"Convert this dataframe to an interactive table.\"\n",
              "              style=\"display:none;\">\n",
              "        \n",
              "  <svg xmlns=\"http://www.w3.org/2000/svg\" height=\"24px\"viewBox=\"0 0 24 24\"\n",
              "       width=\"24px\">\n",
              "    <path d=\"M0 0h24v24H0V0z\" fill=\"none\"/>\n",
              "    <path d=\"M18.56 5.44l.94 2.06.94-2.06 2.06-.94-2.06-.94-.94-2.06-.94 2.06-2.06.94zm-11 1L8.5 8.5l.94-2.06 2.06-.94-2.06-.94L8.5 2.5l-.94 2.06-2.06.94zm10 10l.94 2.06.94-2.06 2.06-.94-2.06-.94-.94-2.06-.94 2.06-2.06.94z\"/><path d=\"M17.41 7.96l-1.37-1.37c-.4-.4-.92-.59-1.43-.59-.52 0-1.04.2-1.43.59L10.3 9.45l-7.72 7.72c-.78.78-.78 2.05 0 2.83L4 21.41c.39.39.9.59 1.41.59.51 0 1.02-.2 1.41-.59l7.78-7.78 2.81-2.81c.8-.78.8-2.07 0-2.86zM5.41 20L4 18.59l7.72-7.72 1.47 1.35L5.41 20z\"/>\n",
              "  </svg>\n",
              "      </button>\n",
              "      \n",
              "  <style>\n",
              "    .colab-df-container {\n",
              "      display:flex;\n",
              "      flex-wrap:wrap;\n",
              "      gap: 12px;\n",
              "    }\n",
              "\n",
              "    .colab-df-convert {\n",
              "      background-color: #E8F0FE;\n",
              "      border: none;\n",
              "      border-radius: 50%;\n",
              "      cursor: pointer;\n",
              "      display: none;\n",
              "      fill: #1967D2;\n",
              "      height: 32px;\n",
              "      padding: 0 0 0 0;\n",
              "      width: 32px;\n",
              "    }\n",
              "\n",
              "    .colab-df-convert:hover {\n",
              "      background-color: #E2EBFA;\n",
              "      box-shadow: 0px 1px 2px rgba(60, 64, 67, 0.3), 0px 1px 3px 1px rgba(60, 64, 67, 0.15);\n",
              "      fill: #174EA6;\n",
              "    }\n",
              "\n",
              "    [theme=dark] .colab-df-convert {\n",
              "      background-color: #3B4455;\n",
              "      fill: #D2E3FC;\n",
              "    }\n",
              "\n",
              "    [theme=dark] .colab-df-convert:hover {\n",
              "      background-color: #434B5C;\n",
              "      box-shadow: 0px 1px 3px 1px rgba(0, 0, 0, 0.15);\n",
              "      filter: drop-shadow(0px 1px 2px rgba(0, 0, 0, 0.3));\n",
              "      fill: #FFFFFF;\n",
              "    }\n",
              "  </style>\n",
              "\n",
              "      <script>\n",
              "        const buttonEl =\n",
              "          document.querySelector('#df-5c97af7e-f45c-4c72-aac7-91be2667be70 button.colab-df-convert');\n",
              "        buttonEl.style.display =\n",
              "          google.colab.kernel.accessAllowed ? 'block' : 'none';\n",
              "\n",
              "        async function convertToInteractive(key) {\n",
              "          const element = document.querySelector('#df-5c97af7e-f45c-4c72-aac7-91be2667be70');\n",
              "          const dataTable =\n",
              "            await google.colab.kernel.invokeFunction('convertToInteractive',\n",
              "                                                     [key], {});\n",
              "          if (!dataTable) return;\n",
              "\n",
              "          const docLinkHtml = 'Like what you see? Visit the ' +\n",
              "            '<a target=\"_blank\" href=https://colab.research.google.com/notebooks/data_table.ipynb>data table notebook</a>'\n",
              "            + ' to learn more about interactive tables.';\n",
              "          element.innerHTML = '';\n",
              "          dataTable['output_type'] = 'display_data';\n",
              "          await google.colab.output.renderOutput(dataTable, element);\n",
              "          const docLink = document.createElement('div');\n",
              "          docLink.innerHTML = docLinkHtml;\n",
              "          element.appendChild(docLink);\n",
              "        }\n",
              "      </script>\n",
              "    </div>\n",
              "  </div>\n",
              "  "
            ],
            "text/plain": [
              "        provinsi  kode_provinsi  tahun    luas_panen  jumlah_penduduk  \\\n",
              "0           ACEH             11   2023  272837.20080          5407900   \n",
              "1           BALI             51   2023  112769.88240          4415100   \n",
              "2         BANTEN             36   2023  338589.66280         12252000   \n",
              "3       BENGKULU             17   2023   57380.44736          2060100   \n",
              "4  DI YOGYAKARTA             34   2023  111370.90880          3761900   \n",
              "\n",
              "   luas provinsi (ha)  produksi_beras  konsumsi_rumah_tangga  surplus_defisit  \\\n",
              "0             5683909               0           5.163893e+05                0   \n",
              "1              559015               0           4.538602e+05                0   \n",
              "2              966292               0           1.112361e+06                0   \n",
              "3             1991933               0           1.994880e+05                0   \n",
              "4              317064               0           2.756889e+05                0   \n",
              "\n",
              "   presentase_surplus_defisit  harga_beras   suhu  penyinaran_matahari  \\\n",
              "0                   69.247317        10883  26.60               63.750   \n",
              "1                  -14.036307        11000  27.50               74.000   \n",
              "2                   -8.424587        11541  28.18               52.625   \n",
              "3                  -18.693366        10000  28.40               59.000   \n",
              "4                   19.642087        10860  26.01               56.875   \n",
              "\n",
              "     Prediction  \n",
              "0  1.509455e+06  \n",
              "1  6.101460e+05  \n",
              "2  1.788582e+06  \n",
              "3  2.544735e+05  \n",
              "4  5.904111e+05  "
            ]
          },
          "execution_count": 75,
          "metadata": {},
          "output_type": "execute_result"
        }
      ],
      "source": [
        "# Menggabungkan hasil prediksi dengan data frame\n",
        "df_pred_padi = pd.concat([df2,df_result], sort=True, axis=1)\n",
        "df_pred_padi.head()"
      ]
    },
    {
      "cell_type": "code",
      "execution_count": null,
      "metadata": {
        "colab": {
          "base_uri": "https://localhost:8080/"
        },
        "id": "ClWoMBfwF9Kf",
        "outputId": "f86ec349-f85a-4dd3-a25e-cc191f0225f3"
      },
      "outputs": [
        {
          "data": {
            "text/plain": [
              "52758116.0"
            ]
          },
          "execution_count": 76,
          "metadata": {},
          "output_type": "execute_result"
        }
      ],
      "source": [
        "df_pred_padi['Prediction'].sum()"
      ]
    },
    {
      "attachments": {},
      "cell_type": "markdown",
      "metadata": {
        "id": "0xq_a5902Dvt"
      },
      "source": [
        "Estimasi total produksi padi tahun 2023 yaitu sebesar 52,758,116 ton"
      ]
    },
    {
      "cell_type": "code",
      "execution_count": null,
      "metadata": {
        "colab": {
          "base_uri": "https://localhost:8080/",
          "height": 231
        },
        "id": "2EOFfWn64Ke_",
        "outputId": "2b730973-fa16-4f2a-cd90-e2b609a864f2"
      },
      "outputs": [
        {
          "data": {
            "text/html": [
              "\n",
              "  <div id=\"df-4a971cdc-634a-4d6d-9184-6a413b3bd99e\">\n",
              "    <div class=\"colab-df-container\">\n",
              "      <div>\n",
              "<style scoped>\n",
              "    .dataframe tbody tr th:only-of-type {\n",
              "        vertical-align: middle;\n",
              "    }\n",
              "\n",
              "    .dataframe tbody tr th {\n",
              "        vertical-align: top;\n",
              "    }\n",
              "\n",
              "    .dataframe thead th {\n",
              "        text-align: right;\n",
              "    }\n",
              "</style>\n",
              "<table border=\"1\" class=\"dataframe\">\n",
              "  <thead>\n",
              "    <tr style=\"text-align: right;\">\n",
              "      <th></th>\n",
              "      <th>total_prod</th>\n",
              "    </tr>\n",
              "    <tr>\n",
              "      <th>tahun</th>\n",
              "      <th></th>\n",
              "    </tr>\n",
              "  </thead>\n",
              "  <tbody>\n",
              "    <tr>\n",
              "      <th>2018</th>\n",
              "      <td>59200533.72</td>\n",
              "    </tr>\n",
              "    <tr>\n",
              "      <th>2019</th>\n",
              "      <td>54604033.34</td>\n",
              "    </tr>\n",
              "    <tr>\n",
              "      <th>2020</th>\n",
              "      <td>54649202.24</td>\n",
              "    </tr>\n",
              "    <tr>\n",
              "      <th>2021</th>\n",
              "      <td>54415294.22</td>\n",
              "    </tr>\n",
              "    <tr>\n",
              "      <th>2022</th>\n",
              "      <td>54748975.85</td>\n",
              "    </tr>\n",
              "  </tbody>\n",
              "</table>\n",
              "</div>\n",
              "      <button class=\"colab-df-convert\" onclick=\"convertToInteractive('df-4a971cdc-634a-4d6d-9184-6a413b3bd99e')\"\n",
              "              title=\"Convert this dataframe to an interactive table.\"\n",
              "              style=\"display:none;\">\n",
              "        \n",
              "  <svg xmlns=\"http://www.w3.org/2000/svg\" height=\"24px\"viewBox=\"0 0 24 24\"\n",
              "       width=\"24px\">\n",
              "    <path d=\"M0 0h24v24H0V0z\" fill=\"none\"/>\n",
              "    <path d=\"M18.56 5.44l.94 2.06.94-2.06 2.06-.94-2.06-.94-.94-2.06-.94 2.06-2.06.94zm-11 1L8.5 8.5l.94-2.06 2.06-.94-2.06-.94L8.5 2.5l-.94 2.06-2.06.94zm10 10l.94 2.06.94-2.06 2.06-.94-2.06-.94-.94-2.06-.94 2.06-2.06.94z\"/><path d=\"M17.41 7.96l-1.37-1.37c-.4-.4-.92-.59-1.43-.59-.52 0-1.04.2-1.43.59L10.3 9.45l-7.72 7.72c-.78.78-.78 2.05 0 2.83L4 21.41c.39.39.9.59 1.41.59.51 0 1.02-.2 1.41-.59l7.78-7.78 2.81-2.81c.8-.78.8-2.07 0-2.86zM5.41 20L4 18.59l7.72-7.72 1.47 1.35L5.41 20z\"/>\n",
              "  </svg>\n",
              "      </button>\n",
              "      \n",
              "  <style>\n",
              "    .colab-df-container {\n",
              "      display:flex;\n",
              "      flex-wrap:wrap;\n",
              "      gap: 12px;\n",
              "    }\n",
              "\n",
              "    .colab-df-convert {\n",
              "      background-color: #E8F0FE;\n",
              "      border: none;\n",
              "      border-radius: 50%;\n",
              "      cursor: pointer;\n",
              "      display: none;\n",
              "      fill: #1967D2;\n",
              "      height: 32px;\n",
              "      padding: 0 0 0 0;\n",
              "      width: 32px;\n",
              "    }\n",
              "\n",
              "    .colab-df-convert:hover {\n",
              "      background-color: #E2EBFA;\n",
              "      box-shadow: 0px 1px 2px rgba(60, 64, 67, 0.3), 0px 1px 3px 1px rgba(60, 64, 67, 0.15);\n",
              "      fill: #174EA6;\n",
              "    }\n",
              "\n",
              "    [theme=dark] .colab-df-convert {\n",
              "      background-color: #3B4455;\n",
              "      fill: #D2E3FC;\n",
              "    }\n",
              "\n",
              "    [theme=dark] .colab-df-convert:hover {\n",
              "      background-color: #434B5C;\n",
              "      box-shadow: 0px 1px 3px 1px rgba(0, 0, 0, 0.15);\n",
              "      filter: drop-shadow(0px 1px 2px rgba(0, 0, 0, 0.3));\n",
              "      fill: #FFFFFF;\n",
              "    }\n",
              "  </style>\n",
              "\n",
              "      <script>\n",
              "        const buttonEl =\n",
              "          document.querySelector('#df-4a971cdc-634a-4d6d-9184-6a413b3bd99e button.colab-df-convert');\n",
              "        buttonEl.style.display =\n",
              "          google.colab.kernel.accessAllowed ? 'block' : 'none';\n",
              "\n",
              "        async function convertToInteractive(key) {\n",
              "          const element = document.querySelector('#df-4a971cdc-634a-4d6d-9184-6a413b3bd99e');\n",
              "          const dataTable =\n",
              "            await google.colab.kernel.invokeFunction('convertToInteractive',\n",
              "                                                     [key], {});\n",
              "          if (!dataTable) return;\n",
              "\n",
              "          const docLinkHtml = 'Like what you see? Visit the ' +\n",
              "            '<a target=\"_blank\" href=https://colab.research.google.com/notebooks/data_table.ipynb>data table notebook</a>'\n",
              "            + ' to learn more about interactive tables.';\n",
              "          element.innerHTML = '';\n",
              "          dataTable['output_type'] = 'display_data';\n",
              "          await google.colab.output.renderOutput(dataTable, element);\n",
              "          const docLink = document.createElement('div');\n",
              "          docLink.innerHTML = docLinkHtml;\n",
              "          element.appendChild(docLink);\n",
              "        }\n",
              "      </script>\n",
              "    </div>\n",
              "  </div>\n",
              "  "
            ],
            "text/plain": [
              "        total_prod\n",
              "tahun             \n",
              "2018   59200533.72\n",
              "2019   54604033.34\n",
              "2020   54649202.24\n",
              "2021   54415294.22\n",
              "2022   54748975.85"
            ]
          },
          "execution_count": 77,
          "metadata": {},
          "output_type": "execute_result"
        }
      ],
      "source": [
        "df_before = df.groupby('tahun').agg(total_prod = ('produksi', 'sum'))\n",
        "df_before"
      ]
    },
    {
      "cell_type": "code",
      "execution_count": null,
      "metadata": {
        "colab": {
          "base_uri": "https://localhost:8080/",
          "height": 16
        },
        "id": "aLWzHf-lKKNv",
        "outputId": "924afbb8-fd8c-4021-d007-d7aebd9b8ad7"
      },
      "outputs": [
        {
          "data": {
            "application/javascript": "\n    async function download(id, filename, size) {\n      if (!google.colab.kernel.accessAllowed) {\n        return;\n      }\n      const div = document.createElement('div');\n      const label = document.createElement('label');\n      label.textContent = `Downloading \"${filename}\": `;\n      div.appendChild(label);\n      const progress = document.createElement('progress');\n      progress.max = size;\n      div.appendChild(progress);\n      document.body.appendChild(div);\n\n      const buffers = [];\n      let downloaded = 0;\n\n      const channel = await google.colab.kernel.comms.open(id);\n      // Send a message to notify the kernel that we're ready.\n      channel.send({})\n\n      for await (const message of channel.messages) {\n        // Send a message to notify the kernel that we're ready.\n        channel.send({})\n        if (message.buffers) {\n          for (const buffer of message.buffers) {\n            buffers.push(buffer);\n            downloaded += buffer.byteLength;\n            progress.value = downloaded;\n          }\n        }\n      }\n      const blob = new Blob(buffers, {type: 'application/binary'});\n      const a = document.createElement('a');\n      a.href = window.URL.createObjectURL(blob);\n      a.download = filename;\n      div.appendChild(a);\n      a.click();\n      div.remove();\n    }\n  ",
            "text/plain": [
              "<IPython.core.display.Javascript object>"
            ]
          },
          "metadata": {},
          "output_type": "display_data"
        },
        {
          "data": {
            "application/javascript": "download(\"download_d0b38f42-0372-4fcf-a55c-4f3f0c75a2cb\", \"data estimasi.xlsx\", 9078)",
            "text/plain": [
              "<IPython.core.display.Javascript object>"
            ]
          },
          "metadata": {},
          "output_type": "display_data"
        }
      ],
      "source": [
        "# Eksport To CSV\n",
        "# Export as download if in colab\n",
        "from google.colab import files\n",
        "\n",
        "# Eksport To Excel\n",
        "df_pred_padi.to_excel('data estimasi.xlsx', sheet_name='Sheet1')\n",
        "files.download('data estimasi.xlsx')"
      ]
    },
    {
      "attachments": {},
      "cell_type": "markdown",
      "metadata": {
        "id": "3BY-qNmGwvrp"
      },
      "source": [
        "# ARIMA"
      ]
    },
    {
      "attachments": {},
      "cell_type": "markdown",
      "metadata": {
        "id": "QJiA9j6wxJ27"
      },
      "source": [
        "ARIMA atau Auto Regressive Integrated Moving Average adalah model yang banyak dipakai dalam peramalan data time series univariat. Sesuai namanya, model ARIMA terdiri 3 komponen yaitu Auto Regressive (AR), Integrated (I) dan Moving Average (MA) dan dinotasikan sebagai ARIMA(p, d, q)."
      ]
    },
    {
      "cell_type": "code",
      "execution_count": null,
      "metadata": {
        "colab": {
          "base_uri": "https://localhost:8080/"
        },
        "id": "8iOUIFyfwuz8",
        "outputId": "d8e9afbe-38eb-4996-d3da-52eeb188b13f"
      },
      "outputs": [
        {
          "name": "stdout",
          "output_type": "stream",
          "text": [
            "Looking in indexes: https://pypi.org/simple, https://us-python.pkg.dev/colab-wheels/public/simple/\n",
            "Collecting pmdarima\n",
            "  Downloading pmdarima-2.0.3-cp310-cp310-manylinux_2_17_x86_64.manylinux2014_x86_64.manylinux_2_28_x86_64.whl (1.8 MB)\n",
            "\u001b[2K     \u001b[90m━━━━━━━━━━━━━━━━━━━━━━━━━━━━━━━━━━━━━━━━\u001b[0m \u001b[32m1.8/1.8 MB\u001b[0m \u001b[31m20.9 MB/s\u001b[0m eta \u001b[36m0:00:00\u001b[0m\n",
            "\u001b[?25hRequirement already satisfied: joblib>=0.11 in /usr/local/lib/python3.10/dist-packages (from pmdarima) (1.2.0)\n",
            "Requirement already satisfied: Cython!=0.29.18,!=0.29.31,>=0.29 in /usr/local/lib/python3.10/dist-packages (from pmdarima) (0.29.34)\n",
            "Requirement already satisfied: numpy>=1.21.2 in /usr/local/lib/python3.10/dist-packages (from pmdarima) (1.22.4)\n",
            "Requirement already satisfied: pandas>=0.19 in /usr/local/lib/python3.10/dist-packages (from pmdarima) (1.5.3)\n",
            "Requirement already satisfied: scikit-learn>=0.22 in /usr/local/lib/python3.10/dist-packages (from pmdarima) (1.2.2)\n",
            "Requirement already satisfied: scipy>=1.3.2 in /usr/local/lib/python3.10/dist-packages (from pmdarima) (1.10.1)\n",
            "Requirement already satisfied: statsmodels>=0.13.2 in /usr/local/lib/python3.10/dist-packages (from pmdarima) (0.13.5)\n",
            "Requirement already satisfied: urllib3 in /usr/local/lib/python3.10/dist-packages (from pmdarima) (1.26.15)\n",
            "Requirement already satisfied: setuptools!=50.0.0,>=38.6.0 in /usr/local/lib/python3.10/dist-packages (from pmdarima) (67.7.2)\n",
            "Requirement already satisfied: python-dateutil>=2.8.1 in /usr/local/lib/python3.10/dist-packages (from pandas>=0.19->pmdarima) (2.8.2)\n",
            "Requirement already satisfied: pytz>=2020.1 in /usr/local/lib/python3.10/dist-packages (from pandas>=0.19->pmdarima) (2022.7.1)\n",
            "Requirement already satisfied: threadpoolctl>=2.0.0 in /usr/local/lib/python3.10/dist-packages (from scikit-learn>=0.22->pmdarima) (3.1.0)\n",
            "Requirement already satisfied: patsy>=0.5.2 in /usr/local/lib/python3.10/dist-packages (from statsmodels>=0.13.2->pmdarima) (0.5.3)\n",
            "Requirement already satisfied: packaging>=21.3 in /usr/local/lib/python3.10/dist-packages (from statsmodels>=0.13.2->pmdarima) (23.1)\n",
            "Requirement already satisfied: six in /usr/local/lib/python3.10/dist-packages (from patsy>=0.5.2->statsmodels>=0.13.2->pmdarima) (1.16.0)\n",
            "Installing collected packages: pmdarima\n",
            "Successfully installed pmdarima-2.0.3\n"
          ]
        }
      ],
      "source": [
        "!pip install pmdarima"
      ]
    },
    {
      "cell_type": "code",
      "execution_count": null,
      "metadata": {
        "colab": {
          "base_uri": "https://localhost:8080/",
          "height": 277
        },
        "id": "M1TUmAnb1KFi",
        "outputId": "5009cf77-c86a-4bdb-e394-ec461b692113"
      },
      "outputs": [
        {
          "data": {
            "text/html": [
              "\n",
              "  <div id=\"df-463a4ca9-2a1d-4b41-906a-761ec33b2dae\">\n",
              "    <div class=\"colab-df-container\">\n",
              "      <div>\n",
              "<style scoped>\n",
              "    .dataframe tbody tr th:only-of-type {\n",
              "        vertical-align: middle;\n",
              "    }\n",
              "\n",
              "    .dataframe tbody tr th {\n",
              "        vertical-align: top;\n",
              "    }\n",
              "\n",
              "    .dataframe thead th {\n",
              "        text-align: right;\n",
              "    }\n",
              "</style>\n",
              "<table border=\"1\" class=\"dataframe\">\n",
              "  <thead>\n",
              "    <tr style=\"text-align: right;\">\n",
              "      <th></th>\n",
              "      <th>provinsi</th>\n",
              "      <th>kode_provinsi</th>\n",
              "      <th>tahun</th>\n",
              "      <th>luas panen (ha)</th>\n",
              "      <th>produktivitas (ku/ha)</th>\n",
              "      <th>produksi (ton)</th>\n",
              "      <th>jumlah penduduk</th>\n",
              "      <th>luas provinsi (ha)</th>\n",
              "      <th>produksi beras (ton)</th>\n",
              "      <th>proyeksi konsumsi rumah tangga(ton)</th>\n",
              "      <th>surplus/ defisit(ton)</th>\n",
              "      <th>surplus/ defisit(%)*</th>\n",
              "      <th>harga beras(Rp)</th>\n",
              "      <th>suhu</th>\n",
              "      <th>penyinaran matahari (%)</th>\n",
              "    </tr>\n",
              "  </thead>\n",
              "  <tbody>\n",
              "    <tr>\n",
              "      <th>0</th>\n",
              "      <td>ACEH</td>\n",
              "      <td>11</td>\n",
              "      <td>2018</td>\n",
              "      <td>329515.78</td>\n",
              "      <td>56.49</td>\n",
              "      <td>1861567.10</td>\n",
              "      <td>5243400</td>\n",
              "      <td>5795600</td>\n",
              "      <td>1066890.0</td>\n",
              "      <td>557210.000000</td>\n",
              "      <td>509680.000000</td>\n",
              "      <td>91.470002</td>\n",
              "      <td>10182</td>\n",
              "      <td>27.08</td>\n",
              "      <td>60.18</td>\n",
              "    </tr>\n",
              "    <tr>\n",
              "      <th>1</th>\n",
              "      <td>ACEH</td>\n",
              "      <td>11</td>\n",
              "      <td>2019</td>\n",
              "      <td>310012.46</td>\n",
              "      <td>55.30</td>\n",
              "      <td>1714437.60</td>\n",
              "      <td>5316300</td>\n",
              "      <td>5795600</td>\n",
              "      <td>982570.0</td>\n",
              "      <td>443379.000000</td>\n",
              "      <td>539191.000000</td>\n",
              "      <td>121.609503</td>\n",
              "      <td>11134</td>\n",
              "      <td>26.90</td>\n",
              "      <td>65.74</td>\n",
              "    </tr>\n",
              "    <tr>\n",
              "      <th>2</th>\n",
              "      <td>ACEH</td>\n",
              "      <td>11</td>\n",
              "      <td>2020</td>\n",
              "      <td>317869.41</td>\n",
              "      <td>55.28</td>\n",
              "      <td>1757313.07</td>\n",
              "      <td>5274900</td>\n",
              "      <td>5795600</td>\n",
              "      <td>1007143.0</td>\n",
              "      <td>455749.000000</td>\n",
              "      <td>551394.000000</td>\n",
              "      <td>120.986332</td>\n",
              "      <td>11093</td>\n",
              "      <td>26.50</td>\n",
              "      <td>62.50</td>\n",
              "    </tr>\n",
              "    <tr>\n",
              "      <th>3</th>\n",
              "      <td>ACEH</td>\n",
              "      <td>11</td>\n",
              "      <td>2021</td>\n",
              "      <td>297058.38</td>\n",
              "      <td>55.03</td>\n",
              "      <td>1634639.60</td>\n",
              "      <td>5333700</td>\n",
              "      <td>5795600</td>\n",
              "      <td>941688.0</td>\n",
              "      <td>472355.000000</td>\n",
              "      <td>469333.000000</td>\n",
              "      <td>99.360227</td>\n",
              "      <td>9428</td>\n",
              "      <td>26.80</td>\n",
              "      <td>65.00</td>\n",
              "    </tr>\n",
              "    <tr>\n",
              "      <th>4</th>\n",
              "      <td>ACEH</td>\n",
              "      <td>11</td>\n",
              "      <td>2022</td>\n",
              "      <td>271750.20</td>\n",
              "      <td>55.55</td>\n",
              "      <td>1509456.00</td>\n",
              "      <td>5407900</td>\n",
              "      <td>5683909</td>\n",
              "      <td>873975.0</td>\n",
              "      <td>516389.279133</td>\n",
              "      <td>357585.720867</td>\n",
              "      <td>69.247317</td>\n",
              "      <td>10883</td>\n",
              "      <td>26.60</td>\n",
              "      <td>63.75</td>\n",
              "    </tr>\n",
              "  </tbody>\n",
              "</table>\n",
              "</div>\n",
              "      <button class=\"colab-df-convert\" onclick=\"convertToInteractive('df-463a4ca9-2a1d-4b41-906a-761ec33b2dae')\"\n",
              "              title=\"Convert this dataframe to an interactive table.\"\n",
              "              style=\"display:none;\">\n",
              "        \n",
              "  <svg xmlns=\"http://www.w3.org/2000/svg\" height=\"24px\"viewBox=\"0 0 24 24\"\n",
              "       width=\"24px\">\n",
              "    <path d=\"M0 0h24v24H0V0z\" fill=\"none\"/>\n",
              "    <path d=\"M18.56 5.44l.94 2.06.94-2.06 2.06-.94-2.06-.94-.94-2.06-.94 2.06-2.06.94zm-11 1L8.5 8.5l.94-2.06 2.06-.94-2.06-.94L8.5 2.5l-.94 2.06-2.06.94zm10 10l.94 2.06.94-2.06 2.06-.94-2.06-.94-.94-2.06-.94 2.06-2.06.94z\"/><path d=\"M17.41 7.96l-1.37-1.37c-.4-.4-.92-.59-1.43-.59-.52 0-1.04.2-1.43.59L10.3 9.45l-7.72 7.72c-.78.78-.78 2.05 0 2.83L4 21.41c.39.39.9.59 1.41.59.51 0 1.02-.2 1.41-.59l7.78-7.78 2.81-2.81c.8-.78.8-2.07 0-2.86zM5.41 20L4 18.59l7.72-7.72 1.47 1.35L5.41 20z\"/>\n",
              "  </svg>\n",
              "      </button>\n",
              "      \n",
              "  <style>\n",
              "    .colab-df-container {\n",
              "      display:flex;\n",
              "      flex-wrap:wrap;\n",
              "      gap: 12px;\n",
              "    }\n",
              "\n",
              "    .colab-df-convert {\n",
              "      background-color: #E8F0FE;\n",
              "      border: none;\n",
              "      border-radius: 50%;\n",
              "      cursor: pointer;\n",
              "      display: none;\n",
              "      fill: #1967D2;\n",
              "      height: 32px;\n",
              "      padding: 0 0 0 0;\n",
              "      width: 32px;\n",
              "    }\n",
              "\n",
              "    .colab-df-convert:hover {\n",
              "      background-color: #E2EBFA;\n",
              "      box-shadow: 0px 1px 2px rgba(60, 64, 67, 0.3), 0px 1px 3px 1px rgba(60, 64, 67, 0.15);\n",
              "      fill: #174EA6;\n",
              "    }\n",
              "\n",
              "    [theme=dark] .colab-df-convert {\n",
              "      background-color: #3B4455;\n",
              "      fill: #D2E3FC;\n",
              "    }\n",
              "\n",
              "    [theme=dark] .colab-df-convert:hover {\n",
              "      background-color: #434B5C;\n",
              "      box-shadow: 0px 1px 3px 1px rgba(0, 0, 0, 0.15);\n",
              "      filter: drop-shadow(0px 1px 2px rgba(0, 0, 0, 0.3));\n",
              "      fill: #FFFFFF;\n",
              "    }\n",
              "  </style>\n",
              "\n",
              "      <script>\n",
              "        const buttonEl =\n",
              "          document.querySelector('#df-463a4ca9-2a1d-4b41-906a-761ec33b2dae button.colab-df-convert');\n",
              "        buttonEl.style.display =\n",
              "          google.colab.kernel.accessAllowed ? 'block' : 'none';\n",
              "\n",
              "        async function convertToInteractive(key) {\n",
              "          const element = document.querySelector('#df-463a4ca9-2a1d-4b41-906a-761ec33b2dae');\n",
              "          const dataTable =\n",
              "            await google.colab.kernel.invokeFunction('convertToInteractive',\n",
              "                                                     [key], {});\n",
              "          if (!dataTable) return;\n",
              "\n",
              "          const docLinkHtml = 'Like what you see? Visit the ' +\n",
              "            '<a target=\"_blank\" href=https://colab.research.google.com/notebooks/data_table.ipynb>data table notebook</a>'\n",
              "            + ' to learn more about interactive tables.';\n",
              "          element.innerHTML = '';\n",
              "          dataTable['output_type'] = 'display_data';\n",
              "          await google.colab.output.renderOutput(dataTable, element);\n",
              "          const docLink = document.createElement('div');\n",
              "          docLink.innerHTML = docLinkHtml;\n",
              "          element.appendChild(docLink);\n",
              "        }\n",
              "      </script>\n",
              "    </div>\n",
              "  </div>\n",
              "  "
            ],
            "text/plain": [
              "  provinsi  kode_provinsi  tahun  luas panen (ha)  produktivitas (ku/ha)  \\\n",
              "0     ACEH             11   2018        329515.78                  56.49   \n",
              "1     ACEH             11   2019        310012.46                  55.30   \n",
              "2     ACEH             11   2020        317869.41                  55.28   \n",
              "3     ACEH             11   2021        297058.38                  55.03   \n",
              "4     ACEH             11   2022        271750.20                  55.55   \n",
              "\n",
              "   produksi (ton)  jumlah penduduk   luas provinsi (ha)  produksi beras (ton)  \\\n",
              "0      1861567.10           5243400             5795600             1066890.0   \n",
              "1      1714437.60           5316300             5795600              982570.0   \n",
              "2      1757313.07           5274900             5795600             1007143.0   \n",
              "3      1634639.60           5333700             5795600              941688.0   \n",
              "4      1509456.00           5407900             5683909              873975.0   \n",
              "\n",
              "   proyeksi konsumsi rumah tangga(ton)  surplus/ defisit(ton)  \\\n",
              "0                        557210.000000          509680.000000   \n",
              "1                        443379.000000          539191.000000   \n",
              "2                        455749.000000          551394.000000   \n",
              "3                        472355.000000          469333.000000   \n",
              "4                        516389.279133          357585.720867   \n",
              "\n",
              "   surplus/ defisit(%)*  harga beras(Rp)   suhu  penyinaran matahari (%)  \n",
              "0             91.470002            10182  27.08                    60.18  \n",
              "1            121.609503            11134  26.90                    65.74  \n",
              "2            120.986332            11093  26.50                    62.50  \n",
              "3             99.360227             9428  26.80                    65.00  \n",
              "4             69.247317            10883  26.60                    63.75  "
            ]
          },
          "execution_count": 80,
          "metadata": {},
          "output_type": "execute_result"
        }
      ],
      "source": [
        "path2 = '/content/drive/MyDrive/dataset Padi baru_arima.xlsx'\n",
        "df_2 = pd.read_excel(path2)\n",
        "df_2 = pd.DataFrame(df_2)\n",
        "df_2.head()"
      ]
    },
    {
      "cell_type": "code",
      "execution_count": null,
      "metadata": {
        "id": "pb8IOp4l1md9"
      },
      "outputs": [],
      "source": [
        "new_columns = {'luas panen (ha)': 'luas_panen',\n",
        "               'produktivitas (ku/ha)': 'produktivitas',\n",
        "               'produksi (ton)': 'produksi',\n",
        "               'jumlah penduduk ': 'jumlah_penduduk',\n",
        "               'luas provinsi (ha)': 'luas_provinsi',\n",
        "               'produksi beras (ton)': 'produksi_beras',\n",
        "               'proyeksi konsumsi rumah tangga(ton)': 'konsumsi_rumah_tangga',\n",
        "               'surplus/ defisit(ton)': 'surplus_defisit',\n",
        "               'surplus/ defisit(%)*': 'presentase_surplus_defisit',\n",
        "               'harga beras(Rp)': 'harga_beras',\n",
        "               'curah hujan (mm)': 'curah_hujan',\n",
        "               'penyinaran matahari (%)': 'penyinaran_matahari'}\n",
        "df_2 = df_2.rename(columns=new_columns)"
      ]
    },
    {
      "cell_type": "code",
      "execution_count": null,
      "metadata": {
        "colab": {
          "base_uri": "https://localhost:8080/",
          "height": 261
        },
        "id": "GE8ac-stw3Np",
        "outputId": "f9268553-18b5-4377-9150-1e05f47d02df"
      },
      "outputs": [
        {
          "data": {
            "text/html": [
              "\n",
              "  <div id=\"df-6c55cae3-1894-4f9e-8489-0fddf2d7a408\">\n",
              "    <div class=\"colab-df-container\">\n",
              "      <div>\n",
              "<style scoped>\n",
              "    .dataframe tbody tr th:only-of-type {\n",
              "        vertical-align: middle;\n",
              "    }\n",
              "\n",
              "    .dataframe tbody tr th {\n",
              "        vertical-align: top;\n",
              "    }\n",
              "\n",
              "    .dataframe thead th {\n",
              "        text-align: right;\n",
              "    }\n",
              "</style>\n",
              "<table border=\"1\" class=\"dataframe\">\n",
              "  <thead>\n",
              "    <tr style=\"text-align: right;\">\n",
              "      <th></th>\n",
              "      <th>total_prod</th>\n",
              "      <th>total_luas_panen</th>\n",
              "      <th>total_krt</th>\n",
              "      <th>total_supdef</th>\n",
              "    </tr>\n",
              "    <tr>\n",
              "      <th>tahun</th>\n",
              "      <th></th>\n",
              "      <th></th>\n",
              "      <th></th>\n",
              "      <th></th>\n",
              "    </tr>\n",
              "  </thead>\n",
              "  <tbody>\n",
              "    <tr>\n",
              "      <th>2018</th>\n",
              "      <td>5.920053e+07</td>\n",
              "      <td>334645.130588</td>\n",
              "      <td>2.504300e+07</td>\n",
              "      <td>222209.809995</td>\n",
              "    </tr>\n",
              "    <tr>\n",
              "      <th>2019</th>\n",
              "      <td>5.460403e+07</td>\n",
              "      <td>314055.504412</td>\n",
              "      <td>2.054333e+07</td>\n",
              "      <td>278522.125441</td>\n",
              "    </tr>\n",
              "    <tr>\n",
              "      <th>2020</th>\n",
              "      <td>5.464920e+07</td>\n",
              "      <td>313449.263529</td>\n",
              "      <td>2.088212e+07</td>\n",
              "      <td>307422.794118</td>\n",
              "    </tr>\n",
              "    <tr>\n",
              "      <th>2021</th>\n",
              "      <td>5.441529e+07</td>\n",
              "      <td>306229.447647</td>\n",
              "      <td>2.205964e+07</td>\n",
              "      <td>251013.108647</td>\n",
              "    </tr>\n",
              "    <tr>\n",
              "      <th>2022</th>\n",
              "      <td>5.474898e+07</td>\n",
              "      <td>307488.769412</td>\n",
              "      <td>2.411610e+07</td>\n",
              "      <td>221569.574334</td>\n",
              "    </tr>\n",
              "    <tr>\n",
              "      <th>2023</th>\n",
              "      <td>5.275811e+07</td>\n",
              "      <td>308718.724489</td>\n",
              "      <td>2.411610e+07</td>\n",
              "      <td>188100.300883</td>\n",
              "    </tr>\n",
              "  </tbody>\n",
              "</table>\n",
              "</div>\n",
              "      <button class=\"colab-df-convert\" onclick=\"convertToInteractive('df-6c55cae3-1894-4f9e-8489-0fddf2d7a408')\"\n",
              "              title=\"Convert this dataframe to an interactive table.\"\n",
              "              style=\"display:none;\">\n",
              "        \n",
              "  <svg xmlns=\"http://www.w3.org/2000/svg\" height=\"24px\"viewBox=\"0 0 24 24\"\n",
              "       width=\"24px\">\n",
              "    <path d=\"M0 0h24v24H0V0z\" fill=\"none\"/>\n",
              "    <path d=\"M18.56 5.44l.94 2.06.94-2.06 2.06-.94-2.06-.94-.94-2.06-.94 2.06-2.06.94zm-11 1L8.5 8.5l.94-2.06 2.06-.94-2.06-.94L8.5 2.5l-.94 2.06-2.06.94zm10 10l.94 2.06.94-2.06 2.06-.94-2.06-.94-.94-2.06-.94 2.06-2.06.94z\"/><path d=\"M17.41 7.96l-1.37-1.37c-.4-.4-.92-.59-1.43-.59-.52 0-1.04.2-1.43.59L10.3 9.45l-7.72 7.72c-.78.78-.78 2.05 0 2.83L4 21.41c.39.39.9.59 1.41.59.51 0 1.02-.2 1.41-.59l7.78-7.78 2.81-2.81c.8-.78.8-2.07 0-2.86zM5.41 20L4 18.59l7.72-7.72 1.47 1.35L5.41 20z\"/>\n",
              "  </svg>\n",
              "      </button>\n",
              "      \n",
              "  <style>\n",
              "    .colab-df-container {\n",
              "      display:flex;\n",
              "      flex-wrap:wrap;\n",
              "      gap: 12px;\n",
              "    }\n",
              "\n",
              "    .colab-df-convert {\n",
              "      background-color: #E8F0FE;\n",
              "      border: none;\n",
              "      border-radius: 50%;\n",
              "      cursor: pointer;\n",
              "      display: none;\n",
              "      fill: #1967D2;\n",
              "      height: 32px;\n",
              "      padding: 0 0 0 0;\n",
              "      width: 32px;\n",
              "    }\n",
              "\n",
              "    .colab-df-convert:hover {\n",
              "      background-color: #E2EBFA;\n",
              "      box-shadow: 0px 1px 2px rgba(60, 64, 67, 0.3), 0px 1px 3px 1px rgba(60, 64, 67, 0.15);\n",
              "      fill: #174EA6;\n",
              "    }\n",
              "\n",
              "    [theme=dark] .colab-df-convert {\n",
              "      background-color: #3B4455;\n",
              "      fill: #D2E3FC;\n",
              "    }\n",
              "\n",
              "    [theme=dark] .colab-df-convert:hover {\n",
              "      background-color: #434B5C;\n",
              "      box-shadow: 0px 1px 3px 1px rgba(0, 0, 0, 0.15);\n",
              "      filter: drop-shadow(0px 1px 2px rgba(0, 0, 0, 0.3));\n",
              "      fill: #FFFFFF;\n",
              "    }\n",
              "  </style>\n",
              "\n",
              "      <script>\n",
              "        const buttonEl =\n",
              "          document.querySelector('#df-6c55cae3-1894-4f9e-8489-0fddf2d7a408 button.colab-df-convert');\n",
              "        buttonEl.style.display =\n",
              "          google.colab.kernel.accessAllowed ? 'block' : 'none';\n",
              "\n",
              "        async function convertToInteractive(key) {\n",
              "          const element = document.querySelector('#df-6c55cae3-1894-4f9e-8489-0fddf2d7a408');\n",
              "          const dataTable =\n",
              "            await google.colab.kernel.invokeFunction('convertToInteractive',\n",
              "                                                     [key], {});\n",
              "          if (!dataTable) return;\n",
              "\n",
              "          const docLinkHtml = 'Like what you see? Visit the ' +\n",
              "            '<a target=\"_blank\" href=https://colab.research.google.com/notebooks/data_table.ipynb>data table notebook</a>'\n",
              "            + ' to learn more about interactive tables.';\n",
              "          element.innerHTML = '';\n",
              "          dataTable['output_type'] = 'display_data';\n",
              "          await google.colab.output.renderOutput(dataTable, element);\n",
              "          const docLink = document.createElement('div');\n",
              "          docLink.innerHTML = docLinkHtml;\n",
              "          element.appendChild(docLink);\n",
              "        }\n",
              "      </script>\n",
              "    </div>\n",
              "  </div>\n",
              "  "
            ],
            "text/plain": [
              "         total_prod  total_luas_panen     total_krt   total_supdef\n",
              "tahun                                                             \n",
              "2018   5.920053e+07     334645.130588  2.504300e+07  222209.809995\n",
              "2019   5.460403e+07     314055.504412  2.054333e+07  278522.125441\n",
              "2020   5.464920e+07     313449.263529  2.088212e+07  307422.794118\n",
              "2021   5.441529e+07     306229.447647  2.205964e+07  251013.108647\n",
              "2022   5.474898e+07     307488.769412  2.411610e+07  221569.574334\n",
              "2023   5.275811e+07     308718.724489  2.411610e+07  188100.300883"
            ]
          },
          "execution_count": 82,
          "metadata": {},
          "output_type": "execute_result"
        }
      ],
      "source": [
        "df_3 = df_2.groupby('tahun')\\\n",
        "                .agg(total_prod = ('produksi', 'sum'),\n",
        "                total_luas_panen = ('luas_panen', 'mean'),\n",
        "                total_krt = ('konsumsi_rumah_tangga', 'sum'),\n",
        "                total_supdef = ('surplus_defisit', 'mean'),\n",
        "\n",
        "                     )\n",
        "\n",
        "df_3"
      ]
    },
    {
      "cell_type": "code",
      "execution_count": null,
      "metadata": {
        "colab": {
          "base_uri": "https://localhost:8080/",
          "height": 496
        },
        "id": "1WP9ENWF2qh7",
        "outputId": "a0ad1cbc-97a3-404d-febf-230b682806f9"
      },
      "outputs": [
        {
          "data": {
            "text/plain": [
              "<Axes: xlabel='tahun'>"
            ]
          },
          "execution_count": 83,
          "metadata": {},
          "output_type": "execute_result"
        },
        {
          "data": {
            "image/png": "[encoded data removed]",
            "text/plain": [
              "<Figure size 1000x500 with 1 Axes>"
            ]
          },
          "metadata": {},
          "output_type": "display_data"
        }
      ],
      "source": [
        "df_3['total_prod'].plot(figsize=(10,5))"
      ]
    },
    {
      "cell_type": "code",
      "execution_count": null,
      "metadata": {
        "id": "RELlxy7f2tkn"
      },
      "outputs": [],
      "source": [
        "from statsmodels.tsa.stattools import adfuller\n",
        "\n",
        "def ad_test(dataset):\n",
        "  dftest = adfuller(dataset, autolag = 'AIC')\n",
        "  print(\"1. ADF \", dftest[0])\n",
        "  print(\"2. P-Value \", dftest[1])\n",
        "  print(\"3. Num Of Lags \", dftest[2])\n",
        "  print(\"4. Num Of Observations Uses For ADF Regression and Critical Values Calulations \", dftest[3])\n",
        "  print(\"5. Critical Values \")\n",
        "  for key, val in dftest[4].items():\n",
        "    print(\"\\t\", key, \": \", val)"
      ]
    },
    {
      "cell_type": "code",
      "execution_count": null,
      "metadata": {
        "colab": {
          "base_uri": "https://localhost:8080/"
        },
        "id": "syOLGKJI2xIn",
        "outputId": "fb699ab4-a8d4-4005-e981-32162d819107"
      },
      "outputs": [
        {
          "name": "stdout",
          "output_type": "stream",
          "text": [
            "1. ADF  -4.005707223986137\n",
            "2. P-Value  0.0013809196364114812\n",
            "3. Num Of Lags  0\n",
            "4. Num Of Observations Uses For ADF Regression and Critical Values Calulations  5\n",
            "5. Critical Values \n",
            "\t 1% :  -6.045114\n",
            "\t 5% :  -3.9292800000000003\n",
            "\t 10% :  -2.98681\n"
          ]
        }
      ],
      "source": [
        "ad_test(df_3['total_prod'])"
      ]
    },
    {
      "cell_type": "code",
      "execution_count": null,
      "metadata": {
        "id": "iT2izbrK24ek"
      },
      "outputs": [],
      "source": [
        "from pmdarima import auto_arima\n",
        "\n",
        "# Ignore harmless warnings\n",
        "import warnings\n",
        "warnings.filterwarnings(\"ignore\")"
      ]
    },
    {
      "cell_type": "code",
      "execution_count": null,
      "metadata": {
        "colab": {
          "base_uri": "https://localhost:8080/",
          "height": 540
        },
        "id": "t_IyDCLz268z",
        "outputId": "2ae63d47-fe77-4774-9e66-37a301ff6adf"
      },
      "outputs": [
        {
          "name": "stdout",
          "output_type": "stream",
          "text": [
            "Performing stepwise search to minimize aic\n",
            " ARIMA(1,0,1)(0,0,0)[0] intercept   : AIC=inf, Time=0.46 sec\n",
            " ARIMA(0,0,0)(0,0,0)[0] intercept   : AIC=194.962, Time=0.04 sec\n",
            " ARIMA(1,0,0)(0,0,0)[0] intercept   : AIC=222.930, Time=0.07 sec\n",
            " ARIMA(0,0,1)(0,0,0)[0] intercept   : AIC=inf, Time=0.14 sec\n",
            " ARIMA(0,0,0)(0,0,0)[0]             : AIC=232.923, Time=0.02 sec\n",
            "\n",
            "Best model:  ARIMA(0,0,0)(0,0,0)[0] intercept\n",
            "Total fit time: 0.765 seconds\n"
          ]
        },
        {
          "data": {
            "text/html": [
              "<table class=\"simpletable\">\n",
              "<caption>SARIMAX Results</caption>\n",
              "<tr>\n",
              "  <th>Dep. Variable:</th>           <td>y</td>        <th>  No. Observations:  </th>    <td>6</td>   \n",
              "</tr>\n",
              "<tr>\n",
              "  <th>Model:</th>                <td>SARIMAX</td>     <th>  Log Likelihood     </th> <td>-95.481</td>\n",
              "</tr>\n",
              "<tr>\n",
              "  <th>Date:</th>            <td>Wed, 14 Jun 2023</td> <th>  AIC                </th> <td>194.962</td>\n",
              "</tr>\n",
              "<tr>\n",
              "  <th>Time:</th>                <td>04:07:10</td>     <th>  BIC                </th> <td>194.545</td>\n",
              "</tr>\n",
              "<tr>\n",
              "  <th>Sample:</th>                  <td>0</td>        <th>  HQIC               </th> <td>193.295</td>\n",
              "</tr>\n",
              "<tr>\n",
              "  <th></th>                       <td> - 6</td>       <th>                     </th>    <td> </td>   \n",
              "</tr>\n",
              "<tr>\n",
              "  <th>Covariance Type:</th>        <td>opg</td>       <th>                     </th>    <td> </td>   \n",
              "</tr>\n",
              "</table>\n",
              "<table class=\"simpletable\">\n",
              "<tr>\n",
              "      <td></td>         <th>coef</th>     <th>std err</th>      <th>z</th>      <th>P>|z|</th>  <th>[0.025</th>    <th>0.975]</th>  \n",
              "</tr>\n",
              "<tr>\n",
              "  <th>intercept</th> <td> 5.506e+07</td> <td> 1.32e+06</td> <td>   41.749</td> <td> 0.000</td> <td> 5.25e+07</td> <td> 5.76e+07</td>\n",
              "</tr>\n",
              "<tr>\n",
              "  <th>sigma2</th>    <td> 3.889e+12</td> <td> 3.26e+12</td> <td>    1.193</td> <td> 0.233</td> <td> -2.5e+12</td> <td> 1.03e+13</td>\n",
              "</tr>\n",
              "</table>\n",
              "<table class=\"simpletable\">\n",
              "<tr>\n",
              "  <th>Ljung-Box (L1) (Q):</th>     <td>0.00</td> <th>  Jarque-Bera (JB):  </th> <td>1.67</td>\n",
              "</tr>\n",
              "<tr>\n",
              "  <th>Prob(Q):</th>                <td>0.95</td> <th>  Prob(JB):          </th> <td>0.43</td>\n",
              "</tr>\n",
              "<tr>\n",
              "  <th>Heteroskedasticity (H):</th> <td>0.31</td> <th>  Skew:              </th> <td>1.26</td>\n",
              "</tr>\n",
              "<tr>\n",
              "  <th>Prob(H) (two-sided):</th>    <td>0.48</td> <th>  Kurtosis:          </th> <td>3.54</td>\n",
              "</tr>\n",
              "</table><br/><br/>Warnings:<br/>[1] Covariance matrix calculated using the outer product of gradients (complex-step)."
            ],
            "text/plain": [
              "<class 'statsmodels.iolib.summary.Summary'>\n",
              "\"\"\"\n",
              "                               SARIMAX Results                                \n",
              "==============================================================================\n",
              "Dep. Variable:                      y   No. Observations:                    6\n",
              "Model:                        SARIMAX   Log Likelihood                 -95.481\n",
              "Date:                Wed, 14 Jun 2023   AIC                            194.962\n",
              "Time:                        04:07:10   BIC                            194.545\n",
              "Sample:                             0   HQIC                           193.295\n",
              "                                  - 6                                         \n",
              "Covariance Type:                  opg                                         \n",
              "==============================================================================\n",
              "                 coef    std err          z      P>|z|      [0.025      0.975]\n",
              "------------------------------------------------------------------------------\n",
              "intercept   5.506e+07   1.32e+06     41.749      0.000    5.25e+07    5.76e+07\n",
              "sigma2      3.889e+12   3.26e+12      1.193      0.233    -2.5e+12    1.03e+13\n",
              "===================================================================================\n",
              "Ljung-Box (L1) (Q):                   0.00   Jarque-Bera (JB):                 1.67\n",
              "Prob(Q):                              0.95   Prob(JB):                         0.43\n",
              "Heteroskedasticity (H):               0.31   Skew:                             1.26\n",
              "Prob(H) (two-sided):                  0.48   Kurtosis:                         3.54\n",
              "===================================================================================\n",
              "\n",
              "Warnings:\n",
              "[1] Covariance matrix calculated using the outer product of gradients (complex-step).\n",
              "\"\"\""
            ]
          },
          "execution_count": 87,
          "metadata": {},
          "output_type": "execute_result"
        }
      ],
      "source": [
        "stepwise_fit = auto_arima(df_3['total_prod'], trace=True,\n",
        "                          suppress_warnings=True)\n",
        "\n",
        "stepwise_fit.summary()"
      ]
    },
    {
      "cell_type": "code",
      "execution_count": null,
      "metadata": {
        "id": "GzYWMmxa2_SF"
      },
      "outputs": [],
      "source": [
        "from statsmodels.tsa.arima.model import ARIMA"
      ]
    },
    {
      "cell_type": "code",
      "execution_count": null,
      "metadata": {
        "colab": {
          "base_uri": "https://localhost:8080/"
        },
        "id": "94hNjtcx3CvD",
        "outputId": "9b0e21cc-edd8-4e53-985c-ff02512c7aea"
      },
      "outputs": [
        {
          "name": "stdout",
          "output_type": "stream",
          "text": [
            "(6, 4)\n",
            "(3, 4) (3, 4)\n"
          ]
        }
      ],
      "source": [
        "print(df_3.shape)\n",
        "train=df_3.iloc[:-3]\n",
        "test=df_3.iloc[-3:]\n",
        "print(train.shape, test.shape)"
      ]
    },
    {
      "cell_type": "code",
      "execution_count": null,
      "metadata": {
        "colab": {
          "base_uri": "https://localhost:8080/",
          "height": 428
        },
        "id": "4e5tLQ4Y3GFF",
        "outputId": "97676b33-7519-488d-b27a-591b452f9a09"
      },
      "outputs": [
        {
          "data": {
            "text/html": [
              "<table class=\"simpletable\">\n",
              "<caption>SARIMAX Results</caption>\n",
              "<tr>\n",
              "  <th>Dep. Variable:</th>      <td>total_prod</td>    <th>  No. Observations:  </th>    <td>3</td>   \n",
              "</tr>\n",
              "<tr>\n",
              "  <th>Model:</th>            <td>ARIMA(1, 0, 0)</td>  <th>  Log Likelihood     </th> <td>-48.366</td>\n",
              "</tr>\n",
              "<tr>\n",
              "  <th>Date:</th>            <td>Wed, 14 Jun 2023</td> <th>  AIC                </th> <td>102.732</td>\n",
              "</tr>\n",
              "<tr>\n",
              "  <th>Time:</th>                <td>04:07:11</td>     <th>  BIC                </th> <td>100.028</td>\n",
              "</tr>\n",
              "<tr>\n",
              "  <th>Sample:</th>                  <td>0</td>        <th>  HQIC               </th> <td>97.296</td> \n",
              "</tr>\n",
              "<tr>\n",
              "  <th></th>                       <td> - 3</td>       <th>                     </th>    <td> </td>   \n",
              "</tr>\n",
              "<tr>\n",
              "  <th>Covariance Type:</th>        <td>opg</td>       <th>                     </th>    <td> </td>   \n",
              "</tr>\n",
              "</table>\n",
              "<table class=\"simpletable\">\n",
              "<tr>\n",
              "     <td></td>       <th>coef</th>     <th>std err</th>      <th>z</th>      <th>P>|z|</th>  <th>[0.025</th>    <th>0.975]</th>  \n",
              "</tr>\n",
              "<tr>\n",
              "  <th>const</th>  <td> 5.615e+07</td> <td> 3.31e+06</td> <td>   16.977</td> <td> 0.000</td> <td> 4.97e+07</td> <td> 6.26e+07</td>\n",
              "</tr>\n",
              "<tr>\n",
              "  <th>ar.L1</th>  <td>   -0.4721</td> <td>    2.872</td> <td>   -0.164</td> <td> 0.869</td> <td>   -6.100</td> <td>    5.156</td>\n",
              "</tr>\n",
              "<tr>\n",
              "  <th>sigma2</th> <td>  2.08e+12</td> <td>    3.287</td> <td> 6.33e+11</td> <td> 0.000</td> <td> 2.08e+12</td> <td> 2.08e+12</td>\n",
              "</tr>\n",
              "</table>\n",
              "<table class=\"simpletable\">\n",
              "<tr>\n",
              "  <th>Ljung-Box (L1) (Q):</th>     <td>0.00</td> <th>  Jarque-Bera (JB):  </th> <td>0.29</td>\n",
              "</tr>\n",
              "<tr>\n",
              "  <th>Prob(Q):</th>                <td>0.99</td> <th>  Prob(JB):          </th> <td>0.86</td>\n",
              "</tr>\n",
              "<tr>\n",
              "  <th>Heteroskedasticity (H):</th>  <td>nan</td> <th>  Skew:              </th> <td>0.17</td>\n",
              "</tr>\n",
              "<tr>\n",
              "  <th>Prob(H) (two-sided):</th>     <td>nan</td> <th>  Kurtosis:          </th> <td>1.50</td>\n",
              "</tr>\n",
              "</table><br/><br/>Warnings:<br/>[1] Covariance matrix calculated using the outer product of gradients (complex-step).<br/>[2] Covariance matrix is singular or near-singular, with condition number 6.16e+27. Standard errors may be unstable."
            ],
            "text/plain": [
              "<class 'statsmodels.iolib.summary.Summary'>\n",
              "\"\"\"\n",
              "                               SARIMAX Results                                \n",
              "==============================================================================\n",
              "Dep. Variable:             total_prod   No. Observations:                    3\n",
              "Model:                 ARIMA(1, 0, 0)   Log Likelihood                 -48.366\n",
              "Date:                Wed, 14 Jun 2023   AIC                            102.732\n",
              "Time:                        04:07:11   BIC                            100.028\n",
              "Sample:                             0   HQIC                            97.296\n",
              "                                  - 3                                         \n",
              "Covariance Type:                  opg                                         \n",
              "==============================================================================\n",
              "                 coef    std err          z      P>|z|      [0.025      0.975]\n",
              "------------------------------------------------------------------------------\n",
              "const       5.615e+07   3.31e+06     16.977      0.000    4.97e+07    6.26e+07\n",
              "ar.L1         -0.4721      2.872     -0.164      0.869      -6.100       5.156\n",
              "sigma2       2.08e+12      3.287   6.33e+11      0.000    2.08e+12    2.08e+12\n",
              "===================================================================================\n",
              "Ljung-Box (L1) (Q):                   0.00   Jarque-Bera (JB):                 0.29\n",
              "Prob(Q):                              0.99   Prob(JB):                         0.86\n",
              "Heteroskedasticity (H):                nan   Skew:                             0.17\n",
              "Prob(H) (two-sided):                   nan   Kurtosis:                         1.50\n",
              "===================================================================================\n",
              "\n",
              "Warnings:\n",
              "[1] Covariance matrix calculated using the outer product of gradients (complex-step).\n",
              "[2] Covariance matrix is singular or near-singular, with condition number 6.16e+27. Standard errors may be unstable.\n",
              "\"\"\""
            ]
          },
          "execution_count": 90,
          "metadata": {},
          "output_type": "execute_result"
        }
      ],
      "source": [
        " model = ARIMA(train['total_prod'], order=(1,0,0))\n",
        " model = model.fit()\n",
        " model.summary()"
      ]
    },
    {
      "cell_type": "code",
      "execution_count": null,
      "metadata": {
        "colab": {
          "base_uri": "https://localhost:8080/"
        },
        "id": "O4EkGDA83JFr",
        "outputId": "f3b8a251-3611-47cc-d37b-6a476865d44f"
      },
      "outputs": [
        {
          "name": "stdout",
          "output_type": "stream",
          "text": [
            "3    5.686041e+07\n",
            "4    5.581645e+07\n",
            "5    5.630933e+07\n",
            "Name: predicted_mean, dtype: float64\n"
          ]
        }
      ],
      "source": [
        "start = len(train)\n",
        "end = len(train)+len(test)-1\n",
        "pred = model.predict(start=start, end=end, typ='levels')\n",
        "print(pred)\n",
        "#pred.index=df.index[start:end+1]\n",
        "#print(pred)"
      ]
    },
    {
      "cell_type": "code",
      "execution_count": null,
      "metadata": {
        "colab": {
          "base_uri": "https://localhost:8080/",
          "height": 481
        },
        "id": "UjU7KOcR3Ltw",
        "outputId": "145f368f-8525-4431-b7d5-0e7e71bff148"
      },
      "outputs": [
        {
          "data": {
            "text/plain": [
              "<Axes: xlabel='tahun'>"
            ]
          },
          "execution_count": 92,
          "metadata": {},
          "output_type": "execute_result"
        },
        {
          "data": {
            "image/png": "[encoded data removed]",
            "text/plain": [
              "<Figure size 640x480 with 1 Axes>"
            ]
          },
          "metadata": {},
          "output_type": "display_data"
        }
      ],
      "source": [
        "pred.plot(legend=True)\n",
        "test['total_prod'].plot(legend=True)"
      ]
    },
    {
      "cell_type": "code",
      "execution_count": null,
      "metadata": {
        "colab": {
          "base_uri": "https://localhost:8080/"
        },
        "id": "qpd8Gusr3OlG",
        "outputId": "fa4fe9b5-50bf-4068-98ef-77890d4284a1"
      },
      "outputs": [
        {
          "data": {
            "text/plain": [
              "53974128.09367635"
            ]
          },
          "execution_count": 93,
          "metadata": {},
          "output_type": "execute_result"
        }
      ],
      "source": [
        "test['total_prod'].mean()"
      ]
    },
    {
      "cell_type": "code",
      "execution_count": null,
      "metadata": {
        "colab": {
          "base_uri": "https://localhost:8080/"
        },
        "id": "UHj7yaNb3SJ-",
        "outputId": "899187b2-6339-45d2-c34a-195fd046a6ae"
      },
      "outputs": [
        {
          "name": "stdout",
          "output_type": "stream",
          "text": [
            "2564448.8941237163\n"
          ]
        }
      ],
      "source": [
        "from sklearn.metrics import mean_squared_error\n",
        "from math import sqrt\n",
        "rmse = sqrt(mean_squared_error(pred,test['total_prod']))\n",
        "print(rmse)"
      ]
    },
    {
      "cell_type": "code",
      "execution_count": null,
      "metadata": {
        "colab": {
          "base_uri": "https://localhost:8080/",
          "height": 231
        },
        "id": "Tat5S1W53USz",
        "outputId": "c309c4c9-ad60-4820-e164-09d3f5840678"
      },
      "outputs": [
        {
          "data": {
            "text/html": [
              "\n",
              "  <div id=\"df-83885c44-d50b-4602-9bf3-236ee4c8ec9a\">\n",
              "    <div class=\"colab-df-container\">\n",
              "      <div>\n",
              "<style scoped>\n",
              "    .dataframe tbody tr th:only-of-type {\n",
              "        vertical-align: middle;\n",
              "    }\n",
              "\n",
              "    .dataframe tbody tr th {\n",
              "        vertical-align: top;\n",
              "    }\n",
              "\n",
              "    .dataframe thead th {\n",
              "        text-align: right;\n",
              "    }\n",
              "</style>\n",
              "<table border=\"1\" class=\"dataframe\">\n",
              "  <thead>\n",
              "    <tr style=\"text-align: right;\">\n",
              "      <th></th>\n",
              "      <th>total_prod</th>\n",
              "      <th>total_luas_panen</th>\n",
              "      <th>total_krt</th>\n",
              "      <th>total_supdef</th>\n",
              "    </tr>\n",
              "    <tr>\n",
              "      <th>tahun</th>\n",
              "      <th></th>\n",
              "      <th></th>\n",
              "      <th></th>\n",
              "      <th></th>\n",
              "    </tr>\n",
              "  </thead>\n",
              "  <tbody>\n",
              "    <tr>\n",
              "      <th>2019</th>\n",
              "      <td>5.460403e+07</td>\n",
              "      <td>314055.504412</td>\n",
              "      <td>2.054333e+07</td>\n",
              "      <td>278522.125441</td>\n",
              "    </tr>\n",
              "    <tr>\n",
              "      <th>2020</th>\n",
              "      <td>5.464920e+07</td>\n",
              "      <td>313449.263529</td>\n",
              "      <td>2.088212e+07</td>\n",
              "      <td>307422.794118</td>\n",
              "    </tr>\n",
              "    <tr>\n",
              "      <th>2021</th>\n",
              "      <td>5.441529e+07</td>\n",
              "      <td>306229.447647</td>\n",
              "      <td>2.205964e+07</td>\n",
              "      <td>251013.108647</td>\n",
              "    </tr>\n",
              "    <tr>\n",
              "      <th>2022</th>\n",
              "      <td>5.474898e+07</td>\n",
              "      <td>307488.769412</td>\n",
              "      <td>2.411610e+07</td>\n",
              "      <td>221569.574334</td>\n",
              "    </tr>\n",
              "    <tr>\n",
              "      <th>2023</th>\n",
              "      <td>5.275811e+07</td>\n",
              "      <td>308718.724489</td>\n",
              "      <td>2.411610e+07</td>\n",
              "      <td>188100.300883</td>\n",
              "    </tr>\n",
              "  </tbody>\n",
              "</table>\n",
              "</div>\n",
              "      <button class=\"colab-df-convert\" onclick=\"convertToInteractive('df-83885c44-d50b-4602-9bf3-236ee4c8ec9a')\"\n",
              "              title=\"Convert this dataframe to an interactive table.\"\n",
              "              style=\"display:none;\">\n",
              "        \n",
              "  <svg xmlns=\"http://www.w3.org/2000/svg\" height=\"24px\"viewBox=\"0 0 24 24\"\n",
              "       width=\"24px\">\n",
              "    <path d=\"M0 0h24v24H0V0z\" fill=\"none\"/>\n",
              "    <path d=\"M18.56 5.44l.94 2.06.94-2.06 2.06-.94-2.06-.94-.94-2.06-.94 2.06-2.06.94zm-11 1L8.5 8.5l.94-2.06 2.06-.94-2.06-.94L8.5 2.5l-.94 2.06-2.06.94zm10 10l.94 2.06.94-2.06 2.06-.94-2.06-.94-.94-2.06-.94 2.06-2.06.94z\"/><path d=\"M17.41 7.96l-1.37-1.37c-.4-.4-.92-.59-1.43-.59-.52 0-1.04.2-1.43.59L10.3 9.45l-7.72 7.72c-.78.78-.78 2.05 0 2.83L4 21.41c.39.39.9.59 1.41.59.51 0 1.02-.2 1.41-.59l7.78-7.78 2.81-2.81c.8-.78.8-2.07 0-2.86zM5.41 20L4 18.59l7.72-7.72 1.47 1.35L5.41 20z\"/>\n",
              "  </svg>\n",
              "      </button>\n",
              "      \n",
              "  <style>\n",
              "    .colab-df-container {\n",
              "      display:flex;\n",
              "      flex-wrap:wrap;\n",
              "      gap: 12px;\n",
              "    }\n",
              "\n",
              "    .colab-df-convert {\n",
              "      background-color: #E8F0FE;\n",
              "      border: none;\n",
              "      border-radius: 50%;\n",
              "      cursor: pointer;\n",
              "      display: none;\n",
              "      fill: #1967D2;\n",
              "      height: 32px;\n",
              "      padding: 0 0 0 0;\n",
              "      width: 32px;\n",
              "    }\n",
              "\n",
              "    .colab-df-convert:hover {\n",
              "      background-color: #E2EBFA;\n",
              "      box-shadow: 0px 1px 2px rgba(60, 64, 67, 0.3), 0px 1px 3px 1px rgba(60, 64, 67, 0.15);\n",
              "      fill: #174EA6;\n",
              "    }\n",
              "\n",
              "    [theme=dark] .colab-df-convert {\n",
              "      background-color: #3B4455;\n",
              "      fill: #D2E3FC;\n",
              "    }\n",
              "\n",
              "    [theme=dark] .colab-df-convert:hover {\n",
              "      background-color: #434B5C;\n",
              "      box-shadow: 0px 1px 3px 1px rgba(0, 0, 0, 0.15);\n",
              "      filter: drop-shadow(0px 1px 2px rgba(0, 0, 0, 0.3));\n",
              "      fill: #FFFFFF;\n",
              "    }\n",
              "  </style>\n",
              "\n",
              "      <script>\n",
              "        const buttonEl =\n",
              "          document.querySelector('#df-83885c44-d50b-4602-9bf3-236ee4c8ec9a button.colab-df-convert');\n",
              "        buttonEl.style.display =\n",
              "          google.colab.kernel.accessAllowed ? 'block' : 'none';\n",
              "\n",
              "        async function convertToInteractive(key) {\n",
              "          const element = document.querySelector('#df-83885c44-d50b-4602-9bf3-236ee4c8ec9a');\n",
              "          const dataTable =\n",
              "            await google.colab.kernel.invokeFunction('convertToInteractive',\n",
              "                                                     [key], {});\n",
              "          if (!dataTable) return;\n",
              "\n",
              "          const docLinkHtml = 'Like what you see? Visit the ' +\n",
              "            '<a target=\"_blank\" href=https://colab.research.google.com/notebooks/data_table.ipynb>data table notebook</a>'\n",
              "            + ' to learn more about interactive tables.';\n",
              "          element.innerHTML = '';\n",
              "          dataTable['output_type'] = 'display_data';\n",
              "          await google.colab.output.renderOutput(dataTable, element);\n",
              "          const docLink = document.createElement('div');\n",
              "          docLink.innerHTML = docLinkHtml;\n",
              "          element.appendChild(docLink);\n",
              "        }\n",
              "      </script>\n",
              "    </div>\n",
              "  </div>\n",
              "  "
            ],
            "text/plain": [
              "         total_prod  total_luas_panen     total_krt   total_supdef\n",
              "tahun                                                             \n",
              "2019   5.460403e+07     314055.504412  2.054333e+07  278522.125441\n",
              "2020   5.464920e+07     313449.263529  2.088212e+07  307422.794118\n",
              "2021   5.441529e+07     306229.447647  2.205964e+07  251013.108647\n",
              "2022   5.474898e+07     307488.769412  2.411610e+07  221569.574334\n",
              "2023   5.275811e+07     308718.724489  2.411610e+07  188100.300883"
            ]
          },
          "execution_count": 95,
          "metadata": {},
          "output_type": "execute_result"
        }
      ],
      "source": [
        "model2 = ARIMA(df_3['total_prod'], order=(1,0,0))\n",
        "model2 = model2.fit()\n",
        "df_3.tail()"
      ]
    },
    {
      "cell_type": "code",
      "execution_count": null,
      "metadata": {
        "colab": {
          "base_uri": "https://localhost:8080/"
        },
        "id": "ps9muQGR3Ycv",
        "outputId": "9e116c80-2bdb-4108-cf73-9eadf56826c5"
      },
      "outputs": [
        {
          "name": "stdout",
          "output_type": "stream",
          "text": [
            "2024-12-31    5.559936e+07\n",
            "2025-12-31    5.493772e+07\n",
            "2026-12-31    5.509180e+07\n",
            "2027-12-31    5.505592e+07\n",
            "2028-12-31    5.506427e+07\n",
            "Freq: A-DEC, Name: ARIMA Predictions, dtype: float64\n"
          ]
        }
      ],
      "source": [
        "start_year = 2024\n",
        "end_year = 2029\n",
        "\n",
        "index_future_years = pd.date_range(start=str(start_year), end=str(end_year), freq='Y')\n",
        "\n",
        "pred = model2.predict(start=len(df_3), end=len(df_3)+len(index_future_years)-1, typ='levels').rename('ARIMA Predictions')\n",
        "pred.index = index_future_years\n",
        "\n",
        "print(pred)"
      ]
    },
    {
      "cell_type": "code",
      "execution_count": null,
      "metadata": {
        "colab": {
          "base_uri": "https://localhost:8080/",
          "height": 476
        },
        "id": "Gt00T9Hp3fm8",
        "outputId": "22d6435e-106d-4617-e034-882d9f28f5e4"
      },
      "outputs": [
        {
          "data": {
            "text/plain": [
              "<Axes: >"
            ]
          },
          "execution_count": 97,
          "metadata": {},
          "output_type": "execute_result"
        },
        {
          "data": {
            "image/png": "[encoded data removed]",
            "text/plain": [
              "<Figure size 1000x500 with 1 Axes>"
            ]
          },
          "metadata": {},
          "output_type": "display_data"
        }
      ],
      "source": [
        "pred.plot(figsize=(10,5),legend=True)"
      ]
    },
    {
      "cell_type": "code",
      "execution_count": null,
      "metadata": {
        "colab": {
          "base_uri": "https://localhost:8080/",
          "height": 16
        },
        "id": "Z2fVlu9X3-F5",
        "outputId": "1732b346-12b5-4fc4-a7c1-d39ea80875d2"
      },
      "outputs": [
        {
          "data": {
            "application/javascript": "\n    async function download(id, filename, size) {\n      if (!google.colab.kernel.accessAllowed) {\n        return;\n      }\n      const div = document.createElement('div');\n      const label = document.createElement('label');\n      label.textContent = `Downloading \"${filename}\": `;\n      div.appendChild(label);\n      const progress = document.createElement('progress');\n      progress.max = size;\n      div.appendChild(progress);\n      document.body.appendChild(div);\n\n      const buffers = [];\n      let downloaded = 0;\n\n      const channel = await google.colab.kernel.comms.open(id);\n      // Send a message to notify the kernel that we're ready.\n      channel.send({})\n\n      for await (const message of channel.messages) {\n        // Send a message to notify the kernel that we're ready.\n        channel.send({})\n        if (message.buffers) {\n          for (const buffer of message.buffers) {\n            buffers.push(buffer);\n            downloaded += buffer.byteLength;\n            progress.value = downloaded;\n          }\n        }\n      }\n      const blob = new Blob(buffers, {type: 'application/binary'});\n      const a = document.createElement('a');\n      a.href = window.URL.createObjectURL(blob);\n      a.download = filename;\n      div.appendChild(a);\n      a.click();\n      div.remove();\n    }\n  ",
            "text/plain": [
              "<IPython.core.display.Javascript object>"
            ]
          },
          "metadata": {},
          "output_type": "display_data"
        },
        {
          "data": {
            "application/javascript": "download(\"download_8d2e1f64-5186-4753-891c-6d36c4951d83\", \"data prediksi  ARIMA.xlsx\", 5117)",
            "text/plain": [
              "<IPython.core.display.Javascript object>"
            ]
          },
          "metadata": {},
          "output_type": "display_data"
        }
      ],
      "source": [
        "# Eksport To CSV\n",
        "# Export as download if in colab\n",
        "from google.colab import files\n",
        "\n",
        "# Eksport To Excel\n",
        "pred.to_excel('data prediksi  ARIMA.xlsx', sheet_name='Sheet1')\n",
        "files.download('data prediksi  ARIMA.xlsx')"
      ]
    }
  ],
  "metadata": {
    "colab": {
      "collapsed_sections": [
        "osoKZDMWDYMH",
        "MJFNxPgaEQKu"
      ],
      "provenance": []
    },
    "kernelspec": {
      "display_name": "Python 3",
      "name": "python3"
    },
    "language_info": {
      "name": "python"
    }
  },
  "nbformat": 4,
  "nbformat_minor": 0
}
